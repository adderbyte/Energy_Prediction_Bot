{
 "cells": [
  {
   "cell_type": "code",
   "execution_count": 1,
   "metadata": {},
   "outputs": [],
   "source": [
    "# @ copyright\n",
    "import numpy as np\n",
    "import pandas as pd\n",
    "import matplotlib\n",
    "import matplotlib.pyplot as plt\n",
    "import seaborn as sns\n",
    "import warnings\n",
    "import dask.dataframe as dd\n",
    "\n",
    "import gc\n",
    "warnings.simplefilter('ignore')\n",
    "matplotlib.rcParams['figure.dpi'] = 100\n",
    "sns.set()\n",
    "%matplotlib inline\n",
    "\n",
    "\n",
    "### to save data or model\n",
    "import pickle\n",
    "import h5py\n"
   ]
  },
  {
   "cell_type": "markdown",
   "metadata": {},
   "source": [
    "     The aim of this notebook is to provide investogation of the data sets\n",
    "     as a first requirement for building a model. Note that there was computationally limited resources (using a    PC).So, I always think of the simplest and cost effective way to go about achieving a task "
   ]
  },
  {
   "cell_type": "markdown",
   "metadata": {},
   "source": [
    "### Loading the dataset\n",
    "\n",
    "\n",
    "[If you have the various meter dataset then click here to Jump to Loading Data](#Load-Data)\n"
   ]
  },
  {
   "cell_type": "markdown",
   "metadata": {},
   "source": [
    "<p> Note that the test data have been committed out but similar steps would be replicated for the test data. </p>\n",
    "\n",
    " The goal here is to prepare the training data set for\n",
    " training."
   ]
  },
  {
   "cell_type": "code",
   "execution_count": 4,
   "metadata": {},
   "outputs": [],
   "source": [
    "# read the training set\n",
    "train = pd.read_csv('train.csv')\n",
    "#test = pd.read_csv('test.csv')\n"
   ]
  },
  {
   "cell_type": "code",
   "execution_count": 4,
   "metadata": {},
   "outputs": [],
   "source": [
    "# read the building data set\n",
    "building = pd.read_csv('building_metadata.csv')\n"
   ]
  },
  {
   "cell_type": "markdown",
   "metadata": {},
   "source": [
    " Merging Train and building data sets that have been imported from above.\n",
    " \n",
    " "
   ]
  },
  {
   "cell_type": "code",
   "execution_count": 5,
   "metadata": {},
   "outputs": [],
   "source": [
    "train = train.merge(building, on='building_id', how='left')\n",
    "#test = test.merge(building, on='building_id', how='left')\n",
    "#test.to_pickle('test_building')  # where to save it, usually as a .pkl"
   ]
  },
  {
   "cell_type": "code",
   "execution_count": 11,
   "metadata": {},
   "outputs": [],
   "source": [
    "# Saving the data set as pickle file to enable easy loading of merged data set\n",
    "# This also saves the cost of merging\n",
    "train.to_pickle('train_building')  # where to save it, usually as a .pkl\n"
   ]
  },
  {
   "cell_type": "markdown",
   "metadata": {},
   "source": [
    "# Merged Data Separation\n",
    "\n",
    "Separate Data based on meter \n"
   ]
  },
  {
   "cell_type": "code",
   "execution_count": 2,
   "metadata": {},
   "outputs": [],
   "source": [
    "# load merged building and train data\n",
    "mergerd = pd.read_pickle('train_building')"
   ]
  },
  {
   "cell_type": "code",
   "execution_count": 3,
   "metadata": {},
   "outputs": [],
   "source": [
    "# load the weather data\n",
    "weather_train = pd.read_csv('weather_train.csv')\n",
    "#weather_test = pd.read_csv('weather_test.csv')"
   ]
  },
  {
   "cell_type": "code",
   "execution_count": 4,
   "metadata": {},
   "outputs": [
    {
     "data": {
      "text/plain": [
       "array([0, 3, 1, 2])"
      ]
     },
     "execution_count": 4,
     "metadata": {},
     "output_type": "execute_result"
    }
   ],
   "source": [
    "# the unique meter id in the data set\n",
    "# we will partition the data set based on this\n",
    "mergerd.meter.unique()"
   ]
  },
  {
   "cell_type": "code",
   "execution_count": 5,
   "metadata": {},
   "outputs": [],
   "source": [
    "# meter zero data\n",
    "meterZeroData = mergerd.loc[mergerd['meter'] == 0].copy(deep=True)"
   ]
  },
  {
   "cell_type": "code",
   "execution_count": 6,
   "metadata": {},
   "outputs": [],
   "source": [
    "# meter one data\n",
    "meterOneData = mergerd.loc[mergerd['meter'] == 1].copy(deep=True)\n"
   ]
  },
  {
   "cell_type": "code",
   "execution_count": 7,
   "metadata": {},
   "outputs": [],
   "source": [
    "# meter 2 data\n",
    "meterTwoData = mergerd.loc[mergerd['meter'] == 2].copy(deep=True)\n"
   ]
  },
  {
   "cell_type": "code",
   "execution_count": 8,
   "metadata": {},
   "outputs": [],
   "source": [
    "# meter 3 data\n",
    "meterThreeData = mergerd.loc[mergerd['meter'] == 3].copy(deep=True)\n"
   ]
  },
  {
   "cell_type": "markdown",
   "metadata": {},
   "source": [
    "# Weather Data Integration\n"
   ]
  },
  {
   "cell_type": "markdown",
   "metadata": {},
   "source": [
    "    Meter Zero merging and saving"
   ]
  },
  {
   "cell_type": "code",
   "execution_count": 9,
   "metadata": {},
   "outputs": [],
   "source": [
    "# merged meter zero data to produce MeterZero_train-building-weather data set\n",
    "meterZeroTrainData = meterZeroData.merge(weather_train, on=['site_id', 'timestamp'], how='left')\n"
   ]
  },
  {
   "cell_type": "code",
   "execution_count": 10,
   "metadata": {},
   "outputs": [],
   "source": [
    "# uncomment if you dont want to load the pickle file\n",
    "#del meterZeroData"
   ]
  },
  {
   "cell_type": "code",
   "execution_count": 27,
   "metadata": {},
   "outputs": [],
   "source": [
    "# save data file as hdf5\n",
    "meterZeroTrainData.to_csv('meterZeroTrainData.csv')"
   ]
  },
  {
   "cell_type": "markdown",
   "metadata": {},
   "source": [
    "    Meter One merging and saving as HDF5 format"
   ]
  },
  {
   "cell_type": "code",
   "execution_count": 15,
   "metadata": {},
   "outputs": [],
   "source": [
    "# merged meter one data to produce MeterOne_train-building-weather data set\n",
    "meterOneTrainData = meterOneData.merge(weather_train, on=['site_id', 'timestamp'], how='left')\n"
   ]
  },
  {
   "cell_type": "code",
   "execution_count": 16,
   "metadata": {},
   "outputs": [],
   "source": [
    "# uncomment if you dont want to load the pickle file\n",
    "#del meterOneData"
   ]
  },
  {
   "cell_type": "code",
   "execution_count": 28,
   "metadata": {},
   "outputs": [],
   "source": [
    "meterOneTrainData.to_csv('meterOneTrainData.csv')"
   ]
  },
  {
   "cell_type": "markdown",
   "metadata": {},
   "source": [
    "    Meter Two Merging and saving as HDF5 format"
   ]
  },
  {
   "cell_type": "code",
   "execution_count": 18,
   "metadata": {},
   "outputs": [],
   "source": [
    "# merged meter Two data to produce train-building-weather data set\n",
    "meterTwoTrainData = meterTwoData.merge(weather_train, on=['site_id', 'timestamp'], how='left')\n"
   ]
  },
  {
   "cell_type": "code",
   "execution_count": 19,
   "metadata": {},
   "outputs": [],
   "source": [
    "# uncomment if you dont want to load the pickle file\n",
    "del meterTwoData"
   ]
  },
  {
   "cell_type": "code",
   "execution_count": 29,
   "metadata": {},
   "outputs": [],
   "source": [
    "meterTwoTrainData.to_csv('meterTwoTrainData.csv')"
   ]
  },
  {
   "cell_type": "markdown",
   "metadata": {},
   "source": [
    "    Meter Three Merging and saving as HDF5 format"
   ]
  },
  {
   "cell_type": "code",
   "execution_count": 21,
   "metadata": {},
   "outputs": [],
   "source": [
    "# merged meter Three data to produce train-building-weather data set\n",
    "\n",
    "meterThreeTrainData = meterThreeData.merge(weather_train, on=['site_id', 'timestamp'], how='left')\n"
   ]
  },
  {
   "cell_type": "code",
   "execution_count": 22,
   "metadata": {},
   "outputs": [],
   "source": [
    "# uncomment if you dont want to load the pickle file\n",
    "#del meterThreeData"
   ]
  },
  {
   "cell_type": "code",
   "execution_count": 30,
   "metadata": {},
   "outputs": [],
   "source": [
    "meterThreeTrainData.to_csv('meterThreeTrainData.csv')"
   ]
  },
  {
   "cell_type": "markdown",
   "metadata": {},
   "source": [
    "## Load Data "
   ]
  },
  {
   "cell_type": "code",
   "execution_count": 32,
   "metadata": {},
   "outputs": [],
   "source": [
    "# I will Load only the zero meter data set \n",
    "# same syntax applied for other data set\n",
    "meterOneDataLOaded= pd.read_csv('meterOneTrainData.csv')\n",
    "# all meter types data set could be analysed in same manner"
   ]
  },
  {
   "cell_type": "code",
   "execution_count": 33,
   "metadata": {},
   "outputs": [
    {
     "data": {
      "text/plain": [
       "Index(['Unnamed: 0', 'building_id', 'meter', 'timestamp', 'meter_reading',\n",
       "       'site_id', 'primary_use', 'square_feet', 'year_built', 'floor_count',\n",
       "       'air_temperature', 'cloud_coverage', 'dew_temperature',\n",
       "       'precip_depth_1_hr', 'sea_level_pressure', 'wind_direction',\n",
       "       'wind_speed'],\n",
       "      dtype='object')"
      ]
     },
     "execution_count": 33,
     "metadata": {},
     "output_type": "execute_result"
    }
   ],
   "source": [
    "# check the number of columns present in data set\n",
    "meterOneDataLOaded.columns"
   ]
  },
  {
   "cell_type": "markdown",
   "metadata": {},
   "source": [
    "Let us investigate if it is possible to parition data based on meter, site_id and primary_use \n",
    "\n",
    "    1) We have to check the  unique elements present in each of the 3 columns named above"
   ]
  },
  {
   "cell_type": "code",
   "execution_count": 34,
   "metadata": {},
   "outputs": [
    {
     "data": {
      "text/plain": [
       "array(['Education', 'Lodging/residential', 'Retail', 'Office',\n",
       "       'Entertainment/public assembly', 'Food sales and service',\n",
       "       'Public services', 'Healthcare', 'Utility', 'Other',\n",
       "       'Technology/science', 'Parking', 'Manufacturing/industrial',\n",
       "       'Religious worship'], dtype=object)"
      ]
     },
     "execution_count": 34,
     "metadata": {},
     "output_type": "execute_result"
    }
   ],
   "source": [
    "# unique elements  in the column 'primary_use\n",
    "meterOneDataLOaded.primary_use.unique() \n"
   ]
  },
  {
   "cell_type": "code",
   "execution_count": 40,
   "metadata": {},
   "outputs": [],
   "source": [
    "# remove unnmaed unnamed 0: column\n",
    "del meterOneDataLOaded['Unnamed: 0']"
   ]
  },
  {
   "cell_type": "code",
   "execution_count": 35,
   "metadata": {},
   "outputs": [
    {
     "data": {
      "text/plain": [
       "array([1])"
      ]
     },
     "execution_count": 35,
     "metadata": {},
     "output_type": "execute_result"
    }
   ],
   "source": [
    "# unique element in the column meter \n",
    "meterOneDataLOaded.meter.unique()"
   ]
  },
  {
   "cell_type": "code",
   "execution_count": 36,
   "metadata": {},
   "outputs": [
    {
     "data": {
      "text/plain": [
       "array([ 2,  6,  7,  9, 10, 11, 13, 14, 15,  0])"
      ]
     },
     "execution_count": 36,
     "metadata": {},
     "output_type": "execute_result"
    }
   ],
   "source": [
    "# unique element in the column site id\n",
    "meterOneDataLOaded.site_id.unique() # the numbers of site id present"
   ]
  },
  {
   "cell_type": "markdown",
   "metadata": {},
   "source": [
    "<p> we observe that this will create a lot of smaller subset and it might not be possible to make a model for each\n",
    "    of this (for computational limitation and flexibility reasons) </p>\n",
    "    \n",
    "Nevertheless we will proceed to see how the partitioning could be done"
   ]
  },
  {
   "cell_type": "markdown",
   "metadata": {},
   "source": [
    "# Partitioning\n",
    "    \n",
    "    1) Primary_use column is an pandas object type (or say it is not a numeric value).\n",
    "    2) Convert it to pandas category type and  assign a numeric value to each category. The category mappings              can be trivially retrieved in pandas\n",
    "    3) Meter and site_id are both int64 type. Therefore nopthing to be done here\n",
    "    4) It is possible to then use Multi index approach to index the data set on primery_use,\n",
    "       meter and site_id\n",
    "    5) However, let us use a simple approach. A new column will be added to the data set and it\n",
    "       will be called separator. To achieve this convert meter, site_id, and primary_use to string data type.\n",
    "    6) The column separator is defined as:\n",
    "          separator  = meter + primary_use  + site_id\n",
    "    7) Now we can select a subset or partition based on this selector. Data points belonging to the same\n",
    "       separator value would share same meter id, primary use and site id."
   ]
  },
  {
   "cell_type": "code",
   "execution_count": 37,
   "metadata": {},
   "outputs": [],
   "source": [
    "## step 1 : convert pry_use to category set to \n",
    "meterOneDataLOaded[\"primary_use\"] = meterOneDataLOaded[\"primary_use\"].astype('category')"
   ]
  },
  {
   "cell_type": "code",
   "execution_count": 41,
   "metadata": {},
   "outputs": [
    {
     "data": {
      "text/plain": [
       "building_id              int64\n",
       "meter                    int64\n",
       "timestamp               object\n",
       "meter_reading          float64\n",
       "site_id                  int64\n",
       "primary_use           category\n",
       "square_feet              int64\n",
       "year_built             float64\n",
       "floor_count            float64\n",
       "air_temperature        float64\n",
       "cloud_coverage         float64\n",
       "dew_temperature        float64\n",
       "precip_depth_1_hr      float64\n",
       "sea_level_pressure     float64\n",
       "wind_direction         float64\n",
       "wind_speed             float64\n",
       "dtype: object"
      ]
     },
     "execution_count": 41,
     "metadata": {},
     "output_type": "execute_result"
    }
   ],
   "source": [
    "# check that primary use is of type category\n",
    "# this step does not change the label for the contents of pimary  use\n",
    "meterOneDataLOaded.dtypes # primary use is now a category"
   ]
  },
  {
   "cell_type": "code",
   "execution_count": 43,
   "metadata": {},
   "outputs": [],
   "source": [
    "# encode each category as numeric values\n",
    "meterOneDataLOaded[\"primary_use_encodings\"] = meterOneDataLOaded[\"primary_use\"].cat.codes\n"
   ]
  },
  {
   "cell_type": "code",
   "execution_count": 44,
   "metadata": {},
   "outputs": [
    {
     "data": {
      "text/plain": [
       "array([ 0,  4, 11,  6,  1,  2,  9,  3, 13,  7, 12,  8,  5, 10])"
      ]
     },
     "execution_count": 44,
     "metadata": {},
     "output_type": "execute_result"
    }
   ],
   "source": [
    "# cheeck the encodings oe mappings that have been assigned\n",
    "meterOneDataLOaded.primary_use_encodings.unique() # the encodings"
   ]
  },
  {
   "cell_type": "code",
   "execution_count": 45,
   "metadata": {},
   "outputs": [],
   "source": [
    "# Now step 5\n",
    "# step 5 : convert meter from int64 to string\n",
    "meterOneDataLOaded['meter']= meterOneDataLOaded['meter'].values.astype(np.str)"
   ]
  },
  {
   "cell_type": "code",
   "execution_count": 46,
   "metadata": {},
   "outputs": [],
   "source": [
    "# convert site_id to string too\n",
    "meterOneDataLOaded['site_id']= meterOneDataLOaded['site_id'].values.astype(np.str) "
   ]
  },
  {
   "cell_type": "code",
   "execution_count": 47,
   "metadata": {},
   "outputs": [],
   "source": [
    "# convert pry use  to string\n",
    "meterOneDataLOaded['primary_use_encodings']= meterOneDataLOaded['primary_use_encodings'].values.astype(np.str)"
   ]
  },
  {
   "cell_type": "code",
   "execution_count": 49,
   "metadata": {},
   "outputs": [],
   "source": [
    "# step 6 : separator column defined here \n",
    "meterOneDataLOaded['separator'] =  meterOneDataLOaded['site_id']+ meterOneDataLOaded['primary_use_encodings']"
   ]
  },
  {
   "cell_type": "code",
   "execution_count": 50,
   "metadata": {},
   "outputs": [],
   "source": [
    "unique_partition = meterOneDataLOaded.separator.unique()"
   ]
  },
  {
   "cell_type": "code",
   "execution_count": 51,
   "metadata": {},
   "outputs": [
    {
     "data": {
      "text/plain": [
       "array(['20', '24', '211', '26', '21', '22', '29', '23', '213', '60', '61',\n",
       "       '64', '70', '96', '94', '90', '91', '99', '100', '107', '1012',\n",
       "       '110', '134', '133', '136', '131', '130', '139', '138', '146',\n",
       "       '140', '149', '143', '142', '141', '144', '156', '150', '1512',\n",
       "       '155', '1510', '154', '151', '159', '153', '66', '69', '00', '06',\n",
       "       '011', '07', '04'], dtype=object)"
      ]
     },
     "execution_count": 51,
     "metadata": {},
     "output_type": "execute_result"
    }
   ],
   "source": [
    "# these are the unique partions or groups available\n",
    "# it is very diffcult to create a model for each of these\n",
    "# read this as 000: meter 0 , site 0, primary use 0 (education)\n",
    "# 004 : meter 0 , site id 0, pry use 4 (Lodging/residential)\n",
    "# to get the mapping of pry use check next cell\n",
    "unique_partition"
   ]
  },
  {
   "cell_type": "code",
   "execution_count": 52,
   "metadata": {},
   "outputs": [
    {
     "data": {
      "text/plain": [
       "52"
      ]
     },
     "execution_count": 52,
     "metadata": {},
     "output_type": "execute_result"
    }
   ],
   "source": [
    "len(unique_partition) # 52 partitions"
   ]
  },
  {
   "cell_type": "markdown",
   "metadata": {},
   "source": [
    "#### Mappings for primary use"
   ]
  },
  {
   "cell_type": "code",
   "execution_count": 53,
   "metadata": {},
   "outputs": [],
   "source": [
    " # store the encodings/numbers  of the pry use\n",
    "labels = meterOneDataLOaded.primary_use.unique() #munique elements of the sites (how many sites we have)\n"
   ]
  },
  {
   "cell_type": "code",
   "execution_count": 55,
   "metadata": {},
   "outputs": [],
   "source": [
    "# for each number retrieve its category and store as tuple in a list\n",
    "\n",
    "category_mappings=[] # list for storing number and cateogory pair\n",
    "for i in labels:\n",
    "    temp = meterOneDataLOaded.primary_use.cat.categories.get_loc(i) # retrieve the category given the number\n",
    "    category_mappings.append((temp,i)) # store the mappings\n",
    "    "
   ]
  },
  {
   "cell_type": "code",
   "execution_count": 56,
   "metadata": {},
   "outputs": [
    {
     "data": {
      "text/plain": [
       "[(0, 'Education'),\n",
       " (4, 'Lodging/residential'),\n",
       " (11, 'Retail'),\n",
       " (6, 'Office'),\n",
       " (1, 'Entertainment/public assembly'),\n",
       " (2, 'Food sales and service'),\n",
       " (9, 'Public services'),\n",
       " (3, 'Healthcare'),\n",
       " (13, 'Utility'),\n",
       " (7, 'Other'),\n",
       " (12, 'Technology/science'),\n",
       " (8, 'Parking'),\n",
       " (5, 'Manufacturing/industrial'),\n",
       " (10, 'Religious worship')]"
      ]
     },
     "execution_count": 56,
     "metadata": {},
     "output_type": "execute_result"
    }
   ],
   "source": [
    "# check all the mappings categories\n",
    "category_mappings "
   ]
  },
  {
   "cell_type": "markdown",
   "metadata": {},
   "source": [
    "# Further Details"
   ]
  },
  {
   "cell_type": "markdown",
   "metadata": {},
   "source": [
    "If we have 0112, it might be difficult to know whether the site id is 1 and category is 12 or vice versa.\n",
    "So, I have decided to convert site id to alphabets to remove this ambiguity.\n",
    "The result of this is same as when site id is not chneged but this is easier to read."
   ]
  },
  {
   "cell_type": "code",
   "execution_count": 57,
   "metadata": {},
   "outputs": [],
   "source": [
    "# Site_id as Alphabets\n",
    "meterOneDataLOaded[\"site_id\"] = meterOneDataLOaded[\"site_id\"].astype('category')\n"
   ]
  },
  {
   "cell_type": "code",
   "execution_count": 52,
   "metadata": {},
   "outputs": [],
   "source": [
    "#siteIdUnique = train[\"site_id\"].unique()"
   ]
  },
  {
   "cell_type": "code",
   "execution_count": 64,
   "metadata": {},
   "outputs": [],
   "source": [
    " # this is what site id will be mapped to\n",
    "newSiteName = ['a','b','c','d','e','f','g','h','i','j']\n",
    "# change site id to category.and assign the mapping from the list aboce\n",
    "meterOneDataLOaded.site_id.cat.rename_categories(newSiteName,inplace=True)"
   ]
  },
  {
   "cell_type": "code",
   "execution_count": 65,
   "metadata": {},
   "outputs": [],
   "source": [
    "# site id was chneged to str for concatenation\n",
    "meterOneDataLOaded['site_id']= meterOneDataLOaded['site_id'].values.astype(np.str) # convert siteid back to string"
   ]
  },
  {
   "cell_type": "code",
   "execution_count": 66,
   "metadata": {},
   "outputs": [],
   "source": [
    "# delete previous separator\n",
    "del meterOneDataLOaded['separator']"
   ]
  },
  {
   "cell_type": "code",
   "execution_count": 68,
   "metadata": {},
   "outputs": [],
   "source": [
    "# make new separator column\n",
    "meterOneDataLOaded['separator'] =  meterOneDataLOaded['site_id']+ meterOneDataLOaded['primary_use_encodings']"
   ]
  },
  {
   "cell_type": "code",
   "execution_count": 69,
   "metadata": {},
   "outputs": [],
   "source": [
    "# check the unique separator values which corresponds to the partiton\n",
    "separator = meterOneDataLOaded.separator.unique()"
   ]
  },
  {
   "cell_type": "code",
   "execution_count": 70,
   "metadata": {},
   "outputs": [
    {
     "data": {
      "text/plain": [
       "array(['g0', 'g4', 'g11', 'g6', 'g1', 'g2', 'g9', 'g3', 'g13', 'h0', 'h1',\n",
       "       'h4', 'i0', 'j6', 'j4', 'j0', 'j1', 'j9', 'b0', 'b7', 'b12', 'c0',\n",
       "       'd4', 'd3', 'd6', 'd1', 'd0', 'd9', 'd8', 'e6', 'e0', 'e9', 'e3',\n",
       "       'e2', 'e1', 'e4', 'f6', 'f0', 'f12', 'f5', 'f10', 'f4', 'f1', 'f9',\n",
       "       'f3', 'h6', 'h9', 'a0', 'a6', 'a11', 'a7', 'a4'], dtype=object)"
      ]
     },
     "execution_count": 70,
     "metadata": {},
     "output_type": "execute_result"
    }
   ],
   "source": [
    "# check the partition\n",
    "separator"
   ]
  },
  {
   "cell_type": "code",
   "execution_count": 71,
   "metadata": {},
   "outputs": [
    {
     "data": {
      "text/plain": [
       "52"
      ]
     },
     "execution_count": 71,
     "metadata": {},
     "output_type": "execute_result"
    }
   ],
   "source": [
    "len(separator) # total groups"
   ]
  },
  {
   "cell_type": "code",
   "execution_count": 73,
   "metadata": {},
   "outputs": [
    {
     "name": "stdout",
     "output_type": "stream",
     "text": [
      "Number of Buildings by Primary Use:\n"
     ]
    },
    {
     "data": {
      "text/plain": [
       "Text(0,0.5,'Number of Buildings')"
      ]
     },
     "execution_count": 73,
     "metadata": {},
     "output_type": "execute_result"
    },
    {
     "data": {
      "image/png": "[encoded data removed]",
      "text/plain": [
       "<Figure size 1080x432 with 1 Axes>"
      ]
     },
     "metadata": {
      "needs_background": "light"
     },
     "output_type": "display_data"
    }
   ],
   "source": [
    "building_count = meterOneDataLOaded.primary_use.value_counts()\n",
    "print('Number of Buildings by Primary Use:')\n",
    "plt.figure(figsize=(15,6))\n",
    "sns.barplot(building_count.index,meterOneDataLOaded.primary_use.value_counts())\n",
    "plt.xticks(rotation = 90)\n",
    "plt.ylabel('Meter One : Number of Buildings')"
   ]
  },
  {
   "cell_type": "code",
   "execution_count": 38,
   "metadata": {},
   "outputs": [],
   "source": [
    "# to retieve a particular partition use the syntax below\n",
    "# I ran out of memory here so I cant run to show sample results\n",
    "# train.query('separator == \"0f1\"')[1:2]\n",
    "# train.loc[train['separator'] == '0f1'][1:2]"
   ]
  },
  {
   "cell_type": "markdown",
   "metadata": {},
   "source": [
    "### Conclusion"
   ]
  },
  {
   "cell_type": "markdown",
   "metadata": {},
   "source": [
    "Analysis based on meter dataset partition could give better insight: the various peculiarities of the meter type could be easily visualised to give details about energy consumption. Some meter might not be present in some site while some site id  might show preference for certain primary use. This is meant as introduction to further investigation.\n",
    "Now the cleaned data set is available for further analysis"
   ]
  },
  {
   "cell_type": "code",
   "execution_count": null,
   "metadata": {},
   "outputs": [],
   "source": []
  }
 ],
 "metadata": {
  "kernelspec": {
   "display_name": "Python 3",
   "language": "python",
   "name": "python3"
  },
  "language_info": {
   "codemirror_mode": {
    "name": "ipython",
    "version": 3
   },
   "file_extension": ".py",
   "mimetype": "text/x-python",
   "name": "python",
   "nbconvert_exporter": "python",
   "pygments_lexer": "ipython3",
   "version": "3.6.8"
  }
 },
 "nbformat": 4,
 "nbformat_minor": 2
}
