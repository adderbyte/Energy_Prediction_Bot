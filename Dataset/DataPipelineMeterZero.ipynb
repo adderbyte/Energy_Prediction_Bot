{
 "cells": [
  {
   "cell_type": "markdown",
   "metadata": {},
   "source": [
    "# Time Series Prediction\n"
   ]
  },
  {
   "cell_type": "code",
   "execution_count": 1,
   "metadata": {},
   "outputs": [],
   "source": [
    "# @ Lukman copyright \n",
    "# MIT Licence"
   ]
  },
  {
   "cell_type": "code",
   "execution_count": 2,
   "metadata": {},
   "outputs": [
    {
     "data": {
      "text/html": [
       "        <script type=\"text/javascript\">\n",
       "        window.PlotlyConfig = {MathJaxConfig: 'local'};\n",
       "        if (window.MathJax) {MathJax.Hub.Config({SVG: {font: \"STIX-Web\"}});}\n",
       "        if (typeof require !== 'undefined') {\n",
       "        require.undef(\"plotly\");\n",
       "        requirejs.config({\n",
       "            paths: {\n",
       "                'plotly': ['https://cdn.plot.ly/plotly-latest.min']\n",
       "            }\n",
       "        });\n",
       "        require(['plotly'], function(Plotly) {\n",
       "            window._Plotly = Plotly;\n",
       "        });\n",
       "        }\n",
       "        </script>\n",
       "        "
      ]
     },
     "metadata": {},
     "output_type": "display_data"
    }
   ],
   "source": [
    "# for data frame analysis\n",
    "import pandas as pd \n",
    "\n",
    "# for mathematical operations\n",
    "import numpy as np \n",
    "\n",
    "# imports below are for plotly \n",
    "import ipywidgets as widgets\n",
    "import plotly as py\n",
    "import plotly.graph_objs as go\n",
    "py.offline.init_notebook_mode(connected=True)   # for offline mode use\n",
    "import plotly.figure_factory as ff\n",
    "import plotly.offline as offline\n",
    "\n",
    "\n",
    "# matplotlib library for plotting\n",
    "import matplotlib.pyplot as plt\n",
    "%matplotlib inline\n",
    "\n",
    "# For Normalizing data\n",
    "from sklearn.preprocessing import StandardScaler\n",
    "\n",
    "# For statistical test\n",
    "import scipy.stats as stats\n",
    "\n",
    "# Split data set into training and test set\n",
    "from sklearn.model_selection import train_test_split as tts\n",
    "\n",
    "# SVN module\n",
    "from sklearn import svm\n",
    "\n",
    "# Kernel Functions used \n",
    "from sklearn.metrics.pairwise import rbf_kernel,laplacian_kernel\n",
    "\n",
    "# module for chi square test\n",
    "from scipy.stats import chisquare\n",
    "\n",
    "\n",
    "# For dictionary \n",
    "from collections import defaultdict\n",
    "\n",
    "# for use of tensorflow\n",
    "import tensorflow as tf\n",
    "#from tensorflow.nn.rnn import *\n",
    "from tensorflow.python.ops  import *\n",
    "\n",
    "# for scaling arrays\n",
    "from sklearn.preprocessing import MaxAbsScaler,MinMaxScaler\n",
    "\n",
    "\n",
    "# for random sampling of validation set\n",
    "import random\n",
    "\n",
    "# config file\n",
    "import yaml\n",
    "import os\n",
    "\n",
    "# auto reload\n",
    "%load_ext autoreload\n",
    "\n",
    "%autoreload 2"
   ]
  },
  {
   "cell_type": "code",
   "execution_count": 41,
   "metadata": {},
   "outputs": [],
   "source": [
    "################################################################################\n",
    "# load config file\n",
    "try:\n",
    "    with open(\"../config.yml\", 'r') as ymlfile:\n",
    "            cfg = yaml.safe_load(ymlfile)\n",
    "except (IOError):\n",
    "    print('config file is required. Put config file in current directory')\n",
    "################################################################################"
   ]
  },
  {
   "cell_type": "code",
   "execution_count": 4,
   "metadata": {},
   "outputs": [
    {
     "data": {
      "text/plain": [
       "'Dataset/trainData/'"
      ]
     },
     "execution_count": 4,
     "metadata": {},
     "output_type": "execute_result"
    }
   ],
   "source": [
    "# this is where the data us housed .\n",
    "# we need the to set base directory in other to \n",
    "# work from there\n",
    "cfg['rawdatapath']['TrainDir']"
   ]
  },
  {
   "cell_type": "code",
   "execution_count": 5,
   "metadata": {},
   "outputs": [],
   "source": [
    "# current working directory\n",
    "cwd = os.getcwd()\n",
    "# set the base directory. base directo\n",
    "BASE_DIR = os.path.join( os.path.dirname( cwd), '' )"
   ]
  },
  {
   "cell_type": "code",
   "execution_count": 5,
   "metadata": {},
   "outputs": [],
   "source": []
  },
  {
   "cell_type": "code",
   "execution_count": 6,
   "metadata": {},
   "outputs": [],
   "source": [
    "# Training data path\n",
    "# add as much data to the train path\n",
    "# but specify your choice of training data set \n",
    "# here\n",
    "tranDataPath = BASE_DIR + cfg['rawdatapath']['TrainDir']+cfg['rawdatapath']['trainDatasetName2']"
   ]
  },
  {
   "cell_type": "code",
   "execution_count": null,
   "metadata": {},
   "outputs": [],
   "source": []
  },
  {
   "cell_type": "code",
   "execution_count": 8,
   "metadata": {},
   "outputs": [],
   "source": [
    "# Validation Data path data path\n",
    "# add as much data to the train path\n",
    "# but specify your choice of training data set \n",
    "# here\n",
    "# validDataPath = BASE_DIR + cfg['rawdatapath']['TrainDir']+cfg['rawdatapath']['validationDataName']"
   ]
  },
  {
   "cell_type": "markdown",
   "metadata": {},
   "source": [
    "# Data Preprocessing "
   ]
  },
  {
   "cell_type": "code",
   "execution_count": 9,
   "metadata": {},
   "outputs": [],
   "source": [
    "# I will Load only the zero meter data set \n",
    "# same syntax applied for other data set\n",
    "meterOneDataLOaded = pd.read_feather(tranDataPath)\n",
    "# all meter types data set could be analysed in same manner"
   ]
  },
  {
   "cell_type": "code",
   "execution_count": 10,
   "metadata": {},
   "outputs": [
    {
     "data": {
      "text/html": [
       "<div>\n",
       "<style scoped>\n",
       "    .dataframe tbody tr th:only-of-type {\n",
       "        vertical-align: middle;\n",
       "    }\n",
       "\n",
       "    .dataframe tbody tr th {\n",
       "        vertical-align: top;\n",
       "    }\n",
       "\n",
       "    .dataframe thead th {\n",
       "        text-align: right;\n",
       "    }\n",
       "</style>\n",
       "<table border=\"1\" class=\"dataframe\">\n",
       "  <thead>\n",
       "    <tr style=\"text-align: right;\">\n",
       "      <th></th>\n",
       "      <th>Unnamed: 0</th>\n",
       "      <th>building_id</th>\n",
       "      <th>meter</th>\n",
       "      <th>timestamp</th>\n",
       "      <th>meter_reading</th>\n",
       "      <th>site_id</th>\n",
       "      <th>primary_use</th>\n",
       "      <th>square_feet</th>\n",
       "      <th>year_built</th>\n",
       "      <th>floor_count</th>\n",
       "      <th>air_temperature</th>\n",
       "      <th>cloud_coverage</th>\n",
       "      <th>dew_temperature</th>\n",
       "      <th>precip_depth_1_hr</th>\n",
       "      <th>sea_level_pressure</th>\n",
       "      <th>wind_direction</th>\n",
       "      <th>wind_speed</th>\n",
       "    </tr>\n",
       "  </thead>\n",
       "  <tbody>\n",
       "    <tr>\n",
       "      <td>1</td>\n",
       "      <td>1</td>\n",
       "      <td>1</td>\n",
       "      <td>0</td>\n",
       "      <td>2016-01-01 00:00:00</td>\n",
       "      <td>0.0</td>\n",
       "      <td>0</td>\n",
       "      <td>Education</td>\n",
       "      <td>2720</td>\n",
       "      <td>2004.0</td>\n",
       "      <td>NaN</td>\n",
       "      <td>25.0</td>\n",
       "      <td>6.0</td>\n",
       "      <td>20.0</td>\n",
       "      <td>NaN</td>\n",
       "      <td>1019.7</td>\n",
       "      <td>0.0</td>\n",
       "      <td>0.0</td>\n",
       "    </tr>\n",
       "    <tr>\n",
       "      <td>2</td>\n",
       "      <td>2</td>\n",
       "      <td>2</td>\n",
       "      <td>0</td>\n",
       "      <td>2016-01-01 00:00:00</td>\n",
       "      <td>0.0</td>\n",
       "      <td>0</td>\n",
       "      <td>Education</td>\n",
       "      <td>5376</td>\n",
       "      <td>1991.0</td>\n",
       "      <td>NaN</td>\n",
       "      <td>25.0</td>\n",
       "      <td>6.0</td>\n",
       "      <td>20.0</td>\n",
       "      <td>NaN</td>\n",
       "      <td>1019.7</td>\n",
       "      <td>0.0</td>\n",
       "      <td>0.0</td>\n",
       "    </tr>\n",
       "  </tbody>\n",
       "</table>\n",
       "</div>"
      ],
      "text/plain": [
       "   Unnamed: 0  building_id  meter            timestamp  meter_reading  \\\n",
       "1           1            1      0  2016-01-01 00:00:00            0.0   \n",
       "2           2            2      0  2016-01-01 00:00:00            0.0   \n",
       "\n",
       "   site_id primary_use  square_feet  year_built  floor_count  air_temperature  \\\n",
       "1        0   Education         2720      2004.0          NaN             25.0   \n",
       "2        0   Education         5376      1991.0          NaN             25.0   \n",
       "\n",
       "   cloud_coverage  dew_temperature  precip_depth_1_hr  sea_level_pressure  \\\n",
       "1             6.0             20.0                NaN              1019.7   \n",
       "2             6.0             20.0                NaN              1019.7   \n",
       "\n",
       "   wind_direction  wind_speed  \n",
       "1             0.0         0.0  \n",
       "2             0.0         0.0  "
      ]
     },
     "execution_count": 10,
     "metadata": {},
     "output_type": "execute_result"
    }
   ],
   "source": [
    "meterOneDataLOaded[1:3]"
   ]
  },
  {
   "cell_type": "code",
   "execution_count": 11,
   "metadata": {},
   "outputs": [],
   "source": [
    "# delete column unnmaed\n",
    "del meterOneDataLOaded['Unnamed: 0']"
   ]
  },
  {
   "cell_type": "code",
   "execution_count": 12,
   "metadata": {},
   "outputs": [
    {
     "data": {
      "text/plain": [
       "['building_id',\n",
       " 'meter',\n",
       " 'timestamp',\n",
       " 'meter_reading',\n",
       " 'site_id',\n",
       " 'primary_use',\n",
       " 'square_feet',\n",
       " 'year_built',\n",
       " 'floor_count',\n",
       " 'air_temperature',\n",
       " 'cloud_coverage',\n",
       " 'dew_temperature',\n",
       " 'precip_depth_1_hr',\n",
       " 'sea_level_pressure',\n",
       " 'wind_direction',\n",
       " 'wind_speed']"
      ]
     },
     "execution_count": 12,
     "metadata": {},
     "output_type": "execute_result"
    }
   ],
   "source": [
    "# column values \n",
    "meterOneDataLOaded.columns.tolist()"
   ]
  },
  {
   "cell_type": "code",
   "execution_count": 13,
   "metadata": {},
   "outputs": [],
   "source": [
    "# store column as list\n",
    "columns = meterOneDataLOaded.columns.tolist()"
   ]
  },
  {
   "cell_type": "code",
   "execution_count": 14,
   "metadata": {},
   "outputs": [
    {
     "data": {
      "text/plain": [
       "building_id                 0\n",
       "meter                       0\n",
       "timestamp                   0\n",
       "meter_reading               0\n",
       "site_id                     0\n",
       "primary_use                 0\n",
       "square_feet                 0\n",
       "year_built            6470035\n",
       "floor_count           9096083\n",
       "air_temperature         47325\n",
       "cloud_coverage        5329652\n",
       "dew_temperature         49091\n",
       "precip_depth_1_hr     2513679\n",
       "sea_level_pressure    1018383\n",
       "wind_direction         678715\n",
       "wind_speed              66795\n",
       "dtype: int64"
      ]
     },
     "execution_count": 14,
     "metadata": {},
     "output_type": "execute_result"
    }
   ],
   "source": [
    "# get null values per column in the data set\n",
    "meterOneDataLOaded.isnull().sum()"
   ]
  },
  {
   "cell_type": "code",
   "execution_count": 15,
   "metadata": {},
   "outputs": [],
   "source": [
    "# chnage to time sta\n",
    "meterOneDataLOaded['timestamp'] =  pd.to_datetime(meterOneDataLOaded['timestamp'])\n"
   ]
  },
  {
   "cell_type": "code",
   "execution_count": 16,
   "metadata": {},
   "outputs": [
    {
     "data": {
      "text/plain": [
       "Int64Index([2016], dtype='int64', name='timestamp')"
      ]
     },
     "execution_count": 16,
     "metadata": {},
     "output_type": "execute_result"
    }
   ],
   "source": [
    "# check the unique time stamp present\n",
    "pd.DatetimeIndex(meterOneDataLOaded['timestamp']).year.unique()"
   ]
  },
  {
   "cell_type": "code",
   "execution_count": 17,
   "metadata": {},
   "outputs": [
    {
     "data": {
      "text/plain": [
       "building_id                    int64\n",
       "meter                          int64\n",
       "timestamp             datetime64[ns]\n",
       "meter_reading                float64\n",
       "site_id                        int64\n",
       "primary_use                   object\n",
       "square_feet                    int64\n",
       "year_built                   float64\n",
       "floor_count                  float64\n",
       "air_temperature              float64\n",
       "cloud_coverage               float64\n",
       "dew_temperature              float64\n",
       "precip_depth_1_hr            float64\n",
       "sea_level_pressure           float64\n",
       "wind_direction               float64\n",
       "wind_speed                   float64\n",
       "dtype: object"
      ]
     },
     "execution_count": 17,
     "metadata": {},
     "output_type": "execute_result"
    }
   ],
   "source": [
    "meterOneDataLOaded.dtypes"
   ]
  },
  {
   "cell_type": "code",
   "execution_count": 18,
   "metadata": {},
   "outputs": [
    {
     "data": {
      "text/plain": [
       "building_id                 0\n",
       "meter                       0\n",
       "timestamp                   0\n",
       "meter_reading               0\n",
       "site_id                     0\n",
       "primary_use                 0\n",
       "square_feet                 0\n",
       "year_built            6470035\n",
       "floor_count           9096083\n",
       "air_temperature         47325\n",
       "cloud_coverage        5329652\n",
       "dew_temperature         49091\n",
       "precip_depth_1_hr     2513679\n",
       "sea_level_pressure    1018383\n",
       "wind_direction         678715\n",
       "wind_speed              66795\n",
       "dtype: int64"
      ]
     },
     "execution_count": 18,
     "metadata": {},
     "output_type": "execute_result"
    }
   ],
   "source": [
    "# choose windpseed because it has fewer null values\n",
    "meterOneDataLOaded.isnull().sum()"
   ]
  },
  {
   "cell_type": "code",
   "execution_count": 19,
   "metadata": {},
   "outputs": [],
   "source": [
    "# set time stamp as index \n",
    "meterOneDataLOaded.set_index('timestamp',inplace=True);\n"
   ]
  },
  {
   "cell_type": "code",
   "execution_count": 20,
   "metadata": {},
   "outputs": [
    {
     "data": {
      "text/plain": [
       "timestamp\n",
       "2016-01-01    20.0\n",
       "Name: dew_temperature, dtype: float64"
      ]
     },
     "execution_count": 20,
     "metadata": {},
     "output_type": "execute_result"
    }
   ],
   "source": [
    "meterOneDataLOaded['dew_temperature'][1:2]"
   ]
  },
  {
   "cell_type": "markdown",
   "metadata": {},
   "source": [
    "#### Model \n"
   ]
  },
  {
   "cell_type": "code",
   "execution_count": 59,
   "metadata": {},
   "outputs": [],
   "source": [
    "# a subset of the data has been copied to use to test the visualizer function\n",
    "# use the full data set if space is available and system is fast\n",
    "\n",
    "train_test = meterOneDataLOaded[['meter_reading', 'square_feet', 'air_temperature','primary_use','site_id','dew_temperature']].copy()\n"
   ]
  },
  {
   "cell_type": "code",
   "execution_count": null,
   "metadata": {},
   "outputs": [],
   "source": []
  },
  {
   "cell_type": "code",
   "execution_count": 60,
   "metadata": {},
   "outputs": [],
   "source": [
    "\n",
    "# reset the index so that time is no longer the index\n",
    "# the index is now  numbers \n",
    "train_test.reset_index(level=0, inplace=True)\n"
   ]
  },
  {
   "cell_type": "code",
   "execution_count": 61,
   "metadata": {},
   "outputs": [
    {
     "data": {
      "text/plain": [
       "Int64Index([2016], dtype='int64', name='timestamp')"
      ]
     },
     "execution_count": 61,
     "metadata": {},
     "output_type": "execute_result"
    }
   ],
   "source": [
    "# only 2016 data is represented here as usual\n",
    "pd.DatetimeIndex(train_test['timestamp']).year.unique()"
   ]
  },
  {
   "cell_type": "code",
   "execution_count": 62,
   "metadata": {},
   "outputs": [],
   "source": [
    "# extrac year month and day\n",
    "train_test['year'] = pd.DatetimeIndex(train_test['timestamp']).year\n",
    "train_test['month'] = pd.DatetimeIndex(train_test['timestamp']).month\n",
    "train_test['day'] = pd.DatetimeIndex(train_test['timestamp']).day\n",
    "train_test['hour'] = pd.DatetimeIndex(train_test['timestamp']).hour"
   ]
  },
  {
   "cell_type": "code",
   "execution_count": 63,
   "metadata": {},
   "outputs": [
    {
     "data": {
      "text/plain": [
       "timestamp              0\n",
       "meter_reading          0\n",
       "square_feet            0\n",
       "air_temperature    47325\n",
       "primary_use            0\n",
       "site_id                0\n",
       "dew_temperature    49091\n",
       "year                   0\n",
       "month                  0\n",
       "day                    0\n",
       "hour                   0\n",
       "dtype: int64"
      ]
     },
     "execution_count": 63,
     "metadata": {},
     "output_type": "execute_result"
    }
   ],
   "source": [
    "# check null values\n",
    "train_test.isnull().sum()"
   ]
  },
  {
   "cell_type": "code",
   "execution_count": 64,
   "metadata": {},
   "outputs": [
    {
     "data": {
      "text/plain": [
       "timestamp          datetime64[ns]\n",
       "meter_reading             float64\n",
       "square_feet                 int64\n",
       "air_temperature           float64\n",
       "primary_use                object\n",
       "site_id                     int64\n",
       "dew_temperature           float64\n",
       "year                        int64\n",
       "month                       int64\n",
       "day                         int64\n",
       "hour                        int64\n",
       "dtype: object"
      ]
     },
     "execution_count": 64,
     "metadata": {},
     "output_type": "execute_result"
    }
   ],
   "source": [
    "# check data types\n",
    "train_test.dtypes"
   ]
  },
  {
   "cell_type": "code",
   "execution_count": null,
   "metadata": {},
   "outputs": [],
   "source": []
  },
  {
   "cell_type": "code",
   "execution_count": 65,
   "metadata": {},
   "outputs": [],
   "source": [
    "# forward filling missing values since values from previous timestamp should\n",
    "# ideally be similar to the next one. (temperature today and tomorrow should be quite similar)\n",
    "train_test['air_temperature'].fillna(method='ffill', inplace=True)\n",
    "train_test['dew_temperature'].fillna(method='ffill', inplace=True)"
   ]
  },
  {
   "cell_type": "code",
   "execution_count": 66,
   "metadata": {},
   "outputs": [],
   "source": [
    "# delete year we wont use the year information in the model\n",
    "del train_test['year']"
   ]
  },
  {
   "cell_type": "code",
   "execution_count": 67,
   "metadata": {},
   "outputs": [],
   "source": [
    "# convert square feet to float\n",
    "train_test['square_feet'] = train_test['square_feet'].astype(float)\n"
   ]
  },
  {
   "cell_type": "code",
   "execution_count": 68,
   "metadata": {},
   "outputs": [],
   "source": [
    "# encode site id and primary use\n",
    "train_test = pd.get_dummies(train_test, columns=[\"primary_use\",\"site_id\"])"
   ]
  },
  {
   "cell_type": "code",
   "execution_count": 69,
   "metadata": {},
   "outputs": [
    {
     "data": {
      "text/html": [
       "<div>\n",
       "<style scoped>\n",
       "    .dataframe tbody tr th:only-of-type {\n",
       "        vertical-align: middle;\n",
       "    }\n",
       "\n",
       "    .dataframe tbody tr th {\n",
       "        vertical-align: top;\n",
       "    }\n",
       "\n",
       "    .dataframe thead th {\n",
       "        text-align: right;\n",
       "    }\n",
       "</style>\n",
       "<table border=\"1\" class=\"dataframe\">\n",
       "  <thead>\n",
       "    <tr style=\"text-align: right;\">\n",
       "      <th></th>\n",
       "      <th>timestamp</th>\n",
       "      <th>meter_reading</th>\n",
       "      <th>square_feet</th>\n",
       "      <th>air_temperature</th>\n",
       "      <th>dew_temperature</th>\n",
       "      <th>month</th>\n",
       "      <th>day</th>\n",
       "      <th>hour</th>\n",
       "      <th>primary_use_Education</th>\n",
       "      <th>primary_use_Entertainment/public assembly</th>\n",
       "      <th>...</th>\n",
       "      <th>site_id_6</th>\n",
       "      <th>site_id_7</th>\n",
       "      <th>site_id_8</th>\n",
       "      <th>site_id_9</th>\n",
       "      <th>site_id_10</th>\n",
       "      <th>site_id_11</th>\n",
       "      <th>site_id_12</th>\n",
       "      <th>site_id_13</th>\n",
       "      <th>site_id_14</th>\n",
       "      <th>site_id_15</th>\n",
       "    </tr>\n",
       "  </thead>\n",
       "  <tbody>\n",
       "    <tr>\n",
       "      <td>0</td>\n",
       "      <td>2016-01-01</td>\n",
       "      <td>0.0</td>\n",
       "      <td>7432.0</td>\n",
       "      <td>25.0</td>\n",
       "      <td>20.0</td>\n",
       "      <td>1</td>\n",
       "      <td>1</td>\n",
       "      <td>0</td>\n",
       "      <td>1</td>\n",
       "      <td>0</td>\n",
       "      <td>...</td>\n",
       "      <td>0</td>\n",
       "      <td>0</td>\n",
       "      <td>0</td>\n",
       "      <td>0</td>\n",
       "      <td>0</td>\n",
       "      <td>0</td>\n",
       "      <td>0</td>\n",
       "      <td>0</td>\n",
       "      <td>0</td>\n",
       "      <td>0</td>\n",
       "    </tr>\n",
       "    <tr>\n",
       "      <td>1</td>\n",
       "      <td>2016-01-01</td>\n",
       "      <td>0.0</td>\n",
       "      <td>2720.0</td>\n",
       "      <td>25.0</td>\n",
       "      <td>20.0</td>\n",
       "      <td>1</td>\n",
       "      <td>1</td>\n",
       "      <td>0</td>\n",
       "      <td>1</td>\n",
       "      <td>0</td>\n",
       "      <td>...</td>\n",
       "      <td>0</td>\n",
       "      <td>0</td>\n",
       "      <td>0</td>\n",
       "      <td>0</td>\n",
       "      <td>0</td>\n",
       "      <td>0</td>\n",
       "      <td>0</td>\n",
       "      <td>0</td>\n",
       "      <td>0</td>\n",
       "      <td>0</td>\n",
       "    </tr>\n",
       "    <tr>\n",
       "      <td>2</td>\n",
       "      <td>2016-01-01</td>\n",
       "      <td>0.0</td>\n",
       "      <td>5376.0</td>\n",
       "      <td>25.0</td>\n",
       "      <td>20.0</td>\n",
       "      <td>1</td>\n",
       "      <td>1</td>\n",
       "      <td>0</td>\n",
       "      <td>1</td>\n",
       "      <td>0</td>\n",
       "      <td>...</td>\n",
       "      <td>0</td>\n",
       "      <td>0</td>\n",
       "      <td>0</td>\n",
       "      <td>0</td>\n",
       "      <td>0</td>\n",
       "      <td>0</td>\n",
       "      <td>0</td>\n",
       "      <td>0</td>\n",
       "      <td>0</td>\n",
       "      <td>0</td>\n",
       "    </tr>\n",
       "    <tr>\n",
       "      <td>3</td>\n",
       "      <td>2016-01-01</td>\n",
       "      <td>0.0</td>\n",
       "      <td>23685.0</td>\n",
       "      <td>25.0</td>\n",
       "      <td>20.0</td>\n",
       "      <td>1</td>\n",
       "      <td>1</td>\n",
       "      <td>0</td>\n",
       "      <td>1</td>\n",
       "      <td>0</td>\n",
       "      <td>...</td>\n",
       "      <td>0</td>\n",
       "      <td>0</td>\n",
       "      <td>0</td>\n",
       "      <td>0</td>\n",
       "      <td>0</td>\n",
       "      <td>0</td>\n",
       "      <td>0</td>\n",
       "      <td>0</td>\n",
       "      <td>0</td>\n",
       "      <td>0</td>\n",
       "    </tr>\n",
       "    <tr>\n",
       "      <td>4</td>\n",
       "      <td>2016-01-01</td>\n",
       "      <td>0.0</td>\n",
       "      <td>116607.0</td>\n",
       "      <td>25.0</td>\n",
       "      <td>20.0</td>\n",
       "      <td>1</td>\n",
       "      <td>1</td>\n",
       "      <td>0</td>\n",
       "      <td>1</td>\n",
       "      <td>0</td>\n",
       "      <td>...</td>\n",
       "      <td>0</td>\n",
       "      <td>0</td>\n",
       "      <td>0</td>\n",
       "      <td>0</td>\n",
       "      <td>0</td>\n",
       "      <td>0</td>\n",
       "      <td>0</td>\n",
       "      <td>0</td>\n",
       "      <td>0</td>\n",
       "      <td>0</td>\n",
       "    </tr>\n",
       "  </tbody>\n",
       "</table>\n",
       "<p>5 rows × 40 columns</p>\n",
       "</div>"
      ],
      "text/plain": [
       "   timestamp  meter_reading  square_feet  air_temperature  dew_temperature  \\\n",
       "0 2016-01-01            0.0       7432.0             25.0             20.0   \n",
       "1 2016-01-01            0.0       2720.0             25.0             20.0   \n",
       "2 2016-01-01            0.0       5376.0             25.0             20.0   \n",
       "3 2016-01-01            0.0      23685.0             25.0             20.0   \n",
       "4 2016-01-01            0.0     116607.0             25.0             20.0   \n",
       "\n",
       "   month  day  hour  primary_use_Education  \\\n",
       "0      1    1     0                      1   \n",
       "1      1    1     0                      1   \n",
       "2      1    1     0                      1   \n",
       "3      1    1     0                      1   \n",
       "4      1    1     0                      1   \n",
       "\n",
       "   primary_use_Entertainment/public assembly  ...  site_id_6  site_id_7  \\\n",
       "0                                          0  ...          0          0   \n",
       "1                                          0  ...          0          0   \n",
       "2                                          0  ...          0          0   \n",
       "3                                          0  ...          0          0   \n",
       "4                                          0  ...          0          0   \n",
       "\n",
       "   site_id_8  site_id_9  site_id_10  site_id_11  site_id_12  site_id_13  \\\n",
       "0          0          0           0           0           0           0   \n",
       "1          0          0           0           0           0           0   \n",
       "2          0          0           0           0           0           0   \n",
       "3          0          0           0           0           0           0   \n",
       "4          0          0           0           0           0           0   \n",
       "\n",
       "   site_id_14  site_id_15  \n",
       "0           0           0  \n",
       "1           0           0  \n",
       "2           0           0  \n",
       "3           0           0  \n",
       "4           0           0  \n",
       "\n",
       "[5 rows x 40 columns]"
      ]
     },
     "execution_count": 69,
     "metadata": {},
     "output_type": "execute_result"
    }
   ],
   "source": [
    "train_test.head()"
   ]
  },
  {
   "cell_type": "code",
   "execution_count": 33,
   "metadata": {},
   "outputs": [
    {
     "data": {
      "text/plain": [
       "530169"
      ]
     },
     "execution_count": 33,
     "metadata": {},
     "output_type": "execute_result"
    }
   ],
   "source": [
    "# number of zeros\n",
    "train_test[train_test['meter_reading'] <= 0.]['meter_reading'].count() "
   ]
  },
  {
   "cell_type": "code",
   "execution_count": 70,
   "metadata": {},
   "outputs": [
    {
     "data": {
      "text/plain": [
       "(12060910, 40)"
      ]
     },
     "execution_count": 70,
     "metadata": {},
     "output_type": "execute_result"
    }
   ],
   "source": [
    "# shape before 0 removed\n",
    "train_test.shape"
   ]
  },
  {
   "cell_type": "code",
   "execution_count": 71,
   "metadata": {},
   "outputs": [],
   "source": [
    "# remove zero meter readings \n",
    "# to be changed later\n",
    "train_test = train_test[train_test.meter_reading != 0]"
   ]
  },
  {
   "cell_type": "code",
   "execution_count": 72,
   "metadata": {},
   "outputs": [
    {
     "data": {
      "text/plain": [
       "(11530741, 40)"
      ]
     },
     "execution_count": 72,
     "metadata": {},
     "output_type": "execute_result"
    }
   ],
   "source": [
    "# shape after zero removed\n",
    "train_test.shape"
   ]
  },
  {
   "cell_type": "code",
   "execution_count": 78,
   "metadata": {},
   "outputs": [],
   "source": [
    "# set time as index\n",
    "train_test.set_index('timestamp',inplace=True);\n"
   ]
  },
  {
   "cell_type": "code",
   "execution_count": 74,
   "metadata": {},
   "outputs": [
    {
     "data": {
      "text/plain": [
       "0"
      ]
     },
     "execution_count": 74,
     "metadata": {},
     "output_type": "execute_result"
    }
   ],
   "source": [
    "# no zeros in data set\n",
    "train_test[train_test['meter_reading'] <= 0.]['meter_reading'].count() "
   ]
  },
  {
   "cell_type": "code",
   "execution_count": 80,
   "metadata": {},
   "outputs": [],
   "source": [
    "# shape after zeros removed\n",
    "train_test.reset_index(inplace=True)"
   ]
  },
  {
   "cell_type": "code",
   "execution_count": 81,
   "metadata": {},
   "outputs": [],
   "source": [
    "cleanedpath= BASE_DIR + cfg['cleanedconfig']['cleanedDataV2']['cleanedDir'] #+cfg['rawdatapath']['validationDataName']"
   ]
  },
  {
   "cell_type": "code",
   "execution_count": null,
   "metadata": {},
   "outputs": [],
   "source": [
    "train_test"
   ]
  },
  {
   "cell_type": "code",
   "execution_count": 82,
   "metadata": {},
   "outputs": [],
   "source": [
    "# save data as feather \n",
    "train_test.to_feather(cleanedpath +  cfg['cleanedconfig']['cleanedDataV2']['cleanedName'])"
   ]
  },
  {
   "cell_type": "code",
   "execution_count": null,
   "metadata": {},
   "outputs": [],
   "source": []
  },
  {
   "cell_type": "code",
   "execution_count": null,
   "metadata": {},
   "outputs": [],
   "source": []
  },
  {
   "cell_type": "code",
   "execution_count": null,
   "metadata": {},
   "outputs": [],
   "source": []
  },
  {
   "cell_type": "code",
   "execution_count": null,
   "metadata": {},
   "outputs": [],
   "source": []
  },
  {
   "cell_type": "code",
   "execution_count": null,
   "metadata": {},
   "outputs": [],
   "source": []
  },
  {
   "cell_type": "code",
   "execution_count": null,
   "metadata": {},
   "outputs": [],
   "source": []
  },
  {
   "cell_type": "code",
   "execution_count": null,
   "metadata": {},
   "outputs": [],
   "source": []
  },
  {
   "cell_type": "code",
   "execution_count": null,
   "metadata": {},
   "outputs": [],
   "source": []
  },
  {
   "cell_type": "code",
   "execution_count": null,
   "metadata": {},
   "outputs": [],
   "source": []
  },
  {
   "cell_type": "code",
   "execution_count": null,
   "metadata": {},
   "outputs": [],
   "source": []
  },
  {
   "cell_type": "code",
   "execution_count": null,
   "metadata": {},
   "outputs": [],
   "source": []
  }
 ],
 "metadata": {
  "kernelspec": {
   "display_name": "Python 3",
   "language": "python",
   "name": "python3"
  },
  "language_info": {
   "codemirror_mode": {
    "name": "ipython",
    "version": 3
   },
   "file_extension": ".py",
   "mimetype": "text/x-python",
   "name": "python",
   "nbconvert_exporter": "python",
   "pygments_lexer": "ipython3",
   "version": "3.7.4"
  }
 },
 "nbformat": 4,
 "nbformat_minor": 2
}
