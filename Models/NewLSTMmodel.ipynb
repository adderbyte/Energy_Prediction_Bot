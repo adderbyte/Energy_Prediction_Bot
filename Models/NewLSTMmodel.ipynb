{
 "cells": [
  {
   "cell_type": "markdown",
   "metadata": {},
   "source": [
    "# Time Series Prediction\n"
   ]
  },
  {
   "cell_type": "code",
   "execution_count": 3,
   "metadata": {},
   "outputs": [],
   "source": [
    "# @ Lukman copyright \n",
    "# MIT Licence"
   ]
  },
  {
   "cell_type": "code",
   "execution_count": 389,
   "metadata": {},
   "outputs": [
    {
     "data": {
      "text/html": [
       "        <script type=\"text/javascript\">\n",
       "        window.PlotlyConfig = {MathJaxConfig: 'local'};\n",
       "        if (window.MathJax) {MathJax.Hub.Config({SVG: {font: \"STIX-Web\"}});}\n",
       "        if (typeof require !== 'undefined') {\n",
       "        require.undef(\"plotly\");\n",
       "        requirejs.config({\n",
       "            paths: {\n",
       "                'plotly': ['https://cdn.plot.ly/plotly-latest.min']\n",
       "            }\n",
       "        });\n",
       "        require(['plotly'], function(Plotly) {\n",
       "            window._Plotly = Plotly;\n",
       "        });\n",
       "        }\n",
       "        </script>\n",
       "        "
      ]
     },
     "metadata": {},
     "output_type": "display_data"
    },
    {
     "name": "stdout",
     "output_type": "stream",
     "text": [
      "The autoreload extension is already loaded. To reload it, use:\n",
      "  %reload_ext autoreload\n"
     ]
    }
   ],
   "source": [
    "# for data frame analysis\n",
    "import pandas as pd \n",
    "\n",
    "# for mathematical operations\n",
    "import numpy as np \n",
    "\n",
    "# imports below are for plotly \n",
    "import ipywidgets as widgets\n",
    "import plotly as py\n",
    "import plotly.graph_objs as go\n",
    "py.offline.init_notebook_mode(connected=True)   # for offline mode use\n",
    "import plotly.figure_factory as ff\n",
    "import plotly.offline as offline\n",
    "\n",
    "\n",
    "# matplotlib library for plotting\n",
    "import matplotlib.pyplot as plt\n",
    "%matplotlib inline\n",
    "\n",
    "# For Normalizing data\n",
    "#from sklearn.preprocessing import StandardScaler\n",
    "from sklearn.preprocessing import normalize\n",
    "\n",
    "# For statistical test\n",
    "import scipy.stats as stats\n",
    "\n",
    "# Split data set into training and test set\n",
    "from sklearn.model_selection import train_test_split as tts\n",
    "\n",
    "# SVN module\n",
    "from sklearn import svm\n",
    "\n",
    "# Kernel Functions used \n",
    "from sklearn.metrics.pairwise import rbf_kernel,laplacian_kernel\n",
    "\n",
    "# module for chi square test\n",
    "from scipy.stats import chisquare\n",
    "\n",
    "\n",
    "# For dictionary \n",
    "from collections import defaultdict\n",
    "\n",
    "# for use of tensorflow\n",
    "import tensorflow as tf\n",
    "#from tensorflow.nn.rnn import *\n",
    "from tensorflow.python.ops  import *\n",
    "\n",
    "# for scaling arrays\n",
    "from sklearn.preprocessing import MaxAbsScaler,MinMaxScaler\n",
    "\n",
    "\n",
    "# for random sampling of validation set\n",
    "import random\n",
    "\n",
    "\n",
    "import yaml\n",
    "import os\n",
    "from utility import utils\n",
    "\n",
    "%load_ext autoreload\n",
    "%autoreload 2"
   ]
  },
  {
   "cell_type": "code",
   "execution_count": 251,
   "metadata": {},
   "outputs": [
    {
     "name": "stdout",
     "output_type": "stream",
     "text": [
      "Num GPUs Available:  0\n"
     ]
    }
   ],
   "source": [
    "# check GPU availability for tensorflow\n",
    "print(\"Num GPUs Available: \", len(tf.config.experimental.list_physical_devices('GPU')))\n"
   ]
  },
  {
   "cell_type": "markdown",
   "metadata": {},
   "source": [
    "# Data Preprocessing "
   ]
  },
  {
   "cell_type": "code",
   "execution_count": 2,
   "metadata": {},
   "outputs": [],
   "source": [
    "################################################################################\n",
    "# load config file\n",
    "try:\n",
    "    with open(\"../config.yml\", 'r') as ymlfile:\n",
    "            cfg = yaml.safe_load(ymlfile)\n",
    "except (IOError):\n",
    "    print('config file is required. Put config file in current directory')\n",
    "################################################################################"
   ]
  },
  {
   "cell_type": "code",
   "execution_count": 3,
   "metadata": {},
   "outputs": [],
   "source": [
    "# # current working directory\n",
    "# cwd = os.getcwd()\n",
    "# # set the base directory. base directo\n",
    "# BASE_DIR = os.path.join( os.path.dirname( cwd), '' )\n",
    "# # cleaned data dir\n",
    "# cleanedpath= BASE_DIR + cfg['cleanedconfig']['cleanedDataV1']['cleanedDir'] \n",
    "# # clean data Name\n",
    "# cleandataName = cfg['cleanedconfig']['cleanedDataV1']['cleanedName']\n",
    "# # traina and validation data name\n",
    "# trainName= cfg['cleanedconfig']['cleanedDataV1']['TensorflowDataFlowConfig']['tfcleanTrain']\n",
    "# validateName  = cfg['cleanedconfig']['cleanedDataV1']['TensorflowDataFlowConfig']['tfcleanValidate']\n",
    "# validation_split = cfg['cleanedconfig']['cleanedDataV1']['validationSplit']"
   ]
  },
  {
   "cell_type": "code",
   "execution_count": 7,
   "metadata": {},
   "outputs": [],
   "source": [
    "# current working directory\n",
    "cwd = os.getcwd()\n",
    "# set the base directory. base directo\n",
    "BASE_DIR = os.path.join( os.path.dirname( cwd), '' )\n",
    "# cleaned data dir\n",
    "cleanedpath= BASE_DIR + cfg['cleanedconfig']['cleanedDataV2']['cleanedDir'] \n",
    "# clean data Name\n",
    "cleandataName = cfg['cleanedconfig']['cleanedDataV2']['cleanedName']\n",
    "# traina and validation data name\n",
    "trainName= cfg['cleanedconfig']['cleanedDataV2']['TensorflowDataFlowConfig']['tfcleanTrain']\n",
    "validateName  = cfg['cleanedconfig']['cleanedDataV2']['TensorflowDataFlowConfig']['tfcleanValidate']\n",
    "validation_split = cfg['cleanedconfig']['cleanedDataV2']['validationSplit']"
   ]
  },
  {
   "cell_type": "code",
   "execution_count": null,
   "metadata": {},
   "outputs": [],
   "source": []
  },
  {
   "cell_type": "code",
   "execution_count": 8,
   "metadata": {},
   "outputs": [],
   "source": [
    "# I will Load only the zero meter data set \n",
    "# same syntax applied for other data set\n",
    "#meterOneDataLOaded= pd.read_csv(cleanedpath +  cleandataName ) # uncomment this if meter 1\n",
    "meterOneDataLOaded= pd.read_feather(cleanedpath +  cleandataName ) # comment this if meter 0\n",
    "\n",
    "# all meter types data set could be analysed in same manner"
   ]
  },
  {
   "cell_type": "code",
   "execution_count": null,
   "metadata": {},
   "outputs": [],
   "source": []
  },
  {
   "cell_type": "code",
   "execution_count": 9,
   "metadata": {},
   "outputs": [],
   "source": [
    "# set time stamp as index \n",
    "meterOneDataLOaded.set_index('timestamp',inplace=True);\n"
   ]
  },
  {
   "cell_type": "code",
   "execution_count": 10,
   "metadata": {},
   "outputs": [],
   "source": [
    "y_train = meterOneDataLOaded['meter_reading']\n",
    "X_train = meterOneDataLOaded.drop('meter_reading', axis=1)"
   ]
  },
  {
   "cell_type": "code",
   "execution_count": 11,
   "metadata": {},
   "outputs": [],
   "source": [
    "#meterOneDataLOaded['dew_temperature'][1:2]"
   ]
  },
  {
   "cell_type": "code",
   "execution_count": null,
   "metadata": {},
   "outputs": [],
   "source": []
  },
  {
   "cell_type": "markdown",
   "metadata": {},
   "source": [
    "#### Training-Validation Spearation\n"
   ]
  },
  {
   "cell_type": "code",
   "execution_count": 12,
   "metadata": {},
   "outputs": [
    {
     "name": "stdout",
     "output_type": "stream",
     "text": [
      "validation-set (3000, 38) | Train-set (11527741, 38)\n",
      "------------------------------------------------\n",
      "validation-target (3000,) | Train-Target (11527741,)\n"
     ]
    }
   ],
   "source": [
    "#img_size=10;\n",
    "VALIDATION_SIZE = 3000\n",
    "\n",
    "validation_set = X_train[:VALIDATION_SIZE].values\n",
    "validation_target = y_train[:VALIDATION_SIZE].values\n",
    "\n",
    "train_set = X_train[VALIDATION_SIZE:].values\n",
    "train_target = y_train[VALIDATION_SIZE:].values\n",
    "\n",
    "print('validation-set',validation_set.shape, '|' ,'Train-set', train_set.shape)\n",
    "print('------------------------------------------------')\n",
    "print('validation-target',validation_target.shape,'|','Train-Target' ,train_target.shape)\n"
   ]
  },
  {
   "cell_type": "code",
   "execution_count": null,
   "metadata": {},
   "outputs": [],
   "source": []
  },
  {
   "cell_type": "code",
   "execution_count": 14,
   "metadata": {},
   "outputs": [],
   "source": [
    "#validation_set = Standardize(validation_set)\n",
    "#validation_target = Standardize(validation_target)\n",
    "#train_set = Standardize(train_set)\n",
    "#train_target =  Standardize(train_target)\n",
    "\n"
   ]
  },
  {
   "cell_type": "code",
   "execution_count": 15,
   "metadata": {},
   "outputs": [],
   "source": [
    "#validation_set.astype(np.float64, copy=False);"
   ]
  },
  {
   "cell_type": "code",
   "execution_count": 16,
   "metadata": {},
   "outputs": [],
   "source": [
    "#train_set.astype(np.float64, copy=False);"
   ]
  },
  {
   "cell_type": "code",
   "execution_count": 17,
   "metadata": {},
   "outputs": [],
   "source": [
    "#del X_train, y_train, meterOneDataLOaded"
   ]
  },
  {
   "cell_type": "code",
   "execution_count": 18,
   "metadata": {},
   "outputs": [],
   "source": [
    "epochs_completed = 0\n",
    "index_in_epoch = 0\n",
    "num_examples = train_set.shape[0]\n",
    "\n",
    "# serve data by batches\n",
    "def next_batch(batch_size):\n",
    "    \n",
    "    global train_set\n",
    "    global train_target\n",
    "    global index_in_epoch\n",
    "    global epochs_completed\n",
    "    \n",
    "    start = index_in_epoch\n",
    "    index_in_epoch += batch_size\n",
    "    \n",
    "    # when all trainig data have been already used, it is reorder randomly    \n",
    "    if index_in_epoch > num_examples:\n",
    "        # finished epoch\n",
    "        epochs_completed += 1\n",
    "        # shuffle the data\n",
    "        perm = np.arange(num_examples)\n",
    "        np.random.shuffle(perm)\n",
    "        train_set = train_set[perm]\n",
    "        train_target = train_target[perm]\n",
    "        # start next epoch\n",
    "        start = 0\n",
    "        index_in_epoch = batch_size\n",
    "        assert batch_size <= num_examples\n",
    "    end = index_in_epoch\n",
    "    return train_set[start:end], train_target[start:end]"
   ]
  },
  {
   "cell_type": "code",
   "execution_count": 19,
   "metadata": {},
   "outputs": [],
   "source": [
    "import random\n",
    "def valdation_random_sampler(validation_set, validation_target, n_validation_sample):    \n",
    "    rng = np.random.RandomState(42)  # reproducible results with a fixed seed\n",
    "    indices = random.sample(range(0, len(validation_set)-1), n_validation_sample)\n",
    "    #indices = np.arange(n_samples)\n",
    "    \n",
    "    rng.shuffle(indices)\n",
    "    #print(indices)\n",
    "    x_shuffled = validation_set[indices]\n",
    "    y_shuffled = validation_target[indices]\n",
    "    return x_shuffled,y_shuffled"
   ]
  },
  {
   "cell_type": "code",
   "execution_count": 20,
   "metadata": {},
   "outputs": [],
   "source": [
    "#a,b= valdation_random_sampler(validation_set, validation_target,10)"
   ]
  },
  {
   "cell_type": "code",
   "execution_count": null,
   "metadata": {},
   "outputs": [],
   "source": []
  },
  {
   "cell_type": "markdown",
   "metadata": {},
   "source": [
    "### Modelling with LSTM"
   ]
  },
  {
   "cell_type": "code",
   "execution_count": 96,
   "metadata": {},
   "outputs": [],
   "source": [
    "#Input Params\n",
    "with tf.name_scope(\"input_target_placeholders\"):    \n",
    "    input_dim = 1\n",
    "    ##The Input Layer as a Placeholder\n",
    "    #Since we will provide data sequentially, the 'batch size'\n",
    "    #is 1.\n",
    "    input_layer = tf.placeholder(tf.float32, [1, input_dim*train_set.shape[1]],name=\"input_data\")\n",
    "    correct_output = tf.placeholder(tf.float32, [input_dim],name=\"target_data\")"
   ]
  },
  {
   "cell_type": "code",
   "execution_count": 100,
   "metadata": {},
   "outputs": [
    {
     "name": "stdout",
     "output_type": "stream",
     "text": [
      "WARNING:tensorflow:<tensorflow.python.ops.rnn_cell_impl.BasicLSTMCell object at 0x7fed63047950>: Using a concatenated state is slower and will soon be deprecated.  Use state_is_tuple=True.\n"
     ]
    }
   ],
   "source": [
    "with tf.variable_scope(\"lstmLayer\",reuse=tf.AUTO_REUSE ):    \n",
    "    lstm_layer1 = rnn_cell.BasicLSTMCell(input_dim*2042,state_is_tuple=False)\n",
    "    #lstm_layer1 = rnn_cell.BasicLSTMCell(input_dim*1,state_is_tuple=True)\n",
    "\n",
    "    #The LSTM state as a Variable initialized to zeroes\n",
    "    lstm_state1 = tf.Variable(tf.zeros([1, lstm_layer1.state_size]),trainable=False,name=\"initial_state\")\n",
    "    #lstm_state1 = tf.Variable(lstm_layer1.zero_state(1,lstm_layer1.state_size[-1] ), trainable=False)\n",
    "    #Connect the input layer and initial LSTM state to the LSTM cell\n",
    "    lstm_output1, lstm_state_output1 = lstm_layer1(input_layer, lstm_state1)\n",
    "    #The LSTM state will get updated\n",
    "    outputs = lstm_state1.assign(lstm_state_output1)"
   ]
  },
  {
   "cell_type": "code",
   "execution_count": 101,
   "metadata": {},
   "outputs": [
    {
     "data": {
      "text/plain": [
       "<tf.Tensor 'lstmLayer_4/basic_lstm_cell/Mul_2:0' shape=(1, 2042) dtype=float32>"
      ]
     },
     "execution_count": 101,
     "metadata": {},
     "output_type": "execute_result"
    }
   ],
   "source": [
    "lstm_output1"
   ]
  },
  {
   "cell_type": "code",
   "execution_count": 102,
   "metadata": {},
   "outputs": [
    {
     "data": {
      "text/plain": [
       "TensorShape([Dimension(1), Dimension(2042)])"
      ]
     },
     "execution_count": 102,
     "metadata": {},
     "output_type": "execute_result"
    }
   ],
   "source": [
    "lstm_output1.shape"
   ]
  },
  {
   "cell_type": "code",
   "execution_count": 520,
   "metadata": {},
   "outputs": [],
   "source": [
    "with tf.name_scope(\"weight_Bias_learning_rate\"):\n",
    "    global_step = tf.Variable(0, trainable=False,name=\"global_step\")\n",
    "    starter_learning_rate = 1e-2\n",
    "    learning_rate = tf.train.exponential_decay(starter_learning_rate, global_step,\n",
    "                                           1000, 0.8, staircase=False,name =\"Exponential_decay\")\n",
    "    ##The Regression-Output Layer\n",
    "    #The Weights and Biases matrices first\n",
    "    output_W1 = tf.Variable(tf.truncated_normal([int(lstm_output1.shape[1]), 1]),name=\"weight\")\n",
    "    output_b1 = tf.Variable(tf.truncated_normal([input_dim]),name=\"bias\")\n"
   ]
  },
  {
   "cell_type": "code",
   "execution_count": null,
   "metadata": {},
   "outputs": [],
   "source": [
    "#tf.contrib.layers.xavier_initializer\n",
    "# self.conv_weights = tf.get_variable('dense_weights', shape=weight_shape, initializer=initializer)"
   ]
  },
  {
   "cell_type": "code",
   "execution_count": 521,
   "metadata": {},
   "outputs": [],
   "source": [
    "with tf.name_scope(\"prediction\"):\n",
    "    #Compute the output\n",
    "    final_output = tf.matmul(lstm_output1, tf.abs(output_W1)) + tf.abs(output_b1)"
   ]
  },
  {
   "cell_type": "code",
   "execution_count": 522,
   "metadata": {},
   "outputs": [],
   "source": [
    "#reg_losses = tf.get_collection(tf.GraphKeys.REGULARIZATION_LOSSES)\n",
    "\n",
    "#loss = my_normal_loss + reg_constant * sum(reg_losses)"
   ]
  },
  {
   "cell_type": "code",
   "execution_count": 523,
   "metadata": {},
   "outputs": [],
   "source": [
    "\n",
    "lambda_l2_reg=1e-4\n",
    "l2 = lambda_l2_reg * sum( tf.nn.l2_loss(tf_var) for tf_var in tf.trainable_variables() if not (\"noreg\" in tf_var.name or \"bias\" in tf_var.name) )"
   ]
  },
  {
   "cell_type": "code",
   "execution_count": 524,
   "metadata": {},
   "outputs": [],
   "source": [
    "bias_factor = 1e-2\n",
    "with tf.name_scope(\"RMS_error\"):\n",
    "    ##Calculate the Sum-of-Squares Error\n",
    "    error = tf.sqrt(tf.reduce_mean(tf.squared_difference( tf.log(tf.abs(final_output)+1), tf.log(correct_output+1))))\n",
    "    error2 = tf.reduce_mean(tf.squared_difference( tf.log(tf.abs(final_output)+1), tf.log(correct_output+1)))\n",
    "    # tf.pow(tf.subtract(tf.log(tf.abs(final_output)+1), tf.log(correct_output+1), 2)\n",
    "    error2 = error2 +(tf.constant(bias_factor)* l2 ) #tf.reduce_sum (reg_losses))"
   ]
  },
  {
   "cell_type": "code",
   "execution_count": 525,
   "metadata": {},
   "outputs": [],
   "source": [
    "with tf.variable_scope(\"optimizer\",reuse=tf.AUTO_REUSE ):    \n",
    "    ##The Optimizer\n",
    "    #Adam works best ProximalAdagradOptimizer\n",
    "    train_step = tf.train.AdagradOptimizer(learning_rate).minimize(error2)"
   ]
  },
  {
   "cell_type": "code",
   "execution_count": 526,
   "metadata": {},
   "outputs": [],
   "source": [
    "# Create a summary to monitor MSE\n",
    "mse=tf.summary.tensor_summary(\"errors_Summary\",error)\n",
    "# Create a summary to monitor  predictions\n",
    "prediction=tf.summary.tensor_summary(\"predictions_Summmary\", final_output)\n",
    "# Create a summary to monitor bias\n",
    "bias_vec=tf.summary.tensor_summary(\"bias\", output_b1)\n",
    "# create sumary\n",
    "#rate_vec=tf.summary.scalar(\"rate\", learning_rate)\n",
    "\n",
    "\n",
    "#histogram plot\n",
    "\n",
    "error_stats=tf.summary.histogram(\"errors_Histogram\",error)\n",
    "weight_stats=tf.summary.histogram(\"weights_Histogram\",output_W1)\n",
    "bias_stats=tf.summary.histogram(\"biases_Histogram\",output_b1)\n",
    "#learning_stats=tf.histogram_summary(\"biases_Histogram\",learning_rate)\n",
    "\n",
    "\n",
    "#merged_summary_op =  tf.merge_all_summaries()\n",
    "merged_summary_op =   tf.summary.merge([mse,prediction,bias_vec,error_stats,weight_stats,bias_stats])"
   ]
  },
  {
   "cell_type": "code",
   "execution_count": 527,
   "metadata": {},
   "outputs": [],
   "source": [
    "##Session\n",
    "sess = tf.Session()\n",
    "#Initialize all Variables\n",
    "sess.run(tf.global_variables_initializer())"
   ]
  },
  {
   "cell_type": "code",
   "execution_count": 528,
   "metadata": {},
   "outputs": [],
   "source": [
    "# check path\n",
    "checkpoint_path = cfg['savedModel']['myname']['Dir5'] \n"
   ]
  },
  {
   "cell_type": "code",
   "execution_count": 529,
   "metadata": {},
   "outputs": [
    {
     "data": {
      "text/plain": [
       "'savedModels/lstmModel/'"
      ]
     },
     "execution_count": 529,
     "metadata": {},
     "output_type": "execute_result"
    }
   ],
   "source": [
    "checkpoint_path"
   ]
  },
  {
   "cell_type": "code",
   "execution_count": 530,
   "metadata": {},
   "outputs": [],
   "source": [
    "# make path if not available\n",
    "if not os.path.exists(checkpoint_path):\n",
    "    os.makedirs(checkpoint_path)"
   ]
  },
  {
   "cell_type": "code",
   "execution_count": 531,
   "metadata": {},
   "outputs": [],
   "source": [
    "# save dir\n",
    "save_dir =   checkpoint_path + cfg['savedModel']['myname']['modelName5']\n",
    "# save dir \n",
    "saver = tf.train.Saver()"
   ]
  },
  {
   "cell_type": "code",
   "execution_count": 532,
   "metadata": {},
   "outputs": [],
   "source": [
    "# logs_path = './lstm/'\n",
    "#saver.restore(sess= sess, save_path= save_dir)\n"
   ]
  },
  {
   "cell_type": "markdown",
   "metadata": {},
   "source": [
    "# Training"
   ]
  },
  {
   "cell_type": "code",
   "execution_count": null,
   "metadata": {},
   "outputs": [],
   "source": [
    "\n"
   ]
  },
  {
   "cell_type": "code",
   "execution_count": 533,
   "metadata": {},
   "outputs": [],
   "source": [
    "\n",
    "#tf.summary.FileWriter\n",
    "train_errors = []\n",
    "train_prediction = []\n",
    "validation_errors = []\n",
    "validation_prediction= []\n",
    "display_step = 1\n",
    "VALIDATON= True\n",
    "\n",
    "n_validation_sample = 25\n",
    "#writer = tf.summary.FileWriter(logs_path, graph= tf.get_default_graph())\n",
    "\n",
    "\n",
    "# set to 20000 on local environment to get 0.99 accuracy\n",
    "TRAINING_ITERATIONS = 30\n",
    "    \n",
    "DROPOUT = 0.5\n",
    "#BATCH_SIZES = 200\n",
    "\n",
    "# set to 0 to train on all available data\n",
    "\n",
    "BATCH_SIZE= 50"
   ]
  },
  {
   "cell_type": "code",
   "execution_count": 534,
   "metadata": {},
   "outputs": [],
   "source": [
    "# data = np.array([\n",
    "#     [1000, 10, 0.5],\n",
    "#     [765, 5, 0.35],\n",
    "#     [800, 7, 0.09], ])\n",
    "# data = normalize(data, axis=0, norm='l1')\n",
    "# data"
   ]
  },
  {
   "cell_type": "code",
   "execution_count": null,
   "metadata": {},
   "outputs": [],
   "source": []
  },
  {
   "cell_type": "code",
   "execution_count": null,
   "metadata": {},
   "outputs": [
    {
     "name": "stdout",
     "output_type": "stream",
     "text": [
      "training_mse / validation_mse => 0.87 / 2.18 for step 0\n",
      "training_mse / validation_mse => 1.93 / 1.57 for step 1\n",
      "training_mse / validation_mse => 1.27 / 1.69 for step 2\n",
      "training_mse / validation_mse => 1.13 / 1.57 for step 3\n",
      "training_mse / validation_mse => 1.32 / 1.22 for step 4\n",
      "training_mse / validation_mse => 0.84 / 1.49 for step 5\n",
      "training_mse / validation_mse => 1.03 / 1.30 for step 6\n",
      "training_mse / validation_mse => 1.05 / 1.49 for step 7\n",
      "training_mse / validation_mse => 1.08 / 1.42 for step 8\n",
      "training_mse / validation_mse => 0.92 / 1.65 for step 9\n",
      "training_mse / validation_mse => 1.06 / 1.56 for step 10\n"
     ]
    }
   ],
   "source": [
    "#update_ops = tf.get_collection(tf.GraphKeys.UPDATE_OPS)\n",
    "# reset global parameters before traning/running\n",
    "epochs_completed = 0\n",
    "index_in_epoch = 0\n",
    "num_examples = train_set.shape[0]\n",
    "\n",
    "#*************************************************\n",
    "# set to true in other to load saved model\n",
    "restore = False \n",
    "if restore :\n",
    "    saver.restore(sess= sess, save_path= save_dir)\n",
    "#*************************************************\n",
    "\n",
    "# run training\n",
    "for i in range(TRAINING_ITERATIONS):\n",
    "\n",
    "        #get new batch\n",
    "        batch_xs, batch_ys = next_batch(BATCH_SIZE)  \n",
    "        batch_xs = normalize(batch_xs,axis=0, norm='l2')\n",
    "        temp = [] # store output temporally\n",
    "        for m,n in zip(batch_xs,batch_ys):\n",
    "            # check progress on every 1st,2nd,...,10th,20th,...,100th... step\n",
    "            \n",
    "            _, _, network_output,errors,summary = sess.run([outputs,\n",
    "                                         train_step,\n",
    "                                         final_output,error,merged_summary_op],\n",
    "                                        feed_dict = {\n",
    "                                            input_layer: m.reshape(1,train_set.shape[1]),\n",
    "                                            correct_output: np.array([n])})\n",
    "            \n",
    "        \n",
    "            #writer.add_summary(summary)\n",
    "            #print(errors,network_output, n)\n",
    "            temp.append(errors)\n",
    "            train_prediction.append(network_output) # store predicted value\n",
    "            \n",
    "        saver.save(sess, save_dir)\n",
    "        error_mean = np.mean(temp) \n",
    "        #print(error_mean)\n",
    "        train_errors.append(error_mean)\n",
    "               \n",
    "        if(VALIDATON):\n",
    "            val_train, val_tar = valdation_random_sampler(validation_set, validation_target, n_validation_sample)\n",
    "            temp_ = []\n",
    "            val_train=  normalize(val_train,axis=0, norm='l2')\n",
    "            for k,l in zip(val_train,val_tar):\n",
    "                sess.run(lstm_state1.assign(tf.zeros([1, lstm_layer1.state_size])))\n",
    "\n",
    "                final_outputs, val_error = sess.run([\n",
    "                                          final_output, error],\n",
    "                                         feed_dict = {\n",
    "                                         input_layer: k.reshape(1,train_set.shape[1]),\n",
    "                                         correct_output: np.array([l])})  \n",
    "                \n",
    "                validation_prediction.append(final_outputs)\n",
    "                temp_.append(val_error)\n",
    "                 \n",
    "            val_error_mean = np.mean(temp_)\n",
    "            validation_errors.append(val_error_mean)\n",
    "                            \n",
    "            if i%display_step == 0 or (i+1) == TRAINING_ITERATIONS:\n",
    "                print('training_mse / validation_mse => %.2f / %.2f for step %d' % \n",
    "            (error_mean, val_error_mean, i))\n",
    "              \n",
    "            \n",
    "                \n",
    "        \n",
    "        # increase display_step\n",
    "        \n",
    "        # increase display_step                       \n",
    "        if i%(display_step*30) == 0 and i:\n",
    "            display_step *= 30\n",
    "        \n",
    "        # train on batch"
   ]
  },
  {
   "cell_type": "markdown",
   "metadata": {},
   "source": [
    "# Error Plot"
   ]
  },
  {
   "cell_type": "code",
   "execution_count": 513,
   "metadata": {},
   "outputs": [],
   "source": [
    "errorplot = np.array(train_errors) # make errors into arrays\n",
    "valerror = np.array(validation_errors)  \n",
    "#errorplot"
   ]
  },
  {
   "cell_type": "code",
   "execution_count": 514,
   "metadata": {},
   "outputs": [
    {
     "data": {
      "text/plain": [
       "<matplotlib.legend.Legend at 0x7fec3704d310>"
      ]
     },
     "execution_count": 514,
     "metadata": {},
     "output_type": "execute_result"
    },
    {
     "data": {
      "image/png": "[encoded data removed]",
      "text/plain": [
       "<Figure size 432x288 with 1 Axes>"
      ]
     },
     "metadata": {
      "needs_background": "light"
     },
     "output_type": "display_data"
    }
   ],
   "source": [
    "plt.plot(errorplot, 'o--', linewidth=2,color='orange', label ='train loss')\n",
    "plt.plot(valerror, '-', linewidth=2,color='green',  label ='validation loss')\n",
    "\n",
    "plt.title(\"Training And Validation Log loss\",fontweight='bold')\n",
    "plt.ylabel(\"Root MSE log loss\",fontweight='bold')\n",
    "plt.xlabel(\"Training epoch\",fontweight='bold')\n",
    "plt.legend(loc='center left', bbox_to_anchor=(1,0.9))\n"
   ]
  },
  {
   "cell_type": "markdown",
   "metadata": {},
   "source": [
    "### Test Data\n"
   ]
  },
  {
   "cell_type": "code",
   "execution_count": 515,
   "metadata": {},
   "outputs": [],
   "source": [
    "testpath= BASE_DIR + cfg['cleanedtest']['TargetDir']\n",
    "#testDataName= cfg['cleanedtest']['testFeatureSet']\n",
    "testName = cfg['cleanedtest']['LSTMtestFeatureSet']\n",
    "testzero =  cfg['cleanedtest']['testDatasetName']\n",
    "testpoints = 10000"
   ]
  },
  {
   "cell_type": "code",
   "execution_count": 456,
   "metadata": {},
   "outputs": [],
   "source": [
    "#test = np.load(testpath + testName)\n"
   ]
  },
  {
   "cell_type": "code",
   "execution_count": 457,
   "metadata": {},
   "outputs": [],
   "source": [
    "#test = test[:testpoints]"
   ]
  },
  {
   "cell_type": "code",
   "execution_count": 330,
   "metadata": {},
   "outputs": [],
   "source": [
    "# do not run twice\n",
    "true_readings = pd.read_csv(testpath + testzero,nrows=testpoints) "
   ]
  },
  {
   "cell_type": "code",
   "execution_count": 308,
   "metadata": {},
   "outputs": [],
   "source": [
    "#test = normalize(test,axis=0, norm='l1' )"
   ]
  },
  {
   "cell_type": "code",
   "execution_count": 516,
   "metadata": {},
   "outputs": [
    {
     "data": {
      "text/plain": [
       "10000"
      ]
     },
     "execution_count": 516,
     "metadata": {},
     "output_type": "execute_result"
    }
   ],
   "source": [
    "results = []\n",
    "shape = test.shape[1] - 1 # -1 to remove the target variable\n",
    "start = 0\n",
    "test_batch =30\n",
    "end = test_batch\n",
    "length = test.shape[0]//test_batch\n",
    "\n",
    "for row in range(0,length+1): # plus one to \n",
    "        #print(row[1:].shape[0])\n",
    "        #print(row)\n",
    "        rows = normalize(test[start:end],axis=0, norm='l2')\n",
    "        \n",
    "        if row == test.shape[0]//test_batch and testpoints%test_batch !=0:\n",
    "            last = testpoints%test_batch \n",
    "            rows = normalize(test[-last:],axis=0, norm='l2')\n",
    "        elif row == test.shape[0]//test_batch :\n",
    "            break\n",
    "        \n",
    "        for i in rows:\n",
    "            \n",
    "            i = i[1:]\n",
    "            final_outputs = sess.run([ final_output],\n",
    "                                             feed_dict = {\n",
    "                                             input_layer: i.reshape(1,shape)})\n",
    "            results.append(final_outputs)\n",
    "        start +=test_batch\n",
    "        end  += test_batch\n",
    "    \n",
    "len(results)"
   ]
  },
  {
   "cell_type": "code",
   "execution_count": 517,
   "metadata": {},
   "outputs": [],
   "source": [
    "predictions = np.array(results[:]).reshape(testpoints,)"
   ]
  },
  {
   "cell_type": "code",
   "execution_count": 518,
   "metadata": {},
   "outputs": [],
   "source": [
    "# compare plots with that below"
   ]
  },
  {
   "cell_type": "code",
   "execution_count": 519,
   "metadata": {},
   "outputs": [
    {
     "data": {
      "text/plain": [
       "Text(0.5, 0, 'Iterations')"
      ]
     },
     "execution_count": 519,
     "metadata": {},
     "output_type": "execute_result"
    },
    {
     "data": {
      "image/png": "[encoded data removed]",
      "text/plain": [
       "<Figure size 432x288 with 1 Axes>"
      ]
     },
     "metadata": {
      "needs_background": "light"
     },
     "output_type": "display_data"
    }
   ],
   "source": [
    "plt.plot(predictions,\"-g\" ,label='Predictions')\n",
    "#plt.plot(true_values, \"-r\",label='True Values')\n",
    "plt.legend(loc=\"upper left\")\n",
    "plt.title('Model Prediction ')\n",
    "plt.ylabel('meter readinds')\n",
    "plt.xlabel('Iterations')"
   ]
  },
  {
   "cell_type": "code",
   "execution_count": 148,
   "metadata": {},
   "outputs": [
    {
     "data": {
      "text/plain": [
       "Text(0.5, 0, 'Iterations')"
      ]
     },
     "execution_count": 148,
     "metadata": {},
     "output_type": "execute_result"
    },
    {
     "data": {
      "image/png": "[encoded data removed]",
      "text/plain": [
       "<Figure size 432x288 with 1 Axes>"
      ]
     },
     "metadata": {
      "needs_background": "light"
     },
     "output_type": "display_data"
    }
   ],
   "source": [
    "plt.plot(true_readings.meter_reading,\"-g\" ,label='Predictions')\n",
    "#plt.plot(true_values, \"-r\",label='True Values')\n",
    "plt.legend(loc=\"upper left\")\n",
    "plt.title('Model Prediction ')\n",
    "plt.ylabel('meter readinds')\n",
    "plt.xlabel('Iterations')"
   ]
  },
  {
   "cell_type": "code",
   "execution_count": 397,
   "metadata": {},
   "outputs": [],
   "source": [
    "# test predictions\n",
    "test_predicted = pd.DataFrame(list(zip(list(true_readings.building_id),list(true_readings.timestamp),list(predictions))),columns= ['building_id','timestamp', 'meter_reading' ] )"
   ]
  },
  {
   "cell_type": "code",
   "execution_count": 398,
   "metadata": {},
   "outputs": [
    {
     "data": {
      "image/png": "[encoded data removed]",
      "text/plain": [
       "<Figure size 432x288 with 1 Axes>"
      ]
     },
     "metadata": {
      "needs_background": "light"
     },
     "output_type": "display_data"
    },
    {
     "data": {
      "image/png": "[encoded data removed]",
      "text/plain": [
       "<Figure size 432x288 with 1 Axes>"
      ]
     },
     "metadata": {
      "needs_background": "light"
     },
     "output_type": "display_data"
    },
    {
     "data": {
      "image/png": "[encoded data removed]",
      "text/plain": [
       "<Figure size 432x288 with 1 Axes>"
      ]
     },
     "metadata": {
      "needs_background": "light"
     },
     "output_type": "display_data"
    },
    {
     "data": {
      "image/png": "[encoded data removed]",
      "text/plain": [
       "<Figure size 432x288 with 1 Axes>"
      ]
     },
     "metadata": {
      "needs_background": "light"
     },
     "output_type": "display_data"
    },
    {
     "data": {
      "image/png": "[encoded data removed]",
      "text/plain": [
       "<Figure size 432x288 with 1 Axes>"
      ]
     },
     "metadata": {
      "needs_background": "light"
     },
     "output_type": "display_data"
    }
   ],
   "source": [
    "utils.plot_meter(true_readings,test_predicted,bn=5)"
   ]
  },
  {
   "cell_type": "code",
   "execution_count": null,
   "metadata": {},
   "outputs": [],
   "source": []
  },
  {
   "cell_type": "code",
   "execution_count": null,
   "metadata": {},
   "outputs": [],
   "source": []
  },
  {
   "cell_type": "code",
   "execution_count": null,
   "metadata": {},
   "outputs": [],
   "source": []
  },
  {
   "cell_type": "code",
   "execution_count": 13,
   "metadata": {},
   "outputs": [],
   "source": [
    "# import matplotlib.pyplot as plt\n",
    "# import matplotlib.image as mpimg\n",
    "# %matplotlib inline\n",
    "# img  = mpimg.imread('true_plot.png')\n",
    "# imgplot = plt.imshow(img)\n",
    "# plt.show()"
   ]
  },
  {
   "cell_type": "markdown",
   "metadata": {},
   "source": [
    "# Close Session"
   ]
  },
  {
   "cell_type": "code",
   "execution_count": null,
   "metadata": {},
   "outputs": [],
   "source": [
    "sess.close()"
   ]
  }
 ],
 "metadata": {
  "kernelspec": {
   "display_name": "Python 3",
   "language": "python",
   "name": "python3"
  },
  "language_info": {
   "codemirror_mode": {
    "name": "ipython",
    "version": 3
   },
   "file_extension": ".py",
   "mimetype": "text/x-python",
   "name": "python",
   "nbconvert_exporter": "python",
   "pygments_lexer": "ipython3",
   "version": "3.7.4"
  }
 },
 "nbformat": 4,
 "nbformat_minor": 2
}
