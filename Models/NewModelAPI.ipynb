{
 "cells": [
  {
   "cell_type": "markdown",
   "metadata": {},
   "source": [
    "# Time Series Prediction\n"
   ]
  },
  {
   "cell_type": "code",
   "execution_count": 3,
   "metadata": {},
   "outputs": [],
   "source": [
    "# @ Lukman copyright \n",
    "# MIT Licence"
   ]
  },
  {
   "cell_type": "code",
   "execution_count": 116,
   "metadata": {},
   "outputs": [
    {
     "name": "stdout",
     "output_type": "stream",
     "text": [
      "The autoreload extension is already loaded. To reload it, use:\n",
      "  %reload_ext autoreload\n"
     ]
    }
   ],
   "source": [
    "# for data frame analysis\n",
    "import pandas as pd \n",
    "\n",
    "# for mathematical operations\n",
    "import numpy as np \n",
    "\n",
    "\n",
    "# matplotlib library for plotting\n",
    "import matplotlib.pyplot as plt\n",
    "%matplotlib inline\n",
    "\n",
    "# For Normalizing data\n",
    "from sklearn.preprocessing import StandardScaler\n",
    "\n",
    "# For statistical test\n",
    "import scipy.stats as stats\n",
    "\n",
    "# Split data set into training and test set\n",
    "from sklearn.model_selection import train_test_split as tts\n",
    "\n",
    "# SVN module\n",
    "from sklearn import svm\n",
    "\n",
    "# Kernel Functions used \n",
    "from sklearn.metrics.pairwise import rbf_kernel,laplacian_kernel\n",
    "\n",
    "# module for chi square test\n",
    "from scipy.stats import chisquare\n",
    "\n",
    "\n",
    "# For dictionary \n",
    "from collections import defaultdict\n",
    "\n",
    "# for use of tensorflow\n",
    "import tensorflow as tf\n",
    "#from tensorflow.nn.rnn import *\n",
    "from tensorflow.python.ops  import *\n",
    "from tensorflow.keras import regularizers\n",
    "\n",
    "# for scaling arrays\n",
    "from sklearn.preprocessing import MaxAbsScaler,MinMaxScaler\n",
    "\n",
    "\n",
    "# for random sampling of validation set\n",
    "import random\n",
    "\n",
    "import yaml\n",
    "import os\n",
    "from utility import utils\n",
    "\n",
    "import pydot\n",
    "import graphviz\n",
    "\n",
    "%load_ext autoreload\n",
    "%autoreload 2"
   ]
  },
  {
   "cell_type": "code",
   "execution_count": 89,
   "metadata": {},
   "outputs": [],
   "source": [
    "# mlflow\n",
    "import mlflow.keras\n",
    "\n",
    "mlflow.keras.autolog()"
   ]
  },
  {
   "cell_type": "code",
   "execution_count": 90,
   "metadata": {},
   "outputs": [],
   "source": [
    "# enable eager executinon\n",
    "tf.enable_eager_execution()"
   ]
  },
  {
   "cell_type": "code",
   "execution_count": 91,
   "metadata": {},
   "outputs": [
    {
     "data": {
      "text/plain": [
       "'1.15.0'"
      ]
     },
     "execution_count": 91,
     "metadata": {},
     "output_type": "execute_result"
    }
   ],
   "source": [
    "tf.__version__"
   ]
  },
  {
   "cell_type": "code",
   "execution_count": 243,
   "metadata": {},
   "outputs": [
    {
     "name": "stdout",
     "output_type": "stream",
     "text": [
      "Num GPUs Available:  0\n"
     ]
    }
   ],
   "source": [
    "# check GPU availability for tensorflow\n",
    "print(\"Num GPUs Available: \", len(tf.config.experimental.list_physical_devices('GPU')))\n"
   ]
  },
  {
   "cell_type": "markdown",
   "metadata": {},
   "source": [
    "# Load And  Preprocess Data"
   ]
  },
  {
   "cell_type": "code",
   "execution_count": 92,
   "metadata": {},
   "outputs": [],
   "source": [
    "################################################################################\n",
    "# load config file\n",
    "try:\n",
    "    with open(\"../config.yml\", 'r') as ymlfile:\n",
    "            cfg = yaml.safe_load(ymlfile)\n",
    "except (IOError):\n",
    "    print('config file is required. Put config file in current directory')\n",
    "################################################################################"
   ]
  },
  {
   "cell_type": "code",
   "execution_count": 93,
   "metadata": {},
   "outputs": [],
   "source": [
    "# boolean for preprocessing datasets for tensorflow\n",
    "tfreprocess = cfg['cleanedconfig']['cleanedDataV2']['TensorflowDataFlowConfig']['tfprocess']"
   ]
  },
  {
   "cell_type": "code",
   "execution_count": 94,
   "metadata": {},
   "outputs": [],
   "source": [
    "# current working directory\n",
    "cwd = os.getcwd()\n",
    "# set the base directory. base directo\n",
    "BASE_DIR = os.path.join( os.path.dirname( cwd), '' )\n",
    "# cleaned data dir\n",
    "cleanedpath= BASE_DIR + cfg['cleanedconfig']['cleanedDataV2']['cleanedDir'] \n",
    "# clean data Name\n",
    "cleandataName = cfg['cleanedconfig']['cleanedDataV2']['cleanedName']\n",
    "# traina and validation data name\n",
    "trainName= cfg['cleanedconfig']['cleanedDataV2']['TensorflowDataFlowConfig']['tfcleanTrain']\n",
    "\n",
    "validateName  = cfg['cleanedconfig']['cleanedDataV2']['TensorflowDataFlowConfig']['tfcleanValidate']\n",
    "validation_split = cfg['cleanedconfig']['cleanedDataV2']['validationSplit']"
   ]
  },
  {
   "cell_type": "code",
   "execution_count": 95,
   "metadata": {},
   "outputs": [
    {
     "data": {
      "text/plain": [
       "'tfvalsZero.csv'"
      ]
     },
     "execution_count": 95,
     "metadata": {},
     "output_type": "execute_result"
    }
   ],
   "source": [
    "# You might not need to reprocess if\n",
    "# u want to reuse the data set\n",
    "# if to re-assess the data pipeline the click yes\n",
    "validateName"
   ]
  },
  {
   "cell_type": "code",
   "execution_count": 96,
   "metadata": {},
   "outputs": [],
   "source": [
    "direct_load = True\n",
    "if tfreprocess:\n",
    "    \n",
    "    _,_,data_types,col_names= utils.tfdatabuilder(cleanedpath,cleandataName,trainName, validateName,validation_split )\n",
    "    \n",
    "elif not direct_load:\n",
    "    ## I commented this out to facilitate easy training\n",
    "    train = pd.read_csv(cleanedpath + trainName) \n",
    "    data_types,col_names = utils.tfpreprocess(train)\n",
    "else:\n",
    "    # data types for training. data types are here converted to tensorflow datatype\n",
    "    data_types = [tf.float64, tf.float64, tf.float64, tf.float64, tf.int32, tf.int32, tf.int32, tf.int32, tf.int32, tf.int32, tf.int32, tf.int32, tf.int32, tf.int32, tf.int32, tf.int32, tf.int32, tf.int32, tf.int32, tf.int32, tf.int32, tf.int32, tf.int32, tf.int32, tf.int32, tf.int32, tf.int32, tf.int32, tf.int32, tf.int32, tf.int32, tf.int32, tf.int32, tf.int32, tf.int32, tf.int32, tf.int32, tf.int32, tf.int32]\n",
    "    col_names = ['meter_reading','square_feet','air_temperature','dew_temperature','month','day','hour','primary_use_Education',\n",
    "             'primary_use_Entertainment/public assembly','primary_use_Food sales and service','primary_use_Healthcare',\n",
    "             'primary_use_Lodging/residential','primary_use_Manufacturing/industrial','primary_use_Office','primary_use_Other',\n",
    "             'primary_use_Parking','primary_use_Public services','primary_use_Religious worship','primary_use_Retail',\n",
    "             'primary_use_Services','primary_use_Technology/science','primary_use_Utility','primary_use_Warehouse/storage',\n",
    "             'site_id_0','site_id_1','site_id_2','site_id_3','site_id_4','site_id_5','site_id_6','site_id_7','site_id_8',\n",
    "             'site_id_9','site_id_10','site_id_11','site_id_12','site_id_13','site_id_14','site_id_15']"
   ]
  },
  {
   "cell_type": "code",
   "execution_count": null,
   "metadata": {},
   "outputs": [],
   "source": []
  },
  {
   "cell_type": "markdown",
   "metadata": {},
   "source": [
    "#### Work with downloaded csv to preserve data type\n",
    "Load the csv file and parse the data types of the datatset together into the\n",
    "tensorflow load pipeline"
   ]
  },
  {
   "cell_type": "code",
   "execution_count": 97,
   "metadata": {},
   "outputs": [],
   "source": [
    "# load the data using the tensorflow Dataset API\n",
    "# add the data types too\n",
    "csvData = tf.data.experimental.CsvDataset(cleanedpath + trainName, data_types, header=True)\n",
    "validateData = tf.data.experimental.CsvDataset(cleanedpath + validateName, data_types, header=True)"
   ]
  },
  {
   "cell_type": "code",
   "execution_count": 98,
   "metadata": {},
   "outputs": [],
   "source": [
    "# check the data type :\n",
    "#print(list(csvData.take(1)))"
   ]
  },
  {
   "cell_type": "code",
   "execution_count": 99,
   "metadata": {},
   "outputs": [],
   "source": [
    "# use this index to know configure how to batch the\n",
    "# categorical variables \n",
    "#col_names"
   ]
  },
  {
   "cell_type": "code",
   "execution_count": 100,
   "metadata": {},
   "outputs": [],
   "source": [
    "# categorical features to use \n",
    "catfeatures = cfg['cleanedconfig']['cleanedDataV1']['TensorflowDataFlowConfig']['categoricalFeatureToUse']\n",
    "catNames = cfg['cleanedconfig']['cleanedDataV1']['TensorflowDataFlowConfig']['CategoricalFeature']\n"
   ]
  },
  {
   "cell_type": "markdown",
   "metadata": {},
   "source": [
    "\n",
    "#### Parse data "
   ]
  },
  {
   "cell_type": "code",
   "execution_count": 101,
   "metadata": {},
   "outputs": [],
   "source": [
    "# Parsing the data and\n",
    "# merging the columns:\n",
    "# ---- day and month as single column\n",
    "# ---- merge the site id as a single feature vector vector\n",
    "# ---- primary use as a single feature vector\n",
    "\n",
    "# take the forst 4 col names that meter reading, square feet, air temp , dew temp,\n",
    "# add it to a the new column names that would be formed after single column merging\n",
    "\n",
    "#categorical feature selection\n",
    "# here one can decide if to use site id or not . Site id is index 2 from catnames\n",
    "if catfeatures == 3:\n",
    "    col_names_= [col_names[0],col_names[1],col_names[2],col_names[3],catNames[0],catNames[1],catNames[2] ]\n",
    "else:\n",
    "    col_names_= [col_names[0],col_names[1],col_names[2],col_names[3],catNames[0],catNames[1]]\n",
    "\n",
    "def _parse_csv_row(*vals):\n",
    "    '''\n",
    "    Uses Feature columns\n",
    "    Does feature engineering\n",
    "    '''\n",
    "    \n",
    "    # month and day and single feature\n",
    "    month_day = tf.convert_to_tensor(vals[4:7])\n",
    "    # primary use as single feature\n",
    "    primary_use = tf.convert_to_tensor(vals[7:23]) # this index can be chage but ensure consistency \n",
    "    if catfeatures == 3:\n",
    "        # site id as single feature\n",
    "        site_id =  tf.convert_to_tensor(vals[23:39])\n",
    "    \n",
    "        # merge the features together, note meter reading is the fist column\n",
    "        # so it is excluded -- meaning index starts from 1\n",
    "        feature_vals = vals[1:4] + (month_day,primary_use,site_id)\n",
    "    else:\n",
    "        feature_vals = vals[1:4] + (month_day,primary_use)\n",
    "        \n",
    "    \n",
    "    \n",
    "    # zip into a  feature sets into a single col\n",
    "    features = dict(zip(col_names_[1:],feature_vals))\n",
    "    \n",
    "    # name the targets or lables\n",
    "    targets_tensor = tf.convert_to_tensor(vals[0],name=col_names_[0]) \n",
    "    \n",
    "    \n",
    "    \n",
    "    return features, targets_tensor"
   ]
  },
  {
   "cell_type": "code",
   "execution_count": null,
   "metadata": {},
   "outputs": [],
   "source": []
  },
  {
   "cell_type": "markdown",
   "metadata": {},
   "source": [
    "##### Batch the datatset"
   ]
  },
  {
   "cell_type": "code",
   "execution_count": 102,
   "metadata": {},
   "outputs": [],
   "source": [
    "\n",
    "dataset = csvData.map(_parse_csv_row).batch(64)"
   ]
  },
  {
   "cell_type": "code",
   "execution_count": 103,
   "metadata": {},
   "outputs": [],
   "source": [
    "validateset = validateData.map(_parse_csv_row).batch(64)\n",
    "#print(list(dataset.take(1)))"
   ]
  },
  {
   "cell_type": "markdown",
   "metadata": {},
   "source": [
    "##### Feature Categorization"
   ]
  },
  {
   "cell_type": "code",
   "execution_count": 848,
   "metadata": {},
   "outputs": [],
   "source": [
    "# ormalizer\n",
    "normalizer = lambda x: tf.math.divide(tf.math.subtract(x, tf.reduce_mean(x)), tf.math.reduce_std(x)+1e-8)"
   ]
  },
  {
   "cell_type": "code",
   "execution_count": 860,
   "metadata": {},
   "outputs": [],
   "source": [
    "primary_use = tf.feature_column.numeric_column(catNames[1], shape=(16,))\n",
    "site_id = tf.feature_column.numeric_column(catNames[2], shape=(16,))\n",
    "month_day = tf.feature_column.numeric_column(catNames[0], shape=(3,)   )"
   ]
  },
  {
   "cell_type": "code",
   "execution_count": 850,
   "metadata": {},
   "outputs": [],
   "source": [
    "#numeric_columns = [tf.feature_column.numeric_column(feat) for feat in col_names_[1:4]]"
   ]
  },
  {
   "cell_type": "code",
   "execution_count": null,
   "metadata": {},
   "outputs": [],
   "source": []
  },
  {
   "cell_type": "code",
   "execution_count": null,
   "metadata": {},
   "outputs": [],
   "source": []
  },
  {
   "cell_type": "code",
   "execution_count": 861,
   "metadata": {},
   "outputs": [],
   "source": [
    "numeric_columns = [tf.feature_column.numeric_column(feat,normalizer_fn=normalizer) for feat in col_names_[1:4]]"
   ]
  },
  {
   "cell_type": "code",
   "execution_count": 862,
   "metadata": {},
   "outputs": [],
   "source": [
    "columns = numeric_columns + [month_day,primary_use,site_id]"
   ]
  },
  {
   "cell_type": "code",
   "execution_count": 863,
   "metadata": {},
   "outputs": [],
   "source": [
    "feature_layer = tf.keras.layers.DenseFeatures(columns)"
   ]
  },
  {
   "cell_type": "code",
   "execution_count": 864,
   "metadata": {},
   "outputs": [
    {
     "data": {
      "text/plain": [
       "{'name': 'dense_features_8',\n",
       " 'trainable': True,\n",
       " 'dtype': None,\n",
       " 'feature_columns': [{'class_name': 'NumericColumn',\n",
       "   'config': {'key': 'air_temperature',\n",
       "    'shape': (1,),\n",
       "    'default_value': None,\n",
       "    'dtype': 'float32',\n",
       "    'normalizer_fn': '<lambda>'}},\n",
       "  {'class_name': 'NumericColumn',\n",
       "   'config': {'key': 'dew_temperature',\n",
       "    'shape': (1,),\n",
       "    'default_value': None,\n",
       "    'dtype': 'float32',\n",
       "    'normalizer_fn': '<lambda>'}},\n",
       "  {'class_name': 'NumericColumn',\n",
       "   'config': {'key': 'month_day_hour',\n",
       "    'shape': (3,),\n",
       "    'default_value': None,\n",
       "    'dtype': 'float32',\n",
       "    'normalizer_fn': None}},\n",
       "  {'class_name': 'NumericColumn',\n",
       "   'config': {'key': 'primary_use',\n",
       "    'shape': (16,),\n",
       "    'default_value': None,\n",
       "    'dtype': 'float32',\n",
       "    'normalizer_fn': None}},\n",
       "  {'class_name': 'NumericColumn',\n",
       "   'config': {'key': 'site_id',\n",
       "    'shape': (16,),\n",
       "    'default_value': None,\n",
       "    'dtype': 'float32',\n",
       "    'normalizer_fn': None}},\n",
       "  {'class_name': 'NumericColumn',\n",
       "   'config': {'key': 'square_feet',\n",
       "    'shape': (1,),\n",
       "    'default_value': None,\n",
       "    'dtype': 'float32',\n",
       "    'normalizer_fn': '<lambda>'}}]}"
      ]
     },
     "execution_count": 864,
     "metadata": {},
     "output_type": "execute_result"
    }
   ],
   "source": [
    "feature_layer.get_config()"
   ]
  },
  {
   "cell_type": "markdown",
   "metadata": {},
   "source": [
    "# Build Model"
   ]
  },
  {
   "cell_type": "code",
   "execution_count": 865,
   "metadata": {},
   "outputs": [],
   "source": [
    "def _parse_csv_row2(*vals):\n",
    "    '''\n",
    "    Uses Feature columns\n",
    "    Does feature engineering\n",
    "    '''\n",
    "    \n",
    "    # month and day and single feature\n",
    "    month_day = tf.convert_to_tensor(vals[4:7])\n",
    "    # primary use as single feature\n",
    "    primary_use = tf.convert_to_tensor(vals[7:23])\n",
    "    # site id as single feature\n",
    "    site_id =  tf.convert_to_tensor(vals[23:39])\n",
    "    \n",
    "    # merge the features together, note meter reading is the fist column\n",
    "    # so it is excluded -- meaning index starts from 1\n",
    "    feature_vals = vals[1:4] + (month_day,primary_use,site_id)\n",
    "    \n",
    "    \n",
    "    # zip into a  feature sets into a single col\n",
    "    features = dict(zip(col_names_[1:],feature_vals))\n",
    "    \n",
    "    # name the targets or lables\n",
    "    targets_tensor = tf.convert_to_tensor(vals[0],name=col_names_[0]) \n",
    "    \n",
    "    \n",
    "    \n",
    "    return features"
   ]
  },
  {
   "cell_type": "code",
   "execution_count": 866,
   "metadata": {},
   "outputs": [],
   "source": [
    "from tensorflow.keras import backend as K\n",
    "from tensorflow.keras.constraints import  NonNeg\n",
    "\n",
    "def root_mean_squared_error(y_true, y_pred):\n",
    "    '''\n",
    "    \n",
    "    this is the loss function specified in kaggle competition\n",
    "    '''\n",
    "        \n",
    "    return K.sqrt(K.mean (K.square(  (K.log(K.abs(y_pred)+1)- K.log(y_true+1)) )   )   )\n",
    "\n",
    "\n",
    "\n",
    "def root_mean_squared_error2(y_true, y_pred):\n",
    "    '''\n",
    "    this is 1.- mean squared\n",
    "    root mean squared is a value between 0 and 1 \n",
    "    to reflect accuracy use 1-rms\n",
    "    '''\n",
    "        \n",
    "    return  K.sqrt(K.mean( ( K.square ( y_pred - y_true    )   )   )) "
   ]
  },
  {
   "cell_type": "code",
   "execution_count": 948,
   "metadata": {},
   "outputs": [],
   "source": [
    "# model layer \n",
    "model = tf.keras.Sequential([\n",
    "    feature_layer,\n",
    "    #tf.keras.layers.Dense(64),\n",
    "    tf.keras.layers.Dense(32,activation='relu'),\n",
    "    tf.keras.layers.Dense(16,kernel_constraint=NonNeg()),\n",
    "    #tf.keras.layers.Dropout(0.1),\n",
    "    tf.keras.layers.Dense(8,activation='relu',kernel_constraint=NonNeg()),\n",
    "    tf.keras.layers.Dense(4,kernel_regularizer=regularizers.l2(1e-2),kernel_constraint=NonNeg()),\n",
    "    tf.keras.layers.Dense(2,kernel_constraint=NonNeg()),\n",
    "    #tf.keras.layers.Dropout(0.5),\n",
    "    tf.keras.layers.Dense(1, activation='linear',kernel_constraint=NonNeg())\n",
    "])\n"
   ]
  },
  {
   "cell_type": "code",
   "execution_count": 949,
   "metadata": {},
   "outputs": [],
   "source": [
    "model.compile(optimizer = tf.train.AdagradOptimizer(1e-2),\n",
    "             loss=root_mean_squared_error)\n",
    "\n",
    "# error ranges value 1e-2 to 1e-4 for good performance\n",
    "\n",
    "# Optimizer to use '''''' AdagradOptimizer and root_mean_squared_error2 ranges 1\n",
    "# Adam --- not good\n",
    "# Adam\n",
    "#Rmsprop\n"
   ]
  },
  {
   "cell_type": "code",
   "execution_count": null,
   "metadata": {},
   "outputs": [],
   "source": []
  },
  {
   "cell_type": "code",
   "execution_count": 950,
   "metadata": {},
   "outputs": [
    {
     "data": {
      "text/plain": [
       "'savedModels/tfAPIKeras2'"
      ]
     },
     "execution_count": 950,
     "metadata": {},
     "output_type": "execute_result"
    }
   ],
   "source": [
    "import os\n",
    "checkpoint_path = cfg['savedModel']['myname2']['Dir'] + cfg['savedModel']['myname2']['modelName']\n",
    "checkpoint_dir = os.path.dirname(checkpoint_path)\n",
    "checkpoint_dir\n"
   ]
  },
  {
   "cell_type": "code",
   "execution_count": 951,
   "metadata": {},
   "outputs": [],
   "source": [
    "# Create a callback that saves the model's weights\n",
    "cp_callback = tf.keras.callbacks.ModelCheckpoint(filepath=checkpoint_path,\n",
    "                                                 save_weights_only=True,\n",
    "                                                 verbose=1)"
   ]
  },
  {
   "cell_type": "code",
   "execution_count": 952,
   "metadata": {},
   "outputs": [
    {
     "name": "stdout",
     "output_type": "stream",
     "text": [
      "20/20 [==============================] - 0s 17ms/step - loss: 3.7021\n",
      "********validation loss *************** 3.7020800352096557\n",
      "Epoch 1/10\n",
      "142/150 [===========================>..] - ETA: 0s - loss: 1.8917\n",
      "Epoch 00001: saving model to savedModels/tfAPIKeras2/tfAPIKeras.ckpt\n",
      "150/150 [==============================] - 1s 10ms/step - loss: 1.8796\n",
      "Epoch 2/10\n",
      "145/150 [============================>.] - ETA: 0s - loss: 1.4676\n",
      "Epoch 00002: saving model to savedModels/tfAPIKeras2/tfAPIKeras.ckpt\n",
      "150/150 [==============================] - 1s 7ms/step - loss: 1.4654\n",
      "Epoch 3/10\n",
      "142/150 [===========================>..] - ETA: 0s - loss: 1.4463\n",
      "Epoch 00003: saving model to savedModels/tfAPIKeras2/tfAPIKeras.ckpt\n",
      "150/150 [==============================] - 1s 6ms/step - loss: 1.4522\n",
      "Epoch 4/10\n",
      "141/150 [===========================>..] - ETA: 0s - loss: 1.4954\n",
      "Epoch 00004: saving model to savedModels/tfAPIKeras2/tfAPIKeras.ckpt\n",
      "150/150 [==============================] - 1s 7ms/step - loss: 1.4815\n",
      "Epoch 5/10\n",
      "145/150 [============================>.] - ETA: 0s - loss: 1.4167\n",
      "Epoch 00005: saving model to savedModels/tfAPIKeras2/tfAPIKeras.ckpt\n",
      "150/150 [==============================] - 1s 7ms/step - loss: 1.4117\n",
      "Epoch 6/10\n",
      "143/150 [===========================>..] - ETA: 0s - loss: 1.4092\n",
      "Epoch 00006: saving model to savedModels/tfAPIKeras2/tfAPIKeras.ckpt\n",
      "150/150 [==============================] - 1s 7ms/step - loss: 1.4137\n",
      "Epoch 7/10\n",
      "146/150 [============================>.] - ETA: 0s - loss: 1.3619\n",
      "Epoch 00007: saving model to savedModels/tfAPIKeras2/tfAPIKeras.ckpt\n",
      "150/150 [==============================] - 1s 7ms/step - loss: 1.3581\n",
      "Epoch 8/10\n",
      "144/150 [===========================>..] - ETA: 0s - loss: 1.3220\n",
      "Epoch 00008: saving model to savedModels/tfAPIKeras2/tfAPIKeras.ckpt\n",
      "150/150 [==============================] - 1s 7ms/step - loss: 1.3345\n",
      "Epoch 9/10\n",
      "142/150 [===========================>..] - ETA: 0s - loss: 1.3334\n",
      "Epoch 00009: saving model to savedModels/tfAPIKeras2/tfAPIKeras.ckpt\n",
      "150/150 [==============================] - 1s 7ms/step - loss: 1.3259\n",
      "Epoch 10/10\n",
      "142/150 [===========================>..] - ETA: 0s - loss: 1.2732\n",
      "Epoch 00010: saving model to savedModels/tfAPIKeras2/tfAPIKeras.ckpt\n",
      "150/150 [==============================] - 1s 7ms/step - loss: 1.2809\n",
      "20/20 [==============================] - 0s 6ms/step - loss: 2.2879\n",
      "********validation loss *************** 2.2879200875759125\n",
      "Epoch 1/10\n",
      "144/150 [===========================>..] - ETA: 0s - loss: 1.2048\n",
      "Epoch 00001: saving model to savedModels/tfAPIKeras2/tfAPIKeras.ckpt\n",
      "150/150 [==============================] - 1s 7ms/step - loss: 1.2103\n",
      "Epoch 2/10\n",
      "148/150 [============================>.] - ETA: 0s - loss: 1.1928\n",
      "Epoch 00002: saving model to savedModels/tfAPIKeras2/tfAPIKeras.ckpt\n",
      "150/150 [==============================] - 1s 7ms/step - loss: 1.1931\n",
      "Epoch 3/10\n",
      "149/150 [============================>.] - ETA: 0s - loss: 1.1731\n",
      "Epoch 00003: saving model to savedModels/tfAPIKeras2/tfAPIKeras.ckpt\n",
      "150/150 [==============================] - 1s 7ms/step - loss: 1.1733\n",
      "Epoch 4/10\n",
      "145/150 [============================>.] - ETA: 0s - loss: 1.1106\n",
      "Epoch 00004: saving model to savedModels/tfAPIKeras2/tfAPIKeras.ckpt\n",
      "150/150 [==============================] - 1s 7ms/step - loss: 1.1081\n",
      "Epoch 5/10\n",
      "146/150 [============================>.] - ETA: 0s - loss: 1.1202\n",
      "Epoch 00005: saving model to savedModels/tfAPIKeras2/tfAPIKeras.ckpt\n",
      "150/150 [==============================] - 1s 7ms/step - loss: 1.1177\n",
      "Epoch 6/10\n",
      "145/150 [============================>.] - ETA: 0s - loss: 1.0993\n",
      "Epoch 00006: saving model to savedModels/tfAPIKeras2/tfAPIKeras.ckpt\n",
      "150/150 [==============================] - 1s 7ms/step - loss: 1.1039\n",
      "Epoch 7/10\n",
      "148/150 [============================>.] - ETA: 0s - loss: 1.0733\n",
      "Epoch 00007: saving model to savedModels/tfAPIKeras2/tfAPIKeras.ckpt\n",
      "150/150 [==============================] - 1s 7ms/step - loss: 1.0724\n",
      "Epoch 8/10\n",
      "145/150 [============================>.] - ETA: 0s - loss: 1.0449\n",
      "Epoch 00008: saving model to savedModels/tfAPIKeras2/tfAPIKeras.ckpt\n",
      "150/150 [==============================] - 1s 7ms/step - loss: 1.0523\n",
      "Epoch 9/10\n",
      "147/150 [============================>.] - ETA: 0s - loss: 1.0455\n",
      "Epoch 00009: saving model to savedModels/tfAPIKeras2/tfAPIKeras.ckpt\n",
      "150/150 [==============================] - 1s 7ms/step - loss: 1.0453\n",
      "Epoch 10/10\n",
      "148/150 [============================>.] - ETA: 0s - loss: 1.0563\n",
      "Epoch 00010: saving model to savedModels/tfAPIKeras2/tfAPIKeras.ckpt\n",
      "150/150 [==============================] - 1s 7ms/step - loss: 1.0546\n",
      "20/20 [==============================] - 0s 6ms/step - loss: 2.6078\n",
      "********validation loss *************** 2.6077755093574524\n",
      "Epoch 1/10\n",
      "149/150 [============================>.] - ETA: 0s - loss: 1.0346\n",
      "Epoch 00001: saving model to savedModels/tfAPIKeras2/tfAPIKeras.ckpt\n",
      "150/150 [==============================] - 1s 7ms/step - loss: 1.0335\n",
      "Epoch 2/10\n",
      "145/150 [============================>.] - ETA: 0s - loss: 1.0111\n",
      "Epoch 00002: saving model to savedModels/tfAPIKeras2/tfAPIKeras.ckpt\n",
      "150/150 [==============================] - 1s 7ms/step - loss: 1.0113\n",
      "Epoch 3/10\n",
      "145/150 [============================>.] - ETA: 0s - loss: 1.0020\n",
      "Epoch 00003: saving model to savedModels/tfAPIKeras2/tfAPIKeras.ckpt\n",
      "150/150 [==============================] - 1s 7ms/step - loss: 0.9979\n",
      "Epoch 4/10\n",
      "146/150 [============================>.] - ETA: 0s - loss: 0.9880\n",
      "Epoch 00004: saving model to savedModels/tfAPIKeras2/tfAPIKeras.ckpt\n",
      "150/150 [==============================] - 1s 7ms/step - loss: 0.9853\n",
      "Epoch 5/10\n",
      "142/150 [===========================>..] - ETA: 0s - loss: 1.0028\n",
      "Epoch 00005: saving model to savedModels/tfAPIKeras2/tfAPIKeras.ckpt\n",
      "150/150 [==============================] - 1s 7ms/step - loss: 0.9974\n",
      "Epoch 6/10\n",
      "144/150 [===========================>..] - ETA: 0s - loss: 0.9952\n",
      "Epoch 00006: saving model to savedModels/tfAPIKeras2/tfAPIKeras.ckpt\n",
      "150/150 [==============================] - 1s 7ms/step - loss: 0.9979\n",
      "Epoch 7/10\n",
      "144/150 [===========================>..] - ETA: 0s - loss: 0.9869\n",
      "Epoch 00007: saving model to savedModels/tfAPIKeras2/tfAPIKeras.ckpt\n",
      "150/150 [==============================] - 1s 7ms/step - loss: 0.9828\n",
      "Epoch 8/10\n",
      "149/150 [============================>.] - ETA: 0s - loss: 0.9805\n",
      "Epoch 00008: saving model to savedModels/tfAPIKeras2/tfAPIKeras.ckpt\n",
      "150/150 [==============================] - 1s 7ms/step - loss: 0.9790\n",
      "Epoch 9/10\n",
      "149/150 [============================>.] - ETA: 0s - loss: 0.9810\n",
      "Epoch 00009: saving model to savedModels/tfAPIKeras2/tfAPIKeras.ckpt\n",
      "150/150 [==============================] - 1s 7ms/step - loss: 0.9803\n",
      "Epoch 10/10\n",
      "147/150 [============================>.] - ETA: 0s - loss: 0.9891\n",
      "Epoch 00010: saving model to savedModels/tfAPIKeras2/tfAPIKeras.ckpt\n",
      "150/150 [==============================] - 1s 7ms/step - loss: 0.9864\n",
      "20/20 [==============================] - 0s 7ms/step - loss: 2.6935\n",
      "********validation loss *************** 2.6935365438461303\n",
      "Epoch 1/10\n",
      "142/150 [===========================>..] - ETA: 0s - loss: 0.9844\n",
      "Epoch 00001: saving model to savedModels/tfAPIKeras2/tfAPIKeras.ckpt\n",
      "150/150 [==============================] - 1s 7ms/step - loss: 0.9861\n",
      "Epoch 2/10\n",
      "142/150 [===========================>..] - ETA: 0s - loss: 0.9741\n",
      "Epoch 00002: saving model to savedModels/tfAPIKeras2/tfAPIKeras.ckpt\n",
      "150/150 [==============================] - 1s 7ms/step - loss: 0.9735\n",
      "Epoch 3/10\n",
      "143/150 [===========================>..] - ETA: 0s - loss: 0.9623\n",
      "Epoch 00003: saving model to savedModels/tfAPIKeras2/tfAPIKeras.ckpt\n",
      "150/150 [==============================] - 1s 7ms/step - loss: 0.9613\n",
      "Epoch 4/10\n",
      "146/150 [============================>.] - ETA: 0s - loss: 0.9507\n",
      "Epoch 00004: saving model to savedModels/tfAPIKeras2/tfAPIKeras.ckpt\n",
      "150/150 [==============================] - 1s 7ms/step - loss: 0.9487\n",
      "Epoch 5/10\n",
      "147/150 [============================>.] - ETA: 0s - loss: 0.9667\n",
      "Epoch 00005: saving model to savedModels/tfAPIKeras2/tfAPIKeras.ckpt\n",
      "150/150 [==============================] - 1s 7ms/step - loss: 0.9641\n",
      "Epoch 6/10\n",
      "148/150 [============================>.] - ETA: 0s - loss: 0.9660\n",
      "Epoch 00006: saving model to savedModels/tfAPIKeras2/tfAPIKeras.ckpt\n",
      "150/150 [==============================] - 1s 7ms/step - loss: 0.9682\n"
     ]
    },
    {
     "name": "stdout",
     "output_type": "stream",
     "text": [
      "Epoch 7/10\n",
      "145/150 [============================>.] - ETA: 0s - loss: 0.9505\n",
      "Epoch 00007: saving model to savedModels/tfAPIKeras2/tfAPIKeras.ckpt\n",
      "150/150 [==============================] - 1s 7ms/step - loss: 0.9480\n",
      "Epoch 8/10\n",
      "143/150 [===========================>..] - ETA: 0s - loss: 0.9479\n",
      "Epoch 00008: saving model to savedModels/tfAPIKeras2/tfAPIKeras.ckpt\n",
      "150/150 [==============================] - 1s 7ms/step - loss: 0.9527\n",
      "Epoch 9/10\n",
      "143/150 [===========================>..] - ETA: 0s - loss: 0.9582\n",
      "Epoch 00009: saving model to savedModels/tfAPIKeras2/tfAPIKeras.ckpt\n",
      "150/150 [==============================] - 1s 7ms/step - loss: 0.9575\n",
      "Epoch 10/10\n",
      "149/150 [============================>.] - ETA: 0s - loss: 0.9571\n",
      "Epoch 00010: saving model to savedModels/tfAPIKeras2/tfAPIKeras.ckpt\n",
      "150/150 [==============================] - 1s 7ms/step - loss: 0.9566\n",
      "20/20 [==============================] - 0s 7ms/step - loss: 2.6968\n",
      "********validation loss *************** 2.696803629398346\n",
      "Epoch 1/10\n",
      "148/150 [============================>.] - ETA: 0s - loss: 0.9630\n",
      "Epoch 00001: saving model to savedModels/tfAPIKeras2/tfAPIKeras.ckpt\n",
      "150/150 [==============================] - 1s 7ms/step - loss: 0.9608\n",
      "Epoch 2/10\n",
      "143/150 [===========================>..] - ETA: 0s - loss: 0.9553\n",
      "Epoch 00002: saving model to savedModels/tfAPIKeras2/tfAPIKeras.ckpt\n",
      "150/150 [==============================] - 1s 7ms/step - loss: 0.9565\n",
      "Epoch 3/10\n",
      "144/150 [===========================>..] - ETA: 0s - loss: 0.9473\n",
      "Epoch 00003: saving model to savedModels/tfAPIKeras2/tfAPIKeras.ckpt\n",
      "150/150 [==============================] - 1s 7ms/step - loss: 0.9459\n",
      "Epoch 4/10\n",
      "144/150 [===========================>..] - ETA: 0s - loss: 0.9310\n",
      "Epoch 00004: saving model to savedModels/tfAPIKeras2/tfAPIKeras.ckpt\n",
      "150/150 [==============================] - 1s 7ms/step - loss: 0.9313\n",
      "Epoch 5/10\n",
      "148/150 [============================>.] - ETA: 0s - loss: 0.9506\n",
      "Epoch 00005: saving model to savedModels/tfAPIKeras2/tfAPIKeras.ckpt\n",
      "150/150 [==============================] - 1s 7ms/step - loss: 0.9490\n",
      "Epoch 6/10\n",
      "149/150 [============================>.] - ETA: 0s - loss: 0.9535\n",
      "Epoch 00006: saving model to savedModels/tfAPIKeras2/tfAPIKeras.ckpt\n",
      "150/150 [==============================] - 1s 7ms/step - loss: 0.9540\n",
      "Epoch 7/10\n",
      "144/150 [===========================>..] - ETA: 0s - loss: 0.9325\n",
      "Epoch 00007: saving model to savedModels/tfAPIKeras2/tfAPIKeras.ckpt\n",
      "150/150 [==============================] - 1s 7ms/step - loss: 0.9294\n",
      "Epoch 8/10\n",
      "148/150 [============================>.] - ETA: 0s - loss: 0.9396\n",
      "Epoch 00008: saving model to savedModels/tfAPIKeras2/tfAPIKeras.ckpt\n",
      "150/150 [==============================] - 1s 7ms/step - loss: 0.9391\n",
      "Epoch 9/10\n",
      "149/150 [============================>.] - ETA: 0s - loss: 0.9462\n",
      "Epoch 00009: saving model to savedModels/tfAPIKeras2/tfAPIKeras.ckpt\n",
      "150/150 [==============================] - 1s 7ms/step - loss: 0.9456\n",
      "Epoch 10/10\n",
      "148/150 [============================>.] - ETA: 0s - loss: 0.9404\n",
      "Epoch 00010: saving model to savedModels/tfAPIKeras2/tfAPIKeras.ckpt\n",
      "150/150 [==============================] - 1s 7ms/step - loss: 0.9395\n"
     ]
    }
   ],
   "source": [
    "train_epochs = 5# increase this to train data better\n",
    "restore = False\n",
    "# for loop trains incrementally\n",
    "# this issue https://github.com/keras-team/keras/issues/4446\n",
    "for i in range(train_epochs):  \n",
    "    if restore:\n",
    "        model.load_weights(checkpoint_path)\n",
    "    loss = model.evaluate(validateset, steps=20)\n",
    "    #print('**********************',i)\n",
    "    print('********validation loss ***************', loss)\n",
    "    l = model.fit(dataset,epochs=10,steps_per_epoch=150,callbacks=[cp_callback])\n",
    "    \n",
    "    restore = True\n",
    "    \n"
   ]
  },
  {
   "cell_type": "code",
   "execution_count": 953,
   "metadata": {},
   "outputs": [
    {
     "data": {
      "text/plain": [
       "2.696803629398346"
      ]
     },
     "execution_count": 953,
     "metadata": {},
     "output_type": "execute_result"
    }
   ],
   "source": [
    "tf.keras.backend.get_value(loss)"
   ]
  },
  {
   "cell_type": "code",
   "execution_count": 909,
   "metadata": {},
   "outputs": [
    {
     "name": "stdout",
     "output_type": "stream",
     "text": [
      "Model: \"sequential_77\"\n",
      "_________________________________________________________________\n",
      "Layer (type)                 Output Shape              Param #   \n",
      "=================================================================\n",
      "dense_features_8 (DenseFeatu multiple                  0         \n",
      "_________________________________________________________________\n",
      "dense_461 (Dense)            multiple                  624       \n",
      "_________________________________________________________________\n",
      "dense_462 (Dense)            multiple                  136       \n",
      "_________________________________________________________________\n",
      "dense_463 (Dense)            multiple                  36        \n",
      "_________________________________________________________________\n",
      "dense_464 (Dense)            multiple                  10        \n",
      "_________________________________________________________________\n",
      "dense_465 (Dense)            multiple                  3         \n",
      "=================================================================\n",
      "Total params: 809\n",
      "Trainable params: 809\n",
      "Non-trainable params: 0\n",
      "_________________________________________________________________\n"
     ]
    }
   ],
   "source": [
    "model.summary()"
   ]
  },
  {
   "cell_type": "markdown",
   "metadata": {},
   "source": [
    "## Testing"
   ]
  },
  {
   "cell_type": "code",
   "execution_count": 910,
   "metadata": {},
   "outputs": [],
   "source": [
    "# The test below is not yet working"
   ]
  },
  {
   "cell_type": "code",
   "execution_count": null,
   "metadata": {},
   "outputs": [],
   "source": []
  },
  {
   "cell_type": "code",
   "execution_count": 544,
   "metadata": {},
   "outputs": [],
   "source": [
    "# test data path\n",
    "testpath= BASE_DIR + cfg['cleanedtest']['TargetDir']\n",
    "testDataName= cfg['cleanedtest']['testFeatureSet']\n",
    "testName = cfg['cleanedtest']['testData']\n",
    "testzero =  cfg['cleanedtest']['testDatasetName']"
   ]
  },
  {
   "cell_type": "code",
   "execution_count": 513,
   "metadata": {},
   "outputs": [],
   "source": [
    "# read test data\n",
    "if tfreprocess:\n",
    "    \n",
    "    data_types, col_names = utils.tfdatabuilder(testpath,testDataName,testName, validateName,validation_split,test=True )\n",
    "    \n",
    "else:\n",
    "    pass\n",
    "    #test = pd.read_csv(testpath + testName) \n",
    "    "
   ]
  },
  {
   "cell_type": "code",
   "execution_count": 259,
   "metadata": {},
   "outputs": [],
   "source": [
    "# categorical features to use \n",
    "catfeatures = cfg['cleanedconfig']['cleanedDataV1']['TensorflowDataFlowConfig']['categoricalFeatureToUse']\n",
    "catNames = cfg['cleanedconfig']['cleanedDataV1']['TensorflowDataFlowConfig']['CategoricalFeature']\n",
    "if catfeatures == 3:\n",
    "    col_names_= [col_names[0],col_names[1],col_names[2],col_names[3],catNames[0],catNames[1],catNames[2] ]\n",
    "else:\n",
    "    col_names_= [col_names[0],col_names[1],col_names[2],col_names[3],catNames[0],catNames[1]]"
   ]
  },
  {
   "cell_type": "code",
   "execution_count": 260,
   "metadata": {},
   "outputs": [],
   "source": [
    "local_learn = True"
   ]
  },
  {
   "cell_type": "code",
   "execution_count": 157,
   "metadata": {},
   "outputs": [],
   "source": [
    "# execute this once , LLOCAL learn variable ensure it does not execute 2ce to save time\n",
    "# set local_learn in cell above to true to run again\n",
    "# increase testpoints to collect more datapoints\n",
    "if local_learn:\n",
    "    testpoints = 10000\n",
    "    prototype_data = pd.read_csv(testpath + testName,nrows=testpoints)\n",
    "    prototype_data.to_csv('prototype_data.csv',index=None)\n",
    "else:\n",
    "    local_learn = False"
   ]
  },
  {
   "cell_type": "code",
   "execution_count": 911,
   "metadata": {},
   "outputs": [],
   "source": [
    "#testdata = tf.data.experimental.CsvDataset(testpath + testName, data_types, header=True) # set header to true\n",
    "testdata = tf.data.experimental.CsvDataset('prototype_data.csv', data_types, header=True) # set header to true"
   ]
  },
  {
   "cell_type": "code",
   "execution_count": 954,
   "metadata": {},
   "outputs": [],
   "source": [
    "test = testdata.map(_parse_csv_row2).batch(200)"
   ]
  },
  {
   "cell_type": "code",
   "execution_count": 955,
   "metadata": {},
   "outputs": [],
   "source": [
    "# predicitons \n",
    "predictions = model.predict(test)"
   ]
  },
  {
   "cell_type": "code",
   "execution_count": 171,
   "metadata": {},
   "outputs": [],
   "source": [
    "# upload true meter reADINGS\n",
    "#true_readings = pd.read_csv(testpath + testzero) \n",
    "true_readings = pd.read_csv(testpath + testzero,nrows=testpoints) \n",
    "\n",
    "\n",
    "del true_readings['Unnamed: 0']"
   ]
  },
  {
   "cell_type": "code",
   "execution_count": 172,
   "metadata": {},
   "outputs": [
    {
     "data": {
      "text/html": [
       "<div>\n",
       "<style scoped>\n",
       "    .dataframe tbody tr th:only-of-type {\n",
       "        vertical-align: middle;\n",
       "    }\n",
       "\n",
       "    .dataframe tbody tr th {\n",
       "        vertical-align: top;\n",
       "    }\n",
       "\n",
       "    .dataframe thead th {\n",
       "        text-align: right;\n",
       "    }\n",
       "</style>\n",
       "<table border=\"1\" class=\"dataframe\">\n",
       "  <thead>\n",
       "    <tr style=\"text-align: right;\">\n",
       "      <th></th>\n",
       "      <th>meter_reading</th>\n",
       "      <th>building_id</th>\n",
       "      <th>timestamp</th>\n",
       "    </tr>\n",
       "  </thead>\n",
       "  <tbody>\n",
       "    <tr>\n",
       "      <td>0</td>\n",
       "      <td>173.370293</td>\n",
       "      <td>0</td>\n",
       "      <td>2017-01-01 00:00:00</td>\n",
       "    </tr>\n",
       "    <tr>\n",
       "      <td>1</td>\n",
       "      <td>53.512720</td>\n",
       "      <td>1</td>\n",
       "      <td>2017-01-01 00:00:00</td>\n",
       "    </tr>\n",
       "    <tr>\n",
       "      <td>2</td>\n",
       "      <td>6.143042</td>\n",
       "      <td>2</td>\n",
       "      <td>2017-01-01 00:00:00</td>\n",
       "    </tr>\n",
       "    <tr>\n",
       "      <td>3</td>\n",
       "      <td>101.701470</td>\n",
       "      <td>3</td>\n",
       "      <td>2017-01-01 00:00:00</td>\n",
       "    </tr>\n",
       "    <tr>\n",
       "      <td>4</td>\n",
       "      <td>1141.240666</td>\n",
       "      <td>4</td>\n",
       "      <td>2017-01-01 00:00:00</td>\n",
       "    </tr>\n",
       "  </tbody>\n",
       "</table>\n",
       "</div>"
      ],
      "text/plain": [
       "   meter_reading  building_id            timestamp\n",
       "0     173.370293            0  2017-01-01 00:00:00\n",
       "1      53.512720            1  2017-01-01 00:00:00\n",
       "2       6.143042            2  2017-01-01 00:00:00\n",
       "3     101.701470            3  2017-01-01 00:00:00\n",
       "4    1141.240666            4  2017-01-01 00:00:00"
      ]
     },
     "execution_count": 172,
     "metadata": {},
     "output_type": "execute_result"
    }
   ],
   "source": [
    "true_readings.head()"
   ]
  },
  {
   "cell_type": "code",
   "execution_count": 536,
   "metadata": {},
   "outputs": [],
   "source": [
    "# get true values\n",
    "true_values=true_readings['meter_reading'].values"
   ]
  },
  {
   "cell_type": "code",
   "execution_count": 956,
   "metadata": {},
   "outputs": [
    {
     "data": {
      "text/plain": [
       "Text(0.5, 0, 'Iterations')"
      ]
     },
     "execution_count": 956,
     "metadata": {},
     "output_type": "execute_result"
    },
    {
     "data": {
      "image/png": "[encoded data removed]",
      "text/plain": [
       "<Figure size 432x288 with 1 Axes>"
      ]
     },
     "metadata": {
      "needs_background": "light"
     },
     "output_type": "display_data"
    }
   ],
   "source": [
    "plt.plot(predictions,\"-g\" ,label='Predictions')\n",
    "#plt.plot(true_values, \"-r\",label='True Values')\n",
    "plt.legend(loc=\"upper left\")\n",
    "plt.title('Model Prediction ')\n",
    "plt.ylabel('meter readinds')\n",
    "plt.xlabel('Iterations')"
   ]
  },
  {
   "cell_type": "code",
   "execution_count": 131,
   "metadata": {},
   "outputs": [
    {
     "data": {
      "text/plain": [
       "Text(0.5, 0, 'Iterations')"
      ]
     },
     "execution_count": 131,
     "metadata": {},
     "output_type": "execute_result"
    },
    {
     "data": {
      "image/png": "[encoded data removed]",
      "text/plain": [
       "<Figure size 432x288 with 1 Axes>"
      ]
     },
     "metadata": {
      "needs_background": "light"
     },
     "output_type": "display_data"
    }
   ],
   "source": [
    "#plt.plot(predictions,\"-g\" ,label='Predictions')\n",
    "plt.plot(true_values, \"-r\",label='True Values',color='orange')\n",
    "plt.legend(loc=\"upper left\")\n",
    "plt.title('True Values: meter One readings 2017-2018')\n",
    "plt.ylabel('meter One readinds ')\n",
    "plt.xlabel('Iterations')"
   ]
  },
  {
   "cell_type": "code",
   "execution_count": 957,
   "metadata": {},
   "outputs": [],
   "source": [
    "# run this again\n",
    "test_predicted = pd.DataFrame(list(zip(list(true_readings.building_id),list(true_readings.timestamp),list(predictions))),columns= ['building_id','timestamp', 'meter_reading' ] )"
   ]
  },
  {
   "cell_type": "code",
   "execution_count": 958,
   "metadata": {},
   "outputs": [
    {
     "data": {
      "image/png": "[encoded data removed]",
      "text/plain": [
       "<Figure size 432x288 with 1 Axes>"
      ]
     },
     "metadata": {
      "needs_background": "light"
     },
     "output_type": "display_data"
    },
    {
     "data": {
      "image/png": "[encoded data removed]",
      "text/plain": [
       "<Figure size 432x288 with 1 Axes>"
      ]
     },
     "metadata": {
      "needs_background": "light"
     },
     "output_type": "display_data"
    },
    {
     "data": {
      "image/png": "[encoded data removed]",
      "text/plain": [
       "<Figure size 432x288 with 1 Axes>"
      ]
     },
     "metadata": {
      "needs_background": "light"
     },
     "output_type": "display_data"
    },
    {
     "data": {
      "image/png": "[encoded data removed]",
      "text/plain": [
       "<Figure size 432x288 with 1 Axes>"
      ]
     },
     "metadata": {
      "needs_background": "light"
     },
     "output_type": "display_data"
    },
    {
     "data": {
      "image/png": "[encoded data removed]",
      "text/plain": [
       "<Figure size 432x288 with 1 Axes>"
      ]
     },
     "metadata": {
      "needs_background": "light"
     },
     "output_type": "display_data"
    },
    {
     "data": {
      "image/png": "[encoded data removed]",
      "text/plain": [
       "<Figure size 432x288 with 1 Axes>"
      ]
     },
     "metadata": {
      "needs_background": "light"
     },
     "output_type": "display_data"
    }
   ],
   "source": [
    "utils.plot_meter(true_readings,test_predicted,bn=6)"
   ]
  },
  {
   "cell_type": "code",
   "execution_count": null,
   "metadata": {},
   "outputs": [],
   "source": []
  }
 ],
 "metadata": {
  "kernelspec": {
   "display_name": "Python 3",
   "language": "python",
   "name": "python3"
  },
  "language_info": {
   "codemirror_mode": {
    "name": "ipython",
    "version": 3
   },
   "file_extension": ".py",
   "mimetype": "text/x-python",
   "name": "python",
   "nbconvert_exporter": "python",
   "pygments_lexer": "ipython3",
   "version": "3.7.4"
  }
 },
 "nbformat": 4,
 "nbformat_minor": 2
}
