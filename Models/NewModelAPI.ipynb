{
 "cells": [
  {
   "cell_type": "markdown",
   "metadata": {},
   "source": [
    "# Time Series Prediction\n"
   ]
  },
  {
   "cell_type": "code",
   "execution_count": 1,
   "metadata": {},
   "outputs": [],
   "source": [
    "# @ Lukman copyright \n",
    "# MIT Licence"
   ]
  },
  {
   "cell_type": "code",
   "execution_count": 1,
   "metadata": {},
   "outputs": [],
   "source": [
    "# for data frame analysis\n",
    "import pandas as pd \n",
    "\n",
    "# for mathematical operations\n",
    "import numpy as np \n",
    "\n",
    "\n",
    "# matplotlib library for plotting\n",
    "import matplotlib.pyplot as plt\n",
    "%matplotlib inline\n",
    "\n",
    "# For Normalizing data\n",
    "from sklearn.preprocessing import StandardScaler\n",
    "\n",
    "# For statistical test\n",
    "import scipy.stats as stats\n",
    "\n",
    "# Split data set into training and test set\n",
    "from sklearn.model_selection import train_test_split as tts\n",
    "\n",
    "# SVN module\n",
    "from sklearn import svm\n",
    "\n",
    "# Kernel Functions used \n",
    "from sklearn.metrics.pairwise import rbf_kernel,laplacian_kernel\n",
    "\n",
    "# module for chi square test\n",
    "from scipy.stats import chisquare\n",
    "\n",
    "\n",
    "# For dictionary \n",
    "from collections import defaultdict\n",
    "\n",
    "# for use of tensorflow\n",
    "import tensorflow as tf\n",
    "#from tensorflow.nn.rnn import *\n",
    "from tensorflow.python.ops  import *\n",
    "from tensorflow.keras import regularizers\n",
    "\n",
    "# for scaling arrays\n",
    "from sklearn.preprocessing import MaxAbsScaler,MinMaxScaler\n",
    "\n",
    "\n",
    "# for random sampling of validation set\n",
    "import random\n",
    "\n"
   ]
  },
  {
   "cell_type": "code",
   "execution_count": 2,
   "metadata": {},
   "outputs": [],
   "source": [
    "import sys"
   ]
  },
  {
   "cell_type": "code",
   "execution_count": 3,
   "metadata": {},
   "outputs": [
    {
     "data": {
      "text/plain": [
       "'/home/cat/anaconda3/envs/cat/bin/python'"
      ]
     },
     "execution_count": 3,
     "metadata": {},
     "output_type": "execute_result"
    }
   ],
   "source": [
    "sys.executable"
   ]
  },
  {
   "cell_type": "code",
   "execution_count": null,
   "metadata": {},
   "outputs": [],
   "source": []
  },
  {
   "cell_type": "code",
   "execution_count": 4,
   "metadata": {},
   "outputs": [],
   "source": [
    "# enable eager executinon\n",
    "tf.enable_eager_execution()"
   ]
  },
  {
   "cell_type": "code",
   "execution_count": 5,
   "metadata": {},
   "outputs": [
    {
     "data": {
      "text/plain": [
       "'1.15.0'"
      ]
     },
     "execution_count": 5,
     "metadata": {},
     "output_type": "execute_result"
    }
   ],
   "source": [
    "tf.__version__"
   ]
  },
  {
   "cell_type": "markdown",
   "metadata": {},
   "source": [
    "# Data Preprocessing "
   ]
  },
  {
   "cell_type": "code",
   "execution_count": 6,
   "metadata": {},
   "outputs": [],
   "source": [
    "# I will Load only the zero meter data set \n",
    "# same syntax applied for other data set\n",
    "meterOneDataLOaded= pd.read_csv('meterOneTrainData.csv')\n",
    "# all meter types data set could be analysed in same manner"
   ]
  },
  {
   "cell_type": "code",
   "execution_count": 7,
   "metadata": {},
   "outputs": [
    {
     "data": {
      "text/html": [
       "<div>\n",
       "<style scoped>\n",
       "    .dataframe tbody tr th:only-of-type {\n",
       "        vertical-align: middle;\n",
       "    }\n",
       "\n",
       "    .dataframe tbody tr th {\n",
       "        vertical-align: top;\n",
       "    }\n",
       "\n",
       "    .dataframe thead th {\n",
       "        text-align: right;\n",
       "    }\n",
       "</style>\n",
       "<table border=\"1\" class=\"dataframe\">\n",
       "  <thead>\n",
       "    <tr style=\"text-align: right;\">\n",
       "      <th></th>\n",
       "      <th>Unnamed: 0</th>\n",
       "      <th>building_id</th>\n",
       "      <th>meter</th>\n",
       "      <th>timestamp</th>\n",
       "      <th>meter_reading</th>\n",
       "      <th>site_id</th>\n",
       "      <th>primary_use</th>\n",
       "      <th>square_feet</th>\n",
       "      <th>year_built</th>\n",
       "      <th>floor_count</th>\n",
       "      <th>air_temperature</th>\n",
       "      <th>cloud_coverage</th>\n",
       "      <th>dew_temperature</th>\n",
       "      <th>precip_depth_1_hr</th>\n",
       "      <th>sea_level_pressure</th>\n",
       "      <th>wind_direction</th>\n",
       "      <th>wind_speed</th>\n",
       "    </tr>\n",
       "  </thead>\n",
       "  <tbody>\n",
       "    <tr>\n",
       "      <th>1</th>\n",
       "      <td>1</td>\n",
       "      <td>162</td>\n",
       "      <td>1</td>\n",
       "      <td>2016-01-01 00:00:00</td>\n",
       "      <td>0.0000</td>\n",
       "      <td>2</td>\n",
       "      <td>Education</td>\n",
       "      <td>98829</td>\n",
       "      <td>1968.0</td>\n",
       "      <td>NaN</td>\n",
       "      <td>15.6</td>\n",
       "      <td>6.0</td>\n",
       "      <td>-5.6</td>\n",
       "      <td>NaN</td>\n",
       "      <td>1015.3</td>\n",
       "      <td>270.0</td>\n",
       "      <td>3.6</td>\n",
       "    </tr>\n",
       "    <tr>\n",
       "      <th>2</th>\n",
       "      <td>2</td>\n",
       "      <td>163</td>\n",
       "      <td>1</td>\n",
       "      <td>2016-01-01 00:00:00</td>\n",
       "      <td>4.5719</td>\n",
       "      <td>2</td>\n",
       "      <td>Education</td>\n",
       "      <td>72102</td>\n",
       "      <td>1970.0</td>\n",
       "      <td>NaN</td>\n",
       "      <td>15.6</td>\n",
       "      <td>6.0</td>\n",
       "      <td>-5.6</td>\n",
       "      <td>NaN</td>\n",
       "      <td>1015.3</td>\n",
       "      <td>270.0</td>\n",
       "      <td>3.6</td>\n",
       "    </tr>\n",
       "  </tbody>\n",
       "</table>\n",
       "</div>"
      ],
      "text/plain": [
       "   Unnamed: 0  building_id  meter            timestamp  meter_reading  \\\n",
       "1           1          162      1  2016-01-01 00:00:00         0.0000   \n",
       "2           2          163      1  2016-01-01 00:00:00         4.5719   \n",
       "\n",
       "   site_id primary_use  square_feet  year_built  floor_count  air_temperature  \\\n",
       "1        2   Education        98829      1968.0          NaN             15.6   \n",
       "2        2   Education        72102      1970.0          NaN             15.6   \n",
       "\n",
       "   cloud_coverage  dew_temperature  precip_depth_1_hr  sea_level_pressure  \\\n",
       "1             6.0             -5.6                NaN              1015.3   \n",
       "2             6.0             -5.6                NaN              1015.3   \n",
       "\n",
       "   wind_direction  wind_speed  \n",
       "1           270.0         3.6  \n",
       "2           270.0         3.6  "
      ]
     },
     "execution_count": 7,
     "metadata": {},
     "output_type": "execute_result"
    }
   ],
   "source": [
    "meterOneDataLOaded[1:3]"
   ]
  },
  {
   "cell_type": "code",
   "execution_count": 8,
   "metadata": {},
   "outputs": [],
   "source": [
    "# delete column unnmaed\n",
    "del meterOneDataLOaded['Unnamed: 0']"
   ]
  },
  {
   "cell_type": "code",
   "execution_count": 9,
   "metadata": {},
   "outputs": [
    {
     "data": {
      "text/plain": [
       "['building_id',\n",
       " 'meter',\n",
       " 'timestamp',\n",
       " 'meter_reading',\n",
       " 'site_id',\n",
       " 'primary_use',\n",
       " 'square_feet',\n",
       " 'year_built',\n",
       " 'floor_count',\n",
       " 'air_temperature',\n",
       " 'cloud_coverage',\n",
       " 'dew_temperature',\n",
       " 'precip_depth_1_hr',\n",
       " 'sea_level_pressure',\n",
       " 'wind_direction',\n",
       " 'wind_speed']"
      ]
     },
     "execution_count": 9,
     "metadata": {},
     "output_type": "execute_result"
    }
   ],
   "source": [
    "# column values \n",
    "meterOneDataLOaded.columns.tolist()"
   ]
  },
  {
   "cell_type": "code",
   "execution_count": 10,
   "metadata": {},
   "outputs": [],
   "source": [
    "# store column as list\n",
    "columns = meterOneDataLOaded.columns.tolist()"
   ]
  },
  {
   "cell_type": "code",
   "execution_count": 11,
   "metadata": {},
   "outputs": [
    {
     "data": {
      "text/plain": [
       "building_id                 0\n",
       "meter                       0\n",
       "timestamp                   0\n",
       "meter_reading               0\n",
       "site_id                     0\n",
       "primary_use                 0\n",
       "square_feet                 0\n",
       "year_built            2819559\n",
       "floor_count           3972549\n",
       "air_temperature         23502\n",
       "cloud_coverage        1742296\n",
       "dew_temperature         24341\n",
       "precip_depth_1_hr      541565\n",
       "sea_level_pressure     105047\n",
       "wind_direction         402544\n",
       "wind_speed              37330\n",
       "dtype: int64"
      ]
     },
     "execution_count": 11,
     "metadata": {},
     "output_type": "execute_result"
    }
   ],
   "source": [
    "# get null values per column in the data set\n",
    "meterOneDataLOaded.isnull().sum()"
   ]
  },
  {
   "cell_type": "code",
   "execution_count": 12,
   "metadata": {},
   "outputs": [],
   "source": [
    "# chnage to time sta\n",
    "meterOneDataLOaded['timestamp'] =  pd.to_datetime(meterOneDataLOaded['timestamp'])\n"
   ]
  },
  {
   "cell_type": "code",
   "execution_count": 13,
   "metadata": {},
   "outputs": [
    {
     "data": {
      "text/plain": [
       "Int64Index([2016], dtype='int64', name='timestamp')"
      ]
     },
     "execution_count": 13,
     "metadata": {},
     "output_type": "execute_result"
    }
   ],
   "source": [
    "# check the unique time stamp present\n",
    "pd.DatetimeIndex(meterOneDataLOaded['timestamp']).year.unique()"
   ]
  },
  {
   "cell_type": "code",
   "execution_count": 14,
   "metadata": {},
   "outputs": [
    {
     "data": {
      "text/plain": [
       "building_id                    int64\n",
       "meter                          int64\n",
       "timestamp             datetime64[ns]\n",
       "meter_reading                float64\n",
       "site_id                        int64\n",
       "primary_use                   object\n",
       "square_feet                    int64\n",
       "year_built                   float64\n",
       "floor_count                  float64\n",
       "air_temperature              float64\n",
       "cloud_coverage               float64\n",
       "dew_temperature              float64\n",
       "precip_depth_1_hr            float64\n",
       "sea_level_pressure           float64\n",
       "wind_direction               float64\n",
       "wind_speed                   float64\n",
       "dtype: object"
      ]
     },
     "execution_count": 14,
     "metadata": {},
     "output_type": "execute_result"
    }
   ],
   "source": [
    "meterOneDataLOaded.dtypes"
   ]
  },
  {
   "cell_type": "code",
   "execution_count": 15,
   "metadata": {},
   "outputs": [
    {
     "data": {
      "text/plain": [
       "building_id                 0\n",
       "meter                       0\n",
       "timestamp                   0\n",
       "meter_reading               0\n",
       "site_id                     0\n",
       "primary_use                 0\n",
       "square_feet                 0\n",
       "year_built            2819559\n",
       "floor_count           3972549\n",
       "air_temperature         23502\n",
       "cloud_coverage        1742296\n",
       "dew_temperature         24341\n",
       "precip_depth_1_hr      541565\n",
       "sea_level_pressure     105047\n",
       "wind_direction         402544\n",
       "wind_speed              37330\n",
       "dtype: int64"
      ]
     },
     "execution_count": 15,
     "metadata": {},
     "output_type": "execute_result"
    }
   ],
   "source": [
    "# choose windpseed because it has fewer null values\n",
    "meterOneDataLOaded.isnull().sum()"
   ]
  },
  {
   "cell_type": "code",
   "execution_count": 16,
   "metadata": {},
   "outputs": [],
   "source": [
    "# set time stamp as index \n",
    "meterOneDataLOaded.set_index('timestamp',inplace=True);\n"
   ]
  },
  {
   "cell_type": "code",
   "execution_count": 17,
   "metadata": {},
   "outputs": [
    {
     "data": {
      "text/plain": [
       "timestamp\n",
       "2016-01-01   -5.6\n",
       "Name: dew_temperature, dtype: float64"
      ]
     },
     "execution_count": 17,
     "metadata": {},
     "output_type": "execute_result"
    }
   ],
   "source": [
    "meterOneDataLOaded['dew_temperature'][1:2]"
   ]
  },
  {
   "cell_type": "markdown",
   "metadata": {},
   "source": [
    "#### Model \n"
   ]
  },
  {
   "cell_type": "code",
   "execution_count": 353,
   "metadata": {},
   "outputs": [],
   "source": [
    "# a subset of the data has been copied to use to test the visualizer function\n",
    "# use the full data set if space is available and system is fast\n",
    "\n",
    "train_test = meterOneDataLOaded[[ 'building_id', 'meter_reading', 'square_feet', 'air_temperature','primary_use','site_id','dew_temperature']][1:40000].copy()\n"
   ]
  },
  {
   "cell_type": "code",
   "execution_count": 354,
   "metadata": {},
   "outputs": [],
   "source": [
    "\n",
    "# reset the index so that time is no longer the index\n",
    "# the index is now  numbers \n",
    "train_test.reset_index(level=0, inplace=True)\n"
   ]
  },
  {
   "cell_type": "code",
   "execution_count": 355,
   "metadata": {},
   "outputs": [
    {
     "data": {
      "text/plain": [
       "Int64Index([2016], dtype='int64', name='timestamp')"
      ]
     },
     "execution_count": 355,
     "metadata": {},
     "output_type": "execute_result"
    }
   ],
   "source": [
    "# only 2016 data is represented here as usual\n",
    "pd.DatetimeIndex(train_test['timestamp']).year.unique()"
   ]
  },
  {
   "cell_type": "code",
   "execution_count": 356,
   "metadata": {},
   "outputs": [],
   "source": [
    "# extrac year month and day\n",
    "train_test['year'] = pd.DatetimeIndex(train_test['timestamp']).year\n",
    "train_test['month'] = pd.DatetimeIndex(train_test['timestamp']).month\n",
    "train_test['day'] = pd.DatetimeIndex(train_test['timestamp']).day\n",
    "train_test['hour'] = pd.DatetimeIndex(train_test['timestamp']).hour\n"
   ]
  },
  {
   "cell_type": "code",
   "execution_count": 357,
   "metadata": {},
   "outputs": [
    {
     "data": {
      "text/plain": [
       "timestamp             0\n",
       "building_id           0\n",
       "meter_reading         0\n",
       "square_feet           0\n",
       "air_temperature    2536\n",
       "primary_use           0\n",
       "site_id               0\n",
       "dew_temperature    2536\n",
       "year                  0\n",
       "month                 0\n",
       "day                   0\n",
       "hour                  0\n",
       "dtype: int64"
      ]
     },
     "execution_count": 357,
     "metadata": {},
     "output_type": "execute_result"
    }
   ],
   "source": [
    "# check null values\n",
    "train_test.isnull().sum()"
   ]
  },
  {
   "cell_type": "code",
   "execution_count": 358,
   "metadata": {},
   "outputs": [
    {
     "data": {
      "text/plain": [
       "timestamp          datetime64[ns]\n",
       "building_id                 int64\n",
       "meter_reading             float64\n",
       "square_feet                 int64\n",
       "air_temperature           float64\n",
       "primary_use                object\n",
       "site_id                     int64\n",
       "dew_temperature           float64\n",
       "year                        int64\n",
       "month                       int64\n",
       "day                         int64\n",
       "hour                        int64\n",
       "dtype: object"
      ]
     },
     "execution_count": 358,
     "metadata": {},
     "output_type": "execute_result"
    }
   ],
   "source": [
    "# check data types\n",
    "train_test.dtypes"
   ]
  },
  {
   "cell_type": "code",
   "execution_count": 359,
   "metadata": {},
   "outputs": [],
   "source": [
    "# forward filling missing values since values from previous timestamp should\n",
    "# ideally be similar to the next one. (temperature today and tomorrow should be quite similar)\n",
    "train_test['air_temperature'].fillna(method='ffill', inplace=True)\n",
    "train_test['dew_temperature'].fillna(method='ffill', inplace=True)"
   ]
  },
  {
   "cell_type": "code",
   "execution_count": 360,
   "metadata": {},
   "outputs": [],
   "source": [
    "# delete year we wont use the year information in the model\n",
    "del train_test['year']"
   ]
  },
  {
   "cell_type": "code",
   "execution_count": 361,
   "metadata": {},
   "outputs": [],
   "source": [
    "# encode site id and primary use\n",
    "train_test = pd.get_dummies(train_test, columns=[\"primary_use\",\"site_id\"])"
   ]
  },
  {
   "cell_type": "code",
   "execution_count": 362,
   "metadata": {},
   "outputs": [
    {
     "data": {
      "text/plain": [
       "11743"
      ]
     },
     "execution_count": 362,
     "metadata": {},
     "output_type": "execute_result"
    }
   ],
   "source": [
    "# there are 8908 meter readings with value of zero. let us remove those\n",
    "train_test[train_test['meter_reading'] <= 0.]['meter_reading'].count() "
   ]
  },
  {
   "cell_type": "code",
   "execution_count": 363,
   "metadata": {},
   "outputs": [],
   "source": [
    "# remove columns with meter readings of zero\n",
    "train_test = train_test[train_test.meter_reading != 0]"
   ]
  },
  {
   "cell_type": "code",
   "execution_count": 364,
   "metadata": {},
   "outputs": [
    {
     "data": {
      "text/plain": [
       "0"
      ]
     },
     "execution_count": 364,
     "metadata": {},
     "output_type": "execute_result"
    }
   ],
   "source": [
    "\n",
    "train_test[train_test['meter_reading'] <= 0.]['meter_reading'].count() "
   ]
  },
  {
   "cell_type": "code",
   "execution_count": 365,
   "metadata": {},
   "outputs": [
    {
     "data": {
      "text/html": [
       "<div>\n",
       "<style scoped>\n",
       "    .dataframe tbody tr th:only-of-type {\n",
       "        vertical-align: middle;\n",
       "    }\n",
       "\n",
       "    .dataframe tbody tr th {\n",
       "        vertical-align: top;\n",
       "    }\n",
       "\n",
       "    .dataframe thead th {\n",
       "        text-align: right;\n",
       "    }\n",
       "</style>\n",
       "<table border=\"1\" class=\"dataframe\">\n",
       "  <thead>\n",
       "    <tr style=\"text-align: right;\">\n",
       "      <th></th>\n",
       "      <th>timestamp</th>\n",
       "      <th>building_id</th>\n",
       "      <th>meter_reading</th>\n",
       "      <th>square_feet</th>\n",
       "      <th>air_temperature</th>\n",
       "      <th>dew_temperature</th>\n",
       "      <th>month</th>\n",
       "      <th>day</th>\n",
       "      <th>hour</th>\n",
       "      <th>primary_use_Education</th>\n",
       "      <th>...</th>\n",
       "      <th>primary_use_Utility</th>\n",
       "      <th>site_id_2</th>\n",
       "      <th>site_id_6</th>\n",
       "      <th>site_id_7</th>\n",
       "      <th>site_id_9</th>\n",
       "      <th>site_id_10</th>\n",
       "      <th>site_id_11</th>\n",
       "      <th>site_id_13</th>\n",
       "      <th>site_id_14</th>\n",
       "      <th>site_id_15</th>\n",
       "    </tr>\n",
       "  </thead>\n",
       "  <tbody>\n",
       "    <tr>\n",
       "      <th>1</th>\n",
       "      <td>2016-01-01</td>\n",
       "      <td>163</td>\n",
       "      <td>4.5719</td>\n",
       "      <td>72102</td>\n",
       "      <td>15.6</td>\n",
       "      <td>-5.6</td>\n",
       "      <td>1</td>\n",
       "      <td>1</td>\n",
       "      <td>0</td>\n",
       "      <td>1</td>\n",
       "      <td>...</td>\n",
       "      <td>0</td>\n",
       "      <td>1</td>\n",
       "      <td>0</td>\n",
       "      <td>0</td>\n",
       "      <td>0</td>\n",
       "      <td>0</td>\n",
       "      <td>0</td>\n",
       "      <td>0</td>\n",
       "      <td>0</td>\n",
       "      <td>0</td>\n",
       "    </tr>\n",
       "    <tr>\n",
       "      <th>2</th>\n",
       "      <td>2016-01-01</td>\n",
       "      <td>166</td>\n",
       "      <td>209.8860</td>\n",
       "      <td>553210</td>\n",
       "      <td>15.6</td>\n",
       "      <td>-5.6</td>\n",
       "      <td>1</td>\n",
       "      <td>1</td>\n",
       "      <td>0</td>\n",
       "      <td>0</td>\n",
       "      <td>...</td>\n",
       "      <td>0</td>\n",
       "      <td>1</td>\n",
       "      <td>0</td>\n",
       "      <td>0</td>\n",
       "      <td>0</td>\n",
       "      <td>0</td>\n",
       "      <td>0</td>\n",
       "      <td>0</td>\n",
       "      <td>0</td>\n",
       "      <td>0</td>\n",
       "    </tr>\n",
       "    <tr>\n",
       "      <th>4</th>\n",
       "      <td>2016-01-01</td>\n",
       "      <td>168</td>\n",
       "      <td>51.5570</td>\n",
       "      <td>183460</td>\n",
       "      <td>15.6</td>\n",
       "      <td>-5.6</td>\n",
       "      <td>1</td>\n",
       "      <td>1</td>\n",
       "      <td>0</td>\n",
       "      <td>1</td>\n",
       "      <td>...</td>\n",
       "      <td>0</td>\n",
       "      <td>1</td>\n",
       "      <td>0</td>\n",
       "      <td>0</td>\n",
       "      <td>0</td>\n",
       "      <td>0</td>\n",
       "      <td>0</td>\n",
       "      <td>0</td>\n",
       "      <td>0</td>\n",
       "      <td>0</td>\n",
       "    </tr>\n",
       "    <tr>\n",
       "      <th>5</th>\n",
       "      <td>2016-01-01</td>\n",
       "      <td>169</td>\n",
       "      <td>176.6860</td>\n",
       "      <td>179559</td>\n",
       "      <td>15.6</td>\n",
       "      <td>-5.6</td>\n",
       "      <td>1</td>\n",
       "      <td>1</td>\n",
       "      <td>0</td>\n",
       "      <td>1</td>\n",
       "      <td>...</td>\n",
       "      <td>0</td>\n",
       "      <td>1</td>\n",
       "      <td>0</td>\n",
       "      <td>0</td>\n",
       "      <td>0</td>\n",
       "      <td>0</td>\n",
       "      <td>0</td>\n",
       "      <td>0</td>\n",
       "      <td>0</td>\n",
       "      <td>0</td>\n",
       "    </tr>\n",
       "    <tr>\n",
       "      <th>6</th>\n",
       "      <td>2016-01-01</td>\n",
       "      <td>170</td>\n",
       "      <td>11.2891</td>\n",
       "      <td>45224</td>\n",
       "      <td>15.6</td>\n",
       "      <td>-5.6</td>\n",
       "      <td>1</td>\n",
       "      <td>1</td>\n",
       "      <td>0</td>\n",
       "      <td>0</td>\n",
       "      <td>...</td>\n",
       "      <td>0</td>\n",
       "      <td>1</td>\n",
       "      <td>0</td>\n",
       "      <td>0</td>\n",
       "      <td>0</td>\n",
       "      <td>0</td>\n",
       "      <td>0</td>\n",
       "      <td>0</td>\n",
       "      <td>0</td>\n",
       "      <td>0</td>\n",
       "    </tr>\n",
       "  </tbody>\n",
       "</table>\n",
       "<p>5 rows × 32 columns</p>\n",
       "</div>"
      ],
      "text/plain": [
       "   timestamp  building_id  meter_reading  square_feet  air_temperature  \\\n",
       "1 2016-01-01          163         4.5719        72102             15.6   \n",
       "2 2016-01-01          166       209.8860       553210             15.6   \n",
       "4 2016-01-01          168        51.5570       183460             15.6   \n",
       "5 2016-01-01          169       176.6860       179559             15.6   \n",
       "6 2016-01-01          170        11.2891        45224             15.6   \n",
       "\n",
       "   dew_temperature  month  day  hour  primary_use_Education  ...  \\\n",
       "1             -5.6      1    1     0                      1  ...   \n",
       "2             -5.6      1    1     0                      0  ...   \n",
       "4             -5.6      1    1     0                      1  ...   \n",
       "5             -5.6      1    1     0                      1  ...   \n",
       "6             -5.6      1    1     0                      0  ...   \n",
       "\n",
       "   primary_use_Utility  site_id_2  site_id_6  site_id_7  site_id_9  \\\n",
       "1                    0          1          0          0          0   \n",
       "2                    0          1          0          0          0   \n",
       "4                    0          1          0          0          0   \n",
       "5                    0          1          0          0          0   \n",
       "6                    0          1          0          0          0   \n",
       "\n",
       "   site_id_10  site_id_11  site_id_13  site_id_14  site_id_15  \n",
       "1           0           0           0           0           0  \n",
       "2           0           0           0           0           0  \n",
       "4           0           0           0           0           0  \n",
       "5           0           0           0           0           0  \n",
       "6           0           0           0           0           0  \n",
       "\n",
       "[5 rows x 32 columns]"
      ]
     },
     "execution_count": 365,
     "metadata": {},
     "output_type": "execute_result"
    }
   ],
   "source": [
    "train_test.head()"
   ]
  },
  {
   "cell_type": "code",
   "execution_count": 366,
   "metadata": {},
   "outputs": [],
   "source": [
    "# set time as index\n",
    "train_test.set_index('timestamp',inplace=True);\n"
   ]
  },
  {
   "cell_type": "code",
   "execution_count": 367,
   "metadata": {
    "scrolled": true
   },
   "outputs": [
    {
     "data": {
      "text/html": [
       "<div>\n",
       "<style scoped>\n",
       "    .dataframe tbody tr th:only-of-type {\n",
       "        vertical-align: middle;\n",
       "    }\n",
       "\n",
       "    .dataframe tbody tr th {\n",
       "        vertical-align: top;\n",
       "    }\n",
       "\n",
       "    .dataframe thead th {\n",
       "        text-align: right;\n",
       "    }\n",
       "</style>\n",
       "<table border=\"1\" class=\"dataframe\">\n",
       "  <thead>\n",
       "    <tr style=\"text-align: right;\">\n",
       "      <th></th>\n",
       "      <th>building_id</th>\n",
       "      <th>meter_reading</th>\n",
       "      <th>square_feet</th>\n",
       "      <th>air_temperature</th>\n",
       "      <th>dew_temperature</th>\n",
       "      <th>month</th>\n",
       "      <th>day</th>\n",
       "      <th>hour</th>\n",
       "      <th>primary_use_Education</th>\n",
       "      <th>primary_use_Entertainment/public assembly</th>\n",
       "      <th>...</th>\n",
       "      <th>primary_use_Utility</th>\n",
       "      <th>site_id_2</th>\n",
       "      <th>site_id_6</th>\n",
       "      <th>site_id_7</th>\n",
       "      <th>site_id_9</th>\n",
       "      <th>site_id_10</th>\n",
       "      <th>site_id_11</th>\n",
       "      <th>site_id_13</th>\n",
       "      <th>site_id_14</th>\n",
       "      <th>site_id_15</th>\n",
       "    </tr>\n",
       "    <tr>\n",
       "      <th>timestamp</th>\n",
       "      <th></th>\n",
       "      <th></th>\n",
       "      <th></th>\n",
       "      <th></th>\n",
       "      <th></th>\n",
       "      <th></th>\n",
       "      <th></th>\n",
       "      <th></th>\n",
       "      <th></th>\n",
       "      <th></th>\n",
       "      <th></th>\n",
       "      <th></th>\n",
       "      <th></th>\n",
       "      <th></th>\n",
       "      <th></th>\n",
       "      <th></th>\n",
       "      <th></th>\n",
       "      <th></th>\n",
       "      <th></th>\n",
       "      <th></th>\n",
       "      <th></th>\n",
       "    </tr>\n",
       "  </thead>\n",
       "  <tbody>\n",
       "    <tr>\n",
       "      <th>2016-01-01</th>\n",
       "      <td>166</td>\n",
       "      <td>209.886</td>\n",
       "      <td>553210</td>\n",
       "      <td>15.6</td>\n",
       "      <td>-5.6</td>\n",
       "      <td>1</td>\n",
       "      <td>1</td>\n",
       "      <td>0</td>\n",
       "      <td>0</td>\n",
       "      <td>0</td>\n",
       "      <td>...</td>\n",
       "      <td>0</td>\n",
       "      <td>1</td>\n",
       "      <td>0</td>\n",
       "      <td>0</td>\n",
       "      <td>0</td>\n",
       "      <td>0</td>\n",
       "      <td>0</td>\n",
       "      <td>0</td>\n",
       "      <td>0</td>\n",
       "      <td>0</td>\n",
       "    </tr>\n",
       "  </tbody>\n",
       "</table>\n",
       "<p>1 rows × 31 columns</p>\n",
       "</div>"
      ],
      "text/plain": [
       "            building_id  meter_reading  square_feet  air_temperature  \\\n",
       "timestamp                                                              \n",
       "2016-01-01          166        209.886       553210             15.6   \n",
       "\n",
       "            dew_temperature  month  day  hour  primary_use_Education  \\\n",
       "timestamp                                                              \n",
       "2016-01-01             -5.6      1    1     0                      0   \n",
       "\n",
       "            primary_use_Entertainment/public assembly  ...  \\\n",
       "timestamp                                              ...   \n",
       "2016-01-01                                          0  ...   \n",
       "\n",
       "            primary_use_Utility  site_id_2  site_id_6  site_id_7  site_id_9  \\\n",
       "timestamp                                                                     \n",
       "2016-01-01                    0          1          0          0          0   \n",
       "\n",
       "            site_id_10  site_id_11  site_id_13  site_id_14  site_id_15  \n",
       "timestamp                                                               \n",
       "2016-01-01           0           0           0           0           0  \n",
       "\n",
       "[1 rows x 31 columns]"
      ]
     },
     "execution_count": 367,
     "metadata": {},
     "output_type": "execute_result"
    }
   ],
   "source": [
    "train_test[1:2]"
   ]
  },
  {
   "cell_type": "code",
   "execution_count": 368,
   "metadata": {},
   "outputs": [],
   "source": [
    "col_names = list(train_test.columns)[1:]"
   ]
  },
  {
   "cell_type": "code",
   "execution_count": 369,
   "metadata": {},
   "outputs": [
    {
     "data": {
      "text/plain": [
       "['meter_reading',\n",
       " 'square_feet',\n",
       " 'air_temperature',\n",
       " 'dew_temperature',\n",
       " 'month',\n",
       " 'day',\n",
       " 'hour',\n",
       " 'primary_use_Education',\n",
       " 'primary_use_Entertainment/public assembly',\n",
       " 'primary_use_Food sales and service',\n",
       " 'primary_use_Healthcare',\n",
       " 'primary_use_Lodging/residential',\n",
       " 'primary_use_Manufacturing/industrial',\n",
       " 'primary_use_Office',\n",
       " 'primary_use_Other',\n",
       " 'primary_use_Parking',\n",
       " 'primary_use_Public services',\n",
       " 'primary_use_Religious worship',\n",
       " 'primary_use_Retail',\n",
       " 'primary_use_Technology/science',\n",
       " 'primary_use_Utility',\n",
       " 'site_id_2',\n",
       " 'site_id_6',\n",
       " 'site_id_7',\n",
       " 'site_id_9',\n",
       " 'site_id_10',\n",
       " 'site_id_11',\n",
       " 'site_id_13',\n",
       " 'site_id_14',\n",
       " 'site_id_15']"
      ]
     },
     "execution_count": 369,
     "metadata": {},
     "output_type": "execute_result"
    }
   ],
   "source": [
    "col_names"
   ]
  },
  {
   "cell_type": "code",
   "execution_count": 370,
   "metadata": {},
   "outputs": [],
   "source": [
    "# save the data types \n",
    "data_types = list(train_test.dtypes)[1:]"
   ]
  },
  {
   "cell_type": "code",
   "execution_count": 371,
   "metadata": {},
   "outputs": [
    {
     "data": {
      "text/plain": [
       "[dtype('float64'),\n",
       " dtype('int64'),\n",
       " dtype('float64'),\n",
       " dtype('float64'),\n",
       " dtype('int64'),\n",
       " dtype('int64'),\n",
       " dtype('int64'),\n",
       " dtype('uint8'),\n",
       " dtype('uint8'),\n",
       " dtype('uint8'),\n",
       " dtype('uint8'),\n",
       " dtype('uint8'),\n",
       " dtype('uint8'),\n",
       " dtype('uint8'),\n",
       " dtype('uint8'),\n",
       " dtype('uint8'),\n",
       " dtype('uint8'),\n",
       " dtype('uint8'),\n",
       " dtype('uint8'),\n",
       " dtype('uint8'),\n",
       " dtype('uint8'),\n",
       " dtype('uint8'),\n",
       " dtype('uint8'),\n",
       " dtype('uint8'),\n",
       " dtype('uint8'),\n",
       " dtype('uint8'),\n",
       " dtype('uint8'),\n",
       " dtype('uint8'),\n",
       " dtype('uint8'),\n",
       " dtype('uint8')]"
      ]
     },
     "execution_count": 371,
     "metadata": {},
     "output_type": "execute_result"
    }
   ],
   "source": [
    "data_types"
   ]
  },
  {
   "cell_type": "code",
   "execution_count": 372,
   "metadata": {},
   "outputs": [],
   "source": [
    "# convert the data types to \n",
    "# tensorflow data types \n",
    "for i,j in enumerate(data_types):\n",
    "    j = str(j) # convertr from numpy dtype to str\n",
    "    #print(j)\n",
    "    if j == 'float64':\n",
    "        data_types[i] = tf.float64\n",
    "    else:\n",
    "        data_types[i]  = tf.int32"
   ]
  },
  {
   "cell_type": "code",
   "execution_count": 373,
   "metadata": {},
   "outputs": [
    {
     "data": {
      "text/plain": [
       "[tf.float64,\n",
       " tf.int32,\n",
       " tf.float64,\n",
       " tf.float64,\n",
       " tf.int32,\n",
       " tf.int32,\n",
       " tf.int32,\n",
       " tf.int32,\n",
       " tf.int32,\n",
       " tf.int32,\n",
       " tf.int32,\n",
       " tf.int32,\n",
       " tf.int32,\n",
       " tf.int32,\n",
       " tf.int32,\n",
       " tf.int32,\n",
       " tf.int32,\n",
       " tf.int32,\n",
       " tf.int32,\n",
       " tf.int32,\n",
       " tf.int32,\n",
       " tf.int32,\n",
       " tf.int32,\n",
       " tf.int32,\n",
       " tf.int32,\n",
       " tf.int32,\n",
       " tf.int32,\n",
       " tf.int32,\n",
       " tf.int32,\n",
       " tf.int32]"
      ]
     },
     "execution_count": 373,
     "metadata": {},
     "output_type": "execute_result"
    }
   ],
   "source": [
    "data_types"
   ]
  },
  {
   "cell_type": "markdown",
   "metadata": {},
   "source": [
    "### Extract the predictor and featues"
   ]
  },
  {
   "cell_type": "code",
   "execution_count": 374,
   "metadata": {},
   "outputs": [],
   "source": [
    "# separate test train\n",
    "test = train_test.tail(1000).copy(deep=True)\n",
    "train_= train_test.shape[0]-test.shape[0] # train partition\n",
    "train = train_test[:train_].copy(deep=True)"
   ]
  },
  {
   "cell_type": "code",
   "execution_count": 375,
   "metadata": {},
   "outputs": [],
   "source": [
    "# x axis for test values\n",
    "test_timestamp = list(test.index.values)\n",
    "test_building_id = list(test.building_id.values)"
   ]
  },
  {
   "cell_type": "code",
   "execution_count": 379,
   "metadata": {},
   "outputs": [],
   "source": [
    "del test['building_id']\n",
    "del train['building_id']"
   ]
  },
  {
   "cell_type": "code",
   "execution_count": 59,
   "metadata": {},
   "outputs": [],
   "source": [
    "# convert to csv\n",
    "# used for a lodal that can preserve the data type\n",
    "# note that the index has been ignored here\n",
    "train.to_csv('meter1.csv',index=False,header=None)\n",
    "test.to_csv('meter1Test.csv',index=False,header=None)\n"
   ]
  },
  {
   "cell_type": "code",
   "execution_count": 60,
   "metadata": {},
   "outputs": [],
   "source": []
  },
  {
   "cell_type": "code",
   "execution_count": null,
   "metadata": {},
   "outputs": [],
   "source": []
  },
  {
   "cell_type": "markdown",
   "metadata": {},
   "source": [
    "#### Work with downloaded csv to preserve data type\n",
    "Load the csv file and parse the data types of the datatset together into the\n",
    "tensorflow load pipeline"
   ]
  },
  {
   "cell_type": "code",
   "execution_count": 61,
   "metadata": {},
   "outputs": [],
   "source": [
    "# load the data using the tensorflow Dataset API\n",
    "# add the data types too\n",
    "csvData = tf.data.experimental.CsvDataset('meter1.csv', data_types, header=False)"
   ]
  },
  {
   "cell_type": "code",
   "execution_count": 62,
   "metadata": {},
   "outputs": [
    {
     "name": "stdout",
     "output_type": "stream",
     "text": [
      "[(<tf.Tensor: id=123, shape=(), dtype=float64, numpy=4.5719>, <tf.Tensor: id=124, shape=(), dtype=int32, numpy=72102>, <tf.Tensor: id=125, shape=(), dtype=float64, numpy=15.6>, <tf.Tensor: id=126, shape=(), dtype=float64, numpy=-5.6>, <tf.Tensor: id=127, shape=(), dtype=int32, numpy=1>, <tf.Tensor: id=128, shape=(), dtype=int32, numpy=1>, <tf.Tensor: id=129, shape=(), dtype=int32, numpy=0>, <tf.Tensor: id=130, shape=(), dtype=int32, numpy=1>, <tf.Tensor: id=131, shape=(), dtype=int32, numpy=0>, <tf.Tensor: id=132, shape=(), dtype=int32, numpy=0>, <tf.Tensor: id=133, shape=(), dtype=int32, numpy=0>, <tf.Tensor: id=134, shape=(), dtype=int32, numpy=0>, <tf.Tensor: id=135, shape=(), dtype=int32, numpy=0>, <tf.Tensor: id=136, shape=(), dtype=int32, numpy=0>, <tf.Tensor: id=137, shape=(), dtype=int32, numpy=0>, <tf.Tensor: id=138, shape=(), dtype=int32, numpy=0>, <tf.Tensor: id=139, shape=(), dtype=int32, numpy=0>, <tf.Tensor: id=140, shape=(), dtype=int32, numpy=0>, <tf.Tensor: id=141, shape=(), dtype=int32, numpy=0>, <tf.Tensor: id=142, shape=(), dtype=int32, numpy=0>, <tf.Tensor: id=143, shape=(), dtype=int32, numpy=0>, <tf.Tensor: id=144, shape=(), dtype=int32, numpy=1>, <tf.Tensor: id=145, shape=(), dtype=int32, numpy=0>, <tf.Tensor: id=146, shape=(), dtype=int32, numpy=0>, <tf.Tensor: id=147, shape=(), dtype=int32, numpy=0>, <tf.Tensor: id=148, shape=(), dtype=int32, numpy=0>, <tf.Tensor: id=149, shape=(), dtype=int32, numpy=0>, <tf.Tensor: id=150, shape=(), dtype=int32, numpy=0>, <tf.Tensor: id=151, shape=(), dtype=int32, numpy=0>, <tf.Tensor: id=152, shape=(), dtype=int32, numpy=0>)]\n"
     ]
    }
   ],
   "source": [
    "# check the data type :\n",
    "print(list(csvData.take(1)))"
   ]
  },
  {
   "cell_type": "code",
   "execution_count": 63,
   "metadata": {},
   "outputs": [
    {
     "data": {
      "text/plain": [
       "['meter_reading',\n",
       " 'square_feet',\n",
       " 'air_temperature',\n",
       " 'dew_temperature',\n",
       " 'month',\n",
       " 'day',\n",
       " 'hour',\n",
       " 'primary_use_Education',\n",
       " 'primary_use_Entertainment/public assembly',\n",
       " 'primary_use_Food sales and service',\n",
       " 'primary_use_Healthcare',\n",
       " 'primary_use_Lodging/residential',\n",
       " 'primary_use_Manufacturing/industrial',\n",
       " 'primary_use_Office',\n",
       " 'primary_use_Other',\n",
       " 'primary_use_Parking',\n",
       " 'primary_use_Public services',\n",
       " 'primary_use_Religious worship',\n",
       " 'primary_use_Retail',\n",
       " 'primary_use_Technology/science',\n",
       " 'primary_use_Utility',\n",
       " 'site_id_2',\n",
       " 'site_id_6',\n",
       " 'site_id_7',\n",
       " 'site_id_9',\n",
       " 'site_id_10',\n",
       " 'site_id_11',\n",
       " 'site_id_13',\n",
       " 'site_id_14',\n",
       " 'site_id_15']"
      ]
     },
     "execution_count": 63,
     "metadata": {},
     "output_type": "execute_result"
    }
   ],
   "source": [
    "col_names"
   ]
  },
  {
   "cell_type": "markdown",
   "metadata": {},
   "source": [
    "\n",
    "#### Parse data "
   ]
  },
  {
   "cell_type": "code",
   "execution_count": 64,
   "metadata": {},
   "outputs": [],
   "source": [
    "# Parsing the data and\n",
    "# merging the columns:\n",
    "# ---- day and month as single column\n",
    "# ---- merge the site id as a single feature vector vector\n",
    "# ---- primary use as a single feature vector\n",
    "\n",
    "# take the forst 4 col names that meter reading, square feet, air temp , dew temp,\n",
    "# add it to a the new column names that would be formed after single column merging\n",
    "\n",
    "col_names_= [col_names[0],col_names[1],col_names[2],col_names[3],'month_day','primary_use','site_id' ]\n",
    "\n",
    "def _parse_csv_row(*vals):\n",
    "    '''\n",
    "    Uses Feature columns\n",
    "    Does feature engineering\n",
    "    '''\n",
    "    \n",
    "    # month and day and single feature\n",
    "    month_day = tf.convert_to_tensor(vals[4:7])\n",
    "    # primary use as single feature\n",
    "    primary_use = tf.convert_to_tensor(vals[7:21])\n",
    "    # site id as single feature\n",
    "    site_id =  tf.convert_to_tensor(vals[21:30])\n",
    "    \n",
    "    # merge the features together, note meter reading is the fist column\n",
    "    # so it is excluded -- meaning index starts from 1\n",
    "    feature_vals = vals[1:4] + (month_day,primary_use,site_id)\n",
    "    \n",
    "    \n",
    "    # zip into a  feature sets into a single col\n",
    "    features = dict(zip(col_names_[1:],feature_vals))\n",
    "    \n",
    "    # name the targets or lables\n",
    "    targets_tensor = tf.convert_to_tensor(vals[0],name=col_names_[0]) \n",
    "    \n",
    "    \n",
    "    \n",
    "    return features, targets_tensor"
   ]
  },
  {
   "cell_type": "code",
   "execution_count": null,
   "metadata": {},
   "outputs": [],
   "source": []
  },
  {
   "cell_type": "markdown",
   "metadata": {},
   "source": [
    "##### Batch the datatset"
   ]
  },
  {
   "cell_type": "code",
   "execution_count": 65,
   "metadata": {},
   "outputs": [],
   "source": [
    "\n",
    "dataset = csvData.map(_parse_csv_row).batch(64)"
   ]
  },
  {
   "cell_type": "code",
   "execution_count": 66,
   "metadata": {},
   "outputs": [
    {
     "name": "stdout",
     "output_type": "stream",
     "text": [
      "[({'square_feet': <tf.Tensor: id=211, shape=(64,), dtype=int32, numpy=\n",
      "array([ 72102, 553210, 183460, 179559,  45224,  90903,  90900, 111635,\n",
      "       167066,  23392,  24867,  24586, 148829, 132518,  44203,  23549,\n",
      "        78268, 151637, 155682,   9703, 102856, 163959, 143093, 219608,\n",
      "        74682,  63348,  30949,  60086, 345837,  99700,  36904, 193294,\n",
      "        71248, 327256,  49662,  36406, 137065, 282946,  96124, 122592,\n",
      "       204349,  11935, 272278, 216526,  74180, 140092,  33739, 179167,\n",
      "         9309, 144086, 101262,  45017, 106440,  95717, 202435,  64560,\n",
      "        24643, 179449, 131710,   4314,  65907, 254766,  49078,  16744],\n",
      "      dtype=int32)>, 'air_temperature': <tf.Tensor: id=206, shape=(64,), dtype=float64, numpy=\n",
      "array([15.6, 15.6, 15.6, 15.6, 15.6, 15.6, 15.6, 15.6, 15.6, 15.6, 15.6,\n",
      "       15.6, 15.6, 15.6, 15.6, 15.6, 15.6, 15.6, 15.6, 15.6, 15.6, 15.6,\n",
      "       15.6, 15.6, 15.6, 15.6, 15.6, 15.6, 15.6, 15.6, 15.6, 15.6, 15.6,\n",
      "       15.6, 15.6, 15.6, 15.6, 15.6, 15.6, 15.6, 15.6, 15.6, 15.6, 15.6,\n",
      "       15.6, 15.6, 15.6, 15.6, 15.6, 15.6, 15.6, 15.6, 15.6, 15.6, 15.6,\n",
      "       15.6, 15.6, 15.6, 15.6, 15.6, 15.6, 15.6, 15.6, 15.6])>, 'dew_temperature': <tf.Tensor: id=207, shape=(64,), dtype=float64, numpy=\n",
      "array([-5.6, -5.6, -5.6, -5.6, -5.6, -5.6, -5.6, -5.6, -5.6, -5.6, -5.6,\n",
      "       -5.6, -5.6, -5.6, -5.6, -5.6, -5.6, -5.6, -5.6, -5.6, -5.6, -5.6,\n",
      "       -5.6, -5.6, -5.6, -5.6, -5.6, -5.6, -5.6, -5.6, -5.6, -5.6, -5.6,\n",
      "       -5.6, -5.6, -5.6, -5.6, -5.6, -5.6, -5.6, -5.6, -5.6, -5.6, -5.6,\n",
      "       -5.6, -5.6, -5.6, -5.6, -5.6, -5.6, -5.6, -5.6, -5.6, -5.6, -5.6,\n",
      "       -5.6, -5.6, -5.6, -5.6, -5.6, -5.6, -5.6, -5.6, -5.6])>, 'month_day': <tf.Tensor: id=208, shape=(64, 3), dtype=int32, numpy=\n",
      "array([[1, 1, 0],\n",
      "       [1, 1, 0],\n",
      "       [1, 1, 0],\n",
      "       [1, 1, 0],\n",
      "       [1, 1, 0],\n",
      "       [1, 1, 0],\n",
      "       [1, 1, 0],\n",
      "       [1, 1, 0],\n",
      "       [1, 1, 0],\n",
      "       [1, 1, 0],\n",
      "       [1, 1, 0],\n",
      "       [1, 1, 0],\n",
      "       [1, 1, 0],\n",
      "       [1, 1, 0],\n",
      "       [1, 1, 0],\n",
      "       [1, 1, 0],\n",
      "       [1, 1, 0],\n",
      "       [1, 1, 0],\n",
      "       [1, 1, 0],\n",
      "       [1, 1, 0],\n",
      "       [1, 1, 0],\n",
      "       [1, 1, 0],\n",
      "       [1, 1, 0],\n",
      "       [1, 1, 0],\n",
      "       [1, 1, 0],\n",
      "       [1, 1, 0],\n",
      "       [1, 1, 0],\n",
      "       [1, 1, 0],\n",
      "       [1, 1, 0],\n",
      "       [1, 1, 0],\n",
      "       [1, 1, 0],\n",
      "       [1, 1, 0],\n",
      "       [1, 1, 0],\n",
      "       [1, 1, 0],\n",
      "       [1, 1, 0],\n",
      "       [1, 1, 0],\n",
      "       [1, 1, 0],\n",
      "       [1, 1, 0],\n",
      "       [1, 1, 0],\n",
      "       [1, 1, 0],\n",
      "       [1, 1, 0],\n",
      "       [1, 1, 0],\n",
      "       [1, 1, 0],\n",
      "       [1, 1, 0],\n",
      "       [1, 1, 0],\n",
      "       [1, 1, 0],\n",
      "       [1, 1, 0],\n",
      "       [1, 1, 0],\n",
      "       [1, 1, 0],\n",
      "       [1, 1, 0],\n",
      "       [1, 1, 0],\n",
      "       [1, 1, 0],\n",
      "       [1, 1, 0],\n",
      "       [1, 1, 0],\n",
      "       [1, 1, 0],\n",
      "       [1, 1, 0],\n",
      "       [1, 1, 0],\n",
      "       [1, 1, 0],\n",
      "       [1, 1, 0],\n",
      "       [1, 1, 0],\n",
      "       [1, 1, 0],\n",
      "       [1, 1, 0],\n",
      "       [1, 1, 0],\n",
      "       [1, 1, 0]], dtype=int32)>, 'primary_use': <tf.Tensor: id=209, shape=(64, 14), dtype=int32, numpy=\n",
      "array([[1, 0, 0, 0, 0, 0, 0, 0, 0, 0, 0, 0, 0, 0],\n",
      "       [0, 0, 0, 0, 1, 0, 0, 0, 0, 0, 0, 0, 0, 0],\n",
      "       [1, 0, 0, 0, 0, 0, 0, 0, 0, 0, 0, 0, 0, 0],\n",
      "       [1, 0, 0, 0, 0, 0, 0, 0, 0, 0, 0, 0, 0, 0],\n",
      "       [0, 0, 0, 0, 0, 0, 0, 0, 0, 0, 0, 1, 0, 0],\n",
      "       [1, 0, 0, 0, 0, 0, 0, 0, 0, 0, 0, 0, 0, 0],\n",
      "       [1, 0, 0, 0, 0, 0, 0, 0, 0, 0, 0, 0, 0, 0],\n",
      "       [1, 0, 0, 0, 0, 0, 0, 0, 0, 0, 0, 0, 0, 0],\n",
      "       [0, 1, 0, 0, 0, 0, 0, 0, 0, 0, 0, 0, 0, 0],\n",
      "       [0, 0, 0, 0, 0, 0, 1, 0, 0, 0, 0, 0, 0, 0],\n",
      "       [0, 0, 1, 0, 0, 0, 0, 0, 0, 0, 0, 0, 0, 0],\n",
      "       [1, 0, 0, 0, 0, 0, 0, 0, 0, 0, 0, 0, 0, 0],\n",
      "       [1, 0, 0, 0, 0, 0, 0, 0, 0, 0, 0, 0, 0, 0],\n",
      "       [1, 0, 0, 0, 0, 0, 0, 0, 0, 0, 0, 0, 0, 0],\n",
      "       [1, 0, 0, 0, 0, 0, 0, 0, 0, 0, 0, 0, 0, 0],\n",
      "       [0, 0, 0, 0, 0, 0, 1, 0, 0, 0, 0, 0, 0, 0],\n",
      "       [1, 0, 0, 0, 0, 0, 0, 0, 0, 0, 0, 0, 0, 0],\n",
      "       [1, 0, 0, 0, 0, 0, 0, 0, 0, 0, 0, 0, 0, 0],\n",
      "       [0, 0, 0, 0, 0, 0, 1, 0, 0, 0, 0, 0, 0, 0],\n",
      "       [0, 0, 0, 0, 0, 0, 1, 0, 0, 0, 0, 0, 0, 0],\n",
      "       [0, 0, 0, 0, 0, 0, 0, 0, 0, 1, 0, 0, 0, 0],\n",
      "       [0, 0, 0, 0, 0, 0, 1, 0, 0, 0, 0, 0, 0, 0],\n",
      "       [0, 1, 0, 0, 0, 0, 0, 0, 0, 0, 0, 0, 0, 0],\n",
      "       [1, 0, 0, 0, 0, 0, 0, 0, 0, 0, 0, 0, 0, 0],\n",
      "       [0, 0, 0, 0, 1, 0, 0, 0, 0, 0, 0, 0, 0, 0],\n",
      "       [0, 0, 0, 0, 1, 0, 0, 0, 0, 0, 0, 0, 0, 0],\n",
      "       [0, 0, 0, 0, 1, 0, 0, 0, 0, 0, 0, 0, 0, 0],\n",
      "       [0, 0, 0, 0, 1, 0, 0, 0, 0, 0, 0, 0, 0, 0],\n",
      "       [0, 0, 0, 0, 0, 0, 0, 0, 0, 1, 0, 0, 0, 0],\n",
      "       [0, 0, 0, 0, 0, 0, 0, 0, 0, 1, 0, 0, 0, 0],\n",
      "       [0, 0, 0, 1, 0, 0, 0, 0, 0, 0, 0, 0, 0, 0],\n",
      "       [1, 0, 0, 0, 0, 0, 0, 0, 0, 0, 0, 0, 0, 0],\n",
      "       [1, 0, 0, 0, 0, 0, 0, 0, 0, 0, 0, 0, 0, 0],\n",
      "       [1, 0, 0, 0, 0, 0, 0, 0, 0, 0, 0, 0, 0, 0],\n",
      "       [1, 0, 0, 0, 0, 0, 0, 0, 0, 0, 0, 0, 0, 0],\n",
      "       [0, 0, 0, 0, 1, 0, 0, 0, 0, 0, 0, 0, 0, 0],\n",
      "       [1, 0, 0, 0, 0, 0, 0, 0, 0, 0, 0, 0, 0, 0],\n",
      "       [1, 0, 0, 0, 0, 0, 0, 0, 0, 0, 0, 0, 0, 0],\n",
      "       [1, 0, 0, 0, 0, 0, 0, 0, 0, 0, 0, 0, 0, 0],\n",
      "       [1, 0, 0, 0, 0, 0, 0, 0, 0, 0, 0, 0, 0, 0],\n",
      "       [1, 0, 0, 0, 0, 0, 0, 0, 0, 0, 0, 0, 0, 0],\n",
      "       [0, 1, 0, 0, 0, 0, 0, 0, 0, 0, 0, 0, 0, 0],\n",
      "       [1, 0, 0, 0, 0, 0, 0, 0, 0, 0, 0, 0, 0, 0],\n",
      "       [0, 0, 0, 0, 1, 0, 0, 0, 0, 0, 0, 0, 0, 0],\n",
      "       [0, 0, 0, 0, 0, 0, 1, 0, 0, 0, 0, 0, 0, 0],\n",
      "       [1, 0, 0, 0, 0, 0, 0, 0, 0, 0, 0, 0, 0, 0],\n",
      "       [1, 0, 0, 0, 0, 0, 0, 0, 0, 0, 0, 0, 0, 0],\n",
      "       [1, 0, 0, 0, 0, 0, 0, 0, 0, 0, 0, 0, 0, 0],\n",
      "       [1, 0, 0, 0, 0, 0, 0, 0, 0, 0, 0, 0, 0, 0],\n",
      "       [0, 1, 0, 0, 0, 0, 0, 0, 0, 0, 0, 0, 0, 0],\n",
      "       [0, 0, 0, 0, 0, 0, 0, 0, 0, 1, 0, 0, 0, 0],\n",
      "       [0, 0, 0, 0, 0, 0, 1, 0, 0, 0, 0, 0, 0, 0],\n",
      "       [0, 0, 0, 0, 1, 0, 0, 0, 0, 0, 0, 0, 0, 0],\n",
      "       [1, 0, 0, 0, 0, 0, 0, 0, 0, 0, 0, 0, 0, 0],\n",
      "       [0, 0, 0, 0, 0, 0, 1, 0, 0, 0, 0, 0, 0, 0],\n",
      "       [1, 0, 0, 0, 0, 0, 0, 0, 0, 0, 0, 0, 0, 0],\n",
      "       [1, 0, 0, 0, 0, 0, 0, 0, 0, 0, 0, 0, 0, 0],\n",
      "       [0, 1, 0, 0, 0, 0, 0, 0, 0, 0, 0, 0, 0, 0],\n",
      "       [1, 0, 0, 0, 0, 0, 0, 0, 0, 0, 0, 0, 0, 0],\n",
      "       [1, 0, 0, 0, 0, 0, 0, 0, 0, 0, 0, 0, 0, 0],\n",
      "       [1, 0, 0, 0, 0, 0, 0, 0, 0, 0, 0, 0, 0, 0],\n",
      "       [0, 1, 0, 0, 0, 0, 0, 0, 0, 0, 0, 0, 0, 0],\n",
      "       [1, 0, 0, 0, 0, 0, 0, 0, 0, 0, 0, 0, 0, 0],\n",
      "       [1, 0, 0, 0, 0, 0, 0, 0, 0, 0, 0, 0, 0, 0]], dtype=int32)>, 'site_id': <tf.Tensor: id=210, shape=(64, 9), dtype=int32, numpy=\n",
      "array([[1, 0, 0, 0, 0, 0, 0, 0, 0],\n",
      "       [1, 0, 0, 0, 0, 0, 0, 0, 0],\n",
      "       [1, 0, 0, 0, 0, 0, 0, 0, 0],\n",
      "       [1, 0, 0, 0, 0, 0, 0, 0, 0],\n",
      "       [1, 0, 0, 0, 0, 0, 0, 0, 0],\n",
      "       [1, 0, 0, 0, 0, 0, 0, 0, 0],\n",
      "       [1, 0, 0, 0, 0, 0, 0, 0, 0],\n",
      "       [1, 0, 0, 0, 0, 0, 0, 0, 0],\n",
      "       [1, 0, 0, 0, 0, 0, 0, 0, 0],\n",
      "       [1, 0, 0, 0, 0, 0, 0, 0, 0],\n",
      "       [1, 0, 0, 0, 0, 0, 0, 0, 0],\n",
      "       [1, 0, 0, 0, 0, 0, 0, 0, 0],\n",
      "       [1, 0, 0, 0, 0, 0, 0, 0, 0],\n",
      "       [1, 0, 0, 0, 0, 0, 0, 0, 0],\n",
      "       [1, 0, 0, 0, 0, 0, 0, 0, 0],\n",
      "       [1, 0, 0, 0, 0, 0, 0, 0, 0],\n",
      "       [1, 0, 0, 0, 0, 0, 0, 0, 0],\n",
      "       [1, 0, 0, 0, 0, 0, 0, 0, 0],\n",
      "       [1, 0, 0, 0, 0, 0, 0, 0, 0],\n",
      "       [1, 0, 0, 0, 0, 0, 0, 0, 0],\n",
      "       [1, 0, 0, 0, 0, 0, 0, 0, 0],\n",
      "       [1, 0, 0, 0, 0, 0, 0, 0, 0],\n",
      "       [1, 0, 0, 0, 0, 0, 0, 0, 0],\n",
      "       [1, 0, 0, 0, 0, 0, 0, 0, 0],\n",
      "       [1, 0, 0, 0, 0, 0, 0, 0, 0],\n",
      "       [1, 0, 0, 0, 0, 0, 0, 0, 0],\n",
      "       [1, 0, 0, 0, 0, 0, 0, 0, 0],\n",
      "       [1, 0, 0, 0, 0, 0, 0, 0, 0],\n",
      "       [1, 0, 0, 0, 0, 0, 0, 0, 0],\n",
      "       [1, 0, 0, 0, 0, 0, 0, 0, 0],\n",
      "       [1, 0, 0, 0, 0, 0, 0, 0, 0],\n",
      "       [1, 0, 0, 0, 0, 0, 0, 0, 0],\n",
      "       [1, 0, 0, 0, 0, 0, 0, 0, 0],\n",
      "       [1, 0, 0, 0, 0, 0, 0, 0, 0],\n",
      "       [1, 0, 0, 0, 0, 0, 0, 0, 0],\n",
      "       [1, 0, 0, 0, 0, 0, 0, 0, 0],\n",
      "       [1, 0, 0, 0, 0, 0, 0, 0, 0],\n",
      "       [1, 0, 0, 0, 0, 0, 0, 0, 0],\n",
      "       [1, 0, 0, 0, 0, 0, 0, 0, 0],\n",
      "       [1, 0, 0, 0, 0, 0, 0, 0, 0],\n",
      "       [1, 0, 0, 0, 0, 0, 0, 0, 0],\n",
      "       [1, 0, 0, 0, 0, 0, 0, 0, 0],\n",
      "       [1, 0, 0, 0, 0, 0, 0, 0, 0],\n",
      "       [1, 0, 0, 0, 0, 0, 0, 0, 0],\n",
      "       [1, 0, 0, 0, 0, 0, 0, 0, 0],\n",
      "       [1, 0, 0, 0, 0, 0, 0, 0, 0],\n",
      "       [1, 0, 0, 0, 0, 0, 0, 0, 0],\n",
      "       [1, 0, 0, 0, 0, 0, 0, 0, 0],\n",
      "       [1, 0, 0, 0, 0, 0, 0, 0, 0],\n",
      "       [1, 0, 0, 0, 0, 0, 0, 0, 0],\n",
      "       [1, 0, 0, 0, 0, 0, 0, 0, 0],\n",
      "       [1, 0, 0, 0, 0, 0, 0, 0, 0],\n",
      "       [1, 0, 0, 0, 0, 0, 0, 0, 0],\n",
      "       [1, 0, 0, 0, 0, 0, 0, 0, 0],\n",
      "       [1, 0, 0, 0, 0, 0, 0, 0, 0],\n",
      "       [1, 0, 0, 0, 0, 0, 0, 0, 0],\n",
      "       [1, 0, 0, 0, 0, 0, 0, 0, 0],\n",
      "       [1, 0, 0, 0, 0, 0, 0, 0, 0],\n",
      "       [1, 0, 0, 0, 0, 0, 0, 0, 0],\n",
      "       [1, 0, 0, 0, 0, 0, 0, 0, 0],\n",
      "       [1, 0, 0, 0, 0, 0, 0, 0, 0],\n",
      "       [1, 0, 0, 0, 0, 0, 0, 0, 0],\n",
      "       [1, 0, 0, 0, 0, 0, 0, 0, 0],\n",
      "       [1, 0, 0, 0, 0, 0, 0, 0, 0]], dtype=int32)>}, <tf.Tensor: id=212, shape=(64,), dtype=float64, numpy=\n",
      "array([4.57190e+00, 2.09886e+02, 5.15570e+01, 1.76686e+02, 1.12891e+01,\n",
      "       1.93427e+01, 5.28583e+01, 1.16337e+02, 1.30686e+02, 5.87310e+00,\n",
      "       7.03000e-02, 2.03274e+01, 1.25903e+01, 1.30827e+01, 6.68200e-01,\n",
      "       6.15450e+00, 8.28922e+01, 2.51701e+02, 1.15353e+01, 2.41959e+01,\n",
      "       1.68809e+01, 4.62466e+01, 4.98689e+01, 2.67140e+02, 9.81905e+01,\n",
      "       1.81786e+02, 4.20615e+01, 8.58815e+01, 1.69020e+02, 2.02571e+01,\n",
      "       1.05500e-01, 8.12392e+02, 2.59192e+01, 1.55093e+02, 2.98229e+01,\n",
      "       5.34560e+00, 1.79359e+01, 9.50253e+01, 2.77128e+02, 1.97436e+02,\n",
      "       2.96259e+02, 1.11132e+01, 1.37861e+01, 1.82138e+02, 1.70567e+01,\n",
      "       1.17990e+02, 5.11877e+02, 6.88248e+01, 7.03370e+00, 7.52610e+00,\n",
      "       1.03044e+01, 2.46179e+01, 1.58610e+01, 9.74170e+00, 1.80133e+02,\n",
      "       1.80344e+02, 1.11484e+01, 2.61900e+02, 2.80996e+01, 1.05500e-01,\n",
      "       5.75357e+01, 5.93046e+02, 1.33289e+01, 1.01990e+00])>)]\n"
     ]
    }
   ],
   "source": [
    "\n",
    "print(list(dataset.take(1)))"
   ]
  },
  {
   "cell_type": "markdown",
   "metadata": {},
   "source": [
    "##### Feature Categorization"
   ]
  },
  {
   "cell_type": "code",
   "execution_count": 67,
   "metadata": {},
   "outputs": [],
   "source": [
    "primary_use = tf.feature_column.numeric_column('primary_use', shape=(14,))\n",
    "site_id = tf.feature_column.numeric_column('site_id', shape=(9,))\n",
    "month_day = tf.feature_column.numeric_column('month_day', shape=(3,))"
   ]
  },
  {
   "cell_type": "code",
   "execution_count": 68,
   "metadata": {},
   "outputs": [],
   "source": [
    "numeric_columns = [tf.feature_column.numeric_column(feat) for feat in col_names_[1:4]]"
   ]
  },
  {
   "cell_type": "code",
   "execution_count": 69,
   "metadata": {},
   "outputs": [],
   "source": [
    "columns = numeric_columns + [month_day,primary_use,site_id]"
   ]
  },
  {
   "cell_type": "code",
   "execution_count": 70,
   "metadata": {},
   "outputs": [],
   "source": [
    "feature_layer = tf.keras.layers.DenseFeatures(columns)"
   ]
  },
  {
   "cell_type": "code",
   "execution_count": null,
   "metadata": {},
   "outputs": [],
   "source": []
  },
  {
   "cell_type": "markdown",
   "metadata": {},
   "source": [
    "# Build Model"
   ]
  },
  {
   "cell_type": "code",
   "execution_count": 124,
   "metadata": {},
   "outputs": [],
   "source": [
    "from tensorflow.keras import backend as K\n",
    "from tensorflow.keras.constraints import  NonNeg\n",
    "\n",
    "def root_mean_squared_error(y_true, y_pred):\n",
    "    '''\n",
    "    \n",
    "    this is the loss function specified in kaggle competition\n",
    "    '''\n",
    "        \n",
    "    return K.sqrt(K.mean (K.square(  (K.log(K.abs(y_pred)+1)- K.log(y_true+1)) )   )   )\n",
    "\n",
    "\n",
    "\n",
    "def root_mean_squared_error2(y_true, y_pred):\n",
    "    '''\n",
    "    this is 1.- mean squared\n",
    "    root mean squared is a value between 0 and 1 \n",
    "    to reflect accuracy use 1-rms\n",
    "    '''\n",
    "        \n",
    "    return  K.sqrt(K.mean( ( K.square ( y_pred - y_true    )   )   )) "
   ]
  },
  {
   "cell_type": "code",
   "execution_count": 487,
   "metadata": {},
   "outputs": [],
   "source": [
    "# model layer \n",
    "model = tf.keras.Sequential([\n",
    "    feature_layer,\n",
    "    tf.keras.layers.Dense(64),\n",
    "    tf.keras.layers.Dense(32,activation='relu'),\n",
    "    tf.keras.layers.Dense(16,kernel_regularizer=regularizers.l2(1e-2),kernel_constraint=NonNeg()),\n",
    "    tf.keras.layers.Dropout(0.4),\n",
    "    tf.keras.layers.Dense(8,activation='relu',kernel_constraint=NonNeg()),\n",
    "    tf.keras.layers.Dense(4,activation='relu',kernel_constraint=NonNeg()),\n",
    "    tf.keras.layers.Dense(2,kernel_regularizer=regularizers.l2(1e-2),kernel_constraint=NonNeg()),\n",
    "    tf.keras.layers.Dropout(0.5),\n",
    "    tf.keras.layers.Dense(1, activation='linear',kernel_constraint=NonNeg())\n",
    "])\n"
   ]
  },
  {
   "cell_type": "code",
   "execution_count": 503,
   "metadata": {},
   "outputs": [],
   "source": [
    "model.compile(optimizer = tf.train.AdagradOptimizer(1e-4),\n",
    "             loss=root_mean_squared_error)\n",
    "\n",
    "# error ranges value 1e-2 to 1e-4 for good performance\n",
    "\n",
    "# Optimizer to use '''''' AdagradOptimizer and root_mean_squared_error2 ranges 1\n",
    "# Adam --- not good\n",
    "# Adam\n",
    "#Rmsprop\n"
   ]
  },
  {
   "cell_type": "code",
   "execution_count": 504,
   "metadata": {},
   "outputs": [
    {
     "data": {
      "text/plain": [
       "'training_1'"
      ]
     },
     "execution_count": 504,
     "metadata": {},
     "output_type": "execute_result"
    }
   ],
   "source": [
    "import os\n",
    "checkpoint_path = \"training_1/cp.ckpt\"\n",
    "checkpoint_dir = os.path.dirname(checkpoint_path)\n",
    "checkpoint_dir\n"
   ]
  },
  {
   "cell_type": "code",
   "execution_count": 505,
   "metadata": {},
   "outputs": [],
   "source": [
    "# Create a callback that saves the model's weights\n",
    "cp_callback = tf.keras.callbacks.ModelCheckpoint(filepath=checkpoint_path,\n",
    "                                                 save_weights_only=True,\n",
    "                                                 verbose=1)"
   ]
  },
  {
   "cell_type": "code",
   "execution_count": 506,
   "metadata": {},
   "outputs": [
    {
     "name": "stdout",
     "output_type": "stream",
     "text": [
      "Epoch 1/10\n",
      "36/40 [==========================>...] - ETA: 0s - loss: 5.3042\n",
      "Epoch 00001: saving model to training_1/cp.ckpt\n",
      "40/40 [==============================] - 2s 57ms/step - loss: 5.3063\n",
      "Epoch 2/10\n",
      "38/40 [===========================>..] - ETA: 0s - loss: 5.1936\n",
      "Epoch 00002: saving model to training_1/cp.ckpt\n",
      "40/40 [==============================] - 0s 9ms/step - loss: 5.1883\n",
      "Epoch 3/10\n",
      "38/40 [===========================>..] - ETA: 0s - loss: 5.2325\n",
      "Epoch 00003: saving model to training_1/cp.ckpt\n",
      "40/40 [==============================] - 0s 9ms/step - loss: 5.2314\n",
      "Epoch 4/10\n",
      "38/40 [===========================>..] - ETA: 0s - loss: 5.3055\n",
      "Epoch 00004: saving model to training_1/cp.ckpt\n",
      "40/40 [==============================] - 0s 9ms/step - loss: 5.2907\n",
      "Epoch 5/10\n",
      "39/40 [============================>.] - ETA: 0s - loss: 5.1751\n",
      "Epoch 00005: saving model to training_1/cp.ckpt\n",
      "40/40 [==============================] - 0s 7ms/step - loss: 5.1638\n",
      "Epoch 6/10\n",
      "39/40 [============================>.] - ETA: 0s - loss: 5.2474\n",
      "Epoch 00006: saving model to training_1/cp.ckpt\n",
      "40/40 [==============================] - 0s 6ms/step - loss: 5.2402\n",
      "Epoch 7/10\n",
      "37/40 [==========================>...] - ETA: 0s - loss: 5.2278\n",
      "Epoch 00007: saving model to training_1/cp.ckpt\n",
      "40/40 [==============================] - 0s 6ms/step - loss: 5.2321\n",
      "Epoch 8/10\n",
      "38/40 [===========================>..] - ETA: 0s - loss: 5.0701\n",
      "Epoch 00008: saving model to training_1/cp.ckpt\n",
      "40/40 [==============================] - 0s 6ms/step - loss: 5.0593\n",
      "Epoch 9/10\n",
      "37/40 [==========================>...] - ETA: 0s - loss: 5.1498\n",
      "Epoch 00009: saving model to training_1/cp.ckpt\n",
      "40/40 [==============================] - 0s 6ms/step - loss: 5.1374\n",
      "Epoch 10/10\n",
      "37/40 [==========================>...] - ETA: 0s - loss: 5.1514\n",
      "Epoch 00010: saving model to training_1/cp.ckpt\n",
      "40/40 [==============================] - 0s 6ms/step - loss: 5.1430\n",
      "Epoch 1/10\n",
      "38/40 [===========================>..] - ETA: 0s - loss: 5.0744\n",
      "Epoch 00001: saving model to training_1/cp.ckpt\n",
      "40/40 [==============================] - 0s 6ms/step - loss: 5.0866\n",
      "Epoch 2/10\n",
      "37/40 [==========================>...] - ETA: 0s - loss: 5.0755\n",
      "Epoch 00002: saving model to training_1/cp.ckpt\n",
      "40/40 [==============================] - 0s 6ms/step - loss: 5.0770\n",
      "Epoch 3/10\n",
      "36/40 [==========================>...] - ETA: 0s - loss: 4.9931\n",
      "Epoch 00003: saving model to training_1/cp.ckpt\n",
      "40/40 [==============================] - 0s 6ms/step - loss: 4.9904\n",
      "Epoch 4/10\n",
      "38/40 [===========================>..] - ETA: 0s - loss: 5.1525\n",
      "Epoch 00004: saving model to training_1/cp.ckpt\n",
      "40/40 [==============================] - 0s 6ms/step - loss: 5.1455\n",
      "Epoch 5/10\n",
      "37/40 [==========================>...] - ETA: 0s - loss: 5.1026\n",
      "Epoch 00005: saving model to training_1/cp.ckpt\n",
      "40/40 [==============================] - 0s 6ms/step - loss: 5.1021\n",
      "Epoch 6/10\n",
      "37/40 [==========================>...] - ETA: 0s - loss: 5.1100\n",
      "Epoch 00006: saving model to training_1/cp.ckpt\n",
      "40/40 [==============================] - 0s 6ms/step - loss: 5.0945\n",
      "Epoch 7/10\n",
      "39/40 [============================>.] - ETA: 0s - loss: 5.1694\n",
      "Epoch 00007: saving model to training_1/cp.ckpt\n",
      "40/40 [==============================] - 0s 6ms/step - loss: 5.1656\n",
      "Epoch 8/10\n",
      "37/40 [==========================>...] - ETA: 0s - loss: 5.0603\n",
      "Epoch 00008: saving model to training_1/cp.ckpt\n",
      "40/40 [==============================] - 0s 6ms/step - loss: 5.0854\n",
      "Epoch 9/10\n",
      "37/40 [==========================>...] - ETA: 0s - loss: 5.0055\n",
      "Epoch 00009: saving model to training_1/cp.ckpt\n",
      "40/40 [==============================] - 0s 6ms/step - loss: 5.0142\n",
      "Epoch 10/10\n",
      "37/40 [==========================>...] - ETA: 0s - loss: 5.0071\n",
      "Epoch 00010: saving model to training_1/cp.ckpt\n",
      "40/40 [==============================] - 0s 6ms/step - loss: 5.0108\n",
      "Epoch 1/10\n",
      "31/40 [======================>.......] - ETA: 0s - loss: 5.0261\n",
      "Epoch 00001: saving model to training_1/cp.ckpt\n",
      "40/40 [==============================] - 0s 6ms/step - loss: 5.0317\n",
      "Epoch 2/10\n",
      "30/40 [=====================>........] - ETA: 0s - loss: 5.0715\n",
      "Epoch 00002: saving model to training_1/cp.ckpt\n",
      "40/40 [==============================] - 0s 6ms/step - loss: 5.0760\n",
      "Epoch 3/10\n",
      "31/40 [======================>.......] - ETA: 0s - loss: 5.0499\n",
      "Epoch 00003: saving model to training_1/cp.ckpt\n",
      "40/40 [==============================] - 0s 5ms/step - loss: 5.0369\n",
      "Epoch 4/10\n",
      "30/40 [=====================>........] - ETA: 0s - loss: 4.9699\n",
      "Epoch 00004: saving model to training_1/cp.ckpt\n",
      "40/40 [==============================] - 0s 6ms/step - loss: 4.9668\n",
      "Epoch 5/10\n",
      "30/40 [=====================>........] - ETA: 0s - loss: 4.9923\n",
      "Epoch 00005: saving model to training_1/cp.ckpt\n",
      "40/40 [==============================] - 0s 6ms/step - loss: 4.9713\n",
      "Epoch 6/10\n",
      "30/40 [=====================>........] - ETA: 0s - loss: 4.9430\n",
      "Epoch 00006: saving model to training_1/cp.ckpt\n",
      "40/40 [==============================] - 0s 5ms/step - loss: 4.9348\n",
      "Epoch 7/10\n",
      "30/40 [=====================>........] - ETA: 0s - loss: 4.9843\n",
      "Epoch 00007: saving model to training_1/cp.ckpt\n",
      "40/40 [==============================] - 0s 5ms/step - loss: 4.9885\n",
      "Epoch 8/10\n",
      "38/40 [===========================>..] - ETA: 0s - loss: 4.9368\n",
      "Epoch 00008: saving model to training_1/cp.ckpt\n",
      "40/40 [==============================] - 0s 8ms/step - loss: 4.9248\n",
      "Epoch 9/10\n",
      "39/40 [============================>.] - ETA: 0s - loss: 4.9537\n",
      "Epoch 00009: saving model to training_1/cp.ckpt\n",
      "40/40 [==============================] - 0s 9ms/step - loss: 4.9610\n",
      "Epoch 10/10\n",
      "39/40 [============================>.] - ETA: 0s - loss: 4.9888\n",
      "Epoch 00010: saving model to training_1/cp.ckpt\n",
      "40/40 [==============================] - 0s 9ms/step - loss: 4.9946\n",
      "Epoch 1/10\n",
      "36/40 [==========================>...] - ETA: 0s - loss: 4.9479\n",
      "Epoch 00001: saving model to training_1/cp.ckpt\n",
      "40/40 [==============================] - 0s 10ms/step - loss: 4.9530\n",
      "Epoch 2/10\n",
      "35/40 [=========================>....] - ETA: 0s - loss: 4.9828\n",
      "Epoch 00002: saving model to training_1/cp.ckpt\n",
      "40/40 [==============================] - 0s 10ms/step - loss: 4.9769\n",
      "Epoch 3/10\n",
      "36/40 [==========================>...] - ETA: 0s - loss: 4.8882\n",
      "Epoch 00003: saving model to training_1/cp.ckpt\n",
      "40/40 [==============================] - 0s 10ms/step - loss: 4.9061\n",
      "Epoch 4/10\n",
      "34/40 [========================>.....] - ETA: 0s - loss: 4.8751\n",
      "Epoch 00004: saving model to training_1/cp.ckpt\n",
      "40/40 [==============================] - 0s 9ms/step - loss: 4.8817\n",
      "Epoch 5/10\n",
      "38/40 [===========================>..] - ETA: 0s - loss: 4.8478\n",
      "Epoch 00005: saving model to training_1/cp.ckpt\n",
      "40/40 [==============================] - 0s 9ms/step - loss: 4.8436\n",
      "Epoch 6/10\n",
      "37/40 [==========================>...] - ETA: 0s - loss: 4.8871\n",
      "Epoch 00006: saving model to training_1/cp.ckpt\n",
      "40/40 [==============================] - 0s 9ms/step - loss: 4.8772\n",
      "Epoch 7/10\n",
      "33/40 [=======================>......] - ETA: 0s - loss: 4.9364\n",
      "Epoch 00007: saving model to training_1/cp.ckpt\n",
      "40/40 [==============================] - 0s 9ms/step - loss: 4.9241\n",
      "Epoch 8/10\n",
      "38/40 [===========================>..] - ETA: 0s - loss: 4.8183\n",
      "Epoch 00008: saving model to training_1/cp.ckpt\n",
      "40/40 [==============================] - 0s 9ms/step - loss: 4.8177\n",
      "Epoch 9/10\n",
      "37/40 [==========================>...] - ETA: 0s - loss: 4.8687\n",
      "Epoch 00009: saving model to training_1/cp.ckpt\n",
      "40/40 [==============================] - 0s 9ms/step - loss: 4.8751\n",
      "Epoch 10/10\n",
      "39/40 [============================>.] - ETA: 0s - loss: 4.8281\n",
      "Epoch 00010: saving model to training_1/cp.ckpt\n",
      "40/40 [==============================] - 0s 9ms/step - loss: 4.8334\n",
      "Epoch 1/10\n",
      "39/40 [============================>.] - ETA: 0s - loss: 4.8658\n",
      "Epoch 00001: saving model to training_1/cp.ckpt\n",
      "40/40 [==============================] - 0s 9ms/step - loss: 4.8611\n",
      "Epoch 2/10\n",
      "34/40 [========================>.....] - ETA: 0s - loss: 4.8444\n",
      "Epoch 00002: saving model to training_1/cp.ckpt\n",
      "40/40 [==============================] - 0s 9ms/step - loss: 4.8510\n",
      "Epoch 3/10\n",
      "38/40 [===========================>..] - ETA: 0s - loss: 4.9227\n",
      "Epoch 00003: saving model to training_1/cp.ckpt\n",
      "40/40 [==============================] - 0s 9ms/step - loss: 4.9132\n"
     ]
    },
    {
     "name": "stdout",
     "output_type": "stream",
     "text": [
      "Epoch 4/10\n",
      "39/40 [============================>.] - ETA: 0s - loss: 4.8886\n",
      "Epoch 00004: saving model to training_1/cp.ckpt\n",
      "40/40 [==============================] - 0s 10ms/step - loss: 4.8902\n",
      "Epoch 5/10\n",
      "33/40 [=======================>......] - ETA: 0s - loss: 4.8423\n",
      "Epoch 00005: saving model to training_1/cp.ckpt\n",
      "40/40 [==============================] - 0s 9ms/step - loss: 4.8397\n",
      "Epoch 6/10\n",
      "35/40 [=========================>....] - ETA: 0s - loss: 4.8732\n",
      "Epoch 00006: saving model to training_1/cp.ckpt\n",
      "40/40 [==============================] - 0s 8ms/step - loss: 4.8859\n",
      "Epoch 7/10\n",
      "35/40 [=========================>....] - ETA: 0s - loss: 4.8321\n",
      "Epoch 00007: saving model to training_1/cp.ckpt\n",
      "40/40 [==============================] - 0s 8ms/step - loss: 4.8305\n",
      "Epoch 8/10\n",
      "39/40 [============================>.] - ETA: 0s - loss: 4.7360\n",
      "Epoch 00008: saving model to training_1/cp.ckpt\n",
      "40/40 [==============================] - 0s 9ms/step - loss: 4.7269\n",
      "Epoch 9/10\n",
      "37/40 [==========================>...] - ETA: 0s - loss: 4.7999\n",
      "Epoch 00009: saving model to training_1/cp.ckpt\n",
      "40/40 [==============================] - 0s 9ms/step - loss: 4.7958\n",
      "Epoch 10/10\n",
      "37/40 [==========================>...] - ETA: 0s - loss: 4.7710\n",
      "Epoch 00010: saving model to training_1/cp.ckpt\n",
      "40/40 [==============================] - 0s 9ms/step - loss: 4.7794\n"
     ]
    }
   ],
   "source": [
    "train_epochs = 5# increase this to train data better\n",
    "restore = False\n",
    "# for loop trains incrementally\n",
    "# this issue https://github.com/keras-team/keras/issues/4446\n",
    "for i in range(train_epochs):  \n",
    "    if restore:\n",
    "        model.load_weights(checkpoint_path)\n",
    "    model.fit(dataset,epochs=10,steps_per_epoch=40,callbacks=[cp_callback])\n",
    "    restore = True\n",
    "    \n"
   ]
  },
  {
   "cell_type": "markdown",
   "metadata": {},
   "source": [
    "## Testing"
   ]
  },
  {
   "cell_type": "code",
   "execution_count": 507,
   "metadata": {},
   "outputs": [],
   "source": [
    "def _parse_csv_row2(*vals):\n",
    "    '''\n",
    "    Uses Feature columns\n",
    "    Does feature engineering\n",
    "    '''\n",
    "    \n",
    "    # month and day and single feature\n",
    "    month_day = tf.convert_to_tensor(vals[4:7])\n",
    "    # primary use as single feature\n",
    "    primary_use = tf.convert_to_tensor(vals[7:21])\n",
    "    # site id as single feature\n",
    "    site_id =  tf.convert_to_tensor(vals[21:30])\n",
    "    \n",
    "    # merge the features together, note meter reading is the fist column\n",
    "    # so it is excluded -- meaning index starts from 1\n",
    "    feature_vals = vals[1:4] + (month_day,primary_use,site_id)\n",
    "    \n",
    "    \n",
    "    # zip into a  feature sets into a single col\n",
    "    features = dict(zip(col_names_[1:],feature_vals))\n",
    "    \n",
    "    # name the targets or lables\n",
    "    targets_tensor = tf.convert_to_tensor(vals[0],name=col_names_[0]) \n",
    "    \n",
    "    \n",
    "    \n",
    "    return features"
   ]
  },
  {
   "cell_type": "code",
   "execution_count": 508,
   "metadata": {},
   "outputs": [],
   "source": [
    "testdata = tf.data.experimental.CsvDataset('meter1Test.csv', data_types, header=False)"
   ]
  },
  {
   "cell_type": "code",
   "execution_count": 509,
   "metadata": {},
   "outputs": [],
   "source": [
    "test = testdata.map(_parse_csv_row2).batch(1)"
   ]
  },
  {
   "cell_type": "code",
   "execution_count": 510,
   "metadata": {},
   "outputs": [],
   "source": [
    "# predicitons \n",
    "predictions = model.predict(test)"
   ]
  },
  {
   "cell_type": "code",
   "execution_count": 511,
   "metadata": {},
   "outputs": [],
   "source": [
    "# get true values\n",
    "true_values=pd.read_csv('meter1Test.csv',header=None)[0].values"
   ]
  },
  {
   "cell_type": "code",
   "execution_count": 512,
   "metadata": {},
   "outputs": [
    {
     "data": {
      "text/plain": [
       "Text(0.5, 0, 'Iterations')"
      ]
     },
     "execution_count": 512,
     "metadata": {},
     "output_type": "execute_result"
    },
    {
     "data": {
      "image/png": "[encoded data removed]",
      "text/plain": [
       "<Figure size 432x288 with 1 Axes>"
      ]
     },
     "metadata": {
      "needs_background": "light"
     },
     "output_type": "display_data"
    }
   ],
   "source": [
    "plt.plot(predictions,\"-g\" ,label='Predictions')\n",
    "#plt.plot(true_values, \"-r\",label='True Values')\n",
    "plt.legend(loc=\"upper left\")\n",
    "plt.title('Model Prediction ')\n",
    "plt.ylabel('meter readinds')\n",
    "plt.xlabel('Iterations')"
   ]
  },
  {
   "cell_type": "code",
   "execution_count": 498,
   "metadata": {},
   "outputs": [
    {
     "data": {
      "text/plain": [
       "Text(0.5, 0, 'Iterations')"
      ]
     },
     "execution_count": 498,
     "metadata": {},
     "output_type": "execute_result"
    },
    {
     "data": {
      "image/png": "[encoded data removed]",
      "text/plain": [
       "<Figure size 432x288 with 1 Axes>"
      ]
     },
     "metadata": {
      "needs_background": "light"
     },
     "output_type": "display_data"
    }
   ],
   "source": [
    "#plt.plot(predictions,\"-g\" ,label='Predictions')\n",
    "plt.plot(true_values, \"-r\",label='True Values',color='orange')\n",
    "plt.legend(loc=\"upper left\")\n",
    "plt.title('True Values ')\n",
    "plt.ylabel('meter readinds')\n",
    "plt.xlabel('Iterations')"
   ]
  },
  {
   "cell_type": "code",
   "execution_count": 499,
   "metadata": {},
   "outputs": [
    {
     "name": "stdout",
     "output_type": "stream",
     "text": [
      "The autoreload extension is already loaded. To reload it, use:\n",
      "  %reload_ext autoreload\n"
     ]
    }
   ],
   "source": [
    "from utility import utils\n",
    "%load_ext autoreload\n",
    "%autoreload 2"
   ]
  },
  {
   "cell_type": "code",
   "execution_count": null,
   "metadata": {},
   "outputs": [],
   "source": []
  },
  {
   "cell_type": "code",
   "execution_count": 500,
   "metadata": {},
   "outputs": [],
   "source": [
    "test_predicted = pd.DataFrame(list(zip(test_building_id,test_timestamp,list(predictions))),columns= ['building_id','timestamp', 'meter_reading' ,] )"
   ]
  },
  {
   "cell_type": "code",
   "execution_count": 501,
   "metadata": {},
   "outputs": [],
   "source": [
    "true_readings = pd.DataFrame(list(zip(test_building_id,test_timestamp,list(true_values))),columns= ['building_id','timestamp', 'meter_reading' ,] )"
   ]
  },
  {
   "cell_type": "code",
   "execution_count": 502,
   "metadata": {},
   "outputs": [
    {
     "data": {
      "image/png": "[encoded data removed]",
      "text/plain": [
       "<Figure size 432x288 with 1 Axes>"
      ]
     },
     "metadata": {
      "needs_background": "light"
     },
     "output_type": "display_data"
    },
    {
     "data": {
      "image/png": "[encoded data removed]",
      "text/plain": [
       "<Figure size 432x288 with 1 Axes>"
      ]
     },
     "metadata": {
      "needs_background": "light"
     },
     "output_type": "display_data"
    },
    {
     "data": {
      "image/png": "[encoded data removed]",
      "text/plain": [
       "<Figure size 432x288 with 1 Axes>"
      ]
     },
     "metadata": {
      "needs_background": "light"
     },
     "output_type": "display_data"
    },
    {
     "data": {
      "image/png": "[encoded data removed]",
      "text/plain": [
       "<Figure size 432x288 with 1 Axes>"
      ]
     },
     "metadata": {
      "needs_background": "light"
     },
     "output_type": "display_data"
    },
    {
     "data": {
      "image/png": "[encoded data removed]",
      "text/plain": [
       "<Figure size 432x288 with 1 Axes>"
      ]
     },
     "metadata": {
      "needs_background": "light"
     },
     "output_type": "display_data"
    },
    {
     "data": {
      "image/png": "[encoded data removed]",
      "text/plain": [
       "<Figure size 432x288 with 1 Axes>"
      ]
     },
     "metadata": {
      "needs_background": "light"
     },
     "output_type": "display_data"
    }
   ],
   "source": [
    "utils.plot_meter(true_readings,test_predicted,n_plots=5)"
   ]
  },
  {
   "cell_type": "code",
   "execution_count": null,
   "metadata": {},
   "outputs": [],
   "source": []
  }
 ],
 "metadata": {
  "kernelspec": {
   "display_name": "Python 3",
   "language": "python",
   "name": "python3"
  },
  "language_info": {
   "codemirror_mode": {
    "name": "ipython",
    "version": 3
   },
   "file_extension": ".py",
   "mimetype": "text/x-python",
   "name": "python",
   "nbconvert_exporter": "python",
   "pygments_lexer": "ipython3",
   "version": "3.7.5"
  }
 },
 "nbformat": 4,
 "nbformat_minor": 2
}
