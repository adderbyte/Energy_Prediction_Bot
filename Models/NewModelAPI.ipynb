{
 "cells": [
  {
   "cell_type": "markdown",
   "metadata": {},
   "source": [
    "# Time Series Prediction\n"
   ]
  },
  {
   "cell_type": "code",
   "execution_count": 1,
   "metadata": {},
   "outputs": [],
   "source": [
    "# @ Lukman copyright \n",
    "# MIT Licence"
   ]
  },
  {
   "cell_type": "code",
   "execution_count": 2,
   "metadata": {},
   "outputs": [],
   "source": [
    "# for data frame analysis\n",
    "import pandas as pd \n",
    "\n",
    "# for mathematical operations\n",
    "import numpy as np \n",
    "\n",
    "\n",
    "# matplotlib library for plotting\n",
    "import matplotlib.pyplot as plt\n",
    "%matplotlib inline\n",
    "\n",
    "# For Normalizing data\n",
    "from sklearn.preprocessing import StandardScaler\n",
    "\n",
    "# For statistical test\n",
    "import scipy.stats as stats\n",
    "\n",
    "# Split data set into training and test set\n",
    "from sklearn.model_selection import train_test_split as tts\n",
    "\n",
    "# SVN module\n",
    "from sklearn import svm\n",
    "\n",
    "# Kernel Functions used \n",
    "from sklearn.metrics.pairwise import rbf_kernel,laplacian_kernel\n",
    "\n",
    "# module for chi square test\n",
    "from scipy.stats import chisquare\n",
    "\n",
    "\n",
    "# For dictionary \n",
    "from collections import defaultdict\n",
    "\n",
    "# for use of tensorflow\n",
    "import tensorflow as tf\n",
    "#from tensorflow.nn.rnn import *\n",
    "from tensorflow.python.ops  import *\n",
    "from tensorflow.keras import regularizers\n",
    "\n",
    "# for scaling arrays\n",
    "from sklearn.preprocessing import MaxAbsScaler,MinMaxScaler\n",
    "\n",
    "\n",
    "# for random sampling of validation set\n",
    "import random"
   ]
  },
  {
   "cell_type": "code",
   "execution_count": 3,
   "metadata": {},
   "outputs": [],
   "source": [
    "import sys"
   ]
  },
  {
   "cell_type": "code",
   "execution_count": 4,
   "metadata": {},
   "outputs": [
    {
     "data": {
      "text/plain": [
       "'/home/cat/anaconda3/envs/cat/bin/python'"
      ]
     },
     "execution_count": 4,
     "metadata": {},
     "output_type": "execute_result"
    }
   ],
   "source": [
    "sys.executable"
   ]
  },
  {
   "cell_type": "code",
   "execution_count": null,
   "metadata": {},
   "outputs": [],
   "source": []
  },
  {
   "cell_type": "code",
   "execution_count": 5,
   "metadata": {},
   "outputs": [],
   "source": [
    "# enable eager executinon\n",
    "tf.enable_eager_execution()"
   ]
  },
  {
   "cell_type": "code",
   "execution_count": 6,
   "metadata": {},
   "outputs": [
    {
     "data": {
      "text/plain": [
       "'1.15.0'"
      ]
     },
     "execution_count": 6,
     "metadata": {},
     "output_type": "execute_result"
    }
   ],
   "source": [
    "tf.__version__"
   ]
  },
  {
   "cell_type": "markdown",
   "metadata": {},
   "source": [
    "# Data Preprocessing "
   ]
  },
  {
   "cell_type": "code",
   "execution_count": 7,
   "metadata": {},
   "outputs": [],
   "source": [
    "# I will Load only the zero meter data set \n",
    "# same syntax applied for other data set\n",
    "meterOneDataLOaded= pd.read_csv('meterOneTrainData.csv')\n",
    "# all meter types data set could be analysed in same manner"
   ]
  },
  {
   "cell_type": "code",
   "execution_count": 8,
   "metadata": {},
   "outputs": [
    {
     "data": {
      "text/html": [
       "<div>\n",
       "<style scoped>\n",
       "    .dataframe tbody tr th:only-of-type {\n",
       "        vertical-align: middle;\n",
       "    }\n",
       "\n",
       "    .dataframe tbody tr th {\n",
       "        vertical-align: top;\n",
       "    }\n",
       "\n",
       "    .dataframe thead th {\n",
       "        text-align: right;\n",
       "    }\n",
       "</style>\n",
       "<table border=\"1\" class=\"dataframe\">\n",
       "  <thead>\n",
       "    <tr style=\"text-align: right;\">\n",
       "      <th></th>\n",
       "      <th>Unnamed: 0</th>\n",
       "      <th>building_id</th>\n",
       "      <th>meter</th>\n",
       "      <th>timestamp</th>\n",
       "      <th>meter_reading</th>\n",
       "      <th>site_id</th>\n",
       "      <th>primary_use</th>\n",
       "      <th>square_feet</th>\n",
       "      <th>year_built</th>\n",
       "      <th>floor_count</th>\n",
       "      <th>air_temperature</th>\n",
       "      <th>cloud_coverage</th>\n",
       "      <th>dew_temperature</th>\n",
       "      <th>precip_depth_1_hr</th>\n",
       "      <th>sea_level_pressure</th>\n",
       "      <th>wind_direction</th>\n",
       "      <th>wind_speed</th>\n",
       "    </tr>\n",
       "  </thead>\n",
       "  <tbody>\n",
       "    <tr>\n",
       "      <th>1</th>\n",
       "      <td>1</td>\n",
       "      <td>162</td>\n",
       "      <td>1</td>\n",
       "      <td>2016-01-01 00:00:00</td>\n",
       "      <td>0.0000</td>\n",
       "      <td>2</td>\n",
       "      <td>Education</td>\n",
       "      <td>98829</td>\n",
       "      <td>1968.0</td>\n",
       "      <td>NaN</td>\n",
       "      <td>15.6</td>\n",
       "      <td>6.0</td>\n",
       "      <td>-5.6</td>\n",
       "      <td>NaN</td>\n",
       "      <td>1015.3</td>\n",
       "      <td>270.0</td>\n",
       "      <td>3.6</td>\n",
       "    </tr>\n",
       "    <tr>\n",
       "      <th>2</th>\n",
       "      <td>2</td>\n",
       "      <td>163</td>\n",
       "      <td>1</td>\n",
       "      <td>2016-01-01 00:00:00</td>\n",
       "      <td>4.5719</td>\n",
       "      <td>2</td>\n",
       "      <td>Education</td>\n",
       "      <td>72102</td>\n",
       "      <td>1970.0</td>\n",
       "      <td>NaN</td>\n",
       "      <td>15.6</td>\n",
       "      <td>6.0</td>\n",
       "      <td>-5.6</td>\n",
       "      <td>NaN</td>\n",
       "      <td>1015.3</td>\n",
       "      <td>270.0</td>\n",
       "      <td>3.6</td>\n",
       "    </tr>\n",
       "  </tbody>\n",
       "</table>\n",
       "</div>"
      ],
      "text/plain": [
       "   Unnamed: 0  building_id  meter            timestamp  meter_reading  \\\n",
       "1           1          162      1  2016-01-01 00:00:00         0.0000   \n",
       "2           2          163      1  2016-01-01 00:00:00         4.5719   \n",
       "\n",
       "   site_id primary_use  square_feet  year_built  floor_count  air_temperature  \\\n",
       "1        2   Education        98829      1968.0          NaN             15.6   \n",
       "2        2   Education        72102      1970.0          NaN             15.6   \n",
       "\n",
       "   cloud_coverage  dew_temperature  precip_depth_1_hr  sea_level_pressure  \\\n",
       "1             6.0             -5.6                NaN              1015.3   \n",
       "2             6.0             -5.6                NaN              1015.3   \n",
       "\n",
       "   wind_direction  wind_speed  \n",
       "1           270.0         3.6  \n",
       "2           270.0         3.6  "
      ]
     },
     "execution_count": 8,
     "metadata": {},
     "output_type": "execute_result"
    }
   ],
   "source": [
    "meterOneDataLOaded[1:3]"
   ]
  },
  {
   "cell_type": "code",
   "execution_count": 9,
   "metadata": {},
   "outputs": [],
   "source": [
    "# delete column unnmaed\n",
    "del meterOneDataLOaded['Unnamed: 0']"
   ]
  },
  {
   "cell_type": "code",
   "execution_count": 10,
   "metadata": {},
   "outputs": [
    {
     "data": {
      "text/plain": [
       "['building_id',\n",
       " 'meter',\n",
       " 'timestamp',\n",
       " 'meter_reading',\n",
       " 'site_id',\n",
       " 'primary_use',\n",
       " 'square_feet',\n",
       " 'year_built',\n",
       " 'floor_count',\n",
       " 'air_temperature',\n",
       " 'cloud_coverage',\n",
       " 'dew_temperature',\n",
       " 'precip_depth_1_hr',\n",
       " 'sea_level_pressure',\n",
       " 'wind_direction',\n",
       " 'wind_speed']"
      ]
     },
     "execution_count": 10,
     "metadata": {},
     "output_type": "execute_result"
    }
   ],
   "source": [
    "# column values \n",
    "meterOneDataLOaded.columns.tolist()"
   ]
  },
  {
   "cell_type": "code",
   "execution_count": 11,
   "metadata": {},
   "outputs": [],
   "source": [
    "# store column as list\n",
    "columns = meterOneDataLOaded.columns.tolist()"
   ]
  },
  {
   "cell_type": "code",
   "execution_count": 12,
   "metadata": {},
   "outputs": [
    {
     "data": {
      "text/plain": [
       "building_id                 0\n",
       "meter                       0\n",
       "timestamp                   0\n",
       "meter_reading               0\n",
       "site_id                     0\n",
       "primary_use                 0\n",
       "square_feet                 0\n",
       "year_built            2819559\n",
       "floor_count           3972549\n",
       "air_temperature         23502\n",
       "cloud_coverage        1742296\n",
       "dew_temperature         24341\n",
       "precip_depth_1_hr      541565\n",
       "sea_level_pressure     105047\n",
       "wind_direction         402544\n",
       "wind_speed              37330\n",
       "dtype: int64"
      ]
     },
     "execution_count": 12,
     "metadata": {},
     "output_type": "execute_result"
    }
   ],
   "source": [
    "# get null values per column in the data set\n",
    "meterOneDataLOaded.isnull().sum()"
   ]
  },
  {
   "cell_type": "code",
   "execution_count": 13,
   "metadata": {},
   "outputs": [],
   "source": [
    "# chnage to time sta\n",
    "meterOneDataLOaded['timestamp'] =  pd.to_datetime(meterOneDataLOaded['timestamp'])\n"
   ]
  },
  {
   "cell_type": "code",
   "execution_count": 14,
   "metadata": {},
   "outputs": [
    {
     "data": {
      "text/plain": [
       "Int64Index([2016], dtype='int64', name='timestamp')"
      ]
     },
     "execution_count": 14,
     "metadata": {},
     "output_type": "execute_result"
    }
   ],
   "source": [
    "# check the unique time stamp present\n",
    "pd.DatetimeIndex(meterOneDataLOaded['timestamp']).year.unique()"
   ]
  },
  {
   "cell_type": "code",
   "execution_count": 15,
   "metadata": {},
   "outputs": [
    {
     "data": {
      "text/plain": [
       "building_id                    int64\n",
       "meter                          int64\n",
       "timestamp             datetime64[ns]\n",
       "meter_reading                float64\n",
       "site_id                        int64\n",
       "primary_use                   object\n",
       "square_feet                    int64\n",
       "year_built                   float64\n",
       "floor_count                  float64\n",
       "air_temperature              float64\n",
       "cloud_coverage               float64\n",
       "dew_temperature              float64\n",
       "precip_depth_1_hr            float64\n",
       "sea_level_pressure           float64\n",
       "wind_direction               float64\n",
       "wind_speed                   float64\n",
       "dtype: object"
      ]
     },
     "execution_count": 15,
     "metadata": {},
     "output_type": "execute_result"
    }
   ],
   "source": [
    "meterOneDataLOaded.dtypes"
   ]
  },
  {
   "cell_type": "code",
   "execution_count": 16,
   "metadata": {},
   "outputs": [
    {
     "data": {
      "text/plain": [
       "building_id                 0\n",
       "meter                       0\n",
       "timestamp                   0\n",
       "meter_reading               0\n",
       "site_id                     0\n",
       "primary_use                 0\n",
       "square_feet                 0\n",
       "year_built            2819559\n",
       "floor_count           3972549\n",
       "air_temperature         23502\n",
       "cloud_coverage        1742296\n",
       "dew_temperature         24341\n",
       "precip_depth_1_hr      541565\n",
       "sea_level_pressure     105047\n",
       "wind_direction         402544\n",
       "wind_speed              37330\n",
       "dtype: int64"
      ]
     },
     "execution_count": 16,
     "metadata": {},
     "output_type": "execute_result"
    }
   ],
   "source": [
    "# choose windpseed because it has fewer null values\n",
    "meterOneDataLOaded.isnull().sum()"
   ]
  },
  {
   "cell_type": "code",
   "execution_count": 17,
   "metadata": {},
   "outputs": [],
   "source": [
    "# set time stamp as index \n",
    "meterOneDataLOaded.set_index('timestamp',inplace=True);\n"
   ]
  },
  {
   "cell_type": "code",
   "execution_count": 18,
   "metadata": {},
   "outputs": [
    {
     "data": {
      "text/plain": [
       "timestamp\n",
       "2016-01-01   -5.6\n",
       "Name: dew_temperature, dtype: float64"
      ]
     },
     "execution_count": 18,
     "metadata": {},
     "output_type": "execute_result"
    }
   ],
   "source": [
    "meterOneDataLOaded['dew_temperature'][1:2]"
   ]
  },
  {
   "cell_type": "markdown",
   "metadata": {},
   "source": [
    "#### Model \n"
   ]
  },
  {
   "cell_type": "code",
   "execution_count": 19,
   "metadata": {},
   "outputs": [],
   "source": [
    "# a subset of the data has been copied to use to test the visualizer function\n",
    "# use the full data set if space is available and system is fast\n",
    "\n",
    "train_test = meterOneDataLOaded[['meter_reading', 'square_feet', 'air_temperature','primary_use','site_id','dew_temperature']][1:40000].copy()\n"
   ]
  },
  {
   "cell_type": "code",
   "execution_count": 20,
   "metadata": {},
   "outputs": [],
   "source": [
    "\n",
    "# reset the index so that time is no longer the index\n",
    "# the index is now  numbers \n",
    "train_test.reset_index(level=0, inplace=True)\n"
   ]
  },
  {
   "cell_type": "code",
   "execution_count": 21,
   "metadata": {},
   "outputs": [
    {
     "data": {
      "text/plain": [
       "Int64Index([2016], dtype='int64', name='timestamp')"
      ]
     },
     "execution_count": 21,
     "metadata": {},
     "output_type": "execute_result"
    }
   ],
   "source": [
    "# only 2016 data is represented here as usual\n",
    "pd.DatetimeIndex(train_test['timestamp']).year.unique()"
   ]
  },
  {
   "cell_type": "code",
   "execution_count": 22,
   "metadata": {},
   "outputs": [],
   "source": [
    "# extrac year month and day\n",
    "train_test['year'] = pd.DatetimeIndex(train_test['timestamp']).year\n",
    "train_test['month'] = pd.DatetimeIndex(train_test['timestamp']).month\n",
    "train_test['day'] = pd.DatetimeIndex(train_test['timestamp']).day"
   ]
  },
  {
   "cell_type": "code",
   "execution_count": 23,
   "metadata": {},
   "outputs": [
    {
     "data": {
      "text/plain": [
       "timestamp             0\n",
       "meter_reading         0\n",
       "square_feet           0\n",
       "air_temperature    2536\n",
       "primary_use           0\n",
       "site_id               0\n",
       "dew_temperature    2536\n",
       "year                  0\n",
       "month                 0\n",
       "day                   0\n",
       "dtype: int64"
      ]
     },
     "execution_count": 23,
     "metadata": {},
     "output_type": "execute_result"
    }
   ],
   "source": [
    "# check null values\n",
    "train_test.isnull().sum()"
   ]
  },
  {
   "cell_type": "code",
   "execution_count": 24,
   "metadata": {},
   "outputs": [
    {
     "data": {
      "text/plain": [
       "timestamp          datetime64[ns]\n",
       "meter_reading             float64\n",
       "square_feet                 int64\n",
       "air_temperature           float64\n",
       "primary_use                object\n",
       "site_id                     int64\n",
       "dew_temperature           float64\n",
       "year                        int64\n",
       "month                       int64\n",
       "day                         int64\n",
       "dtype: object"
      ]
     },
     "execution_count": 24,
     "metadata": {},
     "output_type": "execute_result"
    }
   ],
   "source": [
    "# check data types\n",
    "train_test.dtypes"
   ]
  },
  {
   "cell_type": "code",
   "execution_count": 25,
   "metadata": {},
   "outputs": [],
   "source": [
    "# forward filling missing values since values from previous timestamp should\n",
    "# ideally be similar to the next one. (temperature today and tomorrow should be quite similar)\n",
    "train_test['air_temperature'].fillna(method='ffill', inplace=True)\n",
    "train_test['dew_temperature'].fillna(method='ffill', inplace=True)"
   ]
  },
  {
   "cell_type": "code",
   "execution_count": 26,
   "metadata": {},
   "outputs": [],
   "source": [
    "# delete year we wont use the year information in the model\n",
    "del train_test['year']"
   ]
  },
  {
   "cell_type": "code",
   "execution_count": 27,
   "metadata": {},
   "outputs": [],
   "source": [
    "# encode site id and primary use\n",
    "train_test = pd.get_dummies(train_test, columns=[\"primary_use\",\"site_id\"])"
   ]
  },
  {
   "cell_type": "code",
   "execution_count": 28,
   "metadata": {},
   "outputs": [
    {
     "data": {
      "text/plain": [
       "11743"
      ]
     },
     "execution_count": 28,
     "metadata": {},
     "output_type": "execute_result"
    }
   ],
   "source": [
    "# there are 8908 meter readings with value of zero. let us remove those\n",
    "train_test[train_test['meter_reading'] <= 0.]['meter_reading'].count() "
   ]
  },
  {
   "cell_type": "code",
   "execution_count": 29,
   "metadata": {},
   "outputs": [],
   "source": [
    "# remove columns with meter readings of zero\n",
    "train_test = train_test[train_test.meter_reading != 0]"
   ]
  },
  {
   "cell_type": "code",
   "execution_count": 30,
   "metadata": {},
   "outputs": [
    {
     "data": {
      "text/plain": [
       "0"
      ]
     },
     "execution_count": 30,
     "metadata": {},
     "output_type": "execute_result"
    }
   ],
   "source": [
    "\n",
    "train_test[train_test['meter_reading'] <= 0.]['meter_reading'].count() "
   ]
  },
  {
   "cell_type": "code",
   "execution_count": 31,
   "metadata": {},
   "outputs": [
    {
     "data": {
      "text/html": [
       "<div>\n",
       "<style scoped>\n",
       "    .dataframe tbody tr th:only-of-type {\n",
       "        vertical-align: middle;\n",
       "    }\n",
       "\n",
       "    .dataframe tbody tr th {\n",
       "        vertical-align: top;\n",
       "    }\n",
       "\n",
       "    .dataframe thead th {\n",
       "        text-align: right;\n",
       "    }\n",
       "</style>\n",
       "<table border=\"1\" class=\"dataframe\">\n",
       "  <thead>\n",
       "    <tr style=\"text-align: right;\">\n",
       "      <th></th>\n",
       "      <th>timestamp</th>\n",
       "      <th>meter_reading</th>\n",
       "      <th>square_feet</th>\n",
       "      <th>air_temperature</th>\n",
       "      <th>dew_temperature</th>\n",
       "      <th>month</th>\n",
       "      <th>day</th>\n",
       "      <th>primary_use_Education</th>\n",
       "      <th>primary_use_Entertainment/public assembly</th>\n",
       "      <th>primary_use_Food sales and service</th>\n",
       "      <th>...</th>\n",
       "      <th>primary_use_Utility</th>\n",
       "      <th>site_id_2</th>\n",
       "      <th>site_id_6</th>\n",
       "      <th>site_id_7</th>\n",
       "      <th>site_id_9</th>\n",
       "      <th>site_id_10</th>\n",
       "      <th>site_id_11</th>\n",
       "      <th>site_id_13</th>\n",
       "      <th>site_id_14</th>\n",
       "      <th>site_id_15</th>\n",
       "    </tr>\n",
       "  </thead>\n",
       "  <tbody>\n",
       "    <tr>\n",
       "      <th>1</th>\n",
       "      <td>2016-01-01</td>\n",
       "      <td>4.5719</td>\n",
       "      <td>72102</td>\n",
       "      <td>15.6</td>\n",
       "      <td>-5.6</td>\n",
       "      <td>1</td>\n",
       "      <td>1</td>\n",
       "      <td>1</td>\n",
       "      <td>0</td>\n",
       "      <td>0</td>\n",
       "      <td>...</td>\n",
       "      <td>0</td>\n",
       "      <td>1</td>\n",
       "      <td>0</td>\n",
       "      <td>0</td>\n",
       "      <td>0</td>\n",
       "      <td>0</td>\n",
       "      <td>0</td>\n",
       "      <td>0</td>\n",
       "      <td>0</td>\n",
       "      <td>0</td>\n",
       "    </tr>\n",
       "    <tr>\n",
       "      <th>2</th>\n",
       "      <td>2016-01-01</td>\n",
       "      <td>209.8860</td>\n",
       "      <td>553210</td>\n",
       "      <td>15.6</td>\n",
       "      <td>-5.6</td>\n",
       "      <td>1</td>\n",
       "      <td>1</td>\n",
       "      <td>0</td>\n",
       "      <td>0</td>\n",
       "      <td>0</td>\n",
       "      <td>...</td>\n",
       "      <td>0</td>\n",
       "      <td>1</td>\n",
       "      <td>0</td>\n",
       "      <td>0</td>\n",
       "      <td>0</td>\n",
       "      <td>0</td>\n",
       "      <td>0</td>\n",
       "      <td>0</td>\n",
       "      <td>0</td>\n",
       "      <td>0</td>\n",
       "    </tr>\n",
       "    <tr>\n",
       "      <th>4</th>\n",
       "      <td>2016-01-01</td>\n",
       "      <td>51.5570</td>\n",
       "      <td>183460</td>\n",
       "      <td>15.6</td>\n",
       "      <td>-5.6</td>\n",
       "      <td>1</td>\n",
       "      <td>1</td>\n",
       "      <td>1</td>\n",
       "      <td>0</td>\n",
       "      <td>0</td>\n",
       "      <td>...</td>\n",
       "      <td>0</td>\n",
       "      <td>1</td>\n",
       "      <td>0</td>\n",
       "      <td>0</td>\n",
       "      <td>0</td>\n",
       "      <td>0</td>\n",
       "      <td>0</td>\n",
       "      <td>0</td>\n",
       "      <td>0</td>\n",
       "      <td>0</td>\n",
       "    </tr>\n",
       "    <tr>\n",
       "      <th>5</th>\n",
       "      <td>2016-01-01</td>\n",
       "      <td>176.6860</td>\n",
       "      <td>179559</td>\n",
       "      <td>15.6</td>\n",
       "      <td>-5.6</td>\n",
       "      <td>1</td>\n",
       "      <td>1</td>\n",
       "      <td>1</td>\n",
       "      <td>0</td>\n",
       "      <td>0</td>\n",
       "      <td>...</td>\n",
       "      <td>0</td>\n",
       "      <td>1</td>\n",
       "      <td>0</td>\n",
       "      <td>0</td>\n",
       "      <td>0</td>\n",
       "      <td>0</td>\n",
       "      <td>0</td>\n",
       "      <td>0</td>\n",
       "      <td>0</td>\n",
       "      <td>0</td>\n",
       "    </tr>\n",
       "    <tr>\n",
       "      <th>6</th>\n",
       "      <td>2016-01-01</td>\n",
       "      <td>11.2891</td>\n",
       "      <td>45224</td>\n",
       "      <td>15.6</td>\n",
       "      <td>-5.6</td>\n",
       "      <td>1</td>\n",
       "      <td>1</td>\n",
       "      <td>0</td>\n",
       "      <td>0</td>\n",
       "      <td>0</td>\n",
       "      <td>...</td>\n",
       "      <td>0</td>\n",
       "      <td>1</td>\n",
       "      <td>0</td>\n",
       "      <td>0</td>\n",
       "      <td>0</td>\n",
       "      <td>0</td>\n",
       "      <td>0</td>\n",
       "      <td>0</td>\n",
       "      <td>0</td>\n",
       "      <td>0</td>\n",
       "    </tr>\n",
       "  </tbody>\n",
       "</table>\n",
       "<p>5 rows × 30 columns</p>\n",
       "</div>"
      ],
      "text/plain": [
       "   timestamp  meter_reading  square_feet  air_temperature  dew_temperature  \\\n",
       "1 2016-01-01         4.5719        72102             15.6             -5.6   \n",
       "2 2016-01-01       209.8860       553210             15.6             -5.6   \n",
       "4 2016-01-01        51.5570       183460             15.6             -5.6   \n",
       "5 2016-01-01       176.6860       179559             15.6             -5.6   \n",
       "6 2016-01-01        11.2891        45224             15.6             -5.6   \n",
       "\n",
       "   month  day  primary_use_Education  \\\n",
       "1      1    1                      1   \n",
       "2      1    1                      0   \n",
       "4      1    1                      1   \n",
       "5      1    1                      1   \n",
       "6      1    1                      0   \n",
       "\n",
       "   primary_use_Entertainment/public assembly  \\\n",
       "1                                          0   \n",
       "2                                          0   \n",
       "4                                          0   \n",
       "5                                          0   \n",
       "6                                          0   \n",
       "\n",
       "   primary_use_Food sales and service  ...  primary_use_Utility  site_id_2  \\\n",
       "1                                   0  ...                    0          1   \n",
       "2                                   0  ...                    0          1   \n",
       "4                                   0  ...                    0          1   \n",
       "5                                   0  ...                    0          1   \n",
       "6                                   0  ...                    0          1   \n",
       "\n",
       "   site_id_6  site_id_7  site_id_9  site_id_10  site_id_11  site_id_13  \\\n",
       "1          0          0          0           0           0           0   \n",
       "2          0          0          0           0           0           0   \n",
       "4          0          0          0           0           0           0   \n",
       "5          0          0          0           0           0           0   \n",
       "6          0          0          0           0           0           0   \n",
       "\n",
       "   site_id_14  site_id_15  \n",
       "1           0           0  \n",
       "2           0           0  \n",
       "4           0           0  \n",
       "5           0           0  \n",
       "6           0           0  \n",
       "\n",
       "[5 rows x 30 columns]"
      ]
     },
     "execution_count": 31,
     "metadata": {},
     "output_type": "execute_result"
    }
   ],
   "source": [
    "train_test.head()"
   ]
  },
  {
   "cell_type": "code",
   "execution_count": 32,
   "metadata": {},
   "outputs": [],
   "source": [
    "# set time as index\n",
    "train_test.set_index('timestamp',inplace=True);\n"
   ]
  },
  {
   "cell_type": "code",
   "execution_count": 33,
   "metadata": {},
   "outputs": [
    {
     "data": {
      "text/html": [
       "<div>\n",
       "<style scoped>\n",
       "    .dataframe tbody tr th:only-of-type {\n",
       "        vertical-align: middle;\n",
       "    }\n",
       "\n",
       "    .dataframe tbody tr th {\n",
       "        vertical-align: top;\n",
       "    }\n",
       "\n",
       "    .dataframe thead th {\n",
       "        text-align: right;\n",
       "    }\n",
       "</style>\n",
       "<table border=\"1\" class=\"dataframe\">\n",
       "  <thead>\n",
       "    <tr style=\"text-align: right;\">\n",
       "      <th></th>\n",
       "      <th>meter_reading</th>\n",
       "      <th>square_feet</th>\n",
       "      <th>air_temperature</th>\n",
       "      <th>dew_temperature</th>\n",
       "      <th>month</th>\n",
       "      <th>day</th>\n",
       "      <th>primary_use_Education</th>\n",
       "      <th>primary_use_Entertainment/public assembly</th>\n",
       "      <th>primary_use_Food sales and service</th>\n",
       "      <th>primary_use_Healthcare</th>\n",
       "      <th>...</th>\n",
       "      <th>primary_use_Utility</th>\n",
       "      <th>site_id_2</th>\n",
       "      <th>site_id_6</th>\n",
       "      <th>site_id_7</th>\n",
       "      <th>site_id_9</th>\n",
       "      <th>site_id_10</th>\n",
       "      <th>site_id_11</th>\n",
       "      <th>site_id_13</th>\n",
       "      <th>site_id_14</th>\n",
       "      <th>site_id_15</th>\n",
       "    </tr>\n",
       "    <tr>\n",
       "      <th>timestamp</th>\n",
       "      <th></th>\n",
       "      <th></th>\n",
       "      <th></th>\n",
       "      <th></th>\n",
       "      <th></th>\n",
       "      <th></th>\n",
       "      <th></th>\n",
       "      <th></th>\n",
       "      <th></th>\n",
       "      <th></th>\n",
       "      <th></th>\n",
       "      <th></th>\n",
       "      <th></th>\n",
       "      <th></th>\n",
       "      <th></th>\n",
       "      <th></th>\n",
       "      <th></th>\n",
       "      <th></th>\n",
       "      <th></th>\n",
       "      <th></th>\n",
       "      <th></th>\n",
       "    </tr>\n",
       "  </thead>\n",
       "  <tbody>\n",
       "    <tr>\n",
       "      <th>2016-01-01</th>\n",
       "      <td>209.886</td>\n",
       "      <td>553210</td>\n",
       "      <td>15.6</td>\n",
       "      <td>-5.6</td>\n",
       "      <td>1</td>\n",
       "      <td>1</td>\n",
       "      <td>0</td>\n",
       "      <td>0</td>\n",
       "      <td>0</td>\n",
       "      <td>0</td>\n",
       "      <td>...</td>\n",
       "      <td>0</td>\n",
       "      <td>1</td>\n",
       "      <td>0</td>\n",
       "      <td>0</td>\n",
       "      <td>0</td>\n",
       "      <td>0</td>\n",
       "      <td>0</td>\n",
       "      <td>0</td>\n",
       "      <td>0</td>\n",
       "      <td>0</td>\n",
       "    </tr>\n",
       "  </tbody>\n",
       "</table>\n",
       "<p>1 rows × 29 columns</p>\n",
       "</div>"
      ],
      "text/plain": [
       "            meter_reading  square_feet  air_temperature  dew_temperature  \\\n",
       "timestamp                                                                  \n",
       "2016-01-01        209.886       553210             15.6             -5.6   \n",
       "\n",
       "            month  day  primary_use_Education  \\\n",
       "timestamp                                       \n",
       "2016-01-01      1    1                      0   \n",
       "\n",
       "            primary_use_Entertainment/public assembly  \\\n",
       "timestamp                                               \n",
       "2016-01-01                                          0   \n",
       "\n",
       "            primary_use_Food sales and service  primary_use_Healthcare  ...  \\\n",
       "timestamp                                                               ...   \n",
       "2016-01-01                                   0                       0  ...   \n",
       "\n",
       "            primary_use_Utility  site_id_2  site_id_6  site_id_7  site_id_9  \\\n",
       "timestamp                                                                     \n",
       "2016-01-01                    0          1          0          0          0   \n",
       "\n",
       "            site_id_10  site_id_11  site_id_13  site_id_14  site_id_15  \n",
       "timestamp                                                               \n",
       "2016-01-01           0           0           0           0           0  \n",
       "\n",
       "[1 rows x 29 columns]"
      ]
     },
     "execution_count": 33,
     "metadata": {},
     "output_type": "execute_result"
    }
   ],
   "source": [
    "train_test[1:2]"
   ]
  },
  {
   "cell_type": "code",
   "execution_count": 34,
   "metadata": {},
   "outputs": [],
   "source": [
    "col_names = list(train_test.columns)"
   ]
  },
  {
   "cell_type": "code",
   "execution_count": 35,
   "metadata": {},
   "outputs": [
    {
     "data": {
      "text/plain": [
       "['meter_reading',\n",
       " 'square_feet',\n",
       " 'air_temperature',\n",
       " 'dew_temperature',\n",
       " 'month',\n",
       " 'day',\n",
       " 'primary_use_Education',\n",
       " 'primary_use_Entertainment/public assembly',\n",
       " 'primary_use_Food sales and service',\n",
       " 'primary_use_Healthcare',\n",
       " 'primary_use_Lodging/residential',\n",
       " 'primary_use_Manufacturing/industrial',\n",
       " 'primary_use_Office',\n",
       " 'primary_use_Other',\n",
       " 'primary_use_Parking',\n",
       " 'primary_use_Public services',\n",
       " 'primary_use_Religious worship',\n",
       " 'primary_use_Retail',\n",
       " 'primary_use_Technology/science',\n",
       " 'primary_use_Utility',\n",
       " 'site_id_2',\n",
       " 'site_id_6',\n",
       " 'site_id_7',\n",
       " 'site_id_9',\n",
       " 'site_id_10',\n",
       " 'site_id_11',\n",
       " 'site_id_13',\n",
       " 'site_id_14',\n",
       " 'site_id_15']"
      ]
     },
     "execution_count": 35,
     "metadata": {},
     "output_type": "execute_result"
    }
   ],
   "source": [
    "col_names"
   ]
  },
  {
   "cell_type": "code",
   "execution_count": 36,
   "metadata": {},
   "outputs": [],
   "source": [
    "# save the data types \n",
    "data_types = list(train_test.dtypes)"
   ]
  },
  {
   "cell_type": "code",
   "execution_count": 37,
   "metadata": {},
   "outputs": [
    {
     "data": {
      "text/plain": [
       "[dtype('float64'),\n",
       " dtype('int64'),\n",
       " dtype('float64'),\n",
       " dtype('float64'),\n",
       " dtype('int64'),\n",
       " dtype('int64'),\n",
       " dtype('uint8'),\n",
       " dtype('uint8'),\n",
       " dtype('uint8'),\n",
       " dtype('uint8'),\n",
       " dtype('uint8'),\n",
       " dtype('uint8'),\n",
       " dtype('uint8'),\n",
       " dtype('uint8'),\n",
       " dtype('uint8'),\n",
       " dtype('uint8'),\n",
       " dtype('uint8'),\n",
       " dtype('uint8'),\n",
       " dtype('uint8'),\n",
       " dtype('uint8'),\n",
       " dtype('uint8'),\n",
       " dtype('uint8'),\n",
       " dtype('uint8'),\n",
       " dtype('uint8'),\n",
       " dtype('uint8'),\n",
       " dtype('uint8'),\n",
       " dtype('uint8'),\n",
       " dtype('uint8'),\n",
       " dtype('uint8')]"
      ]
     },
     "execution_count": 37,
     "metadata": {},
     "output_type": "execute_result"
    }
   ],
   "source": [
    "data_types"
   ]
  },
  {
   "cell_type": "code",
   "execution_count": 38,
   "metadata": {},
   "outputs": [],
   "source": [
    "# convert the data types to \n",
    "# tensorflow data types \n",
    "for i,j in enumerate(data_types):\n",
    "    j = str(j) # convertr from numpy dtype to str\n",
    "    #print(j)\n",
    "    if j == 'float64':\n",
    "        data_types[i] = tf.float64\n",
    "    else:\n",
    "        data_types[i]  = tf.int32"
   ]
  },
  {
   "cell_type": "code",
   "execution_count": 39,
   "metadata": {},
   "outputs": [
    {
     "data": {
      "text/plain": [
       "[tf.float64,\n",
       " tf.int32,\n",
       " tf.float64,\n",
       " tf.float64,\n",
       " tf.int32,\n",
       " tf.int32,\n",
       " tf.int32,\n",
       " tf.int32,\n",
       " tf.int32,\n",
       " tf.int32,\n",
       " tf.int32,\n",
       " tf.int32,\n",
       " tf.int32,\n",
       " tf.int32,\n",
       " tf.int32,\n",
       " tf.int32,\n",
       " tf.int32,\n",
       " tf.int32,\n",
       " tf.int32,\n",
       " tf.int32,\n",
       " tf.int32,\n",
       " tf.int32,\n",
       " tf.int32,\n",
       " tf.int32,\n",
       " tf.int32,\n",
       " tf.int32,\n",
       " tf.int32,\n",
       " tf.int32,\n",
       " tf.int32]"
      ]
     },
     "execution_count": 39,
     "metadata": {},
     "output_type": "execute_result"
    }
   ],
   "source": [
    "data_types"
   ]
  },
  {
   "cell_type": "markdown",
   "metadata": {},
   "source": [
    "### Extract the predictor and featues"
   ]
  },
  {
   "cell_type": "code",
   "execution_count": 40,
   "metadata": {},
   "outputs": [],
   "source": [
    "# separate test train\n",
    "test = train_test.tail(1000).copy(deep=True)\n",
    "train_= train_test.shape[0]-test.shape[0] # train partition\n",
    "train = train_test[:train_].copy(deep=True)"
   ]
  },
  {
   "cell_type": "code",
   "execution_count": 41,
   "metadata": {},
   "outputs": [],
   "source": [
    "# convert to csv\n",
    "# used for a lodal that can preserve the data type\n",
    "# note that the index has been ignored here\n",
    "train.to_csv('meter1.csv',index=False,header=None)\n",
    "test.to_csv('meter1Test.csv',index=False,header=None)\n"
   ]
  },
  {
   "cell_type": "code",
   "execution_count": 42,
   "metadata": {},
   "outputs": [],
   "source": [
    "# x axis for test values\n",
    "x_values = test.index.values"
   ]
  },
  {
   "cell_type": "code",
   "execution_count": null,
   "metadata": {},
   "outputs": [],
   "source": []
  },
  {
   "cell_type": "markdown",
   "metadata": {},
   "source": [
    "#### Work with downloaded csv to preserve data type\n",
    "Load the csv file and parse the data types of the datatset together into the\n",
    "tensorflow load pipeline"
   ]
  },
  {
   "cell_type": "code",
   "execution_count": 43,
   "metadata": {},
   "outputs": [],
   "source": [
    "# load the data using the tensorflow Dataset API\n",
    "# add the data types too\n",
    "csvData = tf.data.experimental.CsvDataset('meter1.csv', data_types, header=False)"
   ]
  },
  {
   "cell_type": "code",
   "execution_count": 44,
   "metadata": {},
   "outputs": [
    {
     "name": "stdout",
     "output_type": "stream",
     "text": [
      "[(<tf.Tensor: id=46, shape=(), dtype=float64, numpy=4.5719>, <tf.Tensor: id=47, shape=(), dtype=int32, numpy=72102>, <tf.Tensor: id=48, shape=(), dtype=float64, numpy=15.6>, <tf.Tensor: id=49, shape=(), dtype=float64, numpy=-5.6>, <tf.Tensor: id=50, shape=(), dtype=int32, numpy=1>, <tf.Tensor: id=51, shape=(), dtype=int32, numpy=1>, <tf.Tensor: id=52, shape=(), dtype=int32, numpy=1>, <tf.Tensor: id=53, shape=(), dtype=int32, numpy=0>, <tf.Tensor: id=54, shape=(), dtype=int32, numpy=0>, <tf.Tensor: id=55, shape=(), dtype=int32, numpy=0>, <tf.Tensor: id=56, shape=(), dtype=int32, numpy=0>, <tf.Tensor: id=57, shape=(), dtype=int32, numpy=0>, <tf.Tensor: id=58, shape=(), dtype=int32, numpy=0>, <tf.Tensor: id=59, shape=(), dtype=int32, numpy=0>, <tf.Tensor: id=60, shape=(), dtype=int32, numpy=0>, <tf.Tensor: id=61, shape=(), dtype=int32, numpy=0>, <tf.Tensor: id=62, shape=(), dtype=int32, numpy=0>, <tf.Tensor: id=63, shape=(), dtype=int32, numpy=0>, <tf.Tensor: id=64, shape=(), dtype=int32, numpy=0>, <tf.Tensor: id=65, shape=(), dtype=int32, numpy=0>, <tf.Tensor: id=66, shape=(), dtype=int32, numpy=1>, <tf.Tensor: id=67, shape=(), dtype=int32, numpy=0>, <tf.Tensor: id=68, shape=(), dtype=int32, numpy=0>, <tf.Tensor: id=69, shape=(), dtype=int32, numpy=0>, <tf.Tensor: id=70, shape=(), dtype=int32, numpy=0>, <tf.Tensor: id=71, shape=(), dtype=int32, numpy=0>, <tf.Tensor: id=72, shape=(), dtype=int32, numpy=0>, <tf.Tensor: id=73, shape=(), dtype=int32, numpy=0>, <tf.Tensor: id=74, shape=(), dtype=int32, numpy=0>)]\n"
     ]
    }
   ],
   "source": [
    "# check the data type :\n",
    "print(list(csvData.take(1)))"
   ]
  },
  {
   "cell_type": "code",
   "execution_count": 45,
   "metadata": {},
   "outputs": [
    {
     "data": {
      "text/plain": [
       "['meter_reading',\n",
       " 'square_feet',\n",
       " 'air_temperature',\n",
       " 'dew_temperature',\n",
       " 'month',\n",
       " 'day',\n",
       " 'primary_use_Education',\n",
       " 'primary_use_Entertainment/public assembly',\n",
       " 'primary_use_Food sales and service',\n",
       " 'primary_use_Healthcare',\n",
       " 'primary_use_Lodging/residential',\n",
       " 'primary_use_Manufacturing/industrial',\n",
       " 'primary_use_Office',\n",
       " 'primary_use_Other',\n",
       " 'primary_use_Parking',\n",
       " 'primary_use_Public services',\n",
       " 'primary_use_Religious worship',\n",
       " 'primary_use_Retail',\n",
       " 'primary_use_Technology/science',\n",
       " 'primary_use_Utility',\n",
       " 'site_id_2',\n",
       " 'site_id_6',\n",
       " 'site_id_7',\n",
       " 'site_id_9',\n",
       " 'site_id_10',\n",
       " 'site_id_11',\n",
       " 'site_id_13',\n",
       " 'site_id_14',\n",
       " 'site_id_15']"
      ]
     },
     "execution_count": 45,
     "metadata": {},
     "output_type": "execute_result"
    }
   ],
   "source": [
    "col_names"
   ]
  },
  {
   "cell_type": "markdown",
   "metadata": {},
   "source": [
    "#### Parse data "
   ]
  },
  {
   "cell_type": "code",
   "execution_count": 46,
   "metadata": {},
   "outputs": [],
   "source": [
    "# Parsing the data and\n",
    "# merging the columns:\n",
    "# ---- day and month as single column\n",
    "# ---- merge the site id as a single feature vector vector\n",
    "# ---- primary use as a single feature vector\n",
    "\n",
    "# take the forst 4 col names that meter reading, square feet, air temp , dew temp,\n",
    "# add it to a the new column names that would be formed after single column merging\n",
    "\n",
    "col_names_= [col_names[0],col_names[1],col_names[2],col_names[3],'month_day','primary_use','site_id' ]\n",
    "\n",
    "def _parse_csv_row(*vals):\n",
    "    '''\n",
    "    Uses Feature columns\n",
    "    Does feature engineering\n",
    "    '''\n",
    "    \n",
    "    # month and day and single feature\n",
    "    month_day = tf.convert_to_tensor(vals[4:6])\n",
    "    # primary use as single feature\n",
    "    primary_use = tf.convert_to_tensor(vals[6:20])\n",
    "    # site id as single feature\n",
    "    site_id =  tf.convert_to_tensor(vals[20:29])\n",
    "    \n",
    "    # merge the features together, note meter reading is the fist column\n",
    "    # so it is excluded -- meaning index starts from 1\n",
    "    feature_vals = vals[1:4] + (month_day,primary_use,site_id)\n",
    "    \n",
    "    \n",
    "    # zip into a  feature sets into a single col\n",
    "    features = dict(zip(col_names_[1:],feature_vals))\n",
    "    \n",
    "    # name the targets or lables\n",
    "    targets_tensor = tf.convert_to_tensor(vals[0],name=col_names_[0]) \n",
    "    \n",
    "    \n",
    "    \n",
    "    return features, targets_tensor"
   ]
  },
  {
   "cell_type": "code",
   "execution_count": null,
   "metadata": {},
   "outputs": [],
   "source": []
  },
  {
   "cell_type": "markdown",
   "metadata": {},
   "source": [
    "##### Batch the datatset"
   ]
  },
  {
   "cell_type": "code",
   "execution_count": null,
   "metadata": {},
   "outputs": [],
   "source": []
  },
  {
   "cell_type": "code",
   "execution_count": 47,
   "metadata": {},
   "outputs": [],
   "source": [
    "\n",
    "dataset = csvData.map(_parse_csv_row).batch(64)"
   ]
  },
  {
   "cell_type": "code",
   "execution_count": 48,
   "metadata": {},
   "outputs": [
    {
     "name": "stdout",
     "output_type": "stream",
     "text": [
      "[({'square_feet': <tf.Tensor: id=132, shape=(64,), dtype=int32, numpy=\n",
      "array([ 72102, 553210, 183460, 179559,  45224,  90903,  90900, 111635,\n",
      "       167066,  23392,  24867,  24586, 148829, 132518,  44203,  23549,\n",
      "        78268, 151637, 155682,   9703, 102856, 163959, 143093, 219608,\n",
      "        74682,  63348,  30949,  60086, 345837,  99700,  36904, 193294,\n",
      "        71248, 327256,  49662,  36406, 137065, 282946,  96124, 122592,\n",
      "       204349,  11935, 272278, 216526,  74180, 140092,  33739, 179167,\n",
      "         9309, 144086, 101262,  45017, 106440,  95717, 202435,  64560,\n",
      "        24643, 179449, 131710,   4314,  65907, 254766,  49078,  16744],\n",
      "      dtype=int32)>, 'air_temperature': <tf.Tensor: id=127, shape=(64,), dtype=float64, numpy=\n",
      "array([15.6, 15.6, 15.6, 15.6, 15.6, 15.6, 15.6, 15.6, 15.6, 15.6, 15.6,\n",
      "       15.6, 15.6, 15.6, 15.6, 15.6, 15.6, 15.6, 15.6, 15.6, 15.6, 15.6,\n",
      "       15.6, 15.6, 15.6, 15.6, 15.6, 15.6, 15.6, 15.6, 15.6, 15.6, 15.6,\n",
      "       15.6, 15.6, 15.6, 15.6, 15.6, 15.6, 15.6, 15.6, 15.6, 15.6, 15.6,\n",
      "       15.6, 15.6, 15.6, 15.6, 15.6, 15.6, 15.6, 15.6, 15.6, 15.6, 15.6,\n",
      "       15.6, 15.6, 15.6, 15.6, 15.6, 15.6, 15.6, 15.6, 15.6])>, 'dew_temperature': <tf.Tensor: id=128, shape=(64,), dtype=float64, numpy=\n",
      "array([-5.6, -5.6, -5.6, -5.6, -5.6, -5.6, -5.6, -5.6, -5.6, -5.6, -5.6,\n",
      "       -5.6, -5.6, -5.6, -5.6, -5.6, -5.6, -5.6, -5.6, -5.6, -5.6, -5.6,\n",
      "       -5.6, -5.6, -5.6, -5.6, -5.6, -5.6, -5.6, -5.6, -5.6, -5.6, -5.6,\n",
      "       -5.6, -5.6, -5.6, -5.6, -5.6, -5.6, -5.6, -5.6, -5.6, -5.6, -5.6,\n",
      "       -5.6, -5.6, -5.6, -5.6, -5.6, -5.6, -5.6, -5.6, -5.6, -5.6, -5.6,\n",
      "       -5.6, -5.6, -5.6, -5.6, -5.6, -5.6, -5.6, -5.6, -5.6])>, 'month_day': <tf.Tensor: id=129, shape=(64, 2), dtype=int32, numpy=\n",
      "array([[1, 1],\n",
      "       [1, 1],\n",
      "       [1, 1],\n",
      "       [1, 1],\n",
      "       [1, 1],\n",
      "       [1, 1],\n",
      "       [1, 1],\n",
      "       [1, 1],\n",
      "       [1, 1],\n",
      "       [1, 1],\n",
      "       [1, 1],\n",
      "       [1, 1],\n",
      "       [1, 1],\n",
      "       [1, 1],\n",
      "       [1, 1],\n",
      "       [1, 1],\n",
      "       [1, 1],\n",
      "       [1, 1],\n",
      "       [1, 1],\n",
      "       [1, 1],\n",
      "       [1, 1],\n",
      "       [1, 1],\n",
      "       [1, 1],\n",
      "       [1, 1],\n",
      "       [1, 1],\n",
      "       [1, 1],\n",
      "       [1, 1],\n",
      "       [1, 1],\n",
      "       [1, 1],\n",
      "       [1, 1],\n",
      "       [1, 1],\n",
      "       [1, 1],\n",
      "       [1, 1],\n",
      "       [1, 1],\n",
      "       [1, 1],\n",
      "       [1, 1],\n",
      "       [1, 1],\n",
      "       [1, 1],\n",
      "       [1, 1],\n",
      "       [1, 1],\n",
      "       [1, 1],\n",
      "       [1, 1],\n",
      "       [1, 1],\n",
      "       [1, 1],\n",
      "       [1, 1],\n",
      "       [1, 1],\n",
      "       [1, 1],\n",
      "       [1, 1],\n",
      "       [1, 1],\n",
      "       [1, 1],\n",
      "       [1, 1],\n",
      "       [1, 1],\n",
      "       [1, 1],\n",
      "       [1, 1],\n",
      "       [1, 1],\n",
      "       [1, 1],\n",
      "       [1, 1],\n",
      "       [1, 1],\n",
      "       [1, 1],\n",
      "       [1, 1],\n",
      "       [1, 1],\n",
      "       [1, 1],\n",
      "       [1, 1],\n",
      "       [1, 1]], dtype=int32)>, 'primary_use': <tf.Tensor: id=130, shape=(64, 14), dtype=int32, numpy=\n",
      "array([[1, 0, 0, 0, 0, 0, 0, 0, 0, 0, 0, 0, 0, 0],\n",
      "       [0, 0, 0, 0, 1, 0, 0, 0, 0, 0, 0, 0, 0, 0],\n",
      "       [1, 0, 0, 0, 0, 0, 0, 0, 0, 0, 0, 0, 0, 0],\n",
      "       [1, 0, 0, 0, 0, 0, 0, 0, 0, 0, 0, 0, 0, 0],\n",
      "       [0, 0, 0, 0, 0, 0, 0, 0, 0, 0, 0, 1, 0, 0],\n",
      "       [1, 0, 0, 0, 0, 0, 0, 0, 0, 0, 0, 0, 0, 0],\n",
      "       [1, 0, 0, 0, 0, 0, 0, 0, 0, 0, 0, 0, 0, 0],\n",
      "       [1, 0, 0, 0, 0, 0, 0, 0, 0, 0, 0, 0, 0, 0],\n",
      "       [0, 1, 0, 0, 0, 0, 0, 0, 0, 0, 0, 0, 0, 0],\n",
      "       [0, 0, 0, 0, 0, 0, 1, 0, 0, 0, 0, 0, 0, 0],\n",
      "       [0, 0, 1, 0, 0, 0, 0, 0, 0, 0, 0, 0, 0, 0],\n",
      "       [1, 0, 0, 0, 0, 0, 0, 0, 0, 0, 0, 0, 0, 0],\n",
      "       [1, 0, 0, 0, 0, 0, 0, 0, 0, 0, 0, 0, 0, 0],\n",
      "       [1, 0, 0, 0, 0, 0, 0, 0, 0, 0, 0, 0, 0, 0],\n",
      "       [1, 0, 0, 0, 0, 0, 0, 0, 0, 0, 0, 0, 0, 0],\n",
      "       [0, 0, 0, 0, 0, 0, 1, 0, 0, 0, 0, 0, 0, 0],\n",
      "       [1, 0, 0, 0, 0, 0, 0, 0, 0, 0, 0, 0, 0, 0],\n",
      "       [1, 0, 0, 0, 0, 0, 0, 0, 0, 0, 0, 0, 0, 0],\n",
      "       [0, 0, 0, 0, 0, 0, 1, 0, 0, 0, 0, 0, 0, 0],\n",
      "       [0, 0, 0, 0, 0, 0, 1, 0, 0, 0, 0, 0, 0, 0],\n",
      "       [0, 0, 0, 0, 0, 0, 0, 0, 0, 1, 0, 0, 0, 0],\n",
      "       [0, 0, 0, 0, 0, 0, 1, 0, 0, 0, 0, 0, 0, 0],\n",
      "       [0, 1, 0, 0, 0, 0, 0, 0, 0, 0, 0, 0, 0, 0],\n",
      "       [1, 0, 0, 0, 0, 0, 0, 0, 0, 0, 0, 0, 0, 0],\n",
      "       [0, 0, 0, 0, 1, 0, 0, 0, 0, 0, 0, 0, 0, 0],\n",
      "       [0, 0, 0, 0, 1, 0, 0, 0, 0, 0, 0, 0, 0, 0],\n",
      "       [0, 0, 0, 0, 1, 0, 0, 0, 0, 0, 0, 0, 0, 0],\n",
      "       [0, 0, 0, 0, 1, 0, 0, 0, 0, 0, 0, 0, 0, 0],\n",
      "       [0, 0, 0, 0, 0, 0, 0, 0, 0, 1, 0, 0, 0, 0],\n",
      "       [0, 0, 0, 0, 0, 0, 0, 0, 0, 1, 0, 0, 0, 0],\n",
      "       [0, 0, 0, 1, 0, 0, 0, 0, 0, 0, 0, 0, 0, 0],\n",
      "       [1, 0, 0, 0, 0, 0, 0, 0, 0, 0, 0, 0, 0, 0],\n",
      "       [1, 0, 0, 0, 0, 0, 0, 0, 0, 0, 0, 0, 0, 0],\n",
      "       [1, 0, 0, 0, 0, 0, 0, 0, 0, 0, 0, 0, 0, 0],\n",
      "       [1, 0, 0, 0, 0, 0, 0, 0, 0, 0, 0, 0, 0, 0],\n",
      "       [0, 0, 0, 0, 1, 0, 0, 0, 0, 0, 0, 0, 0, 0],\n",
      "       [1, 0, 0, 0, 0, 0, 0, 0, 0, 0, 0, 0, 0, 0],\n",
      "       [1, 0, 0, 0, 0, 0, 0, 0, 0, 0, 0, 0, 0, 0],\n",
      "       [1, 0, 0, 0, 0, 0, 0, 0, 0, 0, 0, 0, 0, 0],\n",
      "       [1, 0, 0, 0, 0, 0, 0, 0, 0, 0, 0, 0, 0, 0],\n",
      "       [1, 0, 0, 0, 0, 0, 0, 0, 0, 0, 0, 0, 0, 0],\n",
      "       [0, 1, 0, 0, 0, 0, 0, 0, 0, 0, 0, 0, 0, 0],\n",
      "       [1, 0, 0, 0, 0, 0, 0, 0, 0, 0, 0, 0, 0, 0],\n",
      "       [0, 0, 0, 0, 1, 0, 0, 0, 0, 0, 0, 0, 0, 0],\n",
      "       [0, 0, 0, 0, 0, 0, 1, 0, 0, 0, 0, 0, 0, 0],\n",
      "       [1, 0, 0, 0, 0, 0, 0, 0, 0, 0, 0, 0, 0, 0],\n",
      "       [1, 0, 0, 0, 0, 0, 0, 0, 0, 0, 0, 0, 0, 0],\n",
      "       [1, 0, 0, 0, 0, 0, 0, 0, 0, 0, 0, 0, 0, 0],\n",
      "       [1, 0, 0, 0, 0, 0, 0, 0, 0, 0, 0, 0, 0, 0],\n",
      "       [0, 1, 0, 0, 0, 0, 0, 0, 0, 0, 0, 0, 0, 0],\n",
      "       [0, 0, 0, 0, 0, 0, 0, 0, 0, 1, 0, 0, 0, 0],\n",
      "       [0, 0, 0, 0, 0, 0, 1, 0, 0, 0, 0, 0, 0, 0],\n",
      "       [0, 0, 0, 0, 1, 0, 0, 0, 0, 0, 0, 0, 0, 0],\n",
      "       [1, 0, 0, 0, 0, 0, 0, 0, 0, 0, 0, 0, 0, 0],\n",
      "       [0, 0, 0, 0, 0, 0, 1, 0, 0, 0, 0, 0, 0, 0],\n",
      "       [1, 0, 0, 0, 0, 0, 0, 0, 0, 0, 0, 0, 0, 0],\n",
      "       [1, 0, 0, 0, 0, 0, 0, 0, 0, 0, 0, 0, 0, 0],\n",
      "       [0, 1, 0, 0, 0, 0, 0, 0, 0, 0, 0, 0, 0, 0],\n",
      "       [1, 0, 0, 0, 0, 0, 0, 0, 0, 0, 0, 0, 0, 0],\n",
      "       [1, 0, 0, 0, 0, 0, 0, 0, 0, 0, 0, 0, 0, 0],\n",
      "       [1, 0, 0, 0, 0, 0, 0, 0, 0, 0, 0, 0, 0, 0],\n",
      "       [0, 1, 0, 0, 0, 0, 0, 0, 0, 0, 0, 0, 0, 0],\n",
      "       [1, 0, 0, 0, 0, 0, 0, 0, 0, 0, 0, 0, 0, 0],\n",
      "       [1, 0, 0, 0, 0, 0, 0, 0, 0, 0, 0, 0, 0, 0]], dtype=int32)>, 'site_id': <tf.Tensor: id=131, shape=(64, 9), dtype=int32, numpy=\n",
      "array([[1, 0, 0, 0, 0, 0, 0, 0, 0],\n",
      "       [1, 0, 0, 0, 0, 0, 0, 0, 0],\n",
      "       [1, 0, 0, 0, 0, 0, 0, 0, 0],\n",
      "       [1, 0, 0, 0, 0, 0, 0, 0, 0],\n",
      "       [1, 0, 0, 0, 0, 0, 0, 0, 0],\n",
      "       [1, 0, 0, 0, 0, 0, 0, 0, 0],\n",
      "       [1, 0, 0, 0, 0, 0, 0, 0, 0],\n",
      "       [1, 0, 0, 0, 0, 0, 0, 0, 0],\n",
      "       [1, 0, 0, 0, 0, 0, 0, 0, 0],\n",
      "       [1, 0, 0, 0, 0, 0, 0, 0, 0],\n",
      "       [1, 0, 0, 0, 0, 0, 0, 0, 0],\n",
      "       [1, 0, 0, 0, 0, 0, 0, 0, 0],\n",
      "       [1, 0, 0, 0, 0, 0, 0, 0, 0],\n",
      "       [1, 0, 0, 0, 0, 0, 0, 0, 0],\n",
      "       [1, 0, 0, 0, 0, 0, 0, 0, 0],\n",
      "       [1, 0, 0, 0, 0, 0, 0, 0, 0],\n",
      "       [1, 0, 0, 0, 0, 0, 0, 0, 0],\n",
      "       [1, 0, 0, 0, 0, 0, 0, 0, 0],\n",
      "       [1, 0, 0, 0, 0, 0, 0, 0, 0],\n",
      "       [1, 0, 0, 0, 0, 0, 0, 0, 0],\n",
      "       [1, 0, 0, 0, 0, 0, 0, 0, 0],\n",
      "       [1, 0, 0, 0, 0, 0, 0, 0, 0],\n",
      "       [1, 0, 0, 0, 0, 0, 0, 0, 0],\n",
      "       [1, 0, 0, 0, 0, 0, 0, 0, 0],\n",
      "       [1, 0, 0, 0, 0, 0, 0, 0, 0],\n",
      "       [1, 0, 0, 0, 0, 0, 0, 0, 0],\n",
      "       [1, 0, 0, 0, 0, 0, 0, 0, 0],\n",
      "       [1, 0, 0, 0, 0, 0, 0, 0, 0],\n",
      "       [1, 0, 0, 0, 0, 0, 0, 0, 0],\n",
      "       [1, 0, 0, 0, 0, 0, 0, 0, 0],\n",
      "       [1, 0, 0, 0, 0, 0, 0, 0, 0],\n",
      "       [1, 0, 0, 0, 0, 0, 0, 0, 0],\n",
      "       [1, 0, 0, 0, 0, 0, 0, 0, 0],\n",
      "       [1, 0, 0, 0, 0, 0, 0, 0, 0],\n",
      "       [1, 0, 0, 0, 0, 0, 0, 0, 0],\n",
      "       [1, 0, 0, 0, 0, 0, 0, 0, 0],\n",
      "       [1, 0, 0, 0, 0, 0, 0, 0, 0],\n",
      "       [1, 0, 0, 0, 0, 0, 0, 0, 0],\n",
      "       [1, 0, 0, 0, 0, 0, 0, 0, 0],\n",
      "       [1, 0, 0, 0, 0, 0, 0, 0, 0],\n",
      "       [1, 0, 0, 0, 0, 0, 0, 0, 0],\n",
      "       [1, 0, 0, 0, 0, 0, 0, 0, 0],\n",
      "       [1, 0, 0, 0, 0, 0, 0, 0, 0],\n",
      "       [1, 0, 0, 0, 0, 0, 0, 0, 0],\n",
      "       [1, 0, 0, 0, 0, 0, 0, 0, 0],\n",
      "       [1, 0, 0, 0, 0, 0, 0, 0, 0],\n",
      "       [1, 0, 0, 0, 0, 0, 0, 0, 0],\n",
      "       [1, 0, 0, 0, 0, 0, 0, 0, 0],\n",
      "       [1, 0, 0, 0, 0, 0, 0, 0, 0],\n",
      "       [1, 0, 0, 0, 0, 0, 0, 0, 0],\n",
      "       [1, 0, 0, 0, 0, 0, 0, 0, 0],\n",
      "       [1, 0, 0, 0, 0, 0, 0, 0, 0],\n",
      "       [1, 0, 0, 0, 0, 0, 0, 0, 0],\n",
      "       [1, 0, 0, 0, 0, 0, 0, 0, 0],\n",
      "       [1, 0, 0, 0, 0, 0, 0, 0, 0],\n",
      "       [1, 0, 0, 0, 0, 0, 0, 0, 0],\n",
      "       [1, 0, 0, 0, 0, 0, 0, 0, 0],\n",
      "       [1, 0, 0, 0, 0, 0, 0, 0, 0],\n",
      "       [1, 0, 0, 0, 0, 0, 0, 0, 0],\n",
      "       [1, 0, 0, 0, 0, 0, 0, 0, 0],\n",
      "       [1, 0, 0, 0, 0, 0, 0, 0, 0],\n",
      "       [1, 0, 0, 0, 0, 0, 0, 0, 0],\n",
      "       [1, 0, 0, 0, 0, 0, 0, 0, 0],\n",
      "       [1, 0, 0, 0, 0, 0, 0, 0, 0]], dtype=int32)>}, <tf.Tensor: id=133, shape=(64,), dtype=float64, numpy=\n",
      "array([4.57190e+00, 2.09886e+02, 5.15570e+01, 1.76686e+02, 1.12891e+01,\n",
      "       1.93427e+01, 5.28583e+01, 1.16337e+02, 1.30686e+02, 5.87310e+00,\n",
      "       7.03000e-02, 2.03274e+01, 1.25903e+01, 1.30827e+01, 6.68200e-01,\n",
      "       6.15450e+00, 8.28922e+01, 2.51701e+02, 1.15353e+01, 2.41959e+01,\n",
      "       1.68809e+01, 4.62466e+01, 4.98689e+01, 2.67140e+02, 9.81905e+01,\n",
      "       1.81786e+02, 4.20615e+01, 8.58815e+01, 1.69020e+02, 2.02571e+01,\n",
      "       1.05500e-01, 8.12392e+02, 2.59192e+01, 1.55093e+02, 2.98229e+01,\n",
      "       5.34560e+00, 1.79359e+01, 9.50253e+01, 2.77128e+02, 1.97436e+02,\n",
      "       2.96259e+02, 1.11132e+01, 1.37861e+01, 1.82138e+02, 1.70567e+01,\n",
      "       1.17990e+02, 5.11877e+02, 6.88248e+01, 7.03370e+00, 7.52610e+00,\n",
      "       1.03044e+01, 2.46179e+01, 1.58610e+01, 9.74170e+00, 1.80133e+02,\n",
      "       1.80344e+02, 1.11484e+01, 2.61900e+02, 2.80996e+01, 1.05500e-01,\n",
      "       5.75357e+01, 5.93046e+02, 1.33289e+01, 1.01990e+00])>)]\n"
     ]
    }
   ],
   "source": [
    "\n",
    "print(list(dataset.take(1)))"
   ]
  },
  {
   "cell_type": "markdown",
   "metadata": {},
   "source": [
    "##### Feature Categorization"
   ]
  },
  {
   "cell_type": "code",
   "execution_count": 49,
   "metadata": {},
   "outputs": [],
   "source": [
    "primary_use = tf.feature_column.numeric_column('primary_use', shape=(14,))\n",
    "site_id = tf.feature_column.numeric_column('site_id', shape=(9,))\n",
    "month_day = tf.feature_column.numeric_column('month_day', shape=(2,))"
   ]
  },
  {
   "cell_type": "code",
   "execution_count": 50,
   "metadata": {},
   "outputs": [],
   "source": [
    "numeric_columns = [tf.feature_column.numeric_column(feat) for feat in col_names_[1:4]]"
   ]
  },
  {
   "cell_type": "code",
   "execution_count": 51,
   "metadata": {},
   "outputs": [],
   "source": [
    "columns = numeric_columns + [month_day,primary_use,site_id]"
   ]
  },
  {
   "cell_type": "code",
   "execution_count": 52,
   "metadata": {},
   "outputs": [],
   "source": [
    "feature_layer = tf.keras.layers.DenseFeatures(columns)"
   ]
  },
  {
   "cell_type": "code",
   "execution_count": null,
   "metadata": {},
   "outputs": [],
   "source": []
  },
  {
   "cell_type": "markdown",
   "metadata": {},
   "source": [
    "# Build Model"
   ]
  },
  {
   "cell_type": "code",
   "execution_count": 53,
   "metadata": {},
   "outputs": [
    {
     "name": "stderr",
     "output_type": "stream",
     "text": [
      "Using TensorFlow backend.\n"
     ]
    }
   ],
   "source": [
    "from keras import backend as K\n",
    "\n",
    "def root_mean_squared_error(y_true, y_pred):\n",
    "    '''\n",
    "    \n",
    "    this is the loss function specified in kaggle competition\n",
    "    '''\n",
    "        \n",
    "    return K.sqrt(K.mean (K.square(  (K.log(y_pred+5)+1e-12 - K.log(y_true+5)+1e-12) )   )   )\n",
    "\n",
    "\n",
    "\n",
    "def root_mean_squared_error2(y_true, y_pred):\n",
    "    '''\n",
    "    this is 1.- mean squared\n",
    "    root mean squared is a value between 0 and 1 \n",
    "    to reflect accuracy use 1-rms\n",
    "    '''\n",
    "        \n",
    "    return  K.sqrt(K.mean( ( K.square ( y_pred - y_true    )   )   )) "
   ]
  },
  {
   "cell_type": "code",
   "execution_count": 65,
   "metadata": {},
   "outputs": [],
   "source": [
    "# model layer \n",
    "model = tf.keras.Sequential([\n",
    "    feature_layer,\n",
    "    tf.keras.layers.Dense(64),\n",
    "    tf.keras.layers.Dropout(0.5),\n",
    "    tf.keras.layers.Dense(32,activation='relu'),\n",
    "    tf.keras.layers.Dropout(0.4),\n",
    "    tf.keras.layers.Dense(16,kernel_regularizer=regularizers.l2(1e-8)),\n",
    "     tf.keras.layers.Dropout(0.4),\n",
    "    tf.keras.layers.Dense(8,activation='relu'),\n",
    "     tf.keras.layers.Dropout(0.4),\n",
    "    tf.keras.layers.Dense(4,activation='relu'),\n",
    "    tf.keras.layers.Dense(2),\n",
    "    tf.keras.layers.Dense(1, activation='linear')\n",
    "])\n"
   ]
  },
  {
   "cell_type": "code",
   "execution_count": 66,
   "metadata": {},
   "outputs": [],
   "source": [
    "model.compile(optimizer = tf.train.AdagradOptimizer(1e-4),\n",
    "             loss=root_mean_squared_error2)\n",
    "\n",
    "# error ranges value 1e-2 to 1e-4 for good performance\n",
    "\n",
    "# Optimizer to use '''''' AdagradOptimizer and root_mean_squared_error2 ranges 1\n",
    "# Adam --- not good\n",
    "# Adam\n",
    "#Rmsprop\n"
   ]
  },
  {
   "cell_type": "code",
   "execution_count": 67,
   "metadata": {},
   "outputs": [
    {
     "data": {
      "text/plain": [
       "'training_1'"
      ]
     },
     "execution_count": 67,
     "metadata": {},
     "output_type": "execute_result"
    }
   ],
   "source": [
    "import os\n",
    "checkpoint_path = \"training_1/cp.ckpt\"\n",
    "checkpoint_dir = os.path.dirname(checkpoint_path)\n",
    "checkpoint_dir\n"
   ]
  },
  {
   "cell_type": "code",
   "execution_count": 68,
   "metadata": {},
   "outputs": [],
   "source": [
    "# Create a callback that saves the model's weights\n",
    "cp_callback = tf.keras.callbacks.ModelCheckpoint(filepath=checkpoint_path,\n",
    "                                                 save_weights_only=True,\n",
    "                                                 verbose=1)"
   ]
  },
  {
   "cell_type": "code",
   "execution_count": 69,
   "metadata": {},
   "outputs": [
    {
     "name": "stdout",
     "output_type": "stream",
     "text": [
      "Epoch 1/10\n",
      "35/40 [=========================>....] - ETA: 0s - loss: 57760.1038\n",
      "Epoch 00001: saving model to training_1/cp.ckpt\n",
      "40/40 [==============================] - 1s 25ms/step - loss: 56673.6736\n",
      "Epoch 2/10\n",
      "31/40 [======================>.......] - ETA: 0s - loss: 55362.2538\n",
      "Epoch 00002: saving model to training_1/cp.ckpt\n",
      "40/40 [==============================] - 0s 5ms/step - loss: 57210.8012\n",
      "Epoch 3/10\n",
      "32/40 [=======================>......] - ETA: 0s - loss: 53499.6018\n",
      "Epoch 00003: saving model to training_1/cp.ckpt\n",
      "40/40 [==============================] - 0s 5ms/step - loss: 55159.7769\n",
      "Epoch 4/10\n",
      "38/40 [===========================>..] - ETA: 0s - loss: 48955.4216\n",
      "Epoch 00004: saving model to training_1/cp.ckpt\n",
      "40/40 [==============================] - 0s 6ms/step - loss: 48550.0236\n",
      "Epoch 5/10\n",
      "30/40 [=====================>........] - ETA: 0s - loss: 53023.3494\n",
      "Epoch 00005: saving model to training_1/cp.ckpt\n",
      "40/40 [==============================] - 0s 6ms/step - loss: 53864.1712\n",
      "Epoch 6/10\n",
      "32/40 [=======================>......] - ETA: 0s - loss: 48946.6908\n",
      "Epoch 00006: saving model to training_1/cp.ckpt\n",
      "40/40 [==============================] - 0s 5ms/step - loss: 49501.0219\n",
      "Epoch 7/10\n",
      "31/40 [======================>.......] - ETA: 0s - loss: 56170.3596\n",
      "Epoch 00007: saving model to training_1/cp.ckpt\n",
      "40/40 [==============================] - 0s 5ms/step - loss: 56552.4915\n",
      "Epoch 8/10\n",
      "31/40 [======================>.......] - ETA: 0s - loss: 52005.3146\n",
      "Epoch 00008: saving model to training_1/cp.ckpt\n",
      "40/40 [==============================] - 0s 5ms/step - loss: 51230.9827\n",
      "Epoch 9/10\n",
      "31/40 [======================>.......] - ETA: 0s - loss: 50072.8017\n",
      "Epoch 00009: saving model to training_1/cp.ckpt\n",
      "40/40 [==============================] - 0s 5ms/step - loss: 51580.2956\n",
      "Epoch 10/10\n",
      "30/40 [=====================>........] - ETA: 0s - loss: 51789.4708\n",
      "Epoch 00010: saving model to training_1/cp.ckpt\n",
      "40/40 [==============================] - 0s 5ms/step - loss: 50032.5213\n",
      "Epoch 1/10\n",
      "39/40 [============================>.] - ETA: 0s - loss: 52623.3259\n",
      "Epoch 00001: saving model to training_1/cp.ckpt\n",
      "40/40 [==============================] - 0s 6ms/step - loss: 52296.6872\n",
      "Epoch 2/10\n",
      "30/40 [=====================>........] - ETA: 0s - loss: 53155.5390\n",
      "Epoch 00002: saving model to training_1/cp.ckpt\n",
      "40/40 [==============================] - 0s 6ms/step - loss: 52457.8063\n",
      "Epoch 3/10\n",
      "38/40 [===========================>..] - ETA: 0s - loss: 52997.9507\n",
      "Epoch 00003: saving model to training_1/cp.ckpt\n",
      "40/40 [==============================] - 0s 6ms/step - loss: 52053.8748\n",
      "Epoch 4/10\n",
      "38/40 [===========================>..] - ETA: 0s - loss: 51376.5528\n",
      "Epoch 00004: saving model to training_1/cp.ckpt\n",
      "40/40 [==============================] - 0s 6ms/step - loss: 51347.9202\n",
      "Epoch 5/10\n",
      "31/40 [======================>.......] - ETA: 0s - loss: 53134.1608\n",
      "Epoch 00005: saving model to training_1/cp.ckpt\n",
      "40/40 [==============================] - 0s 6ms/step - loss: 50864.2865\n",
      "Epoch 6/10\n",
      "37/40 [==========================>...] - ETA: 0s - loss: 48109.5073\n",
      "Epoch 00006: saving model to training_1/cp.ckpt\n",
      "40/40 [==============================] - 0s 6ms/step - loss: 48064.4887\n",
      "Epoch 7/10\n",
      "39/40 [============================>.] - ETA: 0s - loss: 52979.3470\n",
      "Epoch 00007: saving model to training_1/cp.ckpt\n",
      "40/40 [==============================] - 0s 6ms/step - loss: 52479.6374\n",
      "Epoch 8/10\n",
      "39/40 [============================>.] - ETA: 0s - loss: 47166.9824\n",
      "Epoch 00008: saving model to training_1/cp.ckpt\n",
      "40/40 [==============================] - 0s 6ms/step - loss: 46923.7161\n",
      "Epoch 9/10\n",
      "39/40 [============================>.] - ETA: 0s - loss: 52940.9570\n",
      "Epoch 00009: saving model to training_1/cp.ckpt\n",
      "40/40 [==============================] - 0s 6ms/step - loss: 52569.0162\n",
      "Epoch 10/10\n",
      "38/40 [===========================>..] - ETA: 0s - loss: 48518.9364\n",
      "Epoch 00010: saving model to training_1/cp.ckpt\n",
      "40/40 [==============================] - 0s 6ms/step - loss: 48482.1862\n",
      "Epoch 1/10\n",
      "39/40 [============================>.] - ETA: 0s - loss: 48277.7234\n",
      "Epoch 00001: saving model to training_1/cp.ckpt\n",
      "40/40 [==============================] - 0s 6ms/step - loss: 48677.4203\n",
      "Epoch 2/10\n",
      "30/40 [=====================>........] - ETA: 0s - loss: 49008.2832\n",
      "Epoch 00002: saving model to training_1/cp.ckpt\n",
      "40/40 [==============================] - 0s 6ms/step - loss: 48147.6326\n",
      "Epoch 3/10\n",
      "39/40 [============================>.] - ETA: 0s - loss: 50200.0882\n",
      "Epoch 00003: saving model to training_1/cp.ckpt\n",
      "40/40 [==============================] - 0s 6ms/step - loss: 49720.6417\n",
      "Epoch 4/10\n",
      "30/40 [=====================>........] - ETA: 0s - loss: 50763.9400\n",
      "Epoch 00004: saving model to training_1/cp.ckpt\n",
      "40/40 [==============================] - 0s 6ms/step - loss: 49177.0624\n",
      "Epoch 5/10\n",
      "39/40 [============================>.] - ETA: 0s - loss: 50618.8531\n",
      "Epoch 00005: saving model to training_1/cp.ckpt\n",
      "40/40 [==============================] - 0s 6ms/step - loss: 50461.3143\n",
      "Epoch 6/10\n",
      "38/40 [===========================>..] - ETA: 0s - loss: 47049.5144\n",
      "Epoch 00006: saving model to training_1/cp.ckpt\n",
      "40/40 [==============================] - 0s 6ms/step - loss: 47111.8941\n",
      "Epoch 7/10\n",
      "38/40 [===========================>..] - ETA: 0s - loss: 49761.3716\n",
      "Epoch 00007: saving model to training_1/cp.ckpt\n",
      "40/40 [==============================] - 0s 6ms/step - loss: 49098.5425\n",
      "Epoch 8/10\n",
      "38/40 [===========================>..] - ETA: 0s - loss: 49844.7893\n",
      "Epoch 00008: saving model to training_1/cp.ckpt\n",
      "40/40 [==============================] - 0s 6ms/step - loss: 48980.9832\n",
      "Epoch 9/10\n",
      "39/40 [============================>.] - ETA: 0s - loss: 49254.9569\n",
      "Epoch 00009: saving model to training_1/cp.ckpt\n",
      "40/40 [==============================] - 0s 6ms/step - loss: 49022.2136\n",
      "Epoch 10/10\n",
      "39/40 [============================>.] - ETA: 0s - loss: 45386.6979\n",
      "Epoch 00010: saving model to training_1/cp.ckpt\n",
      "40/40 [==============================] - 0s 6ms/step - loss: 45257.9027\n",
      "Epoch 1/10\n",
      "39/40 [============================>.] - ETA: 0s - loss: 47283.1726\n",
      "Epoch 00001: saving model to training_1/cp.ckpt\n",
      "40/40 [==============================] - 0s 6ms/step - loss: 47736.7183\n",
      "Epoch 2/10\n",
      "39/40 [============================>.] - ETA: 0s - loss: 47725.4519\n",
      "Epoch 00002: saving model to training_1/cp.ckpt\n",
      "40/40 [==============================] - 0s 6ms/step - loss: 47739.4814\n",
      "Epoch 3/10\n",
      "39/40 [============================>.] - ETA: 0s - loss: 46432.0453\n",
      "Epoch 00003: saving model to training_1/cp.ckpt\n",
      "40/40 [==============================] - 0s 6ms/step - loss: 46771.4421\n",
      "Epoch 4/10\n",
      "39/40 [============================>.] - ETA: 0s - loss: 47845.3160\n",
      "Epoch 00004: saving model to training_1/cp.ckpt\n",
      "40/40 [==============================] - 0s 6ms/step - loss: 47489.2173\n",
      "Epoch 5/10\n",
      "36/40 [==========================>...] - ETA: 0s - loss: 46445.9624\n",
      "Epoch 00005: saving model to training_1/cp.ckpt\n",
      "40/40 [==============================] - 0s 6ms/step - loss: 46588.1672\n",
      "Epoch 6/10\n",
      "35/40 [=========================>....] - ETA: 0s - loss: 47341.8573\n",
      "Epoch 00006: saving model to training_1/cp.ckpt\n",
      "40/40 [==============================] - 0s 8ms/step - loss: 47118.6328\n",
      "Epoch 7/10\n",
      "34/40 [========================>.....] - ETA: 0s - loss: 45473.5743\n",
      "Epoch 00007: saving model to training_1/cp.ckpt\n",
      "40/40 [==============================] - 0s 7ms/step - loss: 44614.8611\n",
      "Epoch 8/10\n",
      "36/40 [==========================>...] - ETA: 0s - loss: 47631.2342\n",
      "Epoch 00008: saving model to training_1/cp.ckpt\n",
      "40/40 [==============================] - 0s 6ms/step - loss: 46948.1524\n",
      "Epoch 9/10\n",
      "31/40 [======================>.......] - ETA: 0s - loss: 45828.1367\n",
      "Epoch 00009: saving model to training_1/cp.ckpt\n",
      "40/40 [==============================] - 0s 5ms/step - loss: 45270.1838\n",
      "Epoch 10/10\n",
      "30/40 [=====================>........] - ETA: 0s - loss: 44314.8032\n",
      "Epoch 00010: saving model to training_1/cp.ckpt\n",
      "40/40 [==============================] - 0s 6ms/step - loss: 46867.5666\n",
      "Epoch 1/10\n",
      "30/40 [=====================>........] - ETA: 0s - loss: 46364.0157\n",
      "Epoch 00001: saving model to training_1/cp.ckpt\n",
      "40/40 [==============================] - 0s 6ms/step - loss: 46971.1234\n",
      "Epoch 2/10\n"
     ]
    },
    {
     "name": "stdout",
     "output_type": "stream",
     "text": [
      "30/40 [=====================>........] - ETA: 0s - loss: 42030.7462\n",
      "Epoch 00002: saving model to training_1/cp.ckpt\n",
      "40/40 [==============================] - 0s 6ms/step - loss: 42202.2153\n",
      "Epoch 3/10\n",
      "31/40 [======================>.......] - ETA: 0s - loss: 45568.5873\n",
      "Epoch 00003: saving model to training_1/cp.ckpt\n",
      "40/40 [==============================] - 0s 5ms/step - loss: 44901.0834\n",
      "Epoch 4/10\n",
      "31/40 [======================>.......] - ETA: 0s - loss: 44595.7056\n",
      "Epoch 00004: saving model to training_1/cp.ckpt\n",
      "40/40 [==============================] - 0s 5ms/step - loss: 45554.6955\n",
      "Epoch 5/10\n",
      "32/40 [=======================>......] - ETA: 0s - loss: 45171.2778\n",
      "Epoch 00005: saving model to training_1/cp.ckpt\n",
      "40/40 [==============================] - 0s 5ms/step - loss: 44944.4493\n",
      "Epoch 6/10\n",
      "33/40 [=======================>......] - ETA: 0s - loss: 50169.2472\n",
      "Epoch 00006: saving model to training_1/cp.ckpt\n",
      "40/40 [==============================] - 0s 5ms/step - loss: 49322.1341\n",
      "Epoch 7/10\n",
      "32/40 [=======================>......] - ETA: 0s - loss: 46241.7164\n",
      "Epoch 00007: saving model to training_1/cp.ckpt\n",
      "40/40 [==============================] - 0s 5ms/step - loss: 45053.2358\n",
      "Epoch 8/10\n",
      "32/40 [=======================>......] - ETA: 0s - loss: 43445.4788\n",
      "Epoch 00008: saving model to training_1/cp.ckpt\n",
      "40/40 [==============================] - 0s 5ms/step - loss: 44972.5525\n",
      "Epoch 9/10\n",
      "32/40 [=======================>......] - ETA: 0s - loss: 45718.6307\n",
      "Epoch 00009: saving model to training_1/cp.ckpt\n",
      "40/40 [==============================] - 0s 5ms/step - loss: 45110.5941\n",
      "Epoch 10/10\n",
      "33/40 [=======================>......] - ETA: 0s - loss: 44563.1710\n",
      "Epoch 00010: saving model to training_1/cp.ckpt\n",
      "40/40 [==============================] - 0s 5ms/step - loss: 44221.9629\n"
     ]
    }
   ],
   "source": [
    "train_epochs = 5# increase this to train data better\n",
    "restore = False\n",
    "# for loop trains incrementally\n",
    "# this issue https://github.com/keras-team/keras/issues/4446\n",
    "for i in range(train_epochs):  \n",
    "    if restore:\n",
    "        model.load_weights(checkpoint_path)\n",
    "    model.fit(dataset,epochs=10,steps_per_epoch=40,callbacks=[cp_callback])\n",
    "    restore = True\n",
    "    \n"
   ]
  },
  {
   "cell_type": "markdown",
   "metadata": {},
   "source": [
    "## Testing"
   ]
  },
  {
   "cell_type": "code",
   "execution_count": 70,
   "metadata": {},
   "outputs": [],
   "source": [
    "def _parse_csv_row2(*vals):\n",
    "    '''\n",
    "    Uses Feature columns\n",
    "    Does feature engineering\n",
    "    '''\n",
    "    \n",
    "    # month and day and single feature\n",
    "    month_day = tf.convert_to_tensor(vals[4:6])\n",
    "    # primary use as single feature\n",
    "    primary_use = tf.convert_to_tensor(vals[6:20])\n",
    "    # site id as single feature\n",
    "    site_id =  tf.convert_to_tensor(vals[20:29])\n",
    "    \n",
    "    # merge the features together, note meter reading is the fist column\n",
    "    # so it is excluded -- meaning index starts from 1\n",
    "    feature_vals = vals[1:4] + (month_day,primary_use,site_id)\n",
    "    \n",
    "    \n",
    "    # zip into a  feature sets into a single col\n",
    "    features = dict(zip(col_names_[1:],feature_vals))\n",
    "    \n",
    "    # name the targets or lables\n",
    "    targets_tensor = tf.convert_to_tensor(vals[0],name=col_names_[0]) \n",
    "    \n",
    "    \n",
    "    \n",
    "    return features"
   ]
  },
  {
   "cell_type": "code",
   "execution_count": 71,
   "metadata": {},
   "outputs": [],
   "source": [
    "testdata = tf.data.experimental.CsvDataset('meter1Test.csv', data_types, header=False)"
   ]
  },
  {
   "cell_type": "code",
   "execution_count": 72,
   "metadata": {},
   "outputs": [],
   "source": [
    "test = testdata.map(_parse_csv_row2).batch(1)"
   ]
  },
  {
   "cell_type": "code",
   "execution_count": 73,
   "metadata": {},
   "outputs": [],
   "source": [
    "# predicitons \n",
    "predictions = model.predict(test)"
   ]
  },
  {
   "cell_type": "code",
   "execution_count": 74,
   "metadata": {},
   "outputs": [],
   "source": [
    "# get true values\n",
    "true_values=pd.read_csv('meter1Test.csv',header=None)[0].values"
   ]
  },
  {
   "cell_type": "code",
   "execution_count": 75,
   "metadata": {},
   "outputs": [
    {
     "data": {
      "text/plain": [
       "Text(0.5, 0, 'Iterations')"
      ]
     },
     "execution_count": 75,
     "metadata": {},
     "output_type": "execute_result"
    },
    {
     "data": {
      "image/png": "[encoded data removed]",
      "text/plain": [
       "<Figure size 432x288 with 1 Axes>"
      ]
     },
     "metadata": {
      "needs_background": "light"
     },
     "output_type": "display_data"
    }
   ],
   "source": [
    "plt.plot(predictions,\"-g\" ,label='Predictions')\n",
    "#plt.plot(true_values, \"-r\",label='True Values')\n",
    "plt.legend(loc=\"upper left\")\n",
    "plt.title('Model Prediction ')\n",
    "plt.ylabel('meter readinds')\n",
    "plt.xlabel('Iterations')"
   ]
  },
  {
   "cell_type": "code",
   "execution_count": 199,
   "metadata": {},
   "outputs": [
    {
     "data": {
      "text/plain": [
       "Text(0.5, 0, 'Iterations')"
      ]
     },
     "execution_count": 199,
     "metadata": {},
     "output_type": "execute_result"
    },
    {
     "data": {
      "image/png": "[encoded data removed]",
      "text/plain": [
       "<Figure size 432x288 with 1 Axes>"
      ]
     },
     "metadata": {
      "needs_background": "light"
     },
     "output_type": "display_data"
    }
   ],
   "source": [
    "#plt.plot(predictions,\"-g\" ,label='Predictions')\n",
    "plt.plot(true_values, \"-r\",label='True Values',color='orange')\n",
    "plt.legend(loc=\"upper left\")\n",
    "plt.title('True Values ')\n",
    "plt.ylabel('meter readinds')\n",
    "plt.xlabel('Iterations')"
   ]
  },
  {
   "cell_type": "code",
   "execution_count": 76,
   "metadata": {},
   "outputs": [
    {
     "data": {
      "text/plain": [
       "Text(0.5, 15.0, 'Iterations')"
      ]
     },
     "execution_count": 76,
     "metadata": {},
     "output_type": "execute_result"
    },
    {
     "data": {
      "image/png": "[encoded data removed]",
      "text/plain": [
       "<Figure size 432x288 with 1 Axes>"
      ]
     },
     "metadata": {
      "needs_background": "light"
     },
     "output_type": "display_data"
    }
   ],
   "source": [
    "plt.plot(true_values, \"-r\",label='True Values',color='orange')\n",
    "plt.plot(predictions,\"-g\" ,label='Predictions',color='green')\n",
    "\n",
    "plt.legend(loc=\"upper left\")\n",
    "plt.legend(bbox_to_anchor=(1.05, 1), loc=2, borderaxespad=0.,fontsize='x-large')\n",
    "plt.tight_layout()\n",
    "\n",
    "plt.title('Model Prediction and True Values Imposed')\n",
    "plt.ylabel('meter readinds')\n",
    "plt.xlabel('Iterations')"
   ]
  },
  {
   "cell_type": "code",
   "execution_count": null,
   "metadata": {},
   "outputs": [],
   "source": []
  }
 ],
 "metadata": {
  "kernelspec": {
   "display_name": "Python 3",
   "language": "python",
   "name": "python3"
  },
  "language_info": {
   "codemirror_mode": {
    "name": "ipython",
    "version": 3
   },
   "file_extension": ".py",
   "mimetype": "text/x-python",
   "name": "python",
   "nbconvert_exporter": "python",
   "pygments_lexer": "ipython3",
   "version": "3.7.5"
  }
 },
 "nbformat": 4,
 "nbformat_minor": 2
}
