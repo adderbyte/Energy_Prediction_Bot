{
 "cells": [
  {
   "cell_type": "markdown",
   "metadata": {},
   "source": [
    "# Time Series Prediction\n"
   ]
  },
  {
   "cell_type": "code",
   "execution_count": 1,
   "metadata": {},
   "outputs": [],
   "source": [
    "# @ Lukman copyright \n",
    "# MIT Licence"
   ]
  },
  {
   "cell_type": "code",
   "execution_count": 21,
   "metadata": {},
   "outputs": [
    {
     "name": "stdout",
     "output_type": "stream",
     "text": [
      "The autoreload extension is already loaded. To reload it, use:\n",
      "  %reload_ext autoreload\n"
     ]
    }
   ],
   "source": [
    "# for data frame analysis\n",
    "import pandas as pd \n",
    "\n",
    "# for mathematical operations\n",
    "import numpy as np \n",
    "\n",
    "\n",
    "# matplotlib library for plotting\n",
    "import matplotlib.pyplot as plt\n",
    "%matplotlib inline\n",
    "\n",
    "# For Normalizing data\n",
    "from sklearn.preprocessing import StandardScaler\n",
    "\n",
    "# For statistical test\n",
    "import scipy.stats as stats\n",
    "\n",
    "# Split data set into training and test set\n",
    "from sklearn.model_selection import train_test_split as tts\n",
    "\n",
    "# SVN module\n",
    "from sklearn import svm\n",
    "\n",
    "# Kernel Functions used \n",
    "from sklearn.metrics.pairwise import rbf_kernel,laplacian_kernel\n",
    "\n",
    "# module for chi square test\n",
    "from scipy.stats import chisquare\n",
    "\n",
    "\n",
    "# For dictionary \n",
    "from collections import defaultdict\n",
    "\n",
    "# for use of tensorflow\n",
    "import tensorflow as tf\n",
    "#from tensorflow.nn.rnn import *\n",
    "from tensorflow.python.ops  import *\n",
    "from tensorflow.keras import regularizers\n",
    "\n",
    "# for scaling arrays\n",
    "from sklearn.preprocessing import MaxAbsScaler,MinMaxScaler\n",
    "\n",
    "\n",
    "# for random sampling of validation set\n",
    "import random\n",
    "\n",
    "\n",
    "import yaml\n",
    "import os\n",
    "from utility import utils\n",
    "\n",
    "%load_ext autoreload\n",
    "%autoreload 2"
   ]
  },
  {
   "cell_type": "code",
   "execution_count": null,
   "metadata": {},
   "outputs": [],
   "source": []
  },
  {
   "cell_type": "code",
   "execution_count": 6,
   "metadata": {},
   "outputs": [],
   "source": [
    "# enable eager executinon\n",
    "tf.enable_eager_execution()"
   ]
  },
  {
   "cell_type": "code",
   "execution_count": 7,
   "metadata": {},
   "outputs": [
    {
     "data": {
      "text/plain": [
       "'1.15.0'"
      ]
     },
     "execution_count": 7,
     "metadata": {},
     "output_type": "execute_result"
    }
   ],
   "source": [
    "tf.__version__"
   ]
  },
  {
   "cell_type": "markdown",
   "metadata": {},
   "source": [
    "# Data Preprocessing "
   ]
  },
  {
   "cell_type": "code",
   "execution_count": 80,
   "metadata": {},
   "outputs": [],
   "source": [
    "################################################################################\n",
    "# load config file\n",
    "try:\n",
    "    with open(\"../config.yml\", 'r') as ymlfile:\n",
    "            cfg = yaml.safe_load(ymlfile)\n",
    "except (IOError):\n",
    "    print('config file is required. Put config file in current directory')\n",
    "################################################################################"
   ]
  },
  {
   "cell_type": "code",
   "execution_count": 17,
   "metadata": {},
   "outputs": [],
   "source": [
    "# current working directory\n",
    "cwd = os.getcwd()\n",
    "# set the base directory. base directo\n",
    "BASE_DIR = os.path.join( os.path.dirname( cwd), '' )\n",
    "# cleaned data dir\n",
    "cleanedpath= BASE_DIR + cfg['cleanedconfig']['cleanedDataV1']['cleanedDir'] \n",
    "# clean data Name\n",
    "cleandataName = cfg['cleanedconfig']['cleanedDataV1']['cleanedName']\n",
    "# traina and validation data name\n",
    "trainName= cfg['cleanedconfig']['cleanedDataV1']['TensorflowDataFlowConfig']['tfcleanTrain']\n",
    "validateName  = cfg['cleanedconfig']['cleanedDataV1']['TensorflowDataFlowConfig']['tfcleanValidate']\n",
    "validation_split = cfg['cleanedconfig']['cleanedDataV1']['validationSplit']"
   ]
  },
  {
   "cell_type": "code",
   "execution_count": 18,
   "metadata": {},
   "outputs": [],
   "source": [
    "# boolean for preprocessing datasets for tensorflow\n",
    "tfreprocess = cfg['cleanedconfig']['cleanedDataV1']['TensorflowDataFlowConfig']['tfprocess']"
   ]
  },
  {
   "cell_type": "code",
   "execution_count": 28,
   "metadata": {},
   "outputs": [],
   "source": [
    "if tfreprocess:\n",
    "    \n",
    "    _,_,data_types,col_names= utils.tfdatabuilder(cleanedpath,cleandataName,trainName, validateName,validation_split )\n",
    "    \n",
    "else:\n",
    "    \n",
    "    train = pd.read_csv(cleanedpath + trainName) \n",
    "    data_types,col_names = utils.tfpreprocess(train)"
   ]
  },
  {
   "cell_type": "markdown",
   "metadata": {},
   "source": [
    "#### Work with downloaded csv to preserve data type\n",
    "Load the csv file and parse the data types of the datatset together into the\n",
    "tensorflow load pipeline"
   ]
  },
  {
   "cell_type": "code",
   "execution_count": 58,
   "metadata": {},
   "outputs": [],
   "source": [
    "# load the data using the tensorflow Dataset API\n",
    "# add the data types too\n",
    "csvData = tf.data.experimental.CsvDataset(cleanedpath + trainName, data_types, header=True)"
   ]
  },
  {
   "cell_type": "code",
   "execution_count": 81,
   "metadata": {},
   "outputs": [],
   "source": [
    "# check the data type :\n",
    "#print(list(csvData.take(1)))"
   ]
  },
  {
   "cell_type": "code",
   "execution_count": 62,
   "metadata": {},
   "outputs": [],
   "source": [
    "#col_names"
   ]
  },
  {
   "cell_type": "code",
   "execution_count": 63,
   "metadata": {},
   "outputs": [],
   "source": [
    "# categorical features to use \n",
    "catfeatures = cfg['cleanedconfig']['cleanedDataV1']['TensorflowDataFlowConfig']['categoricalFeatureToUse']\n",
    "catNames = cfg['cleanedconfig']['cleanedDataV1']['TensorflowDataFlowConfig']['CategoricalFeature']\n"
   ]
  },
  {
   "cell_type": "markdown",
   "metadata": {},
   "source": [
    "#### Parse data "
   ]
  },
  {
   "cell_type": "code",
   "execution_count": 64,
   "metadata": {},
   "outputs": [],
   "source": [
    "# Parsing the data and\n",
    "# merging the columns:\n",
    "# ---- day and month as single column\n",
    "# ---- merge the site id as a single feature vector vector\n",
    "# ---- primary use as a single feature vector\n",
    "\n",
    "# take the forst 4 col names that meter reading, square feet, air temp , dew temp,\n",
    "# add it to a the new column names that would be formed after single column merging\n",
    "\n",
    "#categorical feature selection\n",
    "# here one can decide if to use site id or not . Site id is index 2 from catnames\n",
    "if catfeatures == 3:\n",
    "    col_names_= [col_names[0],col_names[1],col_names[2],col_names[3],catNames[0],catNames[1],catNames[2] ]\n",
    "else:\n",
    "    col_names_= [col_names[0],col_names[1],col_names[2],col_names[3],catNames[0],catNames[1]]\n",
    "\n",
    "def _parse_csv_row(*vals):\n",
    "    '''\n",
    "    Uses Feature columns\n",
    "    Does feature engineering\n",
    "    '''\n",
    "    \n",
    "    # month and day and single feature\n",
    "    month_day = tf.convert_to_tensor(vals[4:7])\n",
    "    # primary use as single feature\n",
    "    primary_use = tf.convert_to_tensor(vals[7:21]) # this index can be chage but ensure consistency \n",
    "    if catfeatures == 3:\n",
    "        # site id as single feature\n",
    "        site_id =  tf.convert_to_tensor(vals[21:31])\n",
    "    \n",
    "        # merge the features together, note meter reading is the fist column\n",
    "        # so it is excluded -- meaning index starts from 1\n",
    "        feature_vals = vals[1:4] + (month_day,primary_use,site_id)\n",
    "    else:\n",
    "        feature_vals = vals[1:4] + (month_day,primary_use)\n",
    "        \n",
    "    \n",
    "    \n",
    "    # zip into a  feature sets into a single col\n",
    "    features = dict(zip(col_names_[1:],feature_vals))\n",
    "    \n",
    "    # name the targets or lables\n",
    "    targets_tensor = tf.convert_to_tensor(vals[0],name=col_names_[0]) \n",
    "    \n",
    "    \n",
    "    \n",
    "    return features, targets_tensor"
   ]
  },
  {
   "cell_type": "code",
   "execution_count": null,
   "metadata": {},
   "outputs": [],
   "source": []
  },
  {
   "cell_type": "markdown",
   "metadata": {},
   "source": [
    "##### Batch the datatset"
   ]
  },
  {
   "cell_type": "code",
   "execution_count": 65,
   "metadata": {},
   "outputs": [],
   "source": [
    "\n",
    "dataset = csvData.map(_parse_csv_row).batch(64)"
   ]
  },
  {
   "cell_type": "code",
   "execution_count": 66,
   "metadata": {},
   "outputs": [],
   "source": [
    "\n",
    "#print(list(dataset.take(1)))"
   ]
  },
  {
   "cell_type": "markdown",
   "metadata": {},
   "source": [
    "##### Feature Categorization"
   ]
  },
  {
   "cell_type": "code",
   "execution_count": 67,
   "metadata": {},
   "outputs": [],
   "source": [
    "primary_use = tf.feature_column.numeric_column(catNames[1], shape=(14,))\n",
    "site_id = tf.feature_column.numeric_column(catNames[2], shape=(10,))\n",
    "month_day = tf.feature_column.numeric_column(catNames[0], shape=(3,))"
   ]
  },
  {
   "cell_type": "code",
   "execution_count": 68,
   "metadata": {},
   "outputs": [],
   "source": [
    "normalizer = lambda x: tf.math.divide(tf.math.subtract(x, tf.reduce_mean(x)), tf.math.reduce_std(x)+1e-8)"
   ]
  },
  {
   "cell_type": "code",
   "execution_count": 69,
   "metadata": {},
   "outputs": [],
   "source": [
    "numeric_columns = [tf.feature_column.numeric_column(feat,normalizer_fn=normalizer) for feat in col_names_[2:4]]"
   ]
  },
  {
   "cell_type": "code",
   "execution_count": 70,
   "metadata": {},
   "outputs": [],
   "source": [
    "sqft = [tf.feature_column.numeric_column(col_names_[1])]"
   ]
  },
  {
   "cell_type": "code",
   "execution_count": 71,
   "metadata": {},
   "outputs": [],
   "source": [
    "columns = sqft+numeric_columns + [month_day,primary_use,site_id]"
   ]
  },
  {
   "cell_type": "code",
   "execution_count": 72,
   "metadata": {},
   "outputs": [],
   "source": [
    "feature_layer = tf.keras.layers.DenseFeatures(columns)"
   ]
  },
  {
   "cell_type": "code",
   "execution_count": null,
   "metadata": {},
   "outputs": [],
   "source": []
  },
  {
   "cell_type": "markdown",
   "metadata": {},
   "source": [
    "# Build Model"
   ]
  },
  {
   "cell_type": "code",
   "execution_count": 73,
   "metadata": {},
   "outputs": [],
   "source": [
    "from tensorflow.keras import backend as K\n",
    "from tensorflow.keras.constraints import  NonNeg\n",
    "\n",
    "def root_mean_squared_error(y_true, y_pred):\n",
    "    '''\n",
    "    \n",
    "    this is the loss function specified in kaggle competition\n",
    "    '''\n",
    "        \n",
    "    return K.sqrt(K.mean (K.square( (K.log(K.abs(y_pred)+1) - K.log(y_true+1))   )   )   )\n",
    "\n",
    "\n",
    "\n",
    "def root_mean_squared_error2(y_true, y_pred):\n",
    "    '''\n",
    "    this is 1.- mean squared\n",
    "    root mean squared is a value between 0 and 1 \n",
    "    to reflect accuracy use 1-rms\n",
    "    '''\n",
    "        \n",
    "    return  K.sqrt(K.mean( ( K.square ( y_pred - y_true    )   )   )) "
   ]
  },
  {
   "cell_type": "code",
   "execution_count": 74,
   "metadata": {},
   "outputs": [],
   "source": [
    "# model layer \n",
    "model = tf.keras.Sequential([\n",
    "    feature_layer,\n",
    "    tf.keras.layers.Dense(64,kernel_constraint=NonNeg()),\n",
    "    tf.keras.layers.Dropout(0.5),\n",
    "    tf.keras.layers.Dense(32,activation='relu',kernel_constraint=NonNeg()),\n",
    "    tf.keras.layers.Dropout(0.4),\n",
    "    tf.keras.layers.Dense(16,kernel_regularizer=regularizers.l2(1e-2),kernel_constraint=NonNeg()),\n",
    "     tf.keras.layers.Dropout(0.4),\n",
    "    tf.keras.layers.Dense(8,activation='relu',kernel_constraint=NonNeg()),\n",
    "     tf.keras.layers.Dropout(0.5),\n",
    "    tf.keras.layers.Dense(4,activation='relu',kernel_constraint=NonNeg()),\n",
    "    tf.keras.layers.Dense(2),\n",
    "    tf.keras.layers.Dense(1, activation='linear',kernel_constraint=NonNeg())\n",
    "])\n"
   ]
  },
  {
   "cell_type": "code",
   "execution_count": 75,
   "metadata": {},
   "outputs": [],
   "source": [
    "model.compile(optimizer = tf.train.AdagradOptimizer(1e-4),\n",
    "             loss=root_mean_squared_error)\n",
    "\n",
    "# error ranges value 1e-2 to 1e-4 for good performance\n",
    "\n",
    "# Optimizer to use '''''' AdagradOptimizer and root_mean_squared_error2 ranges 1\n",
    "# Adam --- not good\n",
    "# Adam\n",
    "#Rmsprop\n"
   ]
  },
  {
   "cell_type": "code",
   "execution_count": 76,
   "metadata": {},
   "outputs": [
    {
     "data": {
      "text/plain": [
       "'savedModels/tfAPINormalized'"
      ]
     },
     "execution_count": 76,
     "metadata": {},
     "output_type": "execute_result"
    }
   ],
   "source": [
    "import os\n",
    "checkpoint_path = cfg['savedModel']['myname']['Dir2'] + cfg['savedModel']['myname']['modelName2']\n",
    "checkpoint_dir = os.path.dirname(checkpoint_path)\n",
    "checkpoint_dir\n"
   ]
  },
  {
   "cell_type": "code",
   "execution_count": 77,
   "metadata": {},
   "outputs": [],
   "source": [
    "# Create a callback that saves the model's weights\n",
    "cp_callback = tf.keras.callbacks.ModelCheckpoint(filepath=checkpoint_path,\n",
    "                                                 save_weights_only=True,\n",
    "                                                 verbose=1)"
   ]
  },
  {
   "cell_type": "code",
   "execution_count": 78,
   "metadata": {},
   "outputs": [
    {
     "name": "stdout",
     "output_type": "stream",
     "text": [
      "Epoch 1/10\n",
      "WARNING:tensorflow:From /home/bigdata-lap/anaconda3/envs/cat/lib/python3.7/site-packages/tensorflow_core/python/ops/math_grad.py:1424: where (from tensorflow.python.ops.array_ops) is deprecated and will be removed in a future version.\n",
      "Instructions for updating:\n",
      "Use tf.where in 2.0, which has the same broadcast rule as np.where\n",
      "37/40 [==========================>...] - ETA: 0s - loss: 8.7383\n",
      "Epoch 00001: saving model to savedModels/tfAPINormalized/tfAPINormalized.ckpt\n",
      "40/40 [==============================] - 3s 79ms/step - loss: 8.7554\n",
      "Epoch 2/10\n",
      "37/40 [==========================>...] - ETA: 0s - loss: 8.7550\n",
      "Epoch 00002: saving model to savedModels/tfAPINormalized/tfAPINormalized.ckpt\n",
      "40/40 [==============================] - 0s 6ms/step - loss: 8.7436\n",
      "Epoch 3/10\n",
      "37/40 [==========================>...] - ETA: 0s - loss: 8.7748\n",
      "Epoch 00003: saving model to savedModels/tfAPINormalized/tfAPINormalized.ckpt\n",
      "40/40 [==============================] - 0s 6ms/step - loss: 8.7678\n",
      "Epoch 4/10\n",
      "37/40 [==========================>...] - ETA: 0s - loss: 8.9154\n",
      "Epoch 00004: saving model to savedModels/tfAPINormalized/tfAPINormalized.ckpt\n",
      "40/40 [==============================] - 0s 6ms/step - loss: 8.9024\n",
      "Epoch 5/10\n",
      "37/40 [==========================>...] - ETA: 0s - loss: 8.6996\n",
      "Epoch 00005: saving model to savedModels/tfAPINormalized/tfAPINormalized.ckpt\n",
      "40/40 [==============================] - 0s 6ms/step - loss: 8.6628\n",
      "Epoch 6/10\n",
      "37/40 [==========================>...] - ETA: 0s - loss: 8.7492\n",
      "Epoch 00006: saving model to savedModels/tfAPINormalized/tfAPINormalized.ckpt\n",
      "40/40 [==============================] - 0s 6ms/step - loss: 8.7524\n",
      "Epoch 7/10\n",
      "37/40 [==========================>...] - ETA: 0s - loss: 8.8838\n",
      "Epoch 00007: saving model to savedModels/tfAPINormalized/tfAPINormalized.ckpt\n",
      "40/40 [==============================] - 0s 6ms/step - loss: 8.8787\n",
      "Epoch 8/10\n",
      "38/40 [===========================>..] - ETA: 0s - loss: 8.6150\n",
      "Epoch 00008: saving model to savedModels/tfAPINormalized/tfAPINormalized.ckpt\n",
      "40/40 [==============================] - 0s 6ms/step - loss: 8.6248\n",
      "Epoch 9/10\n",
      "37/40 [==========================>...] - ETA: 0s - loss: 8.5187\n",
      "Epoch 00009: saving model to savedModels/tfAPINormalized/tfAPINormalized.ckpt\n",
      "40/40 [==============================] - 0s 6ms/step - loss: 8.5489\n",
      "Epoch 10/10\n",
      "38/40 [===========================>..] - ETA: 0s - loss: 8.7078\n",
      "Epoch 00010: saving model to savedModels/tfAPINormalized/tfAPINormalized.ckpt\n",
      "40/40 [==============================] - 0s 6ms/step - loss: 8.6995\n",
      "Epoch 1/10\n",
      "31/40 [======================>.......] - ETA: 0s - loss: 8.7557\n",
      "Epoch 00001: saving model to savedModels/tfAPINormalized/tfAPINormalized.ckpt\n",
      "40/40 [==============================] - 0s 6ms/step - loss: 8.7590\n",
      "Epoch 2/10\n",
      "31/40 [======================>.......] - ETA: 0s - loss: 8.7292\n",
      "Epoch 00002: saving model to savedModels/tfAPINormalized/tfAPINormalized.ckpt\n",
      "40/40 [==============================] - 0s 5ms/step - loss: 8.7060\n",
      "Epoch 3/10\n",
      "31/40 [======================>.......] - ETA: 0s - loss: 8.6982\n",
      "Epoch 00003: saving model to savedModels/tfAPINormalized/tfAPINormalized.ckpt\n",
      "40/40 [==============================] - 0s 6ms/step - loss: 8.7181\n",
      "Epoch 4/10\n",
      "39/40 [============================>.] - ETA: 0s - loss: 8.8795\n",
      "Epoch 00004: saving model to savedModels/tfAPINormalized/tfAPINormalized.ckpt\n",
      "40/40 [==============================] - 0s 6ms/step - loss: 8.8714\n",
      "Epoch 5/10\n",
      "38/40 [===========================>..] - ETA: 0s - loss: 8.6168\n",
      "Epoch 00005: saving model to savedModels/tfAPINormalized/tfAPINormalized.ckpt\n",
      "40/40 [==============================] - 0s 6ms/step - loss: 8.6272\n",
      "Epoch 6/10\n",
      "31/40 [======================>.......] - ETA: 0s - loss: 8.6076\n",
      "Epoch 00006: saving model to savedModels/tfAPINormalized/tfAPINormalized.ckpt\n",
      "40/40 [==============================] - 0s 6ms/step - loss: 8.6473\n",
      "Epoch 7/10\n",
      "37/40 [==========================>...] - ETA: 0s - loss: 8.7999\n",
      "Epoch 00007: saving model to savedModels/tfAPINormalized/tfAPINormalized.ckpt\n",
      "40/40 [==============================] - 0s 6ms/step - loss: 8.7948\n",
      "Epoch 8/10\n",
      "38/40 [===========================>..] - ETA: 0s - loss: 8.5811\n",
      "Epoch 00008: saving model to savedModels/tfAPINormalized/tfAPINormalized.ckpt\n",
      "40/40 [==============================] - 0s 6ms/step - loss: 8.5897\n",
      "Epoch 9/10\n",
      "38/40 [===========================>..] - ETA: 0s - loss: 8.4558\n",
      "Epoch 00009: saving model to savedModels/tfAPINormalized/tfAPINormalized.ckpt\n",
      "40/40 [==============================] - 0s 6ms/step - loss: 8.4640\n",
      "Epoch 10/10\n",
      "39/40 [============================>.] - ETA: 0s - loss: 8.6609\n",
      "Epoch 00010: saving model to savedModels/tfAPINormalized/tfAPINormalized.ckpt\n",
      "40/40 [==============================] - 0s 6ms/step - loss: 8.6811\n",
      "Epoch 1/10\n",
      "38/40 [===========================>..] - ETA: 0s - loss: 8.6912\n",
      "Epoch 00001: saving model to savedModels/tfAPINormalized/tfAPINormalized.ckpt\n",
      "40/40 [==============================] - 0s 6ms/step - loss: 8.6890\n",
      "Epoch 2/10\n",
      "30/40 [=====================>........] - ETA: 0s - loss: 8.6711\n",
      "Epoch 00002: saving model to savedModels/tfAPINormalized/tfAPINormalized.ckpt\n",
      "40/40 [==============================] - 0s 5ms/step - loss: 8.6663\n",
      "Epoch 3/10\n",
      "30/40 [=====================>........] - ETA: 0s - loss: 8.6671\n",
      "Epoch 00003: saving model to savedModels/tfAPINormalized/tfAPINormalized.ckpt\n",
      "40/40 [==============================] - 0s 6ms/step - loss: 8.6853\n",
      "Epoch 4/10\n",
      "36/40 [==========================>...] - ETA: 0s - loss: 8.8022\n",
      "Epoch 00004: saving model to savedModels/tfAPINormalized/tfAPINormalized.ckpt\n",
      "40/40 [==============================] - 0s 6ms/step - loss: 8.7892\n",
      "Epoch 5/10\n",
      "37/40 [==========================>...] - ETA: 0s - loss: 8.6352\n",
      "Epoch 00005: saving model to savedModels/tfAPINormalized/tfAPINormalized.ckpt\n",
      "40/40 [==============================] - 0s 6ms/step - loss: 8.6085\n",
      "Epoch 6/10\n",
      "37/40 [==========================>...] - ETA: 0s - loss: 8.6403\n",
      "Epoch 00006: saving model to savedModels/tfAPINormalized/tfAPINormalized.ckpt\n",
      "40/40 [==============================] - 0s 6ms/step - loss: 8.6452\n",
      "Epoch 7/10\n",
      "38/40 [===========================>..] - ETA: 0s - loss: 8.7708\n",
      "Epoch 00007: saving model to savedModels/tfAPINormalized/tfAPINormalized.ckpt\n",
      "40/40 [==============================] - 0s 6ms/step - loss: 8.7739\n",
      "Epoch 8/10\n",
      "35/40 [=========================>....] - ETA: 0s - loss: 8.5408\n",
      "Epoch 00008: saving model to savedModels/tfAPINormalized/tfAPINormalized.ckpt\n",
      "40/40 [==============================] - 0s 6ms/step - loss: 8.5168\n",
      "Epoch 9/10\n",
      "39/40 [============================>.] - ETA: 0s - loss: 8.4331\n",
      "Epoch 00009: saving model to savedModels/tfAPINormalized/tfAPINormalized.ckpt\n",
      "40/40 [==============================] - 0s 6ms/step - loss: 8.4465\n",
      "Epoch 10/10\n",
      "36/40 [==========================>...] - ETA: 0s - loss: 8.6116\n",
      "Epoch 00010: saving model to savedModels/tfAPINormalized/tfAPINormalized.ckpt\n",
      "40/40 [==============================] - 0s 6ms/step - loss: 8.6189\n",
      "Epoch 1/10\n",
      "35/40 [=========================>....] - ETA: 0s - loss: 8.6375\n",
      "Epoch 00001: saving model to savedModels/tfAPINormalized/tfAPINormalized.ckpt\n",
      "40/40 [==============================] - 0s 7ms/step - loss: 8.6481\n",
      "Epoch 2/10\n",
      "39/40 [============================>.] - ETA: 0s - loss: 8.6449\n",
      "Epoch 00002: saving model to savedModels/tfAPINormalized/tfAPINormalized.ckpt\n",
      "40/40 [==============================] - 0s 6ms/step - loss: 8.6373\n",
      "Epoch 3/10\n",
      "34/40 [========================>.....] - ETA: 0s - loss: 8.5998\n",
      "Epoch 00003: saving model to savedModels/tfAPINormalized/tfAPINormalized.ckpt\n",
      "40/40 [==============================] - 1s 23ms/step - loss: 8.6119\n",
      "Epoch 4/10\n",
      "39/40 [============================>.] - ETA: 0s - loss: 8.7965\n",
      "Epoch 00004: saving model to savedModels/tfAPINormalized/tfAPINormalized.ckpt\n",
      "40/40 [==============================] - 0s 10ms/step - loss: 8.7916\n",
      "Epoch 5/10\n",
      "38/40 [===========================>..] - ETA: 0s - loss: 8.5252\n",
      "Epoch 00005: saving model to savedModels/tfAPINormalized/tfAPINormalized.ckpt\n",
      "40/40 [==============================] - 0s 6ms/step - loss: 8.5388\n",
      "Epoch 6/10\n",
      "37/40 [==========================>...] - ETA: 0s - loss: 8.6284\n",
      "Epoch 00006: saving model to savedModels/tfAPINormalized/tfAPINormalized.ckpt\n",
      "40/40 [==============================] - 0s 6ms/step - loss: 8.6337\n"
     ]
    },
    {
     "name": "stdout",
     "output_type": "stream",
     "text": [
      "Epoch 7/10\n",
      "38/40 [===========================>..] - ETA: 0s - loss: 8.7105\n",
      "Epoch 00007: saving model to savedModels/tfAPINormalized/tfAPINormalized.ckpt\n",
      "40/40 [==============================] - 0s 6ms/step - loss: 8.7157\n",
      "Epoch 8/10\n",
      "36/40 [==========================>...] - ETA: 0s - loss: 8.4913\n",
      "Epoch 00008: saving model to savedModels/tfAPINormalized/tfAPINormalized.ckpt\n",
      "40/40 [==============================] - 0s 6ms/step - loss: 8.4940\n",
      "Epoch 9/10\n",
      "36/40 [==========================>...] - ETA: 0s - loss: 8.3874\n",
      "Epoch 00009: saving model to savedModels/tfAPINormalized/tfAPINormalized.ckpt\n",
      "40/40 [==============================] - 0s 6ms/step - loss: 8.4132\n",
      "Epoch 10/10\n",
      "37/40 [==========================>...] - ETA: 0s - loss: 8.6173\n",
      "Epoch 00010: saving model to savedModels/tfAPINormalized/tfAPINormalized.ckpt\n",
      "40/40 [==============================] - 0s 6ms/step - loss: 8.6266\n",
      "Epoch 1/10\n",
      "35/40 [=========================>....] - ETA: 0s - loss: 8.6646\n",
      "Epoch 00001: saving model to savedModels/tfAPINormalized/tfAPINormalized.ckpt\n",
      "40/40 [==============================] - 0s 6ms/step - loss: 8.6606\n",
      "Epoch 2/10\n",
      "35/40 [=========================>....] - ETA: 0s - loss: 8.6037\n",
      "Epoch 00002: saving model to savedModels/tfAPINormalized/tfAPINormalized.ckpt\n",
      "40/40 [==============================] - 0s 6ms/step - loss: 8.5957\n",
      "Epoch 3/10\n",
      "39/40 [============================>.] - ETA: 0s - loss: 8.6258\n",
      "Epoch 00003: saving model to savedModels/tfAPINormalized/tfAPINormalized.ckpt\n",
      "40/40 [==============================] - 0s 6ms/step - loss: 8.6271\n",
      "Epoch 4/10\n",
      "38/40 [===========================>..] - ETA: 0s - loss: 8.7460\n",
      "Epoch 00004: saving model to savedModels/tfAPINormalized/tfAPINormalized.ckpt\n",
      "40/40 [==============================] - 0s 6ms/step - loss: 8.7385\n",
      "Epoch 5/10\n",
      "39/40 [============================>.] - ETA: 0s - loss: 8.5417\n",
      "Epoch 00005: saving model to savedModels/tfAPINormalized/tfAPINormalized.ckpt\n",
      "40/40 [==============================] - 0s 6ms/step - loss: 8.5286\n",
      "Epoch 6/10\n",
      "33/40 [=======================>......] - ETA: 0s - loss: 8.5590\n",
      "Epoch 00006: saving model to savedModels/tfAPINormalized/tfAPINormalized.ckpt\n",
      "40/40 [==============================] - 0s 5ms/step - loss: 8.5979\n",
      "Epoch 7/10\n",
      "31/40 [======================>.......] - ETA: 0s - loss: 8.7270\n",
      "Epoch 00007: saving model to savedModels/tfAPINormalized/tfAPINormalized.ckpt\n",
      "40/40 [==============================] - 0s 6ms/step - loss: 8.7242\n",
      "Epoch 8/10\n",
      "31/40 [======================>.......] - ETA: 0s - loss: 8.4813\n",
      "Epoch 00008: saving model to savedModels/tfAPINormalized/tfAPINormalized.ckpt\n",
      "40/40 [==============================] - 0s 5ms/step - loss: 8.4750\n",
      "Epoch 9/10\n",
      "31/40 [======================>.......] - ETA: 0s - loss: 8.3302\n",
      "Epoch 00009: saving model to savedModels/tfAPINormalized/tfAPINormalized.ckpt\n",
      "40/40 [==============================] - 0s 5ms/step - loss: 8.3908\n",
      "Epoch 10/10\n",
      "31/40 [======================>.......] - ETA: 0s - loss: 8.5891\n",
      "Epoch 00010: saving model to savedModels/tfAPINormalized/tfAPINormalized.ckpt\n",
      "40/40 [==============================] - 0s 6ms/step - loss: 8.5793\n"
     ]
    }
   ],
   "source": [
    "train_epochs = 5# increase this to train data better\n",
    "restore = False\n",
    "# for loop trains incrementally\n",
    "# this issue https://github.com/keras-team/keras/issues/4446\n",
    "for i in range(train_epochs):  \n",
    "    if restore:\n",
    "        model.load_weights(checkpoint_path)\n",
    "    model.fit(dataset,epochs=10,steps_per_epoch=40,callbacks=[cp_callback])\n",
    "    restore = True\n",
    "    \n"
   ]
  },
  {
   "cell_type": "markdown",
   "metadata": {},
   "source": [
    "## Testing"
   ]
  },
  {
   "cell_type": "code",
   "execution_count": 79,
   "metadata": {},
   "outputs": [],
   "source": [
    "# testing not yet activated"
   ]
  },
  {
   "cell_type": "code",
   "execution_count": 116,
   "metadata": {},
   "outputs": [],
   "source": [
    "def _parse_csv_row2(*vals):\n",
    "    '''\n",
    "    Uses Feature columns\n",
    "    Does feature engineering\n",
    "    '''\n",
    "    \n",
    "    # month and day and single feature\n",
    "    month_day = tf.convert_to_tensor(vals[4:7])\n",
    "    # primary use as single feature\n",
    "    primary_use = tf.convert_to_tensor(vals[7:21])\n",
    "    # site id as single feature\n",
    "    site_id =  tf.convert_to_tensor(vals[21:30])\n",
    "    \n",
    "    # merge the features together, note meter reading is the fist column\n",
    "    # so it is excluded -- meaning index starts from 1\n",
    "    feature_vals = vals[1:4] + (month_day,primary_use,site_id)\n",
    "    \n",
    "    \n",
    "    # zip into a  feature sets into a single col\n",
    "    features = dict(zip(col_names_[1:],feature_vals))\n",
    "    \n",
    "    # name the targets or lables\n",
    "    targets_tensor = tf.convert_to_tensor(vals[0],name=col_names_[0]) \n",
    "    \n",
    "    \n",
    "    \n",
    "    return features"
   ]
  },
  {
   "cell_type": "code",
   "execution_count": 117,
   "metadata": {},
   "outputs": [],
   "source": [
    "testdata = tf.data.experimental.CsvDataset('meter1Test.csv', data_types, header=False)"
   ]
  },
  {
   "cell_type": "code",
   "execution_count": 118,
   "metadata": {},
   "outputs": [],
   "source": [
    "test = testdata.map(_parse_csv_row2).batch(1)"
   ]
  },
  {
   "cell_type": "code",
   "execution_count": 119,
   "metadata": {},
   "outputs": [],
   "source": [
    "# predicitons \n",
    "predictions = model.predict(test)"
   ]
  },
  {
   "cell_type": "code",
   "execution_count": 120,
   "metadata": {},
   "outputs": [],
   "source": [
    "# get true values\n",
    "true_values=pd.read_csv('meter1Test.csv',header=None)[0].values"
   ]
  },
  {
   "cell_type": "code",
   "execution_count": 121,
   "metadata": {},
   "outputs": [
    {
     "data": {
      "text/plain": [
       "Text(0.5, 0, 'Iterations')"
      ]
     },
     "execution_count": 121,
     "metadata": {},
     "output_type": "execute_result"
    },
    {
     "data": {
      "image/png": "[encoded data removed]",
      "text/plain": [
       "<Figure size 432x288 with 1 Axes>"
      ]
     },
     "metadata": {
      "needs_background": "light"
     },
     "output_type": "display_data"
    }
   ],
   "source": [
    "plt.plot(predictions,\"-g\" ,label='Predictions')\n",
    "#plt.plot(true_values, \"-r\",label='True Values')\n",
    "plt.legend(loc=\"upper left\")\n",
    "plt.title('Model Prediction ')\n",
    "plt.ylabel('meter readinds')\n",
    "plt.xlabel('Iterations')"
   ]
  },
  {
   "cell_type": "code",
   "execution_count": 199,
   "metadata": {},
   "outputs": [
    {
     "data": {
      "text/plain": [
       "Text(0.5, 0, 'Iterations')"
      ]
     },
     "execution_count": 199,
     "metadata": {},
     "output_type": "execute_result"
    },
    {
     "data": {
      "image/png": "[encoded data removed]",
      "text/plain": [
       "<Figure size 432x288 with 1 Axes>"
      ]
     },
     "metadata": {
      "needs_background": "light"
     },
     "output_type": "display_data"
    }
   ],
   "source": [
    "#plt.plot(predictions,\"-g\" ,label='Predictions')\n",
    "plt.plot(true_values, \"-r\",label='True Values',color='orange')\n",
    "plt.legend(loc=\"upper left\")\n",
    "plt.title('True Values ')\n",
    "plt.ylabel('meter readinds')\n",
    "plt.xlabel('Iterations')"
   ]
  },
  {
   "cell_type": "markdown",
   "metadata": {},
   "source": [
    "### Per Building plot"
   ]
  },
  {
   "cell_type": "code",
   "execution_count": 122,
   "metadata": {},
   "outputs": [],
   "source": [
    "from utility import utils\n",
    "%load_ext autoreload\n",
    "%autoreload 2"
   ]
  },
  {
   "cell_type": "code",
   "execution_count": 124,
   "metadata": {},
   "outputs": [],
   "source": [
    "test_predicted = pd.DataFrame(list(zip(test_building_id,test_timestamp,list(predictions))),columns= ['building_id','timestamp', 'meter_reading' ,] )"
   ]
  },
  {
   "cell_type": "code",
   "execution_count": 125,
   "metadata": {},
   "outputs": [],
   "source": [
    "true_readings = pd.DataFrame(list(zip(test_building_id,test_timestamp,list(true_values))),columns= ['building_id','timestamp', 'meter_reading' ,] )"
   ]
  },
  {
   "cell_type": "code",
   "execution_count": 126,
   "metadata": {},
   "outputs": [
    {
     "name": "stderr",
     "output_type": "stream",
     "text": [
      "/home/cat/anaconda3/envs/cat/lib/python3.7/site-packages/pandas/plotting/_matplotlib/converter.py:103: FutureWarning: Using an implicitly registered datetime converter for a matplotlib plotting method. The converter was registered by pandas on import. Future versions of pandas will require you to explicitly register matplotlib converters.\n",
      "\n",
      "To register the converters:\n",
      "\t>>> from pandas.plotting import register_matplotlib_converters\n",
      "\t>>> register_matplotlib_converters()\n",
      "  warnings.warn(msg, FutureWarning)\n"
     ]
    },
    {
     "data": {
      "image/png": "[encoded data removed]",
      "text/plain": [
       "<Figure size 432x288 with 1 Axes>"
      ]
     },
     "metadata": {
      "needs_background": "light"
     },
     "output_type": "display_data"
    },
    {
     "data": {
      "image/png": "[encoded data removed]",
      "text/plain": [
       "<Figure size 432x288 with 1 Axes>"
      ]
     },
     "metadata": {
      "needs_background": "light"
     },
     "output_type": "display_data"
    },
    {
     "data": {
      "image/png": "[encoded data removed]",
      "text/plain": [
       "<Figure size 432x288 with 1 Axes>"
      ]
     },
     "metadata": {
      "needs_background": "light"
     },
     "output_type": "display_data"
    },
    {
     "data": {
      "image/png": "[encoded data removed]",
      "text/plain": [
       "<Figure size 432x288 with 1 Axes>"
      ]
     },
     "metadata": {
      "needs_background": "light"
     },
     "output_type": "display_data"
    },
    {
     "data": {
      "image/png": "[encoded data removed]",
      "text/plain": [
       "<Figure size 432x288 with 1 Axes>"
      ]
     },
     "metadata": {
      "needs_background": "light"
     },
     "output_type": "display_data"
    },
    {
     "data": {
      "image/png": "[encoded data removed]",
      "text/plain": [
       "<Figure size 432x288 with 1 Axes>"
      ]
     },
     "metadata": {
      "needs_background": "light"
     },
     "output_type": "display_data"
    }
   ],
   "source": [
    "utils.plot_meter(true_readings,test_predicted,n_plots=5)"
   ]
  },
  {
   "cell_type": "code",
   "execution_count": null,
   "metadata": {},
   "outputs": [],
   "source": []
  },
  {
   "cell_type": "code",
   "execution_count": null,
   "metadata": {},
   "outputs": [],
   "source": []
  },
  {
   "cell_type": "code",
   "execution_count": 76,
   "metadata": {},
   "outputs": [
    {
     "data": {
      "text/plain": [
       "Text(0.5, 15.0, 'Iterations')"
      ]
     },
     "execution_count": 76,
     "metadata": {},
     "output_type": "execute_result"
    },
    {
     "data": {
      "image/png": "[encoded data removed]",
      "text/plain": [
       "<Figure size 432x288 with 1 Axes>"
      ]
     },
     "metadata": {
      "needs_background": "light"
     },
     "output_type": "display_data"
    }
   ],
   "source": [
    "plt.plot(true_values, \"-r\",label='True Values',color='orange')\n",
    "plt.plot(predictions,\"-g\" ,label='Predictions',color='green')\n",
    "\n",
    "plt.legend(loc=\"upper left\")\n",
    "plt.legend(bbox_to_anchor=(1.05, 1), loc=2, borderaxespad=0.,fontsize='x-large')\n",
    "plt.tight_layout()\n",
    "\n",
    "plt.title('Model Prediction and True Values Imposed')\n",
    "plt.ylabel('meter readinds')\n",
    "plt.xlabel('Iterations')"
   ]
  },
  {
   "cell_type": "code",
   "execution_count": null,
   "metadata": {},
   "outputs": [],
   "source": []
  }
 ],
 "metadata": {
  "kernelspec": {
   "display_name": "Python 3",
   "language": "python",
   "name": "python3"
  },
  "language_info": {
   "codemirror_mode": {
    "name": "ipython",
    "version": 3
   },
   "file_extension": ".py",
   "mimetype": "text/x-python",
   "name": "python",
   "nbconvert_exporter": "python",
   "pygments_lexer": "ipython3",
   "version": "3.7.4"
  }
 },
 "nbformat": 4,
 "nbformat_minor": 2
}
