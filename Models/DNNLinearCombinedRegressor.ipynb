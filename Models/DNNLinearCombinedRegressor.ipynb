{
 "cells": [
  {
   "cell_type": "markdown",
   "metadata": {},
   "source": [
    "# Time Series Prediction\n"
   ]
  },
  {
   "cell_type": "code",
   "execution_count": 1,
   "metadata": {},
   "outputs": [],
   "source": [
    "# @ Lukman copyright \n",
    "# MIT Licence"
   ]
  },
  {
   "cell_type": "code",
   "execution_count": 162,
   "metadata": {},
   "outputs": [
    {
     "name": "stdout",
     "output_type": "stream",
     "text": [
      "The autoreload extension is already loaded. To reload it, use:\n",
      "  %reload_ext autoreload\n"
     ]
    }
   ],
   "source": [
    "# for data frame analysis\n",
    "import pandas as pd \n",
    "\n",
    "# for mathematical operations\n",
    "import numpy as np \n",
    "\n",
    "\n",
    "# matplotlib library for plotting\n",
    "import matplotlib.pyplot as plt\n",
    "%matplotlib inline\n",
    "\n",
    "# For Normalizing data\n",
    "from sklearn.preprocessing import StandardScaler\n",
    "\n",
    "# For statistical test\n",
    "import scipy.stats as stats\n",
    "\n",
    "# Split data set into training and test set\n",
    "from sklearn.model_selection import train_test_split as tts\n",
    "\n",
    "# SVN module\n",
    "from sklearn import svm\n",
    "\n",
    "# Kernel Functions used \n",
    "from sklearn.metrics.pairwise import rbf_kernel,laplacian_kernel\n",
    "\n",
    "# module for chi square test\n",
    "from scipy.stats import chisquare\n",
    "\n",
    "\n",
    "# For dictionary \n",
    "from collections import defaultdict\n",
    "\n",
    "# for use of tensorflow\n",
    "import tensorflow as tf\n",
    "tf.enable_eager_execution()\n",
    "\n",
    "#from tensorflow.nn.rnn import *\n",
    "from tensorflow.python.ops  import *\n",
    "\n",
    "# for scaling arrays\n",
    "from sklearn.preprocessing import MaxAbsScaler,MinMaxScaler\n",
    "\n",
    "\n",
    "# for random sampling of validation set\n",
    "import random\n",
    "\n",
    "import yaml\n",
    "import os\n",
    "from utility import utils\n",
    "\n",
    "%load_ext autoreload\n",
    "%autoreload 2"
   ]
  },
  {
   "cell_type": "code",
   "execution_count": 2,
   "metadata": {},
   "outputs": [],
   "source": [
    "import sys"
   ]
  },
  {
   "cell_type": "code",
   "execution_count": null,
   "metadata": {},
   "outputs": [],
   "source": []
  },
  {
   "cell_type": "code",
   "execution_count": 3,
   "metadata": {},
   "outputs": [],
   "source": [
    "# enable eager executinon\n",
    "tf.enable_eager_execution()"
   ]
  },
  {
   "cell_type": "code",
   "execution_count": 4,
   "metadata": {},
   "outputs": [
    {
     "data": {
      "text/plain": [
       "'1.15.0'"
      ]
     },
     "execution_count": 4,
     "metadata": {},
     "output_type": "execute_result"
    }
   ],
   "source": [
    "tf.__version__"
   ]
  },
  {
   "cell_type": "code",
   "execution_count": 102,
   "metadata": {},
   "outputs": [
    {
     "name": "stdout",
     "output_type": "stream",
     "text": [
      "Num GPUs Available:  0\n"
     ]
    }
   ],
   "source": [
    "# check GPU availability for tensorflow\n",
    "print(\"Num GPUs Available: \", len(tf.config.experimental.list_physical_devices('GPU')))\n"
   ]
  },
  {
   "cell_type": "code",
   "execution_count": null,
   "metadata": {},
   "outputs": [],
   "source": []
  },
  {
   "cell_type": "markdown",
   "metadata": {},
   "source": [
    "# Data Preprocessing "
   ]
  },
  {
   "cell_type": "code",
   "execution_count": 5,
   "metadata": {},
   "outputs": [],
   "source": [
    "################################################################################\n",
    "# load config file\n",
    "try:\n",
    "    with open(\"../config.yml\", 'r') as ymlfile:\n",
    "            cfg = yaml.safe_load(ymlfile)\n",
    "except (IOError):\n",
    "    print('config file is required. Put config file in current directory')\n",
    "################################################################################"
   ]
  },
  {
   "cell_type": "code",
   "execution_count": 6,
   "metadata": {},
   "outputs": [],
   "source": [
    "# # current working directory\n",
    "# cwd = os.getcwd()\n",
    "# # set the base directory. base directo\n",
    "# BASE_DIR = os.path.join( os.path.dirname( cwd), '' )\n",
    "# # cleaned data dir\n",
    "# cleanedpath= BASE_DIR + cfg['cleanedconfig']['cleanedDataV1']['cleanedDir'] \n",
    "# # clean data Name\n",
    "# cleandataName = cfg['cleanedconfig']['cleanedDataV1']['cleanedName']\n",
    "# # traina and validation data name\n",
    "# trainName= cfg['cleanedconfig']['cleanedDataV1']['TensorflowDataFlowConfig']['tfcleanTrain']\n",
    "# validateName  = cfg['cleanedconfig']['cleanedDataV1']['TensorflowDataFlowConfig']['tfcleanValidate']\n",
    "# validation_split = cfg['cleanedconfig']['cleanedDataV1']['validationSplit']"
   ]
  },
  {
   "cell_type": "code",
   "execution_count": 7,
   "metadata": {},
   "outputs": [],
   "source": [
    "# current working directory\n",
    "cwd = os.getcwd()\n",
    "# set the base directory. base directo\n",
    "BASE_DIR = os.path.join( os.path.dirname( cwd), '' )\n",
    "# cleaned data dir\n",
    "cleanedpath= BASE_DIR + cfg['cleanedconfig']['cleanedDataV2']['cleanedDir'] \n",
    "# clean data Name\n",
    "cleandataName = cfg['cleanedconfig']['cleanedDataV2']['cleanedName']\n",
    "# traina and validation data name\n",
    "trainName= cfg['cleanedconfig']['cleanedDataV2']['TensorflowDataFlowConfig']['tfcleanTrain']\n",
    "\n",
    "validateName  = cfg['cleanedconfig']['cleanedDataV2']['TensorflowDataFlowConfig']['tfcleanValidate']\n",
    "validation_split = cfg['cleanedconfig']['cleanedDataV2']['validationSplit']"
   ]
  },
  {
   "cell_type": "code",
   "execution_count": 8,
   "metadata": {},
   "outputs": [],
   "source": [
    "# boolean for preprocessing datasets for tensorflow\n",
    "tfreprocess = cfg['cleanedconfig']['cleanedDataV1']['TensorflowDataFlowConfig']['tfprocess']"
   ]
  },
  {
   "cell_type": "code",
   "execution_count": 9,
   "metadata": {},
   "outputs": [],
   "source": [
    "if tfreprocess:\n",
    "    \n",
    "    _,_,data_types,col_names= utils.tfdatabuilder(cleanedpath,cleandataName,trainName, validateName,validation_split )\n",
    "    \n",
    "else:\n",
    "    \n",
    "    #train = pd.read_csv(cleanedpath + trainName) \n",
    "    #data_types,col_names = utils.tfpreprocess(train)\n",
    "    data_types = [tf.float64, tf.float64, tf.float64, tf.float64, tf.int32, tf.int32, tf.int32, tf.int32, tf.int32, tf.int32, tf.int32, tf.int32, tf.int32, tf.int32, tf.int32, tf.int32, tf.int32, tf.int32, tf.int32, tf.int32, tf.int32, tf.int32, tf.int32, tf.int32, tf.int32, tf.int32, tf.int32, tf.int32, tf.int32, tf.int32, tf.int32, tf.int32, tf.int32, tf.int32, tf.int32, tf.int32, tf.int32, tf.int32, tf.int32]\n",
    "    col_names = ['meter_reading','square_feet','air_temperature','dew_temperature','month','day','hour','primary_use_Education',\n",
    "             'primary_use_Entertainment/public assembly','primary_use_Food sales and service','primary_use_Healthcare',\n",
    "             'primary_use_Lodging/residential','primary_use_Manufacturing/industrial','primary_use_Office','primary_use_Other',\n",
    "             'primary_use_Parking','primary_use_Public services','primary_use_Religious worship','primary_use_Retail',\n",
    "             'primary_use_Services','primary_use_Technology/science','primary_use_Utility','primary_use_Warehouse/storage',\n",
    "             'site_id_0','site_id_1','site_id_2','site_id_3','site_id_4','site_id_5','site_id_6','site_id_7','site_id_8',\n",
    "             'site_id_9','site_id_10','site_id_11','site_id_12','site_id_13','site_id_14','site_id_15']"
   ]
  },
  {
   "cell_type": "markdown",
   "metadata": {},
   "source": [
    "#### Work with downloaded csv to preserve data type\n",
    "Load the csv file and parse the data types of the datatset together into the\n",
    "tensorflow load pipeline"
   ]
  },
  {
   "cell_type": "code",
   "execution_count": 14,
   "metadata": {},
   "outputs": [],
   "source": [
    "# load the data using the tensorflow Dataset API\n",
    "# add the data types too\n",
    "csvData = tf.data.experimental.CsvDataset(cleanedpath + trainName, data_types, header=True)\n",
    "# validation data\n",
    "validateData = tf.data.experimental.CsvDataset(cleanedpath + validateName, data_types, header=True)"
   ]
  },
  {
   "cell_type": "code",
   "execution_count": 11,
   "metadata": {},
   "outputs": [],
   "source": [
    "# categorical features to use \n",
    "catfeatures = cfg['cleanedconfig']['cleanedDataV1']['TensorflowDataFlowConfig']['categoricalFeatureToUse']\n",
    "catNames = cfg['cleanedconfig']['cleanedDataV1']['TensorflowDataFlowConfig']['CategoricalFeature']"
   ]
  },
  {
   "cell_type": "markdown",
   "metadata": {},
   "source": [
    "#### Parse data "
   ]
  },
  {
   "cell_type": "code",
   "execution_count": 12,
   "metadata": {},
   "outputs": [],
   "source": [
    "# Parsing the data and\n",
    "# merging the columns:\n",
    "# ---- day and month as single column\n",
    "# ---- merge the site id as a single feature vector vector\n",
    "# ---- primary use as a single feature vector\n",
    "\n",
    "# take the forst 4 col names that meter reading, square feet, air temp , dew temp,\n",
    "# add it to a the new column names that would be formed after single column merging\n",
    "\n",
    "#categorical feature selection\n",
    "# here one can decide if to use site id or not . Site id is index 2 from catnames\n",
    "if catfeatures == 3:\n",
    "    col_names_= [col_names[0],col_names[1],col_names[2],col_names[3],catNames[0],catNames[1],catNames[2] ]\n",
    "else:\n",
    "    col_names_= [col_names[0],col_names[1],col_names[2],col_names[3],catNames[0],catNames[1]]\n",
    "\n",
    "def _parse_csv_row(*vals):\n",
    "    '''\n",
    "    Uses Feature columns\n",
    "    Does feature engineering\n",
    "    '''\n",
    "    \n",
    "    # month and day and single feature\n",
    "    month_day = tf.convert_to_tensor(vals[4:7])\n",
    "    # primary use as single feature\n",
    "    primary_use = tf.convert_to_tensor(vals[7:23]) # this index can be chage but ensure consistency \n",
    "    if catfeatures == 3:\n",
    "        # site id as single feature\n",
    "        site_id =  tf.convert_to_tensor(vals[23:39])\n",
    "    \n",
    "        # merge the features together, note meter reading is the fist column\n",
    "        # so it is excluded -- meaning index starts from 1\n",
    "        feature_vals = vals[1:4] + (month_day,primary_use,site_id)\n",
    "    else:\n",
    "        feature_vals = vals[1:4] + (month_day,primary_use)\n",
    "        \n",
    "    \n",
    "    \n",
    "    # zip into a  feature sets into a single col\n",
    "    features = dict(zip(col_names_[1:],feature_vals))\n",
    "    \n",
    "    # name the targets or lables\n",
    "    targets_tensor = tf.convert_to_tensor(vals[0],name=col_names_[0]) \n",
    "    \n",
    "    \n",
    "    \n",
    "    return features, targets_tensor"
   ]
  },
  {
   "cell_type": "code",
   "execution_count": null,
   "metadata": {},
   "outputs": [],
   "source": []
  },
  {
   "cell_type": "markdown",
   "metadata": {},
   "source": [
    "##### Batch the datatset"
   ]
  },
  {
   "cell_type": "code",
   "execution_count": 12,
   "metadata": {},
   "outputs": [],
   "source": [
    "# this is needed for testing\n",
    "dataset = csvData.map(_parse_csv_row).batch(64)"
   ]
  },
  {
   "cell_type": "code",
   "execution_count": 15,
   "metadata": {},
   "outputs": [],
   "source": [
    "### validation set \n",
    "validateset = validateData.map(_parse_csv_row).batch(64)\n",
    "#print(list(dataset.take(1)))"
   ]
  },
  {
   "cell_type": "markdown",
   "metadata": {},
   "source": [
    "##### Feature Categorization"
   ]
  },
  {
   "cell_type": "code",
   "execution_count": 31,
   "metadata": {},
   "outputs": [],
   "source": [
    "primary_use = tf.feature_column.numeric_column(catNames[1], shape=(16,))\n",
    "site_id = tf.feature_column.numeric_column(catNames[2], shape=(16,))\n",
    "month_day = tf.feature_column.numeric_column(catNames[0], shape=(3,))"
   ]
  },
  {
   "cell_type": "code",
   "execution_count": 32,
   "metadata": {},
   "outputs": [],
   "source": [
    "# ormalizer\n",
    "normalizer = lambda x: tf.math.divide(tf.math.subtract(x, tf.reduce_mean(x)), tf.math.reduce_std(x)+1e-8)"
   ]
  },
  {
   "cell_type": "code",
   "execution_count": 33,
   "metadata": {},
   "outputs": [],
   "source": [
    "numeric_columns = [tf.feature_column.numeric_column(feat,normalizer_fn=normalizer) for feat in col_names_[1:4]]"
   ]
  },
  {
   "cell_type": "code",
   "execution_count": 34,
   "metadata": {},
   "outputs": [],
   "source": [
    "#columns = numeric_columns + [month_day,primary_use,site_id]"
   ]
  },
  {
   "cell_type": "code",
   "execution_count": 35,
   "metadata": {},
   "outputs": [],
   "source": [
    "#feature_layer = tf.keras.layers.DenseFeatures(columns)"
   ]
  },
  {
   "cell_type": "code",
   "execution_count": 36,
   "metadata": {},
   "outputs": [],
   "source": [
    "# function to serve the data set \n",
    "def load_data(*filename,fn = _parse_csv_row,training=True):\n",
    "    Training = training\n",
    "    batchsize = 64\n",
    "    csvData = tf.data.experimental.CsvDataset(filename, data_types, header=True)\n",
    "    dataset= csvData.map(fn)\n",
    "    if Training:\n",
    "        dataset = dataset.shuffle(1000).repeat()\n",
    "    return dataset.batch(batchsize)\n",
    "    \n",
    "    "
   ]
  },
  {
   "cell_type": "markdown",
   "metadata": {},
   "source": [
    "# Build Model"
   ]
  },
  {
   "cell_type": "code",
   "execution_count": 96,
   "metadata": {},
   "outputs": [],
   "source": [
    "from tensorflow.keras import backend as K\n",
    "\n",
    "def root_mean_squared_error():\n",
    "    '''\n",
    "    \n",
    "    this is the loss function specified in kaggle competition\n",
    "    '''\n",
    "        \n",
    "    return K.sqrt(K.mean (K.square( (K.log(K.abs(y_pred)+1) - K.log(y_true+1))   )   )   )\n",
    "\n",
    "\n",
    "\n",
    "def root_mean_squared_error2():\n",
    "    '''\n",
    "    this is 1.- mean squared\n",
    "    root mean squared is a value between 0 and 1 \n",
    "    to reflect accuracy use 1-rms\n",
    "    '''\n",
    "        \n",
    "    return  K.sqrt(K.mean( ( K.square ( y_pred - y_true    )   )   )) "
   ]
  },
  {
   "cell_type": "code",
   "execution_count": 214,
   "metadata": {},
   "outputs": [
    {
     "name": "stdout",
     "output_type": "stream",
     "text": [
      "INFO:tensorflow:Using default config.\n",
      "WARNING:tensorflow:Using temporary folder as model directory: /tmp/tmp1gg56kc4\n",
      "INFO:tensorflow:Using config: {'_model_dir': '/tmp/tmp1gg56kc4', '_tf_random_seed': None, '_save_summary_steps': 100, '_save_checkpoints_steps': None, '_save_checkpoints_secs': 600, '_session_config': allow_soft_placement: true\n",
      "graph_options {\n",
      "  rewrite_options {\n",
      "    meta_optimizer_iterations: ONE\n",
      "  }\n",
      "}\n",
      ", '_keep_checkpoint_max': 5, '_keep_checkpoint_every_n_hours': 10000, '_log_step_count_steps': 100, '_train_distribute': None, '_device_fn': None, '_protocol': None, '_eval_distribute': None, '_experimental_distribute': None, '_experimental_max_worker_delay_secs': None, '_session_creation_timeout_secs': 7200, '_service': None, '_cluster_spec': <tensorflow.python.training.server_lib.ClusterSpec object at 0x7fdf9429bd90>, '_task_type': 'worker', '_task_id': 0, '_global_id_in_cluster': 0, '_master': '', '_evaluation_master': '', '_is_chief': True, '_num_ps_replicas': 0, '_num_worker_replicas': 1}\n"
     ]
    }
   ],
   "source": [
    "# wide and deep model \n",
    "# https://arxiv.org/pdf/1606.07792.pdf\n",
    "model = tf.estimator.DNNLinearCombinedRegressor(\n",
    "          # wide settings\n",
    "         linear_feature_columns=[month_day, primary_use,site_id,numeric_columns[0],numeric_columns[1],numeric_columns[2] ],\n",
    "         linear_optimizer=tf.train.FtrlOptimizer(1e-3,l2_regularization_strength=1e-4 ),\n",
    "         # deep settings\n",
    "         dnn_feature_columns=[\n",
    "         month_day, primary_use,numeric_columns[0],numeric_columns[1],numeric_columns[2]],\n",
    "        dnn_hidden_units=[400, 200, 50],\n",
    "        dnn_dropout=0.5,\n",
    "        dnn_optimizer=tf.train.ProximalAdagradOptimizer(1e-3,l2_regularization_strength=1e-4)\n",
    "      )\n"
   ]
  },
  {
   "cell_type": "code",
   "execution_count": null,
   "metadata": {},
   "outputs": [],
   "source": [
    "\n"
   ]
  },
  {
   "cell_type": "code",
   "execution_count": 205,
   "metadata": {},
   "outputs": [],
   "source": [
    "# add the metrics to use in the computation\n",
    "#model = tf.contrib.estimator.add_metrics(model, root_mean_squared_error)"
   ]
  },
  {
   "cell_type": "code",
   "execution_count": 215,
   "metadata": {},
   "outputs": [],
   "source": [
    "train_spec = tf.estimator.TrainSpec(input_fn=lambda : load_data(cleanedpath + trainName),  max_steps=40000)\n",
    "eval_spec = tf.estimator.EvalSpec(input_fn=lambda : load_data(cleanedpath + validateName))\n",
    "\n",
    "#tf.estimator.train_and_evaluate(estimator, train_spec, eval_spec)"
   ]
  },
  {
   "cell_type": "code",
   "execution_count": 216,
   "metadata": {
    "scrolled": true
   },
   "outputs": [
    {
     "name": "stdout",
     "output_type": "stream",
     "text": [
      "INFO:tensorflow:Not using Distribute Coordinator.\n",
      "INFO:tensorflow:Running training and evaluation locally (non-distributed).\n",
      "INFO:tensorflow:Start train and evaluate loop. The evaluate will happen after every checkpoint. Checkpoint frequency is determined based on RunConfig arguments: save_checkpoints_steps None or save_checkpoints_secs 600.\n",
      "INFO:tensorflow:Calling model_fn.\n",
      "INFO:tensorflow:Done calling model_fn.\n",
      "INFO:tensorflow:Create CheckpointSaverHook.\n",
      "INFO:tensorflow:Graph was finalized.\n",
      "INFO:tensorflow:Running local_init_op.\n",
      "INFO:tensorflow:Done running local_init_op.\n",
      "INFO:tensorflow:Saving checkpoints for 0 into /tmp/tmp1gg56kc4/model.ckpt.\n",
      "INFO:tensorflow:loss = 3033212.0, step = 1\n",
      "INFO:tensorflow:global_step/sec: 95.8133\n",
      "INFO:tensorflow:loss = 22308896.0, step = 101 (1.045 sec)\n",
      "INFO:tensorflow:global_step/sec: 105.619\n",
      "INFO:tensorflow:loss = 7667697.0, step = 201 (0.947 sec)\n",
      "INFO:tensorflow:global_step/sec: 108.355\n",
      "INFO:tensorflow:loss = 1077479.6, step = 301 (0.923 sec)\n",
      "INFO:tensorflow:global_step/sec: 128.111\n",
      "INFO:tensorflow:loss = 4109592.0, step = 401 (0.780 sec)\n",
      "INFO:tensorflow:global_step/sec: 127.201\n",
      "INFO:tensorflow:loss = 2182869.5, step = 501 (0.786 sec)\n",
      "INFO:tensorflow:global_step/sec: 112.051\n",
      "INFO:tensorflow:loss = 2064761.9, step = 601 (0.893 sec)\n",
      "INFO:tensorflow:global_step/sec: 110.228\n",
      "INFO:tensorflow:loss = 1422193.8, step = 701 (0.907 sec)\n",
      "INFO:tensorflow:global_step/sec: 113.505\n",
      "INFO:tensorflow:loss = 1519454.5, step = 801 (0.880 sec)\n",
      "INFO:tensorflow:global_step/sec: 110.58\n",
      "INFO:tensorflow:loss = 3340326.2, step = 901 (0.904 sec)\n",
      "INFO:tensorflow:global_step/sec: 120.04\n",
      "INFO:tensorflow:loss = 3627720.5, step = 1001 (0.833 sec)\n",
      "INFO:tensorflow:global_step/sec: 112.716\n",
      "INFO:tensorflow:loss = 4346055.0, step = 1101 (0.887 sec)\n",
      "INFO:tensorflow:global_step/sec: 113.428\n",
      "INFO:tensorflow:loss = 3005846.5, step = 1201 (0.882 sec)\n",
      "INFO:tensorflow:global_step/sec: 110.398\n",
      "INFO:tensorflow:loss = 1442233.2, step = 1301 (0.906 sec)\n",
      "INFO:tensorflow:global_step/sec: 108.825\n",
      "INFO:tensorflow:loss = 1160824.0, step = 1401 (0.919 sec)\n",
      "INFO:tensorflow:global_step/sec: 116.105\n",
      "INFO:tensorflow:loss = 10946828.0, step = 1501 (0.861 sec)\n",
      "INFO:tensorflow:global_step/sec: 112.474\n",
      "INFO:tensorflow:loss = 6314026.0, step = 1601 (0.889 sec)\n",
      "INFO:tensorflow:global_step/sec: 103.604\n",
      "INFO:tensorflow:loss = 1991355.8, step = 1701 (0.965 sec)\n",
      "INFO:tensorflow:global_step/sec: 110.794\n",
      "INFO:tensorflow:loss = 3418847.0, step = 1801 (0.903 sec)\n",
      "INFO:tensorflow:global_step/sec: 109.432\n",
      "INFO:tensorflow:loss = 2410063.0, step = 1901 (0.914 sec)\n",
      "INFO:tensorflow:global_step/sec: 112.19\n",
      "INFO:tensorflow:loss = 1261483.0, step = 2001 (0.892 sec)\n",
      "INFO:tensorflow:global_step/sec: 113.379\n",
      "INFO:tensorflow:loss = 6611223.0, step = 2101 (0.881 sec)\n",
      "INFO:tensorflow:global_step/sec: 117.251\n",
      "INFO:tensorflow:loss = 6440006.0, step = 2201 (0.853 sec)\n",
      "INFO:tensorflow:global_step/sec: 108.048\n",
      "INFO:tensorflow:loss = 2045255.0, step = 2301 (0.926 sec)\n",
      "INFO:tensorflow:global_step/sec: 109.095\n",
      "INFO:tensorflow:loss = 1821235.2, step = 2401 (0.916 sec)\n",
      "INFO:tensorflow:global_step/sec: 116.918\n",
      "INFO:tensorflow:loss = 2325915.0, step = 2501 (0.855 sec)\n",
      "INFO:tensorflow:global_step/sec: 110.7\n",
      "INFO:tensorflow:loss = 2517615.0, step = 2601 (0.903 sec)\n",
      "INFO:tensorflow:global_step/sec: 108.651\n",
      "INFO:tensorflow:loss = 3004324.5, step = 2701 (0.921 sec)\n",
      "INFO:tensorflow:global_step/sec: 119.465\n",
      "INFO:tensorflow:loss = 1801759.9, step = 2801 (0.837 sec)\n",
      "INFO:tensorflow:global_step/sec: 113.315\n",
      "INFO:tensorflow:loss = 4269260.5, step = 2901 (0.882 sec)\n",
      "INFO:tensorflow:global_step/sec: 120.993\n",
      "INFO:tensorflow:loss = 6713777.0, step = 3001 (0.827 sec)\n",
      "INFO:tensorflow:global_step/sec: 137.508\n",
      "INFO:tensorflow:loss = 19625100.0, step = 3101 (0.727 sec)\n",
      "INFO:tensorflow:global_step/sec: 144.814\n",
      "INFO:tensorflow:loss = 1334972.2, step = 3201 (0.690 sec)\n",
      "INFO:tensorflow:global_step/sec: 143.942\n",
      "INFO:tensorflow:loss = 1508770.2, step = 3301 (0.695 sec)\n",
      "INFO:tensorflow:global_step/sec: 145.878\n",
      "INFO:tensorflow:loss = 1797331.9, step = 3401 (0.685 sec)\n",
      "INFO:tensorflow:global_step/sec: 142.785\n",
      "INFO:tensorflow:loss = 2732157.0, step = 3501 (0.700 sec)\n",
      "INFO:tensorflow:global_step/sec: 143.274\n",
      "INFO:tensorflow:loss = 1830773.0, step = 3601 (0.698 sec)\n",
      "INFO:tensorflow:global_step/sec: 135.404\n",
      "INFO:tensorflow:loss = 2286450.0, step = 3701 (0.739 sec)\n",
      "INFO:tensorflow:global_step/sec: 133.183\n",
      "INFO:tensorflow:loss = 2732818.0, step = 3801 (0.751 sec)\n",
      "INFO:tensorflow:global_step/sec: 134.923\n",
      "INFO:tensorflow:loss = 1157343.9, step = 3901 (0.741 sec)\n",
      "INFO:tensorflow:global_step/sec: 110.038\n",
      "INFO:tensorflow:loss = 4876951.5, step = 4001 (0.909 sec)\n",
      "INFO:tensorflow:global_step/sec: 106.284\n",
      "INFO:tensorflow:loss = 4237338.0, step = 4101 (0.941 sec)\n",
      "INFO:tensorflow:global_step/sec: 115.285\n",
      "INFO:tensorflow:loss = 2456838.2, step = 4201 (0.867 sec)\n",
      "INFO:tensorflow:global_step/sec: 123.346\n",
      "INFO:tensorflow:loss = 8841516.0, step = 4301 (0.811 sec)\n",
      "INFO:tensorflow:global_step/sec: 112.646\n",
      "INFO:tensorflow:loss = 780375.5, step = 4401 (0.888 sec)\n",
      "INFO:tensorflow:global_step/sec: 113.651\n",
      "INFO:tensorflow:loss = 2367950.0, step = 4501 (0.879 sec)\n",
      "INFO:tensorflow:global_step/sec: 119.415\n",
      "INFO:tensorflow:loss = 2156436.5, step = 4601 (0.838 sec)\n",
      "INFO:tensorflow:global_step/sec: 113.817\n",
      "INFO:tensorflow:loss = 1028665.5, step = 4701 (0.879 sec)\n",
      "INFO:tensorflow:global_step/sec: 112.326\n",
      "INFO:tensorflow:loss = 1081419.9, step = 4801 (0.890 sec)\n",
      "INFO:tensorflow:global_step/sec: 113.321\n",
      "INFO:tensorflow:loss = 3792404.5, step = 4901 (0.883 sec)\n",
      "INFO:tensorflow:global_step/sec: 115.542\n",
      "INFO:tensorflow:loss = 3805810.0, step = 5001 (0.866 sec)\n",
      "INFO:tensorflow:global_step/sec: 108.414\n",
      "INFO:tensorflow:loss = 2883612.0, step = 5101 (0.923 sec)\n",
      "INFO:tensorflow:global_step/sec: 110.905\n",
      "INFO:tensorflow:loss = 2689224.0, step = 5201 (0.901 sec)\n",
      "INFO:tensorflow:global_step/sec: 113.705\n",
      "INFO:tensorflow:loss = 3057741.0, step = 5301 (0.879 sec)\n",
      "INFO:tensorflow:global_step/sec: 122.798\n",
      "INFO:tensorflow:loss = 34121730.0, step = 5401 (0.814 sec)\n",
      "INFO:tensorflow:global_step/sec: 113.856\n",
      "INFO:tensorflow:loss = 4301884.0, step = 5501 (0.879 sec)\n",
      "INFO:tensorflow:global_step/sec: 110.788\n",
      "INFO:tensorflow:loss = 1016573.7, step = 5601 (0.902 sec)\n",
      "INFO:tensorflow:global_step/sec: 118.081\n",
      "INFO:tensorflow:loss = 1803315.5, step = 5701 (0.847 sec)\n",
      "INFO:tensorflow:global_step/sec: 118.515\n",
      "INFO:tensorflow:loss = 14702990.0, step = 5801 (0.844 sec)\n",
      "INFO:tensorflow:global_step/sec: 121.815\n",
      "INFO:tensorflow:loss = 2063913.2, step = 5901 (0.821 sec)\n",
      "INFO:tensorflow:global_step/sec: 119.35\n",
      "INFO:tensorflow:loss = 1703416.4, step = 6001 (0.838 sec)\n",
      "INFO:tensorflow:global_step/sec: 116.929\n",
      "INFO:tensorflow:loss = 24611578.0, step = 6101 (0.857 sec)\n",
      "INFO:tensorflow:global_step/sec: 110.351\n",
      "INFO:tensorflow:loss = 2530866.2, step = 6201 (0.905 sec)\n",
      "INFO:tensorflow:global_step/sec: 122.21\n",
      "INFO:tensorflow:loss = 2106040.5, step = 6301 (0.818 sec)\n",
      "INFO:tensorflow:global_step/sec: 109.913\n",
      "INFO:tensorflow:loss = 3192837.5, step = 6401 (0.910 sec)\n",
      "INFO:tensorflow:global_step/sec: 116.279\n",
      "INFO:tensorflow:loss = 3848655.5, step = 6501 (0.860 sec)\n",
      "INFO:tensorflow:global_step/sec: 112.257\n",
      "INFO:tensorflow:loss = 2697238.5, step = 6601 (0.891 sec)\n",
      "INFO:tensorflow:global_step/sec: 110.413\n",
      "INFO:tensorflow:loss = 1644898.5, step = 6701 (0.905 sec)\n",
      "INFO:tensorflow:global_step/sec: 107.567\n",
      "INFO:tensorflow:loss = 19102418.0, step = 6801 (0.930 sec)\n",
      "INFO:tensorflow:global_step/sec: 121.464\n",
      "INFO:tensorflow:loss = 3422240.0, step = 6901 (0.823 sec)\n",
      "INFO:tensorflow:global_step/sec: 111.416\n",
      "INFO:tensorflow:loss = 2318884.0, step = 7001 (0.897 sec)\n",
      "INFO:tensorflow:global_step/sec: 108.853\n",
      "INFO:tensorflow:loss = 3208655.0, step = 7101 (0.919 sec)\n",
      "INFO:tensorflow:global_step/sec: 104.457\n",
      "INFO:tensorflow:loss = 1376772.0, step = 7201 (0.958 sec)\n",
      "INFO:tensorflow:global_step/sec: 106.961\n",
      "INFO:tensorflow:loss = 1398994.1, step = 7301 (0.935 sec)\n",
      "INFO:tensorflow:global_step/sec: 109.161\n",
      "INFO:tensorflow:loss = 5295073.0, step = 7401 (0.916 sec)\n",
      "INFO:tensorflow:global_step/sec: 111.751\n",
      "INFO:tensorflow:loss = 2473156.2, step = 7501 (0.895 sec)\n",
      "INFO:tensorflow:global_step/sec: 112.577\n",
      "INFO:tensorflow:loss = 8395129.0, step = 7601 (0.888 sec)\n"
     ]
    },
    {
     "name": "stdout",
     "output_type": "stream",
     "text": [
      "INFO:tensorflow:global_step/sec: 111.419\n",
      "INFO:tensorflow:loss = 937148.75, step = 7701 (0.898 sec)\n",
      "INFO:tensorflow:global_step/sec: 113.346\n",
      "INFO:tensorflow:loss = 7277496.0, step = 7801 (0.882 sec)\n",
      "INFO:tensorflow:global_step/sec: 106.101\n",
      "INFO:tensorflow:loss = 22153230.0, step = 7901 (0.942 sec)\n",
      "INFO:tensorflow:global_step/sec: 111.002\n",
      "INFO:tensorflow:loss = 7283780.0, step = 8001 (0.901 sec)\n",
      "INFO:tensorflow:global_step/sec: 110.747\n",
      "INFO:tensorflow:loss = 14683226.0, step = 8101 (0.903 sec)\n",
      "INFO:tensorflow:global_step/sec: 109.931\n",
      "INFO:tensorflow:loss = 1339777.2, step = 8201 (0.910 sec)\n",
      "INFO:tensorflow:global_step/sec: 109.735\n",
      "INFO:tensorflow:loss = 3565845.0, step = 8301 (0.911 sec)\n",
      "INFO:tensorflow:global_step/sec: 110.351\n",
      "INFO:tensorflow:loss = 3011749.2, step = 8401 (0.907 sec)\n",
      "INFO:tensorflow:global_step/sec: 111.905\n",
      "INFO:tensorflow:loss = 2549790.0, step = 8501 (0.893 sec)\n",
      "INFO:tensorflow:global_step/sec: 109.045\n",
      "INFO:tensorflow:loss = 11706176.0, step = 8601 (0.917 sec)\n",
      "INFO:tensorflow:global_step/sec: 109.905\n",
      "INFO:tensorflow:loss = 1670208.5, step = 8701 (0.909 sec)\n",
      "INFO:tensorflow:global_step/sec: 108.877\n",
      "INFO:tensorflow:loss = 1872646.4, step = 8801 (0.919 sec)\n",
      "INFO:tensorflow:global_step/sec: 108.771\n",
      "INFO:tensorflow:loss = 1872400.8, step = 8901 (0.920 sec)\n",
      "INFO:tensorflow:global_step/sec: 105.393\n",
      "INFO:tensorflow:loss = 1537132.5, step = 9001 (0.949 sec)\n",
      "INFO:tensorflow:global_step/sec: 110.747\n",
      "INFO:tensorflow:loss = 15981528.0, step = 9101 (0.903 sec)\n",
      "INFO:tensorflow:global_step/sec: 110.396\n",
      "INFO:tensorflow:loss = 1634083.2, step = 9201 (0.906 sec)\n",
      "INFO:tensorflow:global_step/sec: 110.2\n",
      "INFO:tensorflow:loss = 6914103.0, step = 9301 (0.908 sec)\n",
      "INFO:tensorflow:global_step/sec: 102.767\n",
      "INFO:tensorflow:loss = 1171836.8, step = 9401 (0.973 sec)\n",
      "INFO:tensorflow:global_step/sec: 109.255\n",
      "INFO:tensorflow:loss = 1316999.8, step = 9501 (0.915 sec)\n",
      "INFO:tensorflow:global_step/sec: 111.893\n",
      "INFO:tensorflow:loss = 941204.56, step = 9601 (0.894 sec)\n",
      "INFO:tensorflow:global_step/sec: 108.794\n",
      "INFO:tensorflow:loss = 2468056.5, step = 9701 (0.919 sec)\n",
      "INFO:tensorflow:global_step/sec: 115.641\n",
      "INFO:tensorflow:loss = 2852395.8, step = 9801 (0.864 sec)\n",
      "INFO:tensorflow:global_step/sec: 116.119\n",
      "INFO:tensorflow:loss = 11323002.0, step = 9901 (0.861 sec)\n",
      "INFO:tensorflow:global_step/sec: 114.649\n",
      "INFO:tensorflow:loss = 1685448.9, step = 10001 (0.872 sec)\n",
      "INFO:tensorflow:global_step/sec: 114.783\n",
      "INFO:tensorflow:loss = 4994200.0, step = 10101 (0.872 sec)\n",
      "INFO:tensorflow:global_step/sec: 112.411\n",
      "INFO:tensorflow:loss = 7731365.5, step = 10201 (0.889 sec)\n",
      "INFO:tensorflow:global_step/sec: 134.968\n",
      "INFO:tensorflow:loss = 2869288.5, step = 10301 (0.741 sec)\n",
      "INFO:tensorflow:global_step/sec: 138.5\n",
      "INFO:tensorflow:loss = 1501398.2, step = 10401 (0.723 sec)\n",
      "INFO:tensorflow:global_step/sec: 105.73\n",
      "INFO:tensorflow:loss = 6773872.5, step = 10501 (0.945 sec)\n",
      "INFO:tensorflow:global_step/sec: 107.101\n",
      "INFO:tensorflow:loss = 6558063.0, step = 10601 (0.934 sec)\n",
      "INFO:tensorflow:global_step/sec: 106.075\n",
      "INFO:tensorflow:loss = 1002308.5, step = 10701 (0.942 sec)\n",
      "INFO:tensorflow:global_step/sec: 107.721\n",
      "INFO:tensorflow:loss = 1729308.4, step = 10801 (0.929 sec)\n",
      "INFO:tensorflow:global_step/sec: 108.105\n",
      "INFO:tensorflow:loss = 1936536.4, step = 10901 (0.925 sec)\n",
      "INFO:tensorflow:global_step/sec: 106.715\n",
      "INFO:tensorflow:loss = 22273968.0, step = 11001 (0.937 sec)\n",
      "INFO:tensorflow:global_step/sec: 104.849\n",
      "INFO:tensorflow:loss = 3569039.5, step = 11101 (0.954 sec)\n",
      "INFO:tensorflow:global_step/sec: 103.107\n",
      "INFO:tensorflow:loss = 3519971.0, step = 11201 (0.970 sec)\n",
      "INFO:tensorflow:global_step/sec: 101.03\n",
      "INFO:tensorflow:loss = 2913379.8, step = 11301 (0.990 sec)\n",
      "INFO:tensorflow:global_step/sec: 102.169\n",
      "INFO:tensorflow:loss = 709721.8, step = 11401 (0.979 sec)\n",
      "INFO:tensorflow:global_step/sec: 103.056\n",
      "INFO:tensorflow:loss = 29242920.0, step = 11501 (0.971 sec)\n",
      "INFO:tensorflow:global_step/sec: 102.21\n",
      "INFO:tensorflow:loss = 2307259.2, step = 11601 (0.978 sec)\n",
      "INFO:tensorflow:global_step/sec: 104.951\n",
      "INFO:tensorflow:loss = 38758504.0, step = 11701 (0.953 sec)\n",
      "INFO:tensorflow:global_step/sec: 104.777\n",
      "INFO:tensorflow:loss = 20861588.0, step = 11801 (0.955 sec)\n",
      "INFO:tensorflow:global_step/sec: 105.359\n",
      "INFO:tensorflow:loss = 2193197.0, step = 11901 (0.949 sec)\n",
      "INFO:tensorflow:global_step/sec: 100.181\n",
      "INFO:tensorflow:loss = 3661816.2, step = 12001 (0.998 sec)\n",
      "INFO:tensorflow:global_step/sec: 99.7236\n",
      "INFO:tensorflow:loss = 3182346.2, step = 12101 (1.003 sec)\n",
      "INFO:tensorflow:global_step/sec: 98.4007\n",
      "INFO:tensorflow:loss = 1717220.2, step = 12201 (1.016 sec)\n",
      "INFO:tensorflow:global_step/sec: 102.573\n",
      "INFO:tensorflow:loss = 3637913.0, step = 12301 (0.975 sec)\n",
      "INFO:tensorflow:global_step/sec: 104.19\n",
      "INFO:tensorflow:loss = 5016098.5, step = 12401 (0.960 sec)\n",
      "INFO:tensorflow:global_step/sec: 106.13\n",
      "INFO:tensorflow:loss = 3297599.0, step = 12501 (0.942 sec)\n",
      "INFO:tensorflow:global_step/sec: 102.805\n",
      "INFO:tensorflow:loss = 6148687.5, step = 12601 (0.973 sec)\n",
      "INFO:tensorflow:global_step/sec: 98.5824\n",
      "INFO:tensorflow:loss = 13589834.0, step = 12701 (1.015 sec)\n",
      "INFO:tensorflow:global_step/sec: 99.618\n",
      "INFO:tensorflow:loss = 1245575.0, step = 12801 (1.004 sec)\n",
      "INFO:tensorflow:global_step/sec: 101.114\n",
      "INFO:tensorflow:loss = 1454897.0, step = 12901 (0.989 sec)\n",
      "INFO:tensorflow:global_step/sec: 105.932\n",
      "INFO:tensorflow:loss = 3903920.8, step = 13001 (0.944 sec)\n",
      "INFO:tensorflow:global_step/sec: 103.889\n",
      "INFO:tensorflow:loss = 27466150.0, step = 13101 (0.963 sec)\n",
      "INFO:tensorflow:global_step/sec: 104.845\n",
      "INFO:tensorflow:loss = 2595878.5, step = 13201 (0.953 sec)\n",
      "INFO:tensorflow:global_step/sec: 103.571\n",
      "INFO:tensorflow:loss = 17841688.0, step = 13301 (0.966 sec)\n",
      "INFO:tensorflow:global_step/sec: 94.6203\n",
      "INFO:tensorflow:loss = 3826202.2, step = 13401 (1.057 sec)\n",
      "INFO:tensorflow:global_step/sec: 102.721\n",
      "INFO:tensorflow:loss = 2854871.0, step = 13501 (0.974 sec)\n",
      "INFO:tensorflow:global_step/sec: 103.547\n",
      "INFO:tensorflow:loss = 2095135.5, step = 13601 (0.966 sec)\n",
      "INFO:tensorflow:global_step/sec: 103.475\n",
      "INFO:tensorflow:loss = 1940066.5, step = 13701 (0.967 sec)\n",
      "INFO:tensorflow:global_step/sec: 104.154\n",
      "INFO:tensorflow:loss = 1602950.9, step = 13801 (0.960 sec)\n",
      "INFO:tensorflow:global_step/sec: 95.9621\n",
      "INFO:tensorflow:loss = 3456914.0, step = 13901 (1.042 sec)\n",
      "INFO:tensorflow:global_step/sec: 104.233\n",
      "INFO:tensorflow:loss = 1954086.0, step = 14001 (0.959 sec)\n",
      "INFO:tensorflow:global_step/sec: 104.148\n",
      "INFO:tensorflow:loss = 3249993.0, step = 14101 (0.960 sec)\n",
      "INFO:tensorflow:global_step/sec: 103.314\n",
      "INFO:tensorflow:loss = 1698307.4, step = 14201 (0.968 sec)\n",
      "INFO:tensorflow:global_step/sec: 105.559\n",
      "INFO:tensorflow:loss = 2643605.0, step = 14301 (0.947 sec)\n",
      "INFO:tensorflow:global_step/sec: 104.446\n",
      "INFO:tensorflow:loss = 3612342.0, step = 14401 (0.957 sec)\n",
      "INFO:tensorflow:global_step/sec: 101.052\n",
      "INFO:tensorflow:loss = 1923831.0, step = 14501 (0.990 sec)\n",
      "INFO:tensorflow:global_step/sec: 99.1117\n",
      "INFO:tensorflow:loss = 1142553.9, step = 14601 (1.009 sec)\n",
      "INFO:tensorflow:global_step/sec: 106.041\n",
      "INFO:tensorflow:loss = 742035.56, step = 14701 (0.943 sec)\n",
      "INFO:tensorflow:global_step/sec: 103.132\n",
      "INFO:tensorflow:loss = 2551768.5, step = 14801 (0.969 sec)\n",
      "INFO:tensorflow:global_step/sec: 93.2651\n",
      "INFO:tensorflow:loss = 2639837.5, step = 14901 (1.072 sec)\n",
      "INFO:tensorflow:global_step/sec: 94.4285\n",
      "INFO:tensorflow:loss = 19964390.0, step = 15001 (1.059 sec)\n",
      "INFO:tensorflow:global_step/sec: 96.8707\n",
      "INFO:tensorflow:loss = 2164597.5, step = 15101 (1.032 sec)\n",
      "INFO:tensorflow:global_step/sec: 103.087\n",
      "INFO:tensorflow:loss = 1853737.8, step = 15201 (0.971 sec)\n",
      "INFO:tensorflow:global_step/sec: 102.094\n",
      "INFO:tensorflow:loss = 968733.94, step = 15301 (0.979 sec)\n",
      "INFO:tensorflow:global_step/sec: 102.203\n",
      "INFO:tensorflow:loss = 8783133.0, step = 15401 (0.979 sec)\n",
      "INFO:tensorflow:global_step/sec: 102.275\n",
      "INFO:tensorflow:loss = 3790836.2, step = 15501 (0.977 sec)\n",
      "INFO:tensorflow:global_step/sec: 102.077\n",
      "INFO:tensorflow:loss = 2102046.5, step = 15601 (0.979 sec)\n",
      "INFO:tensorflow:global_step/sec: 105.09\n",
      "INFO:tensorflow:loss = 1922446.2, step = 15701 (0.952 sec)\n",
      "INFO:tensorflow:global_step/sec: 103.672\n",
      "INFO:tensorflow:loss = 13607810.0, step = 15801 (0.965 sec)\n",
      "INFO:tensorflow:global_step/sec: 104.924\n"
     ]
    },
    {
     "name": "stdout",
     "output_type": "stream",
     "text": [
      "INFO:tensorflow:loss = 4464673.0, step = 15901 (0.953 sec)\n",
      "INFO:tensorflow:global_step/sec: 104.278\n",
      "INFO:tensorflow:loss = 1367705.2, step = 16001 (0.959 sec)\n",
      "INFO:tensorflow:global_step/sec: 105.284\n",
      "INFO:tensorflow:loss = 2285866.2, step = 16101 (0.950 sec)\n",
      "INFO:tensorflow:global_step/sec: 104.375\n",
      "INFO:tensorflow:loss = 3419547.8, step = 16201 (0.958 sec)\n",
      "INFO:tensorflow:global_step/sec: 105.246\n",
      "INFO:tensorflow:loss = 2237272.0, step = 16301 (0.950 sec)\n",
      "INFO:tensorflow:global_step/sec: 106.072\n",
      "INFO:tensorflow:loss = 1083526.8, step = 16401 (0.943 sec)\n",
      "INFO:tensorflow:global_step/sec: 104.25\n",
      "INFO:tensorflow:loss = 1689535.4, step = 16501 (0.959 sec)\n",
      "INFO:tensorflow:global_step/sec: 105.118\n",
      "INFO:tensorflow:loss = 2195916.0, step = 16601 (0.952 sec)\n",
      "INFO:tensorflow:global_step/sec: 110.162\n",
      "INFO:tensorflow:loss = 51946060.0, step = 16701 (0.908 sec)\n",
      "INFO:tensorflow:global_step/sec: 105.694\n",
      "INFO:tensorflow:loss = 3062374.5, step = 16801 (0.946 sec)\n",
      "INFO:tensorflow:global_step/sec: 107.187\n",
      "INFO:tensorflow:loss = 1269422.8, step = 16901 (0.933 sec)\n",
      "INFO:tensorflow:global_step/sec: 114.999\n",
      "INFO:tensorflow:loss = 42418864.0, step = 17001 (0.869 sec)\n",
      "INFO:tensorflow:global_step/sec: 117.027\n",
      "INFO:tensorflow:loss = 2377958.8, step = 17101 (0.854 sec)\n",
      "INFO:tensorflow:global_step/sec: 112.705\n",
      "INFO:tensorflow:loss = 2920700.5, step = 17201 (0.887 sec)\n",
      "INFO:tensorflow:global_step/sec: 111.126\n",
      "INFO:tensorflow:loss = 2057103.9, step = 17301 (0.900 sec)\n",
      "INFO:tensorflow:global_step/sec: 114.5\n",
      "INFO:tensorflow:loss = 7754136.5, step = 17401 (0.874 sec)\n",
      "INFO:tensorflow:global_step/sec: 109.742\n",
      "INFO:tensorflow:loss = 23736034.0, step = 17501 (0.911 sec)\n",
      "INFO:tensorflow:global_step/sec: 107.895\n",
      "INFO:tensorflow:loss = 2543618.5, step = 17601 (0.927 sec)\n",
      "INFO:tensorflow:global_step/sec: 110.173\n",
      "INFO:tensorflow:loss = 5899626.5, step = 17701 (0.908 sec)\n",
      "INFO:tensorflow:global_step/sec: 107.369\n",
      "INFO:tensorflow:loss = 4064777.0, step = 17801 (0.931 sec)\n",
      "INFO:tensorflow:global_step/sec: 108.157\n",
      "INFO:tensorflow:loss = 2123356.0, step = 17901 (0.925 sec)\n",
      "INFO:tensorflow:global_step/sec: 115.538\n",
      "INFO:tensorflow:loss = 23940460.0, step = 18001 (0.865 sec)\n",
      "INFO:tensorflow:global_step/sec: 111.67\n",
      "INFO:tensorflow:loss = 3479096.0, step = 18101 (0.896 sec)\n",
      "INFO:tensorflow:global_step/sec: 116.307\n",
      "INFO:tensorflow:loss = 6748755.0, step = 18201 (0.860 sec)\n",
      "INFO:tensorflow:global_step/sec: 113.257\n",
      "INFO:tensorflow:loss = 1515084.5, step = 18301 (0.883 sec)\n",
      "INFO:tensorflow:global_step/sec: 107.205\n",
      "INFO:tensorflow:loss = 2385279.5, step = 18401 (0.933 sec)\n",
      "INFO:tensorflow:global_step/sec: 108.997\n",
      "INFO:tensorflow:loss = 1766229.0, step = 18501 (0.918 sec)\n",
      "INFO:tensorflow:global_step/sec: 107.45\n",
      "INFO:tensorflow:loss = 1273451.9, step = 18601 (0.931 sec)\n",
      "INFO:tensorflow:global_step/sec: 109.844\n",
      "INFO:tensorflow:loss = 8351430.5, step = 18701 (0.910 sec)\n",
      "INFO:tensorflow:global_step/sec: 113.24\n",
      "INFO:tensorflow:loss = 2494895.5, step = 18801 (0.883 sec)\n",
      "INFO:tensorflow:global_step/sec: 107.845\n",
      "INFO:tensorflow:loss = 1928998.1, step = 18901 (0.928 sec)\n",
      "INFO:tensorflow:global_step/sec: 108.181\n",
      "INFO:tensorflow:loss = 1427879.2, step = 19001 (0.924 sec)\n",
      "INFO:tensorflow:global_step/sec: 108.041\n",
      "INFO:tensorflow:loss = 24464902.0, step = 19101 (0.926 sec)\n",
      "INFO:tensorflow:global_step/sec: 110.3\n",
      "INFO:tensorflow:loss = 5868594.5, step = 19201 (0.907 sec)\n",
      "INFO:tensorflow:global_step/sec: 109.965\n",
      "INFO:tensorflow:loss = 2531410.5, step = 19301 (0.909 sec)\n",
      "INFO:tensorflow:global_step/sec: 113.76\n",
      "INFO:tensorflow:loss = 2584005.2, step = 19401 (0.879 sec)\n",
      "INFO:tensorflow:global_step/sec: 110.836\n",
      "INFO:tensorflow:loss = 3580611.0, step = 19501 (0.902 sec)\n",
      "INFO:tensorflow:global_step/sec: 119.283\n",
      "INFO:tensorflow:loss = 12028288.0, step = 19601 (0.839 sec)\n",
      "INFO:tensorflow:global_step/sec: 109.827\n",
      "INFO:tensorflow:loss = 3006062.0, step = 19701 (0.911 sec)\n",
      "INFO:tensorflow:global_step/sec: 114.61\n",
      "INFO:tensorflow:loss = 5109240.5, step = 19801 (0.872 sec)\n",
      "INFO:tensorflow:global_step/sec: 110.907\n",
      "INFO:tensorflow:loss = 1187511.5, step = 19901 (0.902 sec)\n",
      "INFO:tensorflow:global_step/sec: 108.65\n",
      "INFO:tensorflow:loss = 2674446.0, step = 20001 (0.920 sec)\n",
      "INFO:tensorflow:global_step/sec: 107.38\n",
      "INFO:tensorflow:loss = 3334006.5, step = 20101 (0.931 sec)\n",
      "INFO:tensorflow:global_step/sec: 109.547\n",
      "INFO:tensorflow:loss = 991850.5, step = 20201 (0.913 sec)\n",
      "INFO:tensorflow:global_step/sec: 108.941\n",
      "INFO:tensorflow:loss = 2973180.5, step = 20301 (0.918 sec)\n",
      "INFO:tensorflow:global_step/sec: 107.062\n",
      "INFO:tensorflow:loss = 2855303.8, step = 20401 (0.934 sec)\n",
      "INFO:tensorflow:global_step/sec: 113.608\n",
      "INFO:tensorflow:loss = 2281287.0, step = 20501 (0.880 sec)\n",
      "INFO:tensorflow:global_step/sec: 111.021\n",
      "INFO:tensorflow:loss = 1910083.0, step = 20601 (0.901 sec)\n",
      "INFO:tensorflow:global_step/sec: 108.833\n",
      "INFO:tensorflow:loss = 3154979.5, step = 20701 (0.919 sec)\n",
      "INFO:tensorflow:global_step/sec: 107.415\n",
      "INFO:tensorflow:loss = 1134342.6, step = 20801 (0.931 sec)\n",
      "INFO:tensorflow:global_step/sec: 113.873\n",
      "INFO:tensorflow:loss = 4062725.5, step = 20901 (0.878 sec)\n",
      "INFO:tensorflow:global_step/sec: 111.476\n",
      "INFO:tensorflow:loss = 2123388.5, step = 21001 (0.897 sec)\n",
      "INFO:tensorflow:global_step/sec: 109.277\n",
      "INFO:tensorflow:loss = 8010622.0, step = 21101 (0.915 sec)\n",
      "INFO:tensorflow:global_step/sec: 108.383\n",
      "INFO:tensorflow:loss = 1372785.5, step = 21201 (0.923 sec)\n",
      "INFO:tensorflow:global_step/sec: 106.631\n",
      "INFO:tensorflow:loss = 8259695.0, step = 21301 (0.938 sec)\n",
      "INFO:tensorflow:global_step/sec: 111.206\n",
      "INFO:tensorflow:loss = 2965592.5, step = 21401 (0.899 sec)\n",
      "INFO:tensorflow:global_step/sec: 111.876\n",
      "INFO:tensorflow:loss = 3243671.5, step = 21501 (0.894 sec)\n",
      "INFO:tensorflow:global_step/sec: 110.87\n",
      "INFO:tensorflow:loss = 1625970.9, step = 21601 (0.902 sec)\n",
      "INFO:tensorflow:global_step/sec: 109.078\n",
      "INFO:tensorflow:loss = 1690055.5, step = 21701 (0.917 sec)\n",
      "INFO:tensorflow:global_step/sec: 110.296\n",
      "INFO:tensorflow:loss = 3242713.8, step = 21801 (0.907 sec)\n",
      "INFO:tensorflow:global_step/sec: 107.782\n",
      "INFO:tensorflow:loss = 3209086.0, step = 21901 (0.928 sec)\n",
      "INFO:tensorflow:global_step/sec: 108.885\n",
      "INFO:tensorflow:loss = 2252688.5, step = 22001 (0.918 sec)\n",
      "INFO:tensorflow:global_step/sec: 110.613\n",
      "INFO:tensorflow:loss = 5054203.5, step = 22101 (0.904 sec)\n",
      "INFO:tensorflow:global_step/sec: 104.988\n",
      "INFO:tensorflow:loss = 1522997.2, step = 22201 (0.953 sec)\n",
      "INFO:tensorflow:global_step/sec: 111.961\n",
      "INFO:tensorflow:loss = 3449728.0, step = 22301 (0.893 sec)\n",
      "INFO:tensorflow:global_step/sec: 111.738\n",
      "INFO:tensorflow:loss = 1719022.8, step = 22401 (0.895 sec)\n",
      "INFO:tensorflow:global_step/sec: 108.254\n",
      "INFO:tensorflow:loss = 12636975.0, step = 22501 (0.924 sec)\n",
      "INFO:tensorflow:global_step/sec: 110.445\n",
      "INFO:tensorflow:loss = 4214637.0, step = 22601 (0.905 sec)\n",
      "INFO:tensorflow:global_step/sec: 107.965\n",
      "INFO:tensorflow:loss = 1510786.0, step = 22701 (0.926 sec)\n",
      "INFO:tensorflow:global_step/sec: 112.674\n",
      "INFO:tensorflow:loss = 31081480.0, step = 22801 (0.888 sec)\n",
      "INFO:tensorflow:global_step/sec: 111.828\n",
      "INFO:tensorflow:loss = 4816127.5, step = 22901 (0.894 sec)\n",
      "INFO:tensorflow:global_step/sec: 110.744\n",
      "INFO:tensorflow:loss = 5175802.0, step = 23001 (0.903 sec)\n",
      "INFO:tensorflow:global_step/sec: 109.675\n",
      "INFO:tensorflow:loss = 2688075.0, step = 23101 (0.912 sec)\n",
      "INFO:tensorflow:global_step/sec: 111.472\n",
      "INFO:tensorflow:loss = 2738843.0, step = 23201 (0.897 sec)\n",
      "INFO:tensorflow:global_step/sec: 111.255\n",
      "INFO:tensorflow:loss = 1718432.9, step = 23301 (0.899 sec)\n",
      "INFO:tensorflow:global_step/sec: 111.542\n",
      "INFO:tensorflow:loss = 2505623.5, step = 23401 (0.896 sec)\n",
      "INFO:tensorflow:global_step/sec: 109.258\n",
      "INFO:tensorflow:loss = 8549652.0, step = 23501 (0.915 sec)\n",
      "INFO:tensorflow:global_step/sec: 111.044\n",
      "INFO:tensorflow:loss = 2296742.5, step = 23601 (0.900 sec)\n",
      "INFO:tensorflow:global_step/sec: 112.762\n",
      "INFO:tensorflow:loss = 1174741.9, step = 23701 (0.887 sec)\n",
      "INFO:tensorflow:global_step/sec: 108.76\n",
      "INFO:tensorflow:loss = 2164109.0, step = 23801 (0.920 sec)\n",
      "INFO:tensorflow:global_step/sec: 114.101\n",
      "INFO:tensorflow:loss = 27475404.0, step = 23901 (0.876 sec)\n",
      "INFO:tensorflow:global_step/sec: 110.188\n",
      "INFO:tensorflow:loss = 1752330.6, step = 24001 (0.908 sec)\n",
      "INFO:tensorflow:global_step/sec: 114.555\n"
     ]
    },
    {
     "name": "stdout",
     "output_type": "stream",
     "text": [
      "INFO:tensorflow:loss = 4600347.0, step = 24101 (0.873 sec)\n",
      "INFO:tensorflow:global_step/sec: 113.583\n",
      "INFO:tensorflow:loss = 1031167.56, step = 24201 (0.881 sec)\n",
      "INFO:tensorflow:global_step/sec: 113.361\n",
      "INFO:tensorflow:loss = 3205987.0, step = 24301 (0.882 sec)\n",
      "INFO:tensorflow:global_step/sec: 109.067\n",
      "INFO:tensorflow:loss = 4195707.0, step = 24401 (0.917 sec)\n",
      "INFO:tensorflow:global_step/sec: 109.947\n",
      "INFO:tensorflow:loss = 965547.75, step = 24501 (0.909 sec)\n",
      "INFO:tensorflow:global_step/sec: 109.042\n",
      "INFO:tensorflow:loss = 2732578.0, step = 24601 (0.917 sec)\n",
      "INFO:tensorflow:global_step/sec: 111.206\n",
      "INFO:tensorflow:loss = 1593660.8, step = 24701 (0.899 sec)\n",
      "INFO:tensorflow:global_step/sec: 108.544\n",
      "INFO:tensorflow:loss = 1952443.0, step = 24801 (0.922 sec)\n",
      "INFO:tensorflow:global_step/sec: 111.685\n",
      "INFO:tensorflow:loss = 2167491.2, step = 24901 (0.896 sec)\n",
      "INFO:tensorflow:global_step/sec: 106.853\n",
      "INFO:tensorflow:loss = 5865116.0, step = 25001 (0.935 sec)\n",
      "INFO:tensorflow:global_step/sec: 107.317\n",
      "INFO:tensorflow:loss = 4795257.5, step = 25101 (0.932 sec)\n",
      "INFO:tensorflow:global_step/sec: 109.245\n",
      "INFO:tensorflow:loss = 1640965.0, step = 25201 (0.915 sec)\n",
      "INFO:tensorflow:global_step/sec: 111.359\n",
      "INFO:tensorflow:loss = 2566594.8, step = 25301 (0.898 sec)\n",
      "INFO:tensorflow:global_step/sec: 107.744\n",
      "INFO:tensorflow:loss = 1607717.1, step = 25401 (0.928 sec)\n",
      "INFO:tensorflow:global_step/sec: 110.558\n",
      "INFO:tensorflow:loss = 3074028.8, step = 25501 (0.904 sec)\n",
      "INFO:tensorflow:global_step/sec: 107.165\n",
      "INFO:tensorflow:loss = 1769643.5, step = 25601 (0.933 sec)\n",
      "INFO:tensorflow:global_step/sec: 111.415\n",
      "INFO:tensorflow:loss = 2668139.5, step = 25701 (0.898 sec)\n",
      "INFO:tensorflow:global_step/sec: 114.745\n",
      "INFO:tensorflow:loss = 1367887.0, step = 25801 (0.872 sec)\n",
      "INFO:tensorflow:global_step/sec: 106.417\n",
      "INFO:tensorflow:loss = 637286660.0, step = 25901 (0.939 sec)\n",
      "INFO:tensorflow:global_step/sec: 107.829\n",
      "INFO:tensorflow:loss = 3650126.0, step = 26001 (0.928 sec)\n",
      "INFO:tensorflow:global_step/sec: 111.249\n",
      "INFO:tensorflow:loss = 1581999.6, step = 26101 (0.899 sec)\n",
      "INFO:tensorflow:global_step/sec: 109.056\n",
      "INFO:tensorflow:loss = 1255536.6, step = 26201 (0.917 sec)\n",
      "INFO:tensorflow:global_step/sec: 111.908\n",
      "INFO:tensorflow:loss = 6250548.5, step = 26301 (0.894 sec)\n",
      "INFO:tensorflow:global_step/sec: 110.885\n",
      "INFO:tensorflow:loss = 3354851.2, step = 26401 (0.902 sec)\n",
      "INFO:tensorflow:global_step/sec: 108.896\n",
      "INFO:tensorflow:loss = 25705220.0, step = 26501 (0.918 sec)\n",
      "INFO:tensorflow:global_step/sec: 106.211\n",
      "INFO:tensorflow:loss = 1901525.0, step = 26601 (0.942 sec)\n",
      "INFO:tensorflow:global_step/sec: 108.868\n",
      "INFO:tensorflow:loss = 2897848.5, step = 26701 (0.918 sec)\n",
      "INFO:tensorflow:global_step/sec: 111.46\n",
      "INFO:tensorflow:loss = 2028683.6, step = 26801 (0.897 sec)\n",
      "INFO:tensorflow:global_step/sec: 107.632\n",
      "INFO:tensorflow:loss = 1914073.1, step = 26901 (0.929 sec)\n",
      "INFO:tensorflow:global_step/sec: 112.87\n",
      "INFO:tensorflow:loss = 5233318.0, step = 27001 (0.886 sec)\n",
      "INFO:tensorflow:global_step/sec: 108.567\n",
      "INFO:tensorflow:loss = 6147866.0, step = 27101 (0.921 sec)\n",
      "INFO:tensorflow:global_step/sec: 108.368\n",
      "INFO:tensorflow:loss = 3861505.0, step = 27201 (0.922 sec)\n",
      "INFO:tensorflow:global_step/sec: 112.598\n",
      "INFO:tensorflow:loss = 2587211.2, step = 27301 (0.888 sec)\n",
      "INFO:tensorflow:global_step/sec: 108.755\n",
      "INFO:tensorflow:loss = 8147936.0, step = 27401 (0.920 sec)\n",
      "INFO:tensorflow:global_step/sec: 110.944\n",
      "INFO:tensorflow:loss = 2318169.0, step = 27501 (0.902 sec)\n",
      "INFO:tensorflow:global_step/sec: 109.649\n",
      "INFO:tensorflow:loss = 6583930.0, step = 27601 (0.912 sec)\n",
      "INFO:tensorflow:global_step/sec: 109.29\n",
      "INFO:tensorflow:loss = 2200827.2, step = 27701 (0.915 sec)\n",
      "INFO:tensorflow:global_step/sec: 110.219\n",
      "INFO:tensorflow:loss = 13581336.0, step = 27801 (0.907 sec)\n",
      "INFO:tensorflow:global_step/sec: 109.245\n",
      "INFO:tensorflow:loss = 7756652.0, step = 27901 (0.916 sec)\n",
      "INFO:tensorflow:global_step/sec: 107.899\n",
      "INFO:tensorflow:loss = 2843923.0, step = 28001 (0.927 sec)\n",
      "INFO:tensorflow:global_step/sec: 111.431\n",
      "INFO:tensorflow:loss = 2248865.0, step = 28101 (0.897 sec)\n",
      "INFO:tensorflow:global_step/sec: 111.559\n",
      "INFO:tensorflow:loss = 6791096.0, step = 28201 (0.896 sec)\n",
      "INFO:tensorflow:global_step/sec: 108.444\n",
      "INFO:tensorflow:loss = 2677905.5, step = 28301 (0.923 sec)\n",
      "INFO:tensorflow:global_step/sec: 110.81\n",
      "INFO:tensorflow:loss = 17865112.0, step = 28401 (0.902 sec)\n",
      "INFO:tensorflow:global_step/sec: 112.718\n",
      "INFO:tensorflow:loss = 8686128.0, step = 28501 (0.887 sec)\n",
      "INFO:tensorflow:global_step/sec: 111.788\n",
      "INFO:tensorflow:loss = 24521236.0, step = 28601 (0.895 sec)\n",
      "INFO:tensorflow:global_step/sec: 108.247\n",
      "INFO:tensorflow:loss = 4046160.0, step = 28701 (0.924 sec)\n",
      "INFO:tensorflow:global_step/sec: 109.709\n",
      "INFO:tensorflow:loss = 9277360.0, step = 28801 (0.912 sec)\n",
      "INFO:tensorflow:global_step/sec: 108.65\n",
      "INFO:tensorflow:loss = 3011412.2, step = 28901 (0.920 sec)\n",
      "INFO:tensorflow:global_step/sec: 106.725\n",
      "INFO:tensorflow:loss = 11019635.0, step = 29001 (0.937 sec)\n",
      "INFO:tensorflow:global_step/sec: 110.213\n",
      "INFO:tensorflow:loss = 14342176.0, step = 29101 (0.907 sec)\n",
      "INFO:tensorflow:global_step/sec: 109.551\n",
      "INFO:tensorflow:loss = 1756551.4, step = 29201 (0.913 sec)\n",
      "INFO:tensorflow:global_step/sec: 108.548\n",
      "INFO:tensorflow:loss = 1519365.4, step = 29301 (0.922 sec)\n",
      "INFO:tensorflow:global_step/sec: 110.635\n",
      "INFO:tensorflow:loss = 3169792.8, step = 29401 (0.903 sec)\n",
      "INFO:tensorflow:global_step/sec: 108.009\n",
      "INFO:tensorflow:loss = 1605590.9, step = 29501 (0.926 sec)\n",
      "INFO:tensorflow:global_step/sec: 108.291\n",
      "INFO:tensorflow:loss = 1321151.5, step = 29601 (0.923 sec)\n",
      "INFO:tensorflow:global_step/sec: 112.901\n",
      "INFO:tensorflow:loss = 4802723.0, step = 29701 (0.886 sec)\n",
      "INFO:tensorflow:global_step/sec: 107.997\n",
      "INFO:tensorflow:loss = 3277163.8, step = 29801 (0.926 sec)\n",
      "INFO:tensorflow:global_step/sec: 111.432\n",
      "INFO:tensorflow:loss = 17332384.0, step = 29901 (0.898 sec)\n",
      "INFO:tensorflow:global_step/sec: 107.361\n",
      "INFO:tensorflow:loss = 2264739.5, step = 30001 (0.931 sec)\n",
      "INFO:tensorflow:global_step/sec: 108.838\n",
      "INFO:tensorflow:loss = 1870669.9, step = 30101 (0.919 sec)\n",
      "INFO:tensorflow:global_step/sec: 108.965\n",
      "INFO:tensorflow:loss = 2159560.2, step = 30201 (0.918 sec)\n",
      "INFO:tensorflow:global_step/sec: 113.494\n",
      "INFO:tensorflow:loss = 7834301.0, step = 30301 (0.881 sec)\n",
      "INFO:tensorflow:global_step/sec: 117.558\n",
      "INFO:tensorflow:loss = 4804909.0, step = 30401 (0.852 sec)\n",
      "INFO:tensorflow:global_step/sec: 113.17\n",
      "INFO:tensorflow:loss = 2473030.0, step = 30501 (0.883 sec)\n",
      "INFO:tensorflow:global_step/sec: 111.03\n",
      "INFO:tensorflow:loss = 10890033.0, step = 30601 (0.900 sec)\n",
      "INFO:tensorflow:global_step/sec: 111.194\n",
      "INFO:tensorflow:loss = 1442945.8, step = 30701 (0.899 sec)\n",
      "INFO:tensorflow:global_step/sec: 109.177\n",
      "INFO:tensorflow:loss = 2208712.0, step = 30801 (0.916 sec)\n",
      "INFO:tensorflow:global_step/sec: 109.258\n",
      "INFO:tensorflow:loss = 4099872.5, step = 30901 (0.915 sec)\n",
      "INFO:tensorflow:global_step/sec: 109.483\n",
      "INFO:tensorflow:loss = 23767108.0, step = 31001 (0.913 sec)\n",
      "INFO:tensorflow:global_step/sec: 109.218\n",
      "INFO:tensorflow:loss = 740586.6, step = 31101 (0.916 sec)\n",
      "INFO:tensorflow:global_step/sec: 109.34\n",
      "INFO:tensorflow:loss = 799234.4, step = 31201 (0.914 sec)\n",
      "INFO:tensorflow:global_step/sec: 110.429\n",
      "INFO:tensorflow:loss = 3676959.8, step = 31301 (0.906 sec)\n",
      "INFO:tensorflow:global_step/sec: 107.02\n",
      "INFO:tensorflow:loss = 1719038.8, step = 31401 (0.935 sec)\n",
      "INFO:tensorflow:global_step/sec: 111.93\n",
      "INFO:tensorflow:loss = 4431699.0, step = 31501 (0.893 sec)\n",
      "INFO:tensorflow:global_step/sec: 111.687\n",
      "INFO:tensorflow:loss = 11787411.0, step = 31601 (0.895 sec)\n",
      "INFO:tensorflow:global_step/sec: 105.853\n",
      "INFO:tensorflow:loss = 26838828.0, step = 31701 (0.945 sec)\n",
      "INFO:tensorflow:global_step/sec: 109.648\n",
      "INFO:tensorflow:loss = 1389483.8, step = 31801 (0.912 sec)\n",
      "INFO:tensorflow:global_step/sec: 107.856\n",
      "INFO:tensorflow:loss = 2513495.5, step = 31901 (0.927 sec)\n",
      "INFO:tensorflow:global_step/sec: 110.611\n",
      "INFO:tensorflow:loss = 1414278.0, step = 32001 (0.904 sec)\n",
      "INFO:tensorflow:global_step/sec: 110.475\n",
      "INFO:tensorflow:loss = 2189434.0, step = 32101 (0.905 sec)\n",
      "INFO:tensorflow:global_step/sec: 104.805\n",
      "INFO:tensorflow:loss = 1451883.0, step = 32201 (0.954 sec)\n",
      "INFO:tensorflow:global_step/sec: 107.307\n"
     ]
    },
    {
     "name": "stdout",
     "output_type": "stream",
     "text": [
      "INFO:tensorflow:loss = 2587582.5, step = 32301 (0.932 sec)\n",
      "INFO:tensorflow:global_step/sec: 109.412\n",
      "INFO:tensorflow:loss = 1748262.0, step = 32401 (0.915 sec)\n",
      "INFO:tensorflow:global_step/sec: 108.058\n",
      "INFO:tensorflow:loss = 2019597.0, step = 32501 (0.924 sec)\n",
      "INFO:tensorflow:global_step/sec: 108.937\n",
      "INFO:tensorflow:loss = 5587699.0, step = 32601 (0.918 sec)\n",
      "INFO:tensorflow:global_step/sec: 109.847\n",
      "INFO:tensorflow:loss = 5255765.0, step = 32701 (0.910 sec)\n",
      "INFO:tensorflow:global_step/sec: 109.571\n",
      "INFO:tensorflow:loss = 2358197.5, step = 32801 (0.913 sec)\n",
      "INFO:tensorflow:global_step/sec: 107.059\n",
      "INFO:tensorflow:loss = 1632177.5, step = 32901 (0.934 sec)\n",
      "INFO:tensorflow:global_step/sec: 113.205\n",
      "INFO:tensorflow:loss = 3853998.5, step = 33001 (0.883 sec)\n",
      "INFO:tensorflow:global_step/sec: 108.524\n",
      "INFO:tensorflow:loss = 1447120.8, step = 33101 (0.921 sec)\n",
      "INFO:tensorflow:global_step/sec: 111.971\n",
      "INFO:tensorflow:loss = 2508008.0, step = 33201 (0.893 sec)\n",
      "INFO:tensorflow:global_step/sec: 110.649\n",
      "INFO:tensorflow:loss = 13702260.0, step = 33301 (0.904 sec)\n",
      "INFO:tensorflow:global_step/sec: 110.254\n",
      "INFO:tensorflow:loss = 1652338.5, step = 33401 (0.907 sec)\n",
      "INFO:tensorflow:global_step/sec: 107.719\n",
      "INFO:tensorflow:loss = 2282308.2, step = 33501 (0.928 sec)\n",
      "INFO:tensorflow:global_step/sec: 111.652\n",
      "INFO:tensorflow:loss = 2122990.5, step = 33601 (0.895 sec)\n",
      "INFO:tensorflow:global_step/sec: 106.916\n",
      "INFO:tensorflow:loss = 1759437.5, step = 33701 (0.935 sec)\n",
      "INFO:tensorflow:global_step/sec: 111.935\n",
      "INFO:tensorflow:loss = 2029655.0, step = 33801 (0.894 sec)\n",
      "INFO:tensorflow:global_step/sec: 107.887\n",
      "INFO:tensorflow:loss = 1998897.4, step = 33901 (0.927 sec)\n",
      "INFO:tensorflow:global_step/sec: 109.442\n",
      "INFO:tensorflow:loss = 1620522.8, step = 34001 (0.916 sec)\n",
      "INFO:tensorflow:global_step/sec: 111.269\n",
      "INFO:tensorflow:loss = 1125959.2, step = 34101 (0.897 sec)\n",
      "INFO:tensorflow:global_step/sec: 108.528\n",
      "INFO:tensorflow:loss = 1730170.0, step = 34201 (0.921 sec)\n",
      "INFO:tensorflow:global_step/sec: 113.999\n",
      "INFO:tensorflow:loss = 11629440.0, step = 34301 (0.877 sec)\n",
      "INFO:tensorflow:global_step/sec: 110.037\n",
      "INFO:tensorflow:loss = 1333591.2, step = 34401 (0.909 sec)\n",
      "INFO:tensorflow:global_step/sec: 107.211\n",
      "INFO:tensorflow:loss = 18882344.0, step = 34501 (0.933 sec)\n",
      "INFO:tensorflow:global_step/sec: 113.425\n",
      "INFO:tensorflow:loss = 4846088.0, step = 34601 (0.882 sec)\n",
      "INFO:tensorflow:global_step/sec: 109.338\n",
      "INFO:tensorflow:loss = 4197076.5, step = 34701 (0.915 sec)\n",
      "INFO:tensorflow:global_step/sec: 109.91\n",
      "INFO:tensorflow:loss = 1997127.0, step = 34801 (0.910 sec)\n",
      "INFO:tensorflow:global_step/sec: 112.786\n",
      "INFO:tensorflow:loss = 2310648.0, step = 34901 (0.887 sec)\n",
      "INFO:tensorflow:global_step/sec: 112.769\n",
      "INFO:tensorflow:loss = 6631114.5, step = 35001 (0.887 sec)\n",
      "INFO:tensorflow:global_step/sec: 107.908\n",
      "INFO:tensorflow:loss = 24427584.0, step = 35101 (0.927 sec)\n",
      "INFO:tensorflow:global_step/sec: 111.645\n",
      "INFO:tensorflow:loss = 1839867.6, step = 35201 (0.896 sec)\n",
      "INFO:tensorflow:global_step/sec: 110.508\n",
      "INFO:tensorflow:loss = 26957930.0, step = 35301 (0.905 sec)\n",
      "INFO:tensorflow:global_step/sec: 109.193\n",
      "INFO:tensorflow:loss = 1768058.1, step = 35401 (0.916 sec)\n",
      "INFO:tensorflow:global_step/sec: 110.198\n",
      "INFO:tensorflow:loss = 2853600.2, step = 35501 (0.907 sec)\n",
      "INFO:tensorflow:global_step/sec: 108.642\n",
      "INFO:tensorflow:loss = 5081030.5, step = 35601 (0.920 sec)\n",
      "INFO:tensorflow:global_step/sec: 107.546\n",
      "INFO:tensorflow:loss = 1720536.1, step = 35701 (0.930 sec)\n",
      "INFO:tensorflow:global_step/sec: 110.899\n",
      "INFO:tensorflow:loss = 1927717.1, step = 35801 (0.902 sec)\n",
      "INFO:tensorflow:global_step/sec: 112.254\n",
      "INFO:tensorflow:loss = 1361796.2, step = 35901 (0.891 sec)\n",
      "INFO:tensorflow:global_step/sec: 110.185\n",
      "INFO:tensorflow:loss = 9745449.0, step = 36001 (0.907 sec)\n",
      "INFO:tensorflow:global_step/sec: 110.297\n",
      "INFO:tensorflow:loss = 1886687.8, step = 36101 (0.907 sec)\n",
      "INFO:tensorflow:global_step/sec: 109.227\n",
      "INFO:tensorflow:loss = 1063777.2, step = 36201 (0.916 sec)\n",
      "INFO:tensorflow:global_step/sec: 109.438\n",
      "INFO:tensorflow:loss = 1991926.0, step = 36301 (0.914 sec)\n",
      "INFO:tensorflow:global_step/sec: 107.778\n",
      "INFO:tensorflow:loss = 2575542.0, step = 36401 (0.928 sec)\n",
      "INFO:tensorflow:global_step/sec: 111.397\n",
      "INFO:tensorflow:loss = 7413897.5, step = 36501 (0.898 sec)\n",
      "INFO:tensorflow:global_step/sec: 110.534\n",
      "INFO:tensorflow:loss = 13745435.0, step = 36601 (0.905 sec)\n",
      "INFO:tensorflow:global_step/sec: 113.878\n",
      "INFO:tensorflow:loss = 2622776.5, step = 36701 (0.878 sec)\n",
      "INFO:tensorflow:global_step/sec: 108.826\n",
      "INFO:tensorflow:loss = 16355713.0, step = 36801 (0.919 sec)\n",
      "INFO:tensorflow:global_step/sec: 111\n",
      "INFO:tensorflow:loss = 1873632.6, step = 36901 (0.901 sec)\n",
      "INFO:tensorflow:global_step/sec: 111.467\n",
      "INFO:tensorflow:loss = 1622223.2, step = 37001 (0.897 sec)\n",
      "INFO:tensorflow:global_step/sec: 106.878\n",
      "INFO:tensorflow:loss = 4026656.5, step = 37101 (0.935 sec)\n",
      "INFO:tensorflow:global_step/sec: 112.632\n",
      "INFO:tensorflow:loss = 2288468.2, step = 37201 (0.888 sec)\n",
      "INFO:tensorflow:global_step/sec: 110.977\n",
      "INFO:tensorflow:loss = 2037905.1, step = 37301 (0.901 sec)\n",
      "INFO:tensorflow:global_step/sec: 109.767\n",
      "INFO:tensorflow:loss = 29172308.0, step = 37401 (0.911 sec)\n",
      "INFO:tensorflow:global_step/sec: 110.114\n",
      "INFO:tensorflow:loss = 2453446.5, step = 37501 (0.909 sec)\n",
      "INFO:tensorflow:global_step/sec: 110.717\n",
      "INFO:tensorflow:loss = 3259614.0, step = 37601 (0.903 sec)\n",
      "INFO:tensorflow:global_step/sec: 111.883\n",
      "INFO:tensorflow:loss = 1011654.25, step = 37701 (0.894 sec)\n",
      "INFO:tensorflow:global_step/sec: 110.974\n",
      "INFO:tensorflow:loss = 5125639.0, step = 37801 (0.901 sec)\n",
      "INFO:tensorflow:global_step/sec: 107.611\n",
      "INFO:tensorflow:loss = 2322662.5, step = 37901 (0.930 sec)\n",
      "INFO:tensorflow:global_step/sec: 112.721\n",
      "INFO:tensorflow:loss = 3490182.0, step = 38001 (0.887 sec)\n",
      "INFO:tensorflow:global_step/sec: 110.525\n",
      "INFO:tensorflow:loss = 2942310.2, step = 38101 (0.905 sec)\n",
      "INFO:tensorflow:global_step/sec: 110.208\n",
      "INFO:tensorflow:loss = 3009403.0, step = 38201 (0.907 sec)\n",
      "INFO:tensorflow:global_step/sec: 110.527\n",
      "INFO:tensorflow:loss = 10260906.0, step = 38301 (0.905 sec)\n",
      "INFO:tensorflow:global_step/sec: 107.868\n",
      "INFO:tensorflow:loss = 2152652.5, step = 38401 (0.927 sec)\n",
      "INFO:tensorflow:global_step/sec: 110.631\n",
      "INFO:tensorflow:loss = 5036633.0, step = 38501 (0.904 sec)\n",
      "INFO:tensorflow:global_step/sec: 109.578\n",
      "INFO:tensorflow:loss = 2150729.5, step = 38601 (0.913 sec)\n",
      "INFO:tensorflow:global_step/sec: 109.697\n",
      "INFO:tensorflow:loss = 2850465.0, step = 38701 (0.912 sec)\n",
      "INFO:tensorflow:global_step/sec: 108.029\n",
      "INFO:tensorflow:loss = 3574595.0, step = 38801 (0.926 sec)\n",
      "INFO:tensorflow:global_step/sec: 109.621\n",
      "INFO:tensorflow:loss = 3073774.0, step = 38901 (0.912 sec)\n",
      "INFO:tensorflow:global_step/sec: 108.048\n",
      "INFO:tensorflow:loss = 1265818.8, step = 39001 (0.926 sec)\n",
      "INFO:tensorflow:global_step/sec: 107.102\n",
      "INFO:tensorflow:loss = 1352650.6, step = 39101 (0.933 sec)\n",
      "INFO:tensorflow:global_step/sec: 112.239\n",
      "INFO:tensorflow:loss = 2042586.1, step = 39201 (0.891 sec)\n",
      "INFO:tensorflow:global_step/sec: 106.975\n",
      "INFO:tensorflow:loss = 1765439.8, step = 39301 (0.935 sec)\n",
      "INFO:tensorflow:global_step/sec: 110.698\n",
      "INFO:tensorflow:loss = 3841706.8, step = 39401 (0.903 sec)\n",
      "INFO:tensorflow:global_step/sec: 109.312\n",
      "INFO:tensorflow:loss = 1647802.5, step = 39501 (0.915 sec)\n",
      "INFO:tensorflow:global_step/sec: 114.323\n",
      "INFO:tensorflow:loss = 23731128.0, step = 39601 (0.874 sec)\n",
      "INFO:tensorflow:global_step/sec: 109.574\n",
      "INFO:tensorflow:loss = 3990247.8, step = 39701 (0.913 sec)\n",
      "INFO:tensorflow:global_step/sec: 109.148\n",
      "INFO:tensorflow:loss = 4565200.0, step = 39801 (0.916 sec)\n",
      "INFO:tensorflow:global_step/sec: 109.309\n",
      "INFO:tensorflow:loss = 3503756.8, step = 39901 (0.915 sec)\n",
      "INFO:tensorflow:Saving checkpoints for 40000 into /tmp/tmp1gg56kc4/model.ckpt.\n",
      "INFO:tensorflow:Calling model_fn.\n",
      "INFO:tensorflow:Done calling model_fn.\n",
      "INFO:tensorflow:Starting evaluation at 2020-01-26T13:08:19Z\n",
      "INFO:tensorflow:Graph was finalized.\n",
      "INFO:tensorflow:Restoring parameters from /tmp/tmp1gg56kc4/model.ckpt-40000\n",
      "INFO:tensorflow:Running local_init_op.\n",
      "INFO:tensorflow:Done running local_init_op.\n",
      "INFO:tensorflow:Evaluation [10/100]\n",
      "INFO:tensorflow:Evaluation [20/100]\n",
      "INFO:tensorflow:Evaluation [30/100]\n",
      "INFO:tensorflow:Evaluation [40/100]\n"
     ]
    },
    {
     "name": "stdout",
     "output_type": "stream",
     "text": [
      "INFO:tensorflow:Evaluation [50/100]\n",
      "INFO:tensorflow:Evaluation [60/100]\n",
      "INFO:tensorflow:Evaluation [70/100]\n",
      "INFO:tensorflow:Evaluation [80/100]\n",
      "INFO:tensorflow:Evaluation [90/100]\n",
      "INFO:tensorflow:Evaluation [100/100]\n",
      "INFO:tensorflow:Finished evaluation at 2020-01-26-13:08:21\n",
      "INFO:tensorflow:Saving dict for global step 40000: average_loss = 66774.16, global_step = 40000, label/mean = 144.4864, loss = 4273546.0, prediction/mean = 235.71756\n",
      "INFO:tensorflow:Saving 'checkpoint_path' summary for global step 40000: /tmp/tmp1gg56kc4/model.ckpt-40000\n",
      "INFO:tensorflow:Loss for final step: 31374968.0.\n",
      "INFO:tensorflow:Not using Distribute Coordinator.\n",
      "INFO:tensorflow:Running training and evaluation locally (non-distributed).\n",
      "INFO:tensorflow:Start train and evaluate loop. The evaluate will happen after every checkpoint. Checkpoint frequency is determined based on RunConfig arguments: save_checkpoints_steps None or save_checkpoints_secs 600.\n",
      "INFO:tensorflow:Skipping training since max_steps has already saved.\n",
      "INFO:tensorflow:Not using Distribute Coordinator.\n",
      "INFO:tensorflow:Running training and evaluation locally (non-distributed).\n",
      "INFO:tensorflow:Start train and evaluate loop. The evaluate will happen after every checkpoint. Checkpoint frequency is determined based on RunConfig arguments: save_checkpoints_steps None or save_checkpoints_secs 600.\n",
      "INFO:tensorflow:Skipping training since max_steps has already saved.\n"
     ]
    }
   ],
   "source": [
    "# run training\n",
    "\n",
    "for i in range(3):\n",
    "    tf.estimator.train_and_evaluate(model, train_spec, eval_spec)"
   ]
  },
  {
   "cell_type": "code",
   "execution_count": null,
   "metadata": {},
   "outputs": [],
   "source": []
  },
  {
   "cell_type": "markdown",
   "metadata": {},
   "source": [
    "## Testing\n"
   ]
  },
  {
   "cell_type": "code",
   "execution_count": 217,
   "metadata": {},
   "outputs": [],
   "source": [
    "def _parse_csv_row2(*vals):\n",
    "    '''\n",
    "    Uses Feature columns\n",
    "    Does feature engineering\n",
    "    '''\n",
    "    \n",
    "    # month and day and single feature\n",
    "    month_day = tf.convert_to_tensor(vals[4:7])\n",
    "    # primary use as single feature\n",
    "    primary_use = tf.convert_to_tensor(vals[7:23])\n",
    "    # site id as single feature\n",
    "    site_id =  tf.convert_to_tensor(vals[23:39])\n",
    "    \n",
    "    # merge the features together, note meter reading is the fist column\n",
    "    # so it is excluded -- meaning index starts from 1\n",
    "    feature_vals = vals[1:4] + (month_day,primary_use,site_id)\n",
    "    \n",
    "    \n",
    "    # zip into a  feature sets into a single col\n",
    "    features = dict(zip(col_names_[1:],feature_vals))\n",
    "    \n",
    "    # name the targets or lables\n",
    "    targets_tensor = tf.convert_to_tensor(vals[0],name=col_names_[0]) \n",
    "    \n",
    "    \n",
    "    \n",
    "    return features"
   ]
  },
  {
   "cell_type": "code",
   "execution_count": 218,
   "metadata": {},
   "outputs": [],
   "source": [
    "# test data path\n",
    "testpath= BASE_DIR + cfg['cleanedtest']['TargetDir']\n",
    "testDataName= cfg['cleanedtest']['testFeatureSet']\n",
    "testName = cfg['cleanedtest']['testData']\n",
    "testzero =  cfg['cleanedtest']['testDatasetName']"
   ]
  },
  {
   "cell_type": "code",
   "execution_count": 219,
   "metadata": {},
   "outputs": [],
   "source": [
    "# read test data\n",
    "if tfreprocess:\n",
    "    \n",
    "    data_types, col_names = utils.tfdatabuilder(testpath,testDataName,testName, validateName,validation_split,test=True )\n",
    "    \n",
    "else:\n",
    "    pass\n",
    "    #test = pd.read_csv(testpath + testName) "
   ]
  },
  {
   "cell_type": "code",
   "execution_count": 220,
   "metadata": {},
   "outputs": [],
   "source": [
    "local_learn = True"
   ]
  },
  {
   "cell_type": "code",
   "execution_count": 118,
   "metadata": {},
   "outputs": [],
   "source": [
    "# execute this once , LLOCAL learn variable ensure it does not execute 2ce to save time\n",
    "# set local_learn in cell above to true to run again\n",
    "# increase testpoints to collect more datapoints\n",
    "if local_learn:\n",
    "    testpoints = 10000\n",
    "    prototype_data = pd.read_csv(testpath + testName,nrows=testpoints)\n",
    "    prototype_data.to_csv('prototype_data.csv',index=None)\n",
    "else:\n",
    "    local_learn = False"
   ]
  },
  {
   "cell_type": "code",
   "execution_count": 119,
   "metadata": {},
   "outputs": [],
   "source": [
    "# function to serve the data set \n",
    "def load_data2(*filename,fn = _parse_csv_row2):\n",
    "    batchsize = 64\n",
    "    csvData = tf.data.experimental.CsvDataset(filename, data_types, header=True)\n",
    "    dataset= csvData.map(fn)\n",
    "    return dataset.batch(batchsize)\n",
    "    \n",
    "    "
   ]
  },
  {
   "cell_type": "code",
   "execution_count": 120,
   "metadata": {},
   "outputs": [],
   "source": [
    "    #model.train(input_fn=lambda : load_data('meter1.csv'), steps=100)"
   ]
  },
  {
   "cell_type": "code",
   "execution_count": 223,
   "metadata": {},
   "outputs": [],
   "source": [
    "predictions = model.predict(input_fn=lambda : load_data2('prototype_data.csv'))"
   ]
  },
  {
   "cell_type": "code",
   "execution_count": 224,
   "metadata": {},
   "outputs": [
    {
     "name": "stdout",
     "output_type": "stream",
     "text": [
      "INFO:tensorflow:Calling model_fn.\n",
      "INFO:tensorflow:Done calling model_fn.\n",
      "INFO:tensorflow:Graph was finalized.\n",
      "INFO:tensorflow:Restoring parameters from /tmp/tmp1gg56kc4/model.ckpt-40000\n",
      "INFO:tensorflow:Running local_init_op.\n",
      "INFO:tensorflow:Done running local_init_op.\n"
     ]
    }
   ],
   "source": [
    "results   = list(predictions);\n",
    "#tf.logging.info(results)\n",
    "#results"
   ]
  },
  {
   "cell_type": "code",
   "execution_count": 225,
   "metadata": {},
   "outputs": [],
   "source": [
    "# get predicted values from list\n",
    "predictions = []\n",
    "for i in results:\n",
    "    predictions.append( i['predictions'])\n",
    "\n"
   ]
  },
  {
   "cell_type": "code",
   "execution_count": 212,
   "metadata": {},
   "outputs": [],
   "source": [
    "# upload true meter reADINGS\n",
    "#true_readings = pd.read_csv(testpath + testzero) \n",
    "true_readings = pd.read_csv(testpath + testzero,nrows=testpoints) \n",
    "\n",
    "\n",
    "del true_readings['Unnamed: 0']"
   ]
  },
  {
   "cell_type": "code",
   "execution_count": 226,
   "metadata": {},
   "outputs": [
    {
     "data": {
      "text/plain": [
       "Text(0.5, 0, 'Iterations')"
      ]
     },
     "execution_count": 226,
     "metadata": {},
     "output_type": "execute_result"
    },
    {
     "data": {
      "image/png": "[encoded data removed]",
      "text/plain": [
       "<Figure size 432x288 with 1 Axes>"
      ]
     },
     "metadata": {
      "needs_background": "light"
     },
     "output_type": "display_data"
    }
   ],
   "source": [
    "plt.plot(predictions,\"-g\" ,label='Predictions')\n",
    "#plt.plot(true_values, \"-r\",label='True Values')\n",
    "plt.legend(loc=\"upper left\")\n",
    "plt.title('Model Prediction ')\n",
    "plt.ylabel('meter readinds')\n",
    "plt.xlabel('Iterations')"
   ]
  },
  {
   "cell_type": "code",
   "execution_count": 132,
   "metadata": {},
   "outputs": [
    {
     "data": {
      "text/plain": [
       "Text(0.5, 0, 'Iterations')"
      ]
     },
     "execution_count": 132,
     "metadata": {},
     "output_type": "execute_result"
    },
    {
     "data": {
      "image/png": "[encoded data removed]",
      "text/plain": [
       "<Figure size 432x288 with 1 Axes>"
      ]
     },
     "metadata": {
      "needs_background": "light"
     },
     "output_type": "display_data"
    }
   ],
   "source": [
    "#plt.plot(predictions,\"-g\" ,label='Predictions')\n",
    "plt.plot(true_readings.meter_reading, \"-r\",label='True Values',color='orange')\n",
    "plt.legend(loc=\"upper left\")\n",
    "plt.title('True Values ')\n",
    "plt.ylabel('meter readinds')\n",
    "plt.xlabel('Iterations')"
   ]
  },
  {
   "cell_type": "markdown",
   "metadata": {},
   "source": [
    "#### Plot per Building"
   ]
  },
  {
   "cell_type": "code",
   "execution_count": 202,
   "metadata": {},
   "outputs": [],
   "source": [
    "test_predicted = pd.DataFrame(list(zip(list(true_readings.building_id),list(true_readings.timestamp),list(predictions))),columns= ['building_id','timestamp', 'meter_reading' ] )"
   ]
  },
  {
   "cell_type": "code",
   "execution_count": 203,
   "metadata": {},
   "outputs": [
    {
     "data": {
      "image/png": "[encoded data removed]",
      "text/plain": [
       "<Figure size 432x288 with 1 Axes>"
      ]
     },
     "metadata": {
      "needs_background": "light"
     },
     "output_type": "display_data"
    },
    {
     "data": {
      "image/png": "[encoded data removed]",
      "text/plain": [
       "<Figure size 432x288 with 1 Axes>"
      ]
     },
     "metadata": {
      "needs_background": "light"
     },
     "output_type": "display_data"
    },
    {
     "data": {
      "image/png": "[encoded data removed]",
      "text/plain": [
       "<Figure size 432x288 with 1 Axes>"
      ]
     },
     "metadata": {
      "needs_background": "light"
     },
     "output_type": "display_data"
    },
    {
     "data": {
      "image/png": "[encoded data removed]",
      "text/plain": [
       "<Figure size 432x288 with 1 Axes>"
      ]
     },
     "metadata": {
      "needs_background": "light"
     },
     "output_type": "display_data"
    },
    {
     "data": {
      "image/png": "[encoded data removed]",
      "text/plain": [
       "<Figure size 432x288 with 1 Axes>"
      ]
     },
     "metadata": {
      "needs_background": "light"
     },
     "output_type": "display_data"
    }
   ],
   "source": [
    "utils.plot_meter(true_readings,test_predicted,bn=5)"
   ]
  },
  {
   "cell_type": "code",
   "execution_count": null,
   "metadata": {},
   "outputs": [],
   "source": []
  },
  {
   "cell_type": "code",
   "execution_count": null,
   "metadata": {},
   "outputs": [],
   "source": []
  },
  {
   "cell_type": "markdown",
   "metadata": {},
   "source": [
    "# save model"
   ]
  },
  {
   "cell_type": "code",
   "execution_count": 27,
   "metadata": {},
   "outputs": [],
   "source": [
    "checkpoint_path = cfg['savedModel']['myname']['Dir3']"
   ]
  },
  {
   "cell_type": "code",
   "execution_count": 28,
   "metadata": {},
   "outputs": [],
   "source": [
    "featuresample = list(dataset.take(1))[0][0]"
   ]
  },
  {
   "cell_type": "code",
   "execution_count": 29,
   "metadata": {},
   "outputs": [],
   "source": [
    "# input function\n",
    "inut_receive_fn = tf.estimator.export.build_raw_serving_input_receiver_fn(featuresample)"
   ]
  },
  {
   "cell_type": "code",
   "execution_count": 30,
   "metadata": {},
   "outputs": [
    {
     "name": "stdout",
     "output_type": "stream",
     "text": [
      "INFO:tensorflow:Calling model_fn.\n",
      "INFO:tensorflow:Calling model_fn.\n",
      "INFO:tensorflow:Done calling model_fn.\n",
      "INFO:tensorflow:Done calling model_fn.\n",
      "WARNING:tensorflow:From /home/bigdata-lap/anaconda3/envs/cat/lib/python3.7/site-packages/tensorflow_core/python/saved_model/signature_def_utils_impl.py:201: build_tensor_info (from tensorflow.python.saved_model.utils_impl) is deprecated and will be removed in a future version.\n",
      "Instructions for updating:\n",
      "This function will only be available through the v1 compatibility library as tf.compat.v1.saved_model.utils.build_tensor_info or tf.compat.v1.saved_model.build_tensor_info.\n",
      "INFO:tensorflow:Signatures INCLUDED in export for Classify: None\n",
      "INFO:tensorflow:Signatures INCLUDED in export for Regress: None\n",
      "INFO:tensorflow:Signatures INCLUDED in export for Predict: ['predict']\n",
      "INFO:tensorflow:Signatures INCLUDED in export for Train: None\n",
      "INFO:tensorflow:Signatures INCLUDED in export for Eval: None\n",
      "INFO:tensorflow:Signatures EXCLUDED from export because they cannot be be served via TensorFlow Serving APIs:\n",
      "INFO:tensorflow:'serving_default' : Regression input must be a single string Tensor; got {'square_feet': <tf.Tensor 'Placeholder:0' shape=(?,) dtype=int32>, 'air_temperature': <tf.Tensor 'Placeholder_1:0' shape=(?,) dtype=float64>, 'dew_temperature': <tf.Tensor 'Placeholder_2:0' shape=(?,) dtype=float64>, 'month_day_hour': <tf.Tensor 'Placeholder_3:0' shape=(?, 3) dtype=int32>, 'pry_use': <tf.Tensor 'Placeholder_4:0' shape=(?, 14) dtype=int32>, 'site_id': <tf.Tensor 'Placeholder_5:0' shape=(?, 10) dtype=int32>}\n",
      "INFO:tensorflow:'regression' : Regression input must be a single string Tensor; got {'square_feet': <tf.Tensor 'Placeholder:0' shape=(?,) dtype=int32>, 'air_temperature': <tf.Tensor 'Placeholder_1:0' shape=(?,) dtype=float64>, 'dew_temperature': <tf.Tensor 'Placeholder_2:0' shape=(?,) dtype=float64>, 'month_day_hour': <tf.Tensor 'Placeholder_3:0' shape=(?, 3) dtype=int32>, 'pry_use': <tf.Tensor 'Placeholder_4:0' shape=(?, 14) dtype=int32>, 'site_id': <tf.Tensor 'Placeholder_5:0' shape=(?, 10) dtype=int32>}\n",
      "WARNING:tensorflow:Export includes no default signature!\n",
      "INFO:tensorflow:Restoring parameters from /tmp/tmp34kzyhfe/model.ckpt-0\n",
      "INFO:tensorflow:Assets added to graph.\n",
      "INFO:tensorflow:No assets to write.\n",
      "INFO:tensorflow:SavedModel written to: savedModels/CombinedLinear/temp-b'1579537992'/saved_model.pb\n"
     ]
    },
    {
     "data": {
      "text/plain": [
       "b'savedModels/CombinedLinear/1579537992'"
      ]
     },
     "execution_count": 30,
     "metadata": {},
     "output_type": "execute_result"
    }
   ],
   "source": [
    "model.export_saved_model(export_dir_base=checkpoint_path ,serving_input_receiver_fn=inut_receive_fn)"
   ]
  },
  {
   "cell_type": "code",
   "execution_count": null,
   "metadata": {},
   "outputs": [],
   "source": []
  }
 ],
 "metadata": {
  "kernelspec": {
   "display_name": "Python 3",
   "language": "python",
   "name": "python3"
  },
  "language_info": {
   "codemirror_mode": {
    "name": "ipython",
    "version": 3
   },
   "file_extension": ".py",
   "mimetype": "text/x-python",
   "name": "python",
   "nbconvert_exporter": "python",
   "pygments_lexer": "ipython3",
   "version": "3.7.4"
  }
 },
 "nbformat": 4,
 "nbformat_minor": 2
}
